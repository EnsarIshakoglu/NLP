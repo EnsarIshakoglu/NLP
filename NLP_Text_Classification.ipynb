{
  "nbformat": 4,
  "nbformat_minor": 0,
  "metadata": {
    "kernelspec": {
      "language": "python",
      "display_name": "Python 3",
      "name": "python3"
    },
    "language_info": {
      "pygments_lexer": "ipython3",
      "nbconvert_exporter": "python",
      "version": "3.6.4",
      "file_extension": ".py",
      "codemirror_mode": {
        "name": "ipython",
        "version": 3
      },
      "name": "python",
      "mimetype": "text/x-python"
    },
    "colab": {
      "name": "NLP Text Classification",
      "provenance": [],
      "collapsed_sections": [],
      "include_colab_link": true
    }
  },
  "cells": [
    {
      "cell_type": "markdown",
      "metadata": {
        "id": "view-in-github",
        "colab_type": "text"
      },
      "source": [
        "<a href=\"https://colab.research.google.com/github/EnsarIshakoglu/NLP/blob/topic-modelling/NLP_Text_Classification.ipynb\" target=\"_parent\"><img src=\"https://colab.research.google.com/assets/colab-badge.svg\" alt=\"Open In Colab\"/></a>"
      ]
    },
    {
      "cell_type": "code",
      "metadata": {
        "_uuid": "935329e7-815b-4377-874b-38ca768865f2",
        "_cell_guid": "f7832109-87a9-4266-bb22-e819083e084c",
        "execution": {
          "iopub.status.busy": "2021-11-18T08:52:35.870893Z",
          "iopub.execute_input": "2021-11-18T08:52:35.871339Z",
          "iopub.status.idle": "2021-11-18T08:52:42.798162Z",
          "shell.execute_reply.started": "2021-11-18T08:52:35.871298Z",
          "shell.execute_reply": "2021-11-18T08:52:42.797316Z"
        },
        "jupyter": {
          "outputs_hidden": false
        },
        "trusted": true,
        "colab": {
          "base_uri": "https://localhost:8080/"
        },
        "id": "YqfVPrH9T3bd",
        "outputId": "b6a6674a-b68d-4259-8251-d889ae9f4187"
      },
      "source": [
        "# Source: https://www.machinelearningplus.com/nlp/topic-modeling-gensim-python/#1introduction\n",
        "# Run in python console\n",
        "import nltk; nltk.download('stopwords')\n",
        "import zipfile\n",
        "import os\n",
        "\n",
        "# Run in terminal or command prompt\n",
        "!python3 -m spacy download en\n",
        "\n",
        "# SKlearn\n",
        "# from sklearn.model_selection import train_test_split\n",
        "# from sklearn.model_selection import cross_val_score\n",
        "# from sklearn.model_selection import KFold\n",
        "# from sklearn.preprocessing import MinMaxScaler\n",
        "# from sklearn.preprocessing import LabelEncoder\n",
        "# from sklearn.feature_extraction.text import CountVectorizer\n",
        "# from imblearn.over_sampling import SMOTE\n",
        "\n",
        "# Data processing\n",
        "import matplotlib.pyplot as plt\n",
        "%matplotlib inline\n",
        "import seaborn as sns\n",
        "import pandas as pd\n",
        "import numpy as np\n",
        "\n",
        "# Stackapi to fetch stackoverflow api\n",
        "!pip install stackapi\n",
        "from stackapi import StackAPI\n",
        "\n",
        "from pprint import pprint\n",
        "\n",
        "# Gensim\n",
        "!pip install gensim==3.8.3\n",
        "import gensim\n",
        "import gensim.corpora as corpora\n",
        "from gensim.utils import simple_preprocess\n",
        "from gensim.models import CoherenceModel\n",
        "\n",
        "# spacy for lemmatization\n",
        "import spacy\n",
        "\n",
        "# Plotting tools\n",
        "!pip install pyLDAvis\n",
        "import pyLDAvis\n",
        "import pyLDAvis.gensim_models as gensimvis\n",
        "\n",
        "# Enable logging for gensim - optional\n",
        "import logging\n",
        "logging.basicConfig(format='%(asctime)s : %(levelname)s : %(message)s', level=logging.ERROR)\n",
        "\n",
        "import warnings\n",
        "warnings.filterwarnings(\"ignore\",category=DeprecationWarning)"
      ],
      "execution_count": 186,
      "outputs": [
        {
          "output_type": "stream",
          "name": "stdout",
          "text": [
            "[nltk_data] Downloading package stopwords to /root/nltk_data...\n",
            "[nltk_data]   Package stopwords is already up-to-date!\n",
            "Collecting en_core_web_sm==2.2.5\n",
            "  Downloading https://github.com/explosion/spacy-models/releases/download/en_core_web_sm-2.2.5/en_core_web_sm-2.2.5.tar.gz (12.0 MB)\n",
            "\u001b[K     |████████████████████████████████| 12.0 MB 5.1 MB/s \n",
            "\u001b[?25hRequirement already satisfied: spacy>=2.2.2 in /usr/local/lib/python3.7/dist-packages (from en_core_web_sm==2.2.5) (2.2.4)\n",
            "Requirement already satisfied: blis<0.5.0,>=0.4.0 in /usr/local/lib/python3.7/dist-packages (from spacy>=2.2.2->en_core_web_sm==2.2.5) (0.4.1)\n",
            "Requirement already satisfied: plac<1.2.0,>=0.9.6 in /usr/local/lib/python3.7/dist-packages (from spacy>=2.2.2->en_core_web_sm==2.2.5) (1.1.3)\n",
            "Requirement already satisfied: wasabi<1.1.0,>=0.4.0 in /usr/local/lib/python3.7/dist-packages (from spacy>=2.2.2->en_core_web_sm==2.2.5) (0.8.2)\n",
            "Requirement already satisfied: numpy>=1.15.0 in /usr/local/lib/python3.7/dist-packages (from spacy>=2.2.2->en_core_web_sm==2.2.5) (1.21.4)\n",
            "Requirement already satisfied: thinc==7.4.0 in /usr/local/lib/python3.7/dist-packages (from spacy>=2.2.2->en_core_web_sm==2.2.5) (7.4.0)\n",
            "Requirement already satisfied: srsly<1.1.0,>=1.0.2 in /usr/local/lib/python3.7/dist-packages (from spacy>=2.2.2->en_core_web_sm==2.2.5) (1.0.5)\n",
            "Requirement already satisfied: preshed<3.1.0,>=3.0.2 in /usr/local/lib/python3.7/dist-packages (from spacy>=2.2.2->en_core_web_sm==2.2.5) (3.0.6)\n",
            "Requirement already satisfied: murmurhash<1.1.0,>=0.28.0 in /usr/local/lib/python3.7/dist-packages (from spacy>=2.2.2->en_core_web_sm==2.2.5) (1.0.6)\n",
            "Requirement already satisfied: catalogue<1.1.0,>=0.0.7 in /usr/local/lib/python3.7/dist-packages (from spacy>=2.2.2->en_core_web_sm==2.2.5) (1.0.0)\n",
            "Requirement already satisfied: tqdm<5.0.0,>=4.38.0 in /usr/local/lib/python3.7/dist-packages (from spacy>=2.2.2->en_core_web_sm==2.2.5) (4.62.3)\n",
            "Requirement already satisfied: requests<3.0.0,>=2.13.0 in /usr/local/lib/python3.7/dist-packages (from spacy>=2.2.2->en_core_web_sm==2.2.5) (2.23.0)\n",
            "Requirement already satisfied: setuptools in /usr/local/lib/python3.7/dist-packages (from spacy>=2.2.2->en_core_web_sm==2.2.5) (57.4.0)\n",
            "Requirement already satisfied: cymem<2.1.0,>=2.0.2 in /usr/local/lib/python3.7/dist-packages (from spacy>=2.2.2->en_core_web_sm==2.2.5) (2.0.6)\n",
            "Requirement already satisfied: importlib-metadata>=0.20 in /usr/local/lib/python3.7/dist-packages (from catalogue<1.1.0,>=0.0.7->spacy>=2.2.2->en_core_web_sm==2.2.5) (4.8.2)\n",
            "Requirement already satisfied: zipp>=0.5 in /usr/local/lib/python3.7/dist-packages (from importlib-metadata>=0.20->catalogue<1.1.0,>=0.0.7->spacy>=2.2.2->en_core_web_sm==2.2.5) (3.6.0)\n",
            "Requirement already satisfied: typing-extensions>=3.6.4 in /usr/local/lib/python3.7/dist-packages (from importlib-metadata>=0.20->catalogue<1.1.0,>=0.0.7->spacy>=2.2.2->en_core_web_sm==2.2.5) (3.10.0.2)\n",
            "Requirement already satisfied: idna<3,>=2.5 in /usr/local/lib/python3.7/dist-packages (from requests<3.0.0,>=2.13.0->spacy>=2.2.2->en_core_web_sm==2.2.5) (2.10)\n",
            "Requirement already satisfied: urllib3!=1.25.0,!=1.25.1,<1.26,>=1.21.1 in /usr/local/lib/python3.7/dist-packages (from requests<3.0.0,>=2.13.0->spacy>=2.2.2->en_core_web_sm==2.2.5) (1.24.3)\n",
            "Requirement already satisfied: chardet<4,>=3.0.2 in /usr/local/lib/python3.7/dist-packages (from requests<3.0.0,>=2.13.0->spacy>=2.2.2->en_core_web_sm==2.2.5) (3.0.4)\n",
            "Requirement already satisfied: certifi>=2017.4.17 in /usr/local/lib/python3.7/dist-packages (from requests<3.0.0,>=2.13.0->spacy>=2.2.2->en_core_web_sm==2.2.5) (2021.10.8)\n",
            "\u001b[38;5;2m✔ Download and installation successful\u001b[0m\n",
            "You can now load the model via spacy.load('en_core_web_sm')\n",
            "\u001b[38;5;2m✔ Linking successful\u001b[0m\n",
            "/usr/local/lib/python3.7/dist-packages/en_core_web_sm -->\n",
            "/usr/local/lib/python3.7/dist-packages/spacy/data/en\n",
            "You can now load the model via spacy.load('en')\n",
            "Requirement already satisfied: stackapi in /usr/local/lib/python3.7/dist-packages (0.2.0)\n",
            "Requirement already satisfied: six in /usr/local/lib/python3.7/dist-packages (from stackapi) (1.15.0)\n",
            "Requirement already satisfied: requests in /usr/local/lib/python3.7/dist-packages (from stackapi) (2.23.0)\n",
            "Requirement already satisfied: chardet<4,>=3.0.2 in /usr/local/lib/python3.7/dist-packages (from requests->stackapi) (3.0.4)\n",
            "Requirement already satisfied: certifi>=2017.4.17 in /usr/local/lib/python3.7/dist-packages (from requests->stackapi) (2021.10.8)\n",
            "Requirement already satisfied: urllib3!=1.25.0,!=1.25.1,<1.26,>=1.21.1 in /usr/local/lib/python3.7/dist-packages (from requests->stackapi) (1.24.3)\n",
            "Requirement already satisfied: idna<3,>=2.5 in /usr/local/lib/python3.7/dist-packages (from requests->stackapi) (2.10)\n",
            "Requirement already satisfied: gensim==3.8.3 in /usr/local/lib/python3.7/dist-packages (3.8.3)\n",
            "Requirement already satisfied: six>=1.5.0 in /usr/local/lib/python3.7/dist-packages (from gensim==3.8.3) (1.15.0)\n",
            "Requirement already satisfied: numpy>=1.11.3 in /usr/local/lib/python3.7/dist-packages (from gensim==3.8.3) (1.21.4)\n",
            "Requirement already satisfied: smart-open>=1.8.1 in /usr/local/lib/python3.7/dist-packages (from gensim==3.8.3) (5.2.1)\n",
            "Requirement already satisfied: scipy>=0.18.1 in /usr/local/lib/python3.7/dist-packages (from gensim==3.8.3) (1.4.1)\n",
            "Requirement already satisfied: pyLDAvis in /usr/local/lib/python3.7/dist-packages (3.3.1)\n",
            "Requirement already satisfied: joblib in /usr/local/lib/python3.7/dist-packages (from pyLDAvis) (1.1.0)\n",
            "Requirement already satisfied: future in /usr/local/lib/python3.7/dist-packages (from pyLDAvis) (0.16.0)\n",
            "Requirement already satisfied: gensim in /usr/local/lib/python3.7/dist-packages (from pyLDAvis) (3.8.3)\n",
            "Requirement already satisfied: scipy in /usr/local/lib/python3.7/dist-packages (from pyLDAvis) (1.4.1)\n",
            "Requirement already satisfied: numpy>=1.20.0 in /usr/local/lib/python3.7/dist-packages (from pyLDAvis) (1.21.4)\n",
            "Requirement already satisfied: jinja2 in /usr/local/lib/python3.7/dist-packages (from pyLDAvis) (2.11.3)\n",
            "Requirement already satisfied: setuptools in /usr/local/lib/python3.7/dist-packages (from pyLDAvis) (57.4.0)\n",
            "Requirement already satisfied: funcy in /usr/local/lib/python3.7/dist-packages (from pyLDAvis) (1.16)\n",
            "Requirement already satisfied: sklearn in /usr/local/lib/python3.7/dist-packages (from pyLDAvis) (0.0)\n",
            "Requirement already satisfied: scikit-learn in /usr/local/lib/python3.7/dist-packages (from pyLDAvis) (1.0.1)\n",
            "Requirement already satisfied: pandas>=1.2.0 in /usr/local/lib/python3.7/dist-packages (from pyLDAvis) (1.3.4)\n",
            "Requirement already satisfied: numexpr in /usr/local/lib/python3.7/dist-packages (from pyLDAvis) (2.7.3)\n",
            "Requirement already satisfied: pytz>=2017.3 in /usr/local/lib/python3.7/dist-packages (from pandas>=1.2.0->pyLDAvis) (2018.9)\n",
            "Requirement already satisfied: python-dateutil>=2.7.3 in /usr/local/lib/python3.7/dist-packages (from pandas>=1.2.0->pyLDAvis) (2.8.2)\n",
            "Requirement already satisfied: six>=1.5 in /usr/local/lib/python3.7/dist-packages (from python-dateutil>=2.7.3->pandas>=1.2.0->pyLDAvis) (1.15.0)\n",
            "Requirement already satisfied: smart-open>=1.8.1 in /usr/local/lib/python3.7/dist-packages (from gensim->pyLDAvis) (5.2.1)\n",
            "Requirement already satisfied: MarkupSafe>=0.23 in /usr/local/lib/python3.7/dist-packages (from jinja2->pyLDAvis) (2.0.1)\n",
            "Requirement already satisfied: threadpoolctl>=2.0.0 in /usr/local/lib/python3.7/dist-packages (from scikit-learn->pyLDAvis) (3.0.0)\n"
          ]
        }
      ]
    },
    {
      "cell_type": "markdown",
      "metadata": {
        "id": "cX5X4xhqabeI"
      },
      "source": [
        "### Mount colab drive to google drive"
      ]
    },
    {
      "cell_type": "code",
      "metadata": {
        "id": "pGt6RbgySmTR",
        "colab": {
          "base_uri": "https://localhost:8080/"
        },
        "outputId": "8869dac1-3b6c-4d61-96e1-47af87358b1c"
      },
      "source": [
        "from google.colab import drive\n",
        "drive.mount('/content/drive')"
      ],
      "execution_count": 187,
      "outputs": [
        {
          "output_type": "stream",
          "name": "stdout",
          "text": [
            "Mounted at /content/drive\n"
          ]
        }
      ]
    },
    {
      "cell_type": "markdown",
      "metadata": {
        "_uuid": "cd8ab0fa-e99a-4837-9d07-6bedca16f4ad",
        "_cell_guid": "27a0b46b-904c-48ef-946f-970a6d0f4fb6",
        "trusted": true,
        "id": "bG7FuSZMT3bk"
      },
      "source": [
        "## Fetch data"
      ]
    },
    {
      "cell_type": "code",
      "metadata": {
        "id": "SHjpvi1MWTPJ"
      },
      "source": [
        "# Get the data from stackoverflow sorted by votes\n",
        "def fetch_data():\n",
        "  if not exists('/content/NLP-question-data'):\n",
        "    !git clone https://github.com/EnsarIshakoglu/NLP-question-data.git\n",
        "  \n",
        "  data = pd.read_csv('/content/NLP-question-data/questions.csv')\n",
        "  \n",
        "  return data"
      ],
      "execution_count": 188,
      "outputs": []
    },
    {
      "cell_type": "markdown",
      "metadata": {
        "id": "pZWjtjucXZk1"
      },
      "source": [
        "## Remove useless data"
      ]
    },
    {
      "cell_type": "code",
      "metadata": {
        "id": "gmY-K07YW_FI"
      },
      "source": [
        "def clean_data(df):  \n",
        "  df = df[['tags', 'body']]\n",
        "\n",
        "  # Strip html tags with regex:\n",
        "  df['body'] = df['body'].str.replace(r'<[^<>]*>', '', regex=True)\n",
        "\n",
        "  # Get first tag for multi-class classification\n",
        "  row_count = df.shape[0]\n",
        "\n",
        "  # for i in range(row_count):\n",
        "  #   df['tags'].iloc[i] = df['tags'].iloc[i][0]\n",
        "  \n",
        "  return df"
      ],
      "execution_count": 189,
      "outputs": []
    },
    {
      "cell_type": "markdown",
      "metadata": {
        "id": "Ft2veo6bajpz"
      },
      "source": [
        "### Create folder and file from df, unmout drive after"
      ]
    },
    {
      "cell_type": "code",
      "metadata": {
        "id": "GXasm52uSns_",
        "colab": {
          "base_uri": "https://localhost:8080/",
          "height": 442
        },
        "outputId": "f5887900-399f-4e3e-8141-d87c65c83e22"
      },
      "source": [
        "from os.path import exists\n",
        "\n",
        "!mkdir stackoverflow\n",
        "\n",
        "if not exists('/content/stackoverflow/questions.csv') or not exists('/content/NLP-question-data'):\n",
        "  df = fetch_data()[['tags', 'body']]\n",
        "  df = clean_data(df)\n",
        "  df.to_csv('/content/stackoverflow/questions.csv')\n",
        "  print(\"Fetched data from stackoverflow, removed the useless data and saved it in stackoverflow/questions.csv\")\n",
        "\n",
        "drive.flush_and_unmount()\n",
        "df"
      ],
      "execution_count": 190,
      "outputs": [
        {
          "output_type": "stream",
          "name": "stdout",
          "text": [
            "mkdir: cannot create directory ‘stackoverflow’: File exists\n"
          ]
        },
        {
          "output_type": "execute_result",
          "data": {
            "text/html": [
              "<div>\n",
              "<style scoped>\n",
              "    .dataframe tbody tr th:only-of-type {\n",
              "        vertical-align: middle;\n",
              "    }\n",
              "\n",
              "    .dataframe tbody tr th {\n",
              "        vertical-align: top;\n",
              "    }\n",
              "\n",
              "    .dataframe thead th {\n",
              "        text-align: right;\n",
              "    }\n",
              "</style>\n",
              "<table border=\"1\" class=\"dataframe\">\n",
              "  <thead>\n",
              "    <tr style=\"text-align: right;\">\n",
              "      <th></th>\n",
              "      <th>Unnamed: 0</th>\n",
              "      <th>tags</th>\n",
              "      <th>body</th>\n",
              "    </tr>\n",
              "  </thead>\n",
              "  <tbody>\n",
              "    <tr>\n",
              "      <th>0</th>\n",
              "      <td>0</td>\n",
              "      <td>['java', 'c++', 'performance', 'cpu-architectu...</td>\n",
              "      <td>Here is a piece of C++ code that shows some ve...</td>\n",
              "    </tr>\n",
              "    <tr>\n",
              "      <th>1</th>\n",
              "      <td>1</td>\n",
              "      <td>['git', 'version-control', 'git-commit', 'undo']</td>\n",
              "      <td>I accidentally committed the wrong files to Gi...</td>\n",
              "    </tr>\n",
              "    <tr>\n",
              "      <th>2</th>\n",
              "      <td>2</td>\n",
              "      <td>['git', 'version-control', 'git-branch', 'git-...</td>\n",
              "      <td>I want to delete a branch both locally and rem...</td>\n",
              "    </tr>\n",
              "    <tr>\n",
              "      <th>3</th>\n",
              "      <td>3</td>\n",
              "      <td>['git', 'version-control', 'git-pull', 'git-fe...</td>\n",
              "      <td>What are the differences between git pull and ...</td>\n",
              "    </tr>\n",
              "    <tr>\n",
              "      <th>4</th>\n",
              "      <td>4</td>\n",
              "      <td>['python', 'iterator', 'generator', 'yield', '...</td>\n",
              "      <td>What is the use of the yield keyword in Python...</td>\n",
              "    </tr>\n",
              "    <tr>\n",
              "      <th>...</th>\n",
              "      <td>...</td>\n",
              "      <td>...</td>\n",
              "      <td>...</td>\n",
              "    </tr>\n",
              "    <tr>\n",
              "      <th>17495</th>\n",
              "      <td>17495</td>\n",
              "      <td>['python', 'pandas', 'dataframe', 'nan']</td>\n",
              "      <td>I have a Pandas Dataframe as below:\\n      itm...</td>\n",
              "    </tr>\n",
              "    <tr>\n",
              "      <th>17496</th>\n",
              "      <td>17496</td>\n",
              "      <td>['java', 'datetime', 'java-8', 'java-time']</td>\n",
              "      <td>What is the best way to convert a java.util.Da...</td>\n",
              "    </tr>\n",
              "    <tr>\n",
              "      <th>17497</th>\n",
              "      <td>17497</td>\n",
              "      <td>['visual-studio-code']</td>\n",
              "      <td>Is there a Compare feature like the Plugin for...</td>\n",
              "    </tr>\n",
              "    <tr>\n",
              "      <th>17498</th>\n",
              "      <td>17498</td>\n",
              "      <td>['visual-studio-code', 'whitespace', 'vscode-s...</td>\n",
              "      <td>Is it possible to show whitespace characters, ...</td>\n",
              "    </tr>\n",
              "    <tr>\n",
              "      <th>17499</th>\n",
              "      <td>17499</td>\n",
              "      <td>['docker']</td>\n",
              "      <td>Running the docker registry with below command...</td>\n",
              "    </tr>\n",
              "  </tbody>\n",
              "</table>\n",
              "<p>3900 rows × 3 columns</p>\n",
              "</div>"
            ],
            "text/plain": [
              "       Unnamed: 0  ...                                               body\n",
              "0               0  ...  Here is a piece of C++ code that shows some ve...\n",
              "1               1  ...  I accidentally committed the wrong files to Gi...\n",
              "2               2  ...  I want to delete a branch both locally and rem...\n",
              "3               3  ...  What are the differences between git pull and ...\n",
              "4               4  ...  What is the use of the yield keyword in Python...\n",
              "...           ...  ...                                                ...\n",
              "17495       17495  ...  I have a Pandas Dataframe as below:\\n      itm...\n",
              "17496       17496  ...  What is the best way to convert a java.util.Da...\n",
              "17497       17497  ...  Is there a Compare feature like the Plugin for...\n",
              "17498       17498  ...  Is it possible to show whitespace characters, ...\n",
              "17499       17499  ...  Running the docker registry with below command...\n",
              "\n",
              "[3900 rows x 3 columns]"
            ]
          },
          "metadata": {},
          "execution_count": 190
        }
      ]
    },
    {
      "cell_type": "markdown",
      "metadata": {
        "id": "XlrQln74au2T"
      },
      "source": [
        "### Load file from drive"
      ]
    },
    {
      "cell_type": "code",
      "metadata": {
        "id": "I1InpULeaN4l",
        "colab": {
          "base_uri": "https://localhost:8080/",
          "height": 206
        },
        "outputId": "0149220a-b67b-46a5-b1f9-3943e72dc3e9"
      },
      "source": [
        "df = pd.read_csv('/content/stackoverflow/questions.csv')\n",
        "\n",
        "df.head()"
      ],
      "execution_count": 191,
      "outputs": [
        {
          "output_type": "execute_result",
          "data": {
            "text/html": [
              "<div>\n",
              "<style scoped>\n",
              "    .dataframe tbody tr th:only-of-type {\n",
              "        vertical-align: middle;\n",
              "    }\n",
              "\n",
              "    .dataframe tbody tr th {\n",
              "        vertical-align: top;\n",
              "    }\n",
              "\n",
              "    .dataframe thead th {\n",
              "        text-align: right;\n",
              "    }\n",
              "</style>\n",
              "<table border=\"1\" class=\"dataframe\">\n",
              "  <thead>\n",
              "    <tr style=\"text-align: right;\">\n",
              "      <th></th>\n",
              "      <th>Unnamed: 0</th>\n",
              "      <th>tags</th>\n",
              "      <th>body</th>\n",
              "    </tr>\n",
              "  </thead>\n",
              "  <tbody>\n",
              "    <tr>\n",
              "      <th>0</th>\n",
              "      <td>0</td>\n",
              "      <td>['java', 'c++', 'performance', 'cpu-architectu...</td>\n",
              "      <td>Here is a piece of C++ code that shows some ve...</td>\n",
              "    </tr>\n",
              "    <tr>\n",
              "      <th>1</th>\n",
              "      <td>1</td>\n",
              "      <td>['git', 'version-control', 'git-commit', 'undo']</td>\n",
              "      <td>I accidentally committed the wrong files to Gi...</td>\n",
              "    </tr>\n",
              "    <tr>\n",
              "      <th>2</th>\n",
              "      <td>2</td>\n",
              "      <td>['git', 'version-control', 'git-branch', 'git-...</td>\n",
              "      <td>I want to delete a branch both locally and rem...</td>\n",
              "    </tr>\n",
              "    <tr>\n",
              "      <th>3</th>\n",
              "      <td>3</td>\n",
              "      <td>['git', 'version-control', 'git-pull', 'git-fe...</td>\n",
              "      <td>What are the differences between git pull and ...</td>\n",
              "    </tr>\n",
              "    <tr>\n",
              "      <th>4</th>\n",
              "      <td>4</td>\n",
              "      <td>['python', 'iterator', 'generator', 'yield', '...</td>\n",
              "      <td>What is the use of the yield keyword in Python...</td>\n",
              "    </tr>\n",
              "  </tbody>\n",
              "</table>\n",
              "</div>"
            ],
            "text/plain": [
              "   Unnamed: 0  ...                                               body\n",
              "0           0  ...  Here is a piece of C++ code that shows some ve...\n",
              "1           1  ...  I accidentally committed the wrong files to Gi...\n",
              "2           2  ...  I want to delete a branch both locally and rem...\n",
              "3           3  ...  What are the differences between git pull and ...\n",
              "4           4  ...  What is the use of the yield keyword in Python...\n",
              "\n",
              "[5 rows x 3 columns]"
            ]
          },
          "metadata": {},
          "execution_count": 191
        }
      ]
    },
    {
      "cell_type": "code",
      "metadata": {
        "_uuid": "f76b7aed-1453-43c3-8fd6-b5b2975745c5",
        "_cell_guid": "93e5cfbc-0042-418d-975e-49198d762bbc",
        "execution": {
          "iopub.status.busy": "2021-11-18T08:56:42.617124Z",
          "iopub.execute_input": "2021-11-18T08:56:42.617630Z",
          "iopub.status.idle": "2021-11-18T08:56:42.628289Z",
          "shell.execute_reply.started": "2021-11-18T08:56:42.617593Z",
          "shell.execute_reply": "2021-11-18T08:56:42.627547Z"
        },
        "jupyter": {
          "outputs_hidden": false
        },
        "trusted": true,
        "id": "ddE71wzjT3bt",
        "colab": {
          "base_uri": "https://localhost:8080/"
        },
        "outputId": "a91ea7fb-48b2-45fe-d692-34363b952767"
      },
      "source": [
        "print(f\"There are {len(df['body'].unique())} rows in the dataset.\")"
      ],
      "execution_count": 192,
      "outputs": [
        {
          "output_type": "stream",
          "name": "stdout",
          "text": [
            "There are 3900 rows in the dataset.\n"
          ]
        }
      ]
    },
    {
      "cell_type": "code",
      "metadata": {
        "_uuid": "9bd0590f-4430-49f9-9af6-e53a65efcc84",
        "_cell_guid": "56e348ea-0b56-460a-9886-15594c5a4022",
        "execution": {
          "iopub.status.busy": "2021-11-18T08:56:42.630012Z",
          "iopub.execute_input": "2021-11-18T08:56:42.630495Z",
          "iopub.status.idle": "2021-11-18T08:56:42.638376Z",
          "shell.execute_reply.started": "2021-11-18T08:56:42.630460Z",
          "shell.execute_reply": "2021-11-18T08:56:42.637643Z"
        },
        "jupyter": {
          "outputs_hidden": false
        },
        "trusted": true,
        "id": "91v21KDhT3bt",
        "colab": {
          "base_uri": "https://localhost:8080/"
        },
        "outputId": "50de3bba-3e40-4079-872c-899eb9536912"
      },
      "source": [
        "df = df[~df['body'].duplicated()]\n",
        "print(f\"There are {len(df)} rows in the deduplicated dataset.\")"
      ],
      "execution_count": 193,
      "outputs": [
        {
          "output_type": "stream",
          "name": "stdout",
          "text": [
            "There are 3900 rows in the deduplicated dataset.\n"
          ]
        }
      ]
    },
    {
      "cell_type": "markdown",
      "metadata": {
        "id": "ltXOxcQdajL6"
      },
      "source": [
        "## Topic modeling"
      ]
    },
    {
      "cell_type": "code",
      "metadata": {
        "id": "o9ZzAtKGazed"
      },
      "source": [
        "# NLTK Stop words\n",
        "from nltk.corpus import stopwords\n",
        "stop_words = stopwords.words('english')\n",
        "stop_words.extend(['from', 'subject', 're', 'edu', 'use'])"
      ],
      "execution_count": 194,
      "outputs": []
    },
    {
      "cell_type": "markdown",
      "metadata": {
        "_uuid": "3e47d8d7-b296-445c-bd20-e47dc836ba32",
        "_cell_guid": "939331e3-43f2-4025-bf1b-05d4f930c062",
        "trusted": true,
        "id": "iFV12cSlT3bz"
      },
      "source": [
        "## Prepare data"
      ]
    },
    {
      "cell_type": "code",
      "metadata": {
        "colab": {
          "base_uri": "https://localhost:8080/"
        },
        "id": "DfviMYofJ8n_",
        "outputId": "a9f212c0-e178-4846-a041-a0a0590e3e60"
      },
      "source": [
        "def sent_to_words(sentences):\n",
        "    for sentence in sentences:\n",
        "        yield(gensim.utils.simple_preprocess(str(sentence), deacc=True))  # deacc=True removes punctuations\n",
        "\n",
        "data_words = list(sent_to_words(df['body']))\n",
        "\n",
        "print(data_words[:1])"
      ],
      "execution_count": 195,
      "outputs": [
        {
          "output_type": "stream",
          "name": "stdout",
          "text": [
            "[['here', 'is', 'piece', 'of', 'code', 'that', 'shows', 'some', 'very', 'peculiar', 'behavior', 'for', 'some', 'strange', 'reason', 'sorting', 'the', 'data', 'before', 'the', 'timed', 'region', 'miraculously', 'makes', 'the', 'loop', 'almost', 'six', 'times', 'faster', 'include', 'lt', 'algorithm', 'gt', 'include', 'lt', 'ctime', 'gt', 'include', 'lt', 'iostream', 'gt', 'int', 'main', 'generate', 'data', 'const', 'unsigned', 'arraysize', 'int', 'data', 'arraysize', 'for', 'unsigned', 'lt', 'arraysize', 'data', 'std', 'rand', 'with', 'this', 'the', 'next', 'loop', 'runs', 'faster', 'std', 'sort', 'data', 'data', 'arraysize', 'test', 'clock_t', 'start', 'clock', 'long', 'long', 'sum', 'for', 'unsigned', 'lt', 'for', 'unsigned', 'lt', 'arraysize', 'primary', 'loop', 'if', 'data', 'gt', 'sum', 'data', 'double', 'elapsedtime', 'static_cast', 'lt', 'double', 'gt', 'clock', 'start', 'clocks_per_sec', 'std', 'cout', 'lt', 'lt', 'elapsedtime', 'lt', 'lt', 'std', 'cout', 'lt', 'lt', 'quot', 'sum', 'quot', 'lt', 'lt', 'sum', 'lt', 'lt', 'without', 'std', 'sort', 'data', 'data', 'arraysize', 'the', 'code', 'runs', 'in', 'seconds', 'with', 'the', 'sorted', 'data', 'the', 'code', 'runs', 'in', 'seconds', 'sorting', 'itself', 'takes', 'more', 'time', 'than', 'this', 'one', 'pass', 'over', 'the', 'array', 'so', 'it', 'not', 'actually', 'worth', 'doing', 'if', 'we', 'needed', 'to', 'calculate', 'this', 'for', 'an', 'unknown', 'array', 'initially', 'thought', 'this', 'might', 'be', 'just', 'language', 'or', 'compiler', 'anomaly', 'so', 'tried', 'java', 'import', 'java', 'util', 'arrays', 'import', 'java', 'util', 'random', 'public', 'class', 'main', 'public', 'static', 'void', 'main', 'string', 'args', 'generate', 'data', 'int', 'arraysize', 'int', 'data', 'new', 'int', 'arraysize', 'random', 'rnd', 'new', 'random', 'for', 'int', 'lt', 'arraysize', 'data', 'rnd', 'nextint', 'with', 'this', 'the', 'next', 'loop', 'runs', 'faster', 'arrays', 'sort', 'data', 'test', 'long', 'start', 'system', 'nanotime', 'long', 'sum', 'for', 'int', 'lt', 'for', 'int', 'lt', 'arraysize', 'primary', 'loop', 'if', 'data', 'gt', 'sum', 'data', 'system', 'out', 'println', 'system', 'nanotime', 'start', 'system', 'out', 'println', 'quot', 'sum', 'quot', 'sum', 'with', 'similar', 'but', 'less', 'extreme', 'result', 'my', 'first', 'thought', 'was', 'that', 'sorting', 'brings', 'the', 'data', 'into', 'the', 'cache', 'but', 'then', 'thought', 'how', 'silly', 'that', 'was', 'because', 'the', 'array', 'was', 'just', 'generated', 'what', 'is', 'going', 'on', 'why', 'is', 'processing', 'sorted', 'array', 'faster', 'than', 'processing', 'an', 'unsorted', 'array', 'the', 'code', 'is', 'summing', 'up', 'some', 'independent', 'terms', 'so', 'the', 'order', 'should', 'not', 'matter', 'related', 'followup', 'amp', 'as', 'about', 'the', 'same', 'effect', 'with', 'different', 'later', 'compilers', 'and', 'options', 'why', 'is', 'processing', 'an', 'unsorted', 'array', 'the', 'same', 'speed', 'as', 'processing', 'sorted', 'array', 'with', 'modern', 'clang', 'gcc', 'optimization', 'flag', 'makes', 'code', 'slower', 'than']]\n"
          ]
        }
      ]
    },
    {
      "cell_type": "code",
      "metadata": {
        "id": "iq09UbKLbtfI",
        "colab": {
          "base_uri": "https://localhost:8080/"
        },
        "outputId": "ae083f11-9a0c-46a7-e881-4a44a35b8c1b"
      },
      "source": [
        "# Build the bigram and trigram models\n",
        "bigram = gensim.models.Phrases(data_words, min_count=5, threshold=100) # higher threshold fewer phrases.\n",
        "trigram = gensim.models.Phrases(bigram[data_words], threshold=100)  \n",
        "\n",
        "# Faster way to get a sentence clubbed as a trigram/bigram\n",
        "bigram_mod = gensim.models.phrases.Phraser(bigram)\n",
        "trigram_mod = gensim.models.phrases.Phraser(trigram)\n",
        "\n",
        "# See trigram example\n",
        "print(trigram_mod[bigram_mod[data_words[0]]])"
      ],
      "execution_count": 196,
      "outputs": [
        {
          "output_type": "stream",
          "name": "stdout",
          "text": [
            "['here', 'is', 'piece', 'of', 'code', 'that', 'shows', 'some', 'very', 'peculiar', 'behavior', 'for', 'some', 'strange', 'reason', 'sorting', 'the', 'data', 'before', 'the', 'timed', 'region', 'miraculously', 'makes', 'the', 'loop', 'almost', 'six', 'times', 'faster', 'include', 'lt', 'algorithm', 'gt', 'include', 'lt', 'ctime', 'gt', 'include', 'lt', 'iostream', 'gt', 'int', 'main', 'generate', 'data', 'const', 'unsigned', 'arraysize', 'int', 'data', 'arraysize', 'for', 'unsigned', 'lt', 'arraysize', 'data', 'std', 'rand', 'with', 'this', 'the', 'next', 'loop', 'runs', 'faster', 'std', 'sort', 'data', 'data', 'arraysize', 'test', 'clock_t', 'start', 'clock', 'long', 'long', 'sum', 'for', 'unsigned', 'lt', 'for', 'unsigned', 'lt', 'arraysize', 'primary', 'loop', 'if', 'data', 'gt', 'sum', 'data', 'double', 'elapsedtime', 'static_cast', 'lt', 'double', 'gt', 'clock', 'start', 'clocks_per_sec', 'std_cout', 'lt', 'lt', 'elapsedtime', 'lt', 'lt', 'std_cout', 'lt', 'lt', 'quot', 'sum', 'quot', 'lt', 'lt', 'sum', 'lt', 'lt', 'without', 'std', 'sort', 'data', 'data', 'arraysize', 'the', 'code', 'runs', 'in', 'seconds', 'with', 'the', 'sorted', 'data', 'the', 'code', 'runs', 'in', 'seconds', 'sorting', 'itself', 'takes', 'more', 'time', 'than', 'this', 'one', 'pass', 'over', 'the', 'array', 'so', 'it', 'not', 'actually', 'worth', 'doing', 'if', 'we', 'needed', 'to', 'calculate', 'this', 'for', 'an', 'unknown', 'array', 'initially', 'thought', 'this', 'might', 'be', 'just', 'language', 'or', 'compiler', 'anomaly', 'so', 'tried', 'java', 'import', 'java_util', 'arrays', 'import', 'java_util', 'random', 'public', 'class', 'main', 'public', 'static_void', 'main', 'string', 'args', 'generate', 'data', 'int', 'arraysize', 'int', 'data', 'new', 'int', 'arraysize', 'random', 'rnd', 'new', 'random', 'for', 'int', 'lt', 'arraysize', 'data', 'rnd', 'nextint', 'with', 'this', 'the', 'next', 'loop', 'runs', 'faster', 'arrays', 'sort', 'data', 'test', 'long', 'start', 'system', 'nanotime', 'long', 'sum', 'for', 'int', 'lt', 'for', 'int', 'lt', 'arraysize', 'primary', 'loop', 'if', 'data', 'gt', 'sum', 'data', 'system_out_println', 'system', 'nanotime', 'start', 'system_out_println', 'quot', 'sum', 'quot', 'sum', 'with', 'similar', 'but', 'less', 'extreme', 'result', 'my', 'first', 'thought', 'was', 'that', 'sorting', 'brings', 'the', 'data', 'into', 'the', 'cache', 'but', 'then', 'thought', 'how', 'silly', 'that', 'was', 'because', 'the', 'array', 'was', 'just', 'generated', 'what', 'is', 'going', 'on', 'why', 'is', 'processing', 'sorted', 'array', 'faster_than', 'processing', 'an', 'unsorted', 'array', 'the', 'code', 'is', 'summing', 'up', 'some', 'independent', 'terms', 'so', 'the', 'order', 'should', 'not', 'matter', 'related', 'followup', 'amp', 'as', 'about', 'the', 'same', 'effect', 'with', 'different', 'later', 'compilers', 'and', 'options', 'why', 'is', 'processing', 'an', 'unsorted', 'array', 'the', 'same', 'speed', 'as', 'processing', 'sorted', 'array', 'with', 'modern', 'clang', 'gcc', 'optimization', 'flag', 'makes', 'code', 'slower_than']\n"
          ]
        }
      ]
    },
    {
      "cell_type": "code",
      "metadata": {
        "id": "u2leEJMubs1u"
      },
      "source": [
        "# Define functions for stopwords, bigrams, trigrams and lemmatization\n",
        "def remove_stopwords(texts):\n",
        "    return [[word for word in simple_preprocess(str(doc)) if word not in stop_words] for doc in texts]\n",
        "\n",
        "def make_bigrams(texts):\n",
        "    return [bigram_mod[doc] for doc in texts]\n",
        "\n",
        "def make_trigrams(texts):\n",
        "    return [trigram_mod[bigram_mod[doc]] for doc in texts]\n",
        "\n",
        "def lemmatization(texts, allowed_postags=['NOUN', 'ADJ', 'VERB', 'ADV']):\n",
        "    \"\"\"https://spacy.io/api/annotation\"\"\"\n",
        "    texts_out = []\n",
        "    for sent in texts:\n",
        "        doc = nlp(\" \".join(sent)) \n",
        "        texts_out.append([token.lemma_ for token in doc if token.pos_ in allowed_postags])\n",
        "    return texts_out"
      ],
      "execution_count": 197,
      "outputs": []
    },
    {
      "cell_type": "code",
      "metadata": {
        "id": "K1-HG7WvcJX4",
        "colab": {
          "base_uri": "https://localhost:8080/"
        },
        "outputId": "c113c727-b6d7-401b-f545-b9d4fc3103b3"
      },
      "source": [
        "# Remove Stop Words\n",
        "data_words_nostops = remove_stopwords(data_words)\n",
        "\n",
        "# Form Bigrams\n",
        "data_words_bigrams = make_bigrams(data_words_nostops)\n",
        "\n",
        "# Initialize spacy 'en' model, keeping only tagger component (for efficiency)\n",
        "# python3 -m spacy download en\n",
        "nlp = spacy.load('en', disable=['parser', 'ner'])\n",
        "\n",
        "# Do lemmatization keeping only noun, adj, vb, adv\n",
        "data_lemmatized = lemmatization(data_words_bigrams, allowed_postags=['NOUN', 'ADJ', 'ADV'])\n",
        "\n",
        "print(data_lemmatized[:1])"
      ],
      "execution_count": 198,
      "outputs": [
        {
          "output_type": "stream",
          "name": "stdout",
          "text": [
            "[['piece', 'code', 'show', 'peculiar', 'behavior', 'strange', 'reason', 'sort', 'datum', 'time', 'region', 'miraculously', 'make', 'loop', 'almost', 'time', 'faster', 'include', 'include', 'include', 'main', 'generate', 'datum', 'const', 'unsigne', 'datum', 'loop', 'run', 'fast', 'datum', 'datum', 'test', 'start', 'clock', 'long', 'long', 'sum', 'unsigne', 'datum', 'double', 'elapsedtime', 'lt', 'double', 'clock', 'start', 'datum', 'run', 'second', 'sort', 'code', 'run', 'second', 'sort', 'take', 'time', 'pass', 'array', 'actually', 'worth', 'need', 'calculate', 'unknown', 'array', 'initially', 'think', 'may', 'language', 'compiler', 'try', 'random', 'public', 'class', 'main', 'public', 'static', 'void', 'main', 'string', 'arg', 'generate', 'datum', 'int', 'arraysize', 'next', 'run', 'fast', 'test', 'long', 'start', 'system', 'nanotime', 'long', 'sum', 'lt', 'system', 'println', 'system', 'start', 'system', 'similar', 'less', 'extreme', 'result', 'first', 'thought', 'sort', 'bring', 'data', 'think', 'silly', 'generate', 'go', 'processing', 'sort', 'array', 'faster', 'processing', 'unsorte', 'code', 'sum', 'independent', 'term', 'order', 'matter', 'relate', 'followup', 'amp', 'effect', 'different', 'late', 'compiler', 'option', 'processing', 'unsorte', 'array', 'speed', 'processing', 'sort', 'array', 'modern', 'optimization', 'flag', 'make', 'code', 'slower']]\n"
          ]
        }
      ]
    },
    {
      "cell_type": "code",
      "metadata": {
        "id": "BNEMrm8wcJPe",
        "colab": {
          "base_uri": "https://localhost:8080/"
        },
        "outputId": "cfd001ad-aa9f-4e2b-d129-b00dc6073065"
      },
      "source": [
        "# Create Dictionary\n",
        "id2word = corpora.Dictionary(data_lemmatized)\n",
        "\n",
        "# Create Corpus\n",
        "texts = data_lemmatized\n",
        "\n",
        "# Term Document Frequency\n",
        "corpus = [id2word.doc2bow(text) for text in texts]\n",
        "\n",
        "# View\n",
        "print(corpus[:1])"
      ],
      "execution_count": 199,
      "outputs": [
        {
          "output_type": "stream",
          "name": "stdout",
          "text": [
            "[[(0, 1), (1, 1), (2, 1), (3, 1), (4, 5), (5, 1), (6, 1), (7, 1), (8, 1), (9, 1), (10, 2), (11, 4), (12, 2), (13, 1), (14, 1), (15, 8), (16, 1), (17, 2), (18, 1), (19, 1), (20, 1), (21, 2), (22, 2), (23, 1), (24, 1), (25, 1), (26, 3), (27, 1), (28, 3), (29, 1), (30, 1), (31, 1), (32, 1), (33, 1), (34, 1), (35, 4), (36, 2), (37, 2), (38, 3), (39, 2), (40, 1), (41, 1), (42, 1), (43, 1), (44, 1), (45, 1), (46, 1), (47, 1), (48, 1), (49, 1), (50, 1), (51, 1), (52, 1), (53, 1), (54, 4), (55, 2), (56, 1), (57, 1), (58, 1), (59, 1), (60, 1), (61, 4), (62, 2), (63, 1), (64, 1), (65, 1), (66, 1), (67, 6), (68, 1), (69, 4), (70, 1), (71, 1), (72, 1), (73, 3), (74, 4), (75, 1), (76, 1), (77, 2), (78, 2), (79, 1), (80, 3), (81, 1), (82, 1), (83, 2), (84, 2), (85, 1), (86, 1)]]\n"
          ]
        }
      ]
    },
    {
      "cell_type": "code",
      "metadata": {
        "id": "einO9LM9cP_5",
        "colab": {
          "base_uri": "https://localhost:8080/"
        },
        "outputId": "19c7efe1-2063-47d8-9efd-66f94828e672"
      },
      "source": [
        "# Human readable format of corpus (term-frequency)\n",
        "[[(id2word[id], freq) for id, freq in cp] for cp in corpus[:1]]"
      ],
      "execution_count": 200,
      "outputs": [
        {
          "output_type": "execute_result",
          "data": {
            "text/plain": [
              "[[('actually', 1),\n",
              "  ('almost', 1),\n",
              "  ('amp', 1),\n",
              "  ('arg', 1),\n",
              "  ('array', 5),\n",
              "  ('arraysize', 1),\n",
              "  ('behavior', 1),\n",
              "  ('bring', 1),\n",
              "  ('calculate', 1),\n",
              "  ('class', 1),\n",
              "  ('clock', 2),\n",
              "  ('code', 4),\n",
              "  ('compiler', 2),\n",
              "  ('const', 1),\n",
              "  ('data', 1),\n",
              "  ('datum', 8),\n",
              "  ('different', 1),\n",
              "  ('double', 2),\n",
              "  ('effect', 1),\n",
              "  ('elapsedtime', 1),\n",
              "  ('extreme', 1),\n",
              "  ('fast', 2),\n",
              "  ('faster', 2),\n",
              "  ('first', 1),\n",
              "  ('flag', 1),\n",
              "  ('followup', 1),\n",
              "  ('generate', 3),\n",
              "  ('go', 1),\n",
              "  ('include', 3),\n",
              "  ('independent', 1),\n",
              "  ('initially', 1),\n",
              "  ('int', 1),\n",
              "  ('language', 1),\n",
              "  ('late', 1),\n",
              "  ('less', 1),\n",
              "  ('long', 4),\n",
              "  ('loop', 2),\n",
              "  ('lt', 2),\n",
              "  ('main', 3),\n",
              "  ('make', 2),\n",
              "  ('matter', 1),\n",
              "  ('may', 1),\n",
              "  ('miraculously', 1),\n",
              "  ('modern', 1),\n",
              "  ('nanotime', 1),\n",
              "  ('need', 1),\n",
              "  ('next', 1),\n",
              "  ('optimization', 1),\n",
              "  ('option', 1),\n",
              "  ('order', 1),\n",
              "  ('pass', 1),\n",
              "  ('peculiar', 1),\n",
              "  ('piece', 1),\n",
              "  ('println', 1),\n",
              "  ('processing', 4),\n",
              "  ('public', 2),\n",
              "  ('random', 1),\n",
              "  ('reason', 1),\n",
              "  ('region', 1),\n",
              "  ('relate', 1),\n",
              "  ('result', 1),\n",
              "  ('run', 4),\n",
              "  ('second', 2),\n",
              "  ('show', 1),\n",
              "  ('silly', 1),\n",
              "  ('similar', 1),\n",
              "  ('slower', 1),\n",
              "  ('sort', 6),\n",
              "  ('speed', 1),\n",
              "  ('start', 4),\n",
              "  ('static', 1),\n",
              "  ('strange', 1),\n",
              "  ('string', 1),\n",
              "  ('sum', 3),\n",
              "  ('system', 4),\n",
              "  ('take', 1),\n",
              "  ('term', 1),\n",
              "  ('test', 2),\n",
              "  ('think', 2),\n",
              "  ('thought', 1),\n",
              "  ('time', 3),\n",
              "  ('try', 1),\n",
              "  ('unknown', 1),\n",
              "  ('unsigne', 2),\n",
              "  ('unsorte', 2),\n",
              "  ('void', 1),\n",
              "  ('worth', 1)]]"
            ]
          },
          "metadata": {},
          "execution_count": 200
        }
      ]
    },
    {
      "cell_type": "code",
      "metadata": {
        "id": "RZDEx8VFcW1E"
      },
      "source": [
        "# Build LDA model\n",
        "lda_model = gensim.models.ldamodel.LdaModel(corpus=corpus,\n",
        "                                           id2word=id2word,\n",
        "                                           num_topics=20, \n",
        "                                           random_state=100,\n",
        "                                           update_every=1,\n",
        "                                           chunksize=100,\n",
        "                                           passes=10,\n",
        "                                           alpha='auto',\n",
        "                                           per_word_topics=True)"
      ],
      "execution_count": 201,
      "outputs": []
    },
    {
      "cell_type": "code",
      "metadata": {
        "id": "1wVi8Oc7ciR-",
        "colab": {
          "base_uri": "https://localhost:8080/"
        },
        "outputId": "e517f55b-a576-4029-a8af-b1a7e454468c"
      },
      "source": [
        "# Print the Keyword in the 10 topics\n",
        "pprint(lda_model.print_topics())\n",
        "doc_lda = lda_model[corpus]"
      ],
      "execution_count": 202,
      "outputs": [
        {
          "output_type": "stream",
          "name": "stdout",
          "text": [
            "[(0,\n",
            "  '0.067*\"know\" + 0.047*\"question\" + 0.038*\"first\" + 0.036*\"case\" + '\n",
            "  '0.034*\"problem\" + 0.030*\"different\" + 0.030*\"understand\" + 0.027*\"may\" + '\n",
            "  '0.027*\"point\" + 0.023*\"mean\"'),\n",
            " (1,\n",
            "  '0.065*\"use\" + 0.042*\"way\" + 0.040*\"want\" + 0.035*\"try\" + 0.035*\"get\" + '\n",
            "  '0.033*\"code\" + 0.032*\"work\" + 0.028*\"find\" + 0.023*\"new\" + 0.023*\"need\"'),\n",
            " (2,\n",
            "  '0.201*\"quot\" + 0.117*\"public\" + 0.096*\"static\" + 0.089*\"main\" + '\n",
            "  '0.082*\"date\" + 0.077*\"null\" + 0.050*\"throw\" + 0.040*\"compare\" + '\n",
            "  '0.029*\"mode\" + 0.027*\"parse\"'),\n",
            " (3,\n",
            "  '0.101*\"type\" + 0.098*\"text\" + 0.054*\"input\" + 0.049*\"page\" + 0.047*\"css\" + '\n",
            "  '0.045*\"style\" + 0.037*\"base\" + 0.033*\"button\" + 0.033*\"form\" + '\n",
            "  '0.027*\"browser\"'),\n",
            " (4,\n",
            "  '0.139*\"would\" + 0.071*\"name\" + 0.067*\"value\" + 0.066*\"example\" + '\n",
            "  '0.034*\"could\" + 0.032*\"check\" + 0.031*\"element\" + 0.031*\"possible\" + '\n",
            "  '0.029*\"number\" + 0.028*\"contain\"'),\n",
            " (5,\n",
            "  '0.233*\"image\" + 0.087*\"send\" + 0.077*\"search\" + 0.074*\"site\" + 0.037*\"rule\" '\n",
            "  '+ 0.036*\"person\" + 0.031*\"address\" + 0.029*\"recommend\" + 0.023*\"git\" + '\n",
            "  '0.021*\"hash\"'),\n",
            " (6,\n",
            "  '0.106*\"build\" + 0.087*\"property\" + 0.067*\"else\" + 0.066*\"link\" + '\n",
            "  '0.057*\"last\" + 0.055*\"instance\" + 0.047*\"nee\" + 0.037*\"several\" + '\n",
            "  '0.032*\"action\" + 0.031*\"empty\"'),\n",
            " (7,\n",
            "  '0.114*\"output\" + 0.085*\"item\" + 0.064*\"index\" + 0.063*\"end\" + 0.045*\"loop\" '\n",
            "  '+ 0.041*\"let\" + 0.040*\"bit\" + 0.038*\"feature\" + 0.028*\"compiler\" + '\n",
            "  '0.026*\"collection\"'),\n",
            " (8,\n",
            "  '0.182*\"function\" + 0.154*\"class\" + 0.090*\"call\" + 0.079*\"character\" + '\n",
            "  '0.044*\"window\" + 0.041*\"false\" + 0.040*\"access\" + 0.038*\"define\" + '\n",
            "  '0.033*\"available\" + 0.032*\"private\"'),\n",
            " (9,\n",
            "  '0.107*\"com\" + 0.085*\"remove\" + 0.072*\"variable\" + 0.071*\"var\" + '\n",
            "  '0.066*\"part\" + 0.053*\"replace\" + 0.039*\"tell\" + 0.036*\"documentation\" + '\n",
            "  '0.035*\"reason\" + 0.030*\"docker\"'),\n",
            " (10,\n",
            "  '0.336*\"list\" + 0.132*\"key\" + 0.104*\"library\" + 0.057*\"self\" + '\n",
            "  '0.049*\"module\" + 0.041*\"extend\" + 0.028*\"setting\" + 0.024*\"complete\" + '\n",
            "  '0.017*\"piece\" + 0.009*\"distance\"'),\n",
            " (11,\n",
            "  '0.200*\"method\" + 0.169*\"difference\" + 0.063*\"argument\" + 0.048*\"design\" + '\n",
            "  '0.044*\"framework\" + 0.044*\"side\" + 0.031*\"execution\" + 0.030*\"core\" + '\n",
            "  '0.026*\"develop\" + 0.026*\"keyword\"'),\n",
            " (12,\n",
            "  '0.284*\"say\" + 0.101*\"appear\" + 0.073*\"simply\" + 0.059*\"body\" + '\n",
            "  '0.056*\"escape\" + 0.054*\"prefer\" + 0.035*\"definition\" + 0.006*\"quit\" + '\n",
            "  '0.000*\"formal\" + 0.000*\"double_quote\"'),\n",
            " (13,\n",
            "  '0.179*\"script\" + 0.133*\"directory\" + 0.128*\"branch\" + 0.087*\"local\" + '\n",
            "  '0.080*\"repository\" + 0.058*\"remote\" + 0.051*\"push\" + 0.032*\"origin\" + '\n",
            "  '0.026*\"usually\" + 0.016*\"shell\"'),\n",
            " (14,\n",
            "  '0.274*\"file\" + 0.114*\"line\" + 0.079*\"change\" + 0.061*\"version\" + '\n",
            "  '0.058*\"command\" + 0.040*\"commit\" + 0.038*\"message\" + 0.032*\"current\" + '\n",
            "  '0.029*\"package\" + 0.027*\"delete\"'),\n",
            " (15,\n",
            "  '0.121*\"request\" + 0.104*\"right\" + 0.097*\"content\" + 0.095*\"http\" + '\n",
            "  '0.059*\"merge\" + 0.055*\"tag\" + 0.054*\"leave\" + 0.051*\"resource\" + '\n",
            "  '0.038*\"pull\" + 0.033*\"entity\"'),\n",
            " (16,\n",
            "  '0.125*\"datum\" + 0.073*\"system\" + 0.053*\"array\" + 0.050*\"int\" + 0.049*\"take\" '\n",
            "  '+ 0.041*\"second\" + 0.039*\"store\" + 0.033*\"order\" + 0.031*\"structure\" + '\n",
            "  '0.031*\"void\"'),\n",
            " (17,\n",
            "  '0.118*\"error\" + 0.078*\"follow\" + 0.061*\"result\" + 0.060*\"path\" + '\n",
            "  '0.053*\"application\" + 0.046*\"program\" + 0.042*\"run\" + 0.029*\"foo\" + '\n",
            "  '0.025*\"wrong\" + 0.024*\"import\"'),\n",
            " (18,\n",
            "  '0.200*\"string\" + 0.148*\"return\" + 0.144*\"object\" + 0.073*\"print\" + '\n",
            "  '0.051*\"stre\" + 0.047*\"process\" + 0.046*\"method\" + 0.043*\"log\" + '\n",
            "  '0.042*\"convert\" + 0.024*\"suppose\"'),\n",
            " (19,\n",
            "  '0.268*\"android\" + 0.237*\"true\" + 0.105*\"thread\" + 0.020*\"measure\" + '\n",
            "  '0.011*\"sleep\" + 0.009*\"threading\" + 0.000*\"sdk\" + 0.000*\"dot\" + 0.000*\"ms\" '\n",
            "  '+ 0.000*\"device\"')]\n"
          ]
        }
      ]
    },
    {
      "cell_type": "code",
      "metadata": {
        "id": "u3WyenEMck3b",
        "colab": {
          "base_uri": "https://localhost:8080/"
        },
        "outputId": "0a61659b-f227-4653-f7fd-430557fcfa09"
      },
      "source": [
        "# Compute Perplexity\n",
        "print('\\nPerplexity: ', lda_model.log_perplexity(corpus))  # a measure of how good the model is. lower the better.\n",
        "\n",
        "# Compute Coherence Score\n",
        "coherence_model_lda = CoherenceModel(model=lda_model, texts=data_lemmatized, dictionary=id2word, coherence='c_v')\n",
        "coherence_lda = coherence_model_lda.get_coherence()\n",
        "print('\\nCoherence Score: ', coherence_lda)"
      ],
      "execution_count": 203,
      "outputs": [
        {
          "output_type": "stream",
          "name": "stdout",
          "text": [
            "\n",
            "Perplexity:  -13.030529242972014\n",
            "\n",
            "Coherence Score:  0.37221649141533986\n"
          ]
        }
      ]
    },
    {
      "cell_type": "code",
      "metadata": {
        "id": "AtFay85WcP3q",
        "colab": {
          "base_uri": "https://localhost:8080/",
          "height": 917
        },
        "outputId": "78314105-443c-42b0-98c3-717b49f60678"
      },
      "source": [
        "# Visualize the topics\n",
        "pyLDAvis.enable_notebook()\n",
        "vis = gensimvis.prepare(lda_model, corpus, id2word)\n",
        "vis"
      ],
      "execution_count": 204,
      "outputs": [
        {
          "output_type": "stream",
          "name": "stderr",
          "text": [
            "/usr/local/lib/python3.7/dist-packages/pyLDAvis/_prepare.py:247: FutureWarning: In a future version of pandas all arguments of DataFrame.drop except for the argument 'labels' will be keyword-only\n",
            "  by='saliency', ascending=False).head(R).drop('saliency', 1)\n"
          ]
        },
        {
          "output_type": "execute_result",
          "data": {
            "text/html": [
              "\n",
              "<link rel=\"stylesheet\" type=\"text/css\" href=\"https://cdn.jsdelivr.net/gh/bmabey/pyLDAvis@3.3.1/pyLDAvis/js/ldavis.v1.0.0.css\">\n",
              "\n",
              "\n",
              "<div id=\"ldavis_el27041399134635039521503770221\"></div>\n",
              "<script type=\"text/javascript\">\n",
              "\n",
              "var ldavis_el27041399134635039521503770221_data = {\"mdsDat\": {\"x\": [-0.3254825455741867, -0.21124054382316315, -0.18655212294496104, -0.11524638544356679, -0.1559536335486145, -0.04514557155893939, -0.024128079000182445, -0.01693604059611493, 0.04126363134794531, 0.04955005590489352, 0.051431882080140184, 0.07079829638909982, 0.08104738084206392, 0.07852156561732836, 0.10219847304377601, 0.11243511242528086, 0.09631105425939405, 0.11298309371587213, 0.1406426311055454, 0.14350174575838995], \"y\": [0.16668566889615147, -0.34675240053235884, 0.24410793007499024, 0.02355279287109092, -0.07957857723955644, -0.0818546256339479, -0.05726159330295502, 0.015572642212620731, 0.002797287112489373, 0.000971205572143133, 0.0013839104995102647, 0.005127478749345923, 0.007084013473487815, 0.023154892904190476, 0.012144656085687221, 0.011908466212365293, 0.009487386019737875, 0.011733190826085555, 0.0147352466539423, 0.015000428544979376], \"topics\": [1, 2, 3, 4, 5, 6, 7, 8, 9, 10, 11, 12, 13, 14, 15, 16, 17, 18, 19, 20], \"cluster\": [1, 1, 1, 1, 1, 1, 1, 1, 1, 1, 1, 1, 1, 1, 1, 1, 1, 1, 1, 1], \"Freq\": [28.572321400860663, 11.759687728371555, 9.467061484586027, 6.551492866860184, 6.182464086505487, 5.192718670455532, 4.2782559688990185, 4.140637315643296, 3.517070253306087, 2.958740431588286, 2.8332876145168315, 2.4013897933324, 2.0978219429057035, 1.8903675159455107, 1.8794897682608294, 1.6644252917456426, 1.6264533373384022, 1.4248870949096029, 0.8913718256775413, 0.670055608291398]}, \"tinfo\": {\"Term\": [\"file\", \"would\", \"function\", \"string\", \"use\", \"list\", \"class\", \"line\", \"error\", \"name\", \"return\", \"method\", \"object\", \"value\", \"datum\", \"quot\", \"example\", \"type\", \"text\", \"know\", \"image\", \"want\", \"change\", \"follow\", \"way\", \"script\", \"run\", \"call\", \"say\", \"get\", \"want\", \"use\", \"get\", \"work\", \"find\", \"new\", \"need\", \"create\", \"code\", \"user\", \"make\", \"look\", \"seem\", \"test\", \"update\", \"go\", \"write\", \"project\", \"however\", \"solution\", \"well\", \"thing\", \"simple\", \"exist\", \"read\", \"show\", \"able\", \"start\", \"really\", \"put\", \"way\", \"see\", \"set\", \"try\", \"add\", \"good\", \"time\", \"run\", \"also\", \"would\", \"name\", \"value\", \"could\", \"check\", \"element\", \"possible\", \"number\", \"contain\", \"require\", \"table\", \"select\", \"option\", \"like\", \"default\", \"open\", \"size\", \"row\", \"word\", \"jquery\", \"filename\", \"match\", \"tool\", \"figure\", \"large\", \"insert\", \"achieve\", \"thank\", \"space\", \"perform\", \"idea\", \"example\", \"statement\", \"give\", \"know\", \"question\", \"case\", \"different\", \"understand\", \"may\", \"point\", \"mean\", \"answer\", \"still\", \"issue\", \"format\", \"edit\", \"easy\", \"many\", \"post\", \"always\", \"reference\", \"come\", \"correct\", \"allow\", \"similar\", \"help\", \"handle\", \"fine\", \"currently\", \"much\", \"comment\", \"apply\", \"break\", \"first\", \"problem\", \"note\", \"also\", \"file\", \"line\", \"change\", \"version\", \"command\", \"commit\", \"message\", \"current\", \"package\", \"delete\", \"state\", \"save\", \"copy\", \"group\", \"reset\", \"previous\", \"yet\", \"late\", \"advantage\", \"other\", \"author\", \"editor\", \"entry\", \"realize\", \"initial\", \"future\", \"previously\", \"history\", \"moment\", \"prefix\", \"add\", \"back\", \"error\", \"result\", \"path\", \"application\", \"program\", \"foo\", \"wrong\", \"import\", \"fail\", \"must\", \"compile\", \"particular\", \"exactly\", \"response\", \"expect\", \"real\", \"stop\", \"memory\", \"block\", \"clear\", \"bash\", \"explain\", \"great\", \"undefined\", \"cause\", \"effect\", \"internal\", \"quote\", \"recently\", \"determine\", \"follow\", \"syntax\", \"actually\", \"run\", \"less\", \"type\", \"text\", \"input\", \"page\", \"css\", \"style\", \"base\", \"button\", \"form\", \"browser\", \"load\", \"certain\", \"fix\", \"document\", \"color\", \"attribute\", \"little\", \"enter\", \"head\", \"produce\", \"never\", \"probably\", \"important\", \"html\", \"top\", \"submit\", \"red\", \"background\", \"amp\", \"master\", \"function\", \"class\", \"call\", \"character\", \"window\", \"false\", \"access\", \"define\", \"available\", \"private\", \"pass\", \"component\", \"parameter\", \"occur\", \"term\", \"receive\", \"xml\", \"runtime\", \"trouble\", \"kill\", \"eval\", \"surprise\", \"stay\", \"trick\", \"flash\", \"least\", \"globally\", \"copying\", \"avoid\", \"soap\", \"happen\", \"datum\", \"system\", \"array\", \"int\", \"take\", \"second\", \"store\", \"order\", \"structure\", \"void\", \"data\", \"lt\", \"fast\", \"accept\", \"double\", \"behavior\", \"length\", \"speed\", \"sort\", \"range\", \"const\", \"sum\", \"next\", \"amount\", \"faster\", \"random\", \"prompt\", \"processing\", \"modern\", \"arg\", \"long\", \"string\", \"return\", \"object\", \"print\", \"stre\", \"process\", \"log\", \"convert\", \"suppose\", \"expression\", \"dictionary\", \"final\", \"dict\", \"construct\", \"conditional\", \"win\", \"comma\", \"method\", \"ternary\", \"split\", \"map\", \"tostre\", \"boolean\", \"round\", \"home\", \"tostring\", \"concatenate\", \"std\", \"exception\", \"task\", \"service\", \"view\", \"database\", \"event\", \"output\", \"item\", \"index\", \"end\", \"loop\", \"let\", \"bit\", \"feature\", \"compiler\", \"collection\", \"token\", \"performance\", \"suggestion\", \"regex\", \"gt\", \"sign\", \"equal\", \"echo\", \"conversion\", \"unexpected\", \"day\", \"special\", \"namespace\", \"around\", \"bool\", \"comparison\", \"ago\", \"extremely\", \"equality\", \"pipe\", \"com\", \"remove\", \"variable\", \"var\", \"part\", \"replace\", \"tell\", \"documentation\", \"reason\", \"docker\", \"quite\", \"developer\", \"environment\", \"modify\", \"software\", \"manage\", \"bug\", \"hear\", \"production\", \"present\", \"inside\", \"introduce\", \"describe\", \"maximum\", \"differ\", \"mail\", \"maintain\", \"specification\", \"behave\", \"occurrence\", \"property\", \"build\", \"else\", \"link\", \"last\", \"instance\", \"nee\", \"several\", \"action\", \"empty\", \"purpose\", \"move\", \"none\", \"declare\", \"hard\", \"age\", \"whole\", \"closure\", \"unfortunately\", \"pure\", \"foreach\", \"redirect\", \"knowledge\", \"validation\", \"consist\", \"incorrect\", \"concept\", \"fragment\", \"gradle\", \"screen\", \"model\", \"install\", \"quot\", \"public\", \"static\", \"main\", \"date\", \"null\", \"throw\", \"compare\", \"mode\", \"parse\", \"apart\", \"transition\", \"public_void\", \"eye\", \"offset\", \"theme\", \"implicit\", \"exception\", \"catch\", \"beatle\", \"console\", \"struct\", \"trailimage\", \"ycoord\", \"evaluate\", \"boolean\", \"activity\", \"title\", \"client\", \"tpscopemanager\", \"ssl\", \"height\", \"query\", \"service\", \"event\", \"view\", \"java\", \"request\", \"right\", \"content\", \"http\", \"merge\", \"tag\", \"leave\", \"resource\", \"pull\", \"entity\", \"full\", \"conflict\", \"join\", \"fit\", \"uri\", \"origin\", \"server\", \"header\", \"angular\", \"loader\", \"section\", \"title\", \"vendor\", \"web\", \"bootstrap\", \"rest\", \"ssl\", \"eget\", \"leo\", \"app\", \"httpclient\", \"client\", \"event\", \"dist\", \"service\", \"database\", \"script\", \"directory\", \"branch\", \"local\", \"remote\", \"push\", \"usually\", \"repository\", \"shell\", \"rename\", \"origin\", \"clean\", \"ignore\", \"straightforward\", \"fatal\", \"deployment\", \"combine\", \"alternatively\", \"longer\", \"coffee\", \"reside\", \"unstaged\", \"looking\", \"direction\", \"pretty\", \"config\", \"repo\", \"stash\", \"devel\", \"sbin\", \"reflect\", \"execute\", \"folder\", \"install\", \"far\", \"download\", \"instal\", \"database\", \"difference\", \"argument\", \"design\", \"framework\", \"side\", \"execution\", \"core\", \"develop\", \"keyword\", \"frame\", \"node\", \"necessary\", \"meaning\", \"welcome\", \"front\", \"familiar\", \"pop\", \"shift\", \"encourage\", \"restriction\", \"method\", \"model\", \"interface\", \"abstract\", \"debug\", \"django\", \"manufacturer\", \"on_delete\", \"cascade\", \"stash\", \"dataframe\", \"angular\", \"step\", \"view\", \"even\", \"database\", \"loader\", \"service\", \"list\", \"key\", \"library\", \"self\", \"module\", \"extend\", \"setting\", \"complete\", \"piece\", \"distance\", \"yield\", \"candidate\", \"map\", \"angular\", \"nest\", \"direction\", \"deprecated\", \"subitem\", \"split\", \"tuple\", \"ngfor\", \"plnkr\", \"loader\", \"abstractlist\", \"become\", \"activate\", \"super\", \"non\", \"triangle\", \"tall\", \"integer\", \"model\", \"view\", \"service\", \"instal\", \"count\", \"far\", \"database\", \"java\", \"install\", \"image\", \"send\", \"search\", \"site\", \"rule\", \"person\", \"address\", \"recommend\", \"git\", \"hash\", \"lock\", \"nbsp\", \"alternative\", \"blank\", \"declaration\", \"username\", \"creation\", \"immediately\", \"role\", \"protect\", \"yesterday\", \"untracked\", \"peoplelist\", \"encode\", \"aimage\", \"decode\", \"encoding\", \"secret\", \"twitter\", \"oauth\", \"information\", \"scale\", \"database\", \"service\", \"angular\", \"say\", \"appear\", \"simply\", \"body\", \"escape\", \"prefer\", \"definition\", \"quit\", \"formal\", \"double_quote\", \"border\", \"auction\", \"express\", \"passport\", \"route\", \"login\", \"press\", \"literal\", \"woman\", \"firebug\", \"controller\", \"sake\", \"unicode_character\", \"stylistic\", \"evaluate\", \"enclose\", \"unity\", \"px\", \"girl\", \"boy\", \"correctly\", \"interface\", \"render\", \"confused\", \"aimage\", \"rest\", \"listen\", \"modal\", \"encode\", \"original\", \"activity\", \"event\", \"web\", \"even\", \"view\", \"title\", \"client\", \"non\", \"app\", \"android\", \"true\", \"thread\", \"measure\", \"sleep\", \"threading\", \"sdk\", \"ms\", \"dot\", \"device\", \"task\", \"reading_total\", \"dependency\", \"emulator\", \"fragment\", \"license\", \"layout_height_wrap_content\", \"activity\", \"satisfy\", \"onbackpresse\", \"scale\", \"arm\", \"boolean\", \"gradle\", \"development\", \"web\", \"timer\", \"drawable\", \"imageview\", \"phone\", \"instal\", \"app\", \"intent\", \"service\", \"angular\", \"native\", \"install\", \"implement\", \"loader\"], \"Freq\": [2234.0, 2030.0, 969.0, 877.0, 2308.0, 681.0, 823.0, 933.0, 912.0, 1036.0, 649.0, 614.0, 632.0, 985.0, 648.0, 524.0, 1064.0, 652.0, 636.0, 794.0, 414.0, 1440.0, 642.0, 702.0, 1490.0, 420.0, 998.0, 481.0, 316.0, 1236.0, 1439.303376412196, 2307.0149301801644, 1235.6904519805644, 1129.6665854475325, 993.1242934816572, 827.256600887592, 801.4833683256954, 720.5249516129926, 1179.4515463324808, 618.9025261643427, 673.4127983825533, 579.8565115878731, 573.1170016717964, 564.4876853270176, 521.7351888159269, 483.03176626965694, 456.76434495271656, 416.5107589131878, 401.2862394800256, 400.86614258875255, 396.20117172236274, 384.6301499258925, 383.2361559111453, 335.6087063598205, 330.11215704388115, 310.1593109109079, 301.8918716878829, 288.94922260656057, 263.5603498719492, 252.98835877617594, 1480.7137034501038, 657.1841618886365, 732.626247155404, 1256.0771132658128, 597.1539132759151, 468.5951521749306, 515.5224071049042, 675.4698085431817, 403.9181574386968, 2029.5762893475835, 1035.0528239595594, 984.3541396341783, 492.6937297830506, 469.9847486184069, 459.52880778049797, 456.37301423167645, 429.59531537816633, 407.9146626570193, 356.3292663248047, 330.2717055993336, 322.2681130287475, 321.6890458195108, 222.01852759505024, 191.51154590360858, 187.1874849420493, 184.16527507939065, 174.4073107064258, 172.88797527437166, 143.61114999697526, 139.10219939444514, 130.2709880392964, 129.17084216942573, 126.76512204125453, 126.52473959589403, 116.75160982639899, 111.48980366212852, 109.39208973713694, 101.75560341097466, 92.00606728895912, 262.40764716252085, 962.5383348630186, 133.20211005714836, 268.4326737278868, 793.7666508748715, 554.0078867623313, 423.09352306485886, 355.9618464365818, 349.9567389944869, 322.37821093370485, 320.0612167803361, 265.6564075332968, 254.3952775308145, 254.00308063006466, 238.50617579126083, 230.72095422621726, 230.72308417971217, 224.34989003209859, 216.87309451643253, 199.28971358394708, 196.54475248608398, 196.49396297645774, 193.1899000653204, 182.77787492567305, 175.67365658449177, 166.15385139723884, 165.09232210028188, 158.6917020566358, 155.70243309707723, 150.69853554729454, 148.80554486825696, 142.07256424626982, 140.84102293967985, 140.47122348805183, 443.3586471971469, 401.6155990209078, 192.77717216954224, 159.17427925207718, 2233.5175203798644, 931.9954441261796, 641.0336922899228, 496.38569796427595, 472.5337075546965, 329.3564535649357, 312.4950764791808, 258.7352061551486, 238.8797101594104, 221.44604419107117, 163.34447654977865, 158.87896388467047, 116.96525764982682, 90.26635000854112, 78.08897834428002, 77.66761411005416, 73.2878589210848, 58.98421546649393, 58.60387988214399, 57.62610257346636, 55.101944054117496, 54.20397126839762, 49.82805301798148, 46.14306103042518, 38.53987856710568, 32.25914066406513, 30.078065234558462, 27.251605343554257, 23.7937335257047, 22.880990426029488, 141.84228809337156, 28.043063195457325, 911.8802791849771, 472.3360155162878, 460.33868967598016, 410.0766051709228, 356.77713839777596, 220.95605902904381, 194.14384073363658, 184.78427405318615, 168.9356357157355, 154.3282553174476, 145.32866204326803, 143.98445827756586, 137.1140755085014, 130.5906455564199, 127.31071896320336, 103.34037333858264, 99.48163996593684, 97.04991585771889, 95.15638805661378, 93.72484739767604, 73.26604572109345, 67.18421880581286, 66.88588527074688, 63.490028111343165, 63.42906221337239, 59.423334561384245, 58.84626648950031, 53.8611625193517, 53.1001427741362, 48.59191071672856, 603.0559348749438, 131.25829491396934, 87.81971618856879, 321.9805312766754, 77.2251652559748, 651.7054844791763, 635.5497309124485, 349.4776586868532, 316.1227624477016, 304.19560730090683, 291.2312778559717, 237.5534068768708, 213.51457942872446, 212.45444888407062, 174.10612339282727, 140.3990908581287, 134.51907594911222, 128.61382843965214, 116.72851484605128, 115.8320890771636, 112.6308730202107, 103.21814951867549, 98.45116328373935, 98.4310554906889, 93.07566789738824, 91.5654636392841, 89.4429623286483, 86.71725131490074, 84.28659310753417, 78.76962051778865, 76.08151149859243, 70.98635692748061, 70.56731509710575, 67.76977247044843, 67.32167400591113, 967.9767021539285, 822.187315859917, 480.81194785150444, 420.619771580701, 235.20000681745324, 217.10220880378822, 214.42478171012795, 203.12184703862826, 173.17575737606643, 173.06652324077788, 149.62505444008937, 112.23222926826784, 103.20731453696152, 74.1386653324017, 65.6364133136483, 59.349838988090625, 43.23703994978109, 38.87008090431945, 37.49493447888177, 29.21497114695601, 17.810904599566687, 15.748294116160176, 11.739241092051476, 9.622149984438218, 8.697224109192122, 80.5239850140873, 6.661366462698578, 3.8709651330681174, 70.54363379431315, 1.0447263919003318, 24.22655689780782, 647.0804614024375, 374.1839907129522, 272.41197007258063, 260.31286177930724, 254.94330647661528, 211.80838404666378, 199.5148339620438, 168.8177131086626, 162.18612051873984, 158.43869341134686, 152.48819451690562, 124.78243855704946, 123.97487030114895, 111.54746981417803, 110.96203156875147, 101.49077825087272, 90.65622348257253, 77.60301930272716, 73.25711177107485, 71.17448805901292, 66.58518254558678, 62.936493759681234, 60.456030771434506, 58.45610676624235, 58.09540600666021, 51.99717418446094, 47.89713765450102, 43.47411511921255, 38.05790377471668, 31.01502156144029, 58.61458172420986, 876.3638854356819, 648.8800951735338, 631.0393489459171, 317.75927139537737, 221.28464080019546, 204.55822741880306, 187.50193562133734, 184.17822173016438, 105.7788040878274, 99.22298653873992, 67.38936860938888, 51.70932682281594, 48.03599304054872, 34.359131776567146, 11.433019312610714, 9.420356559842702, 7.725088493398838, 199.40752974841794, 0.46915641517225976, 0.060189575171720064, 0.060188539534552284, 0.06017749406583596, 0.060178760729756545, 0.06018416197590849, 0.060176565975604834, 0.06017627918377376, 0.060173602460017045, 0.060174809375639494, 0.060180222571451066, 0.060178764712976424, 0.06018969068509647, 0.060188603266070305, 0.06018209866801269, 0.06017763347853162, 418.28252642282905, 314.47104488612854, 234.12561180281136, 231.63785655547585, 166.19566321830823, 152.30750129017758, 146.2338615303382, 141.36746671982485, 101.72015935393964, 97.46934170499512, 93.9677370489152, 78.30008360295707, 77.39273521952356, 75.75566368869765, 74.86025626692668, 73.20692718542342, 65.78869396665226, 65.46391353467448, 51.464059007958376, 50.52975081539194, 48.63813435381541, 46.628614621064585, 41.1394986598498, 35.00293209083533, 34.3356622317245, 33.615227642728776, 30.764772547515268, 24.977376167805403, 24.824873273951745, 24.64376182611492, 376.1810956336016, 299.7974100999059, 253.2960554510678, 249.68220473645152, 231.93362097379654, 185.30421132196705, 137.45402728977768, 127.43374630644617, 122.13675367064748, 104.31552041306948, 93.7791552926693, 92.66273857665837, 86.1852688651464, 80.74828055405645, 58.232312730532264, 50.13199262123644, 49.13310313880336, 45.031975076896366, 41.240358178434334, 41.011487625771856, 35.65263613011697, 27.685023745875455, 27.200115475284846, 26.008941410393724, 25.69275838808666, 22.11881067963706, 21.020493906764223, 20.63652440411968, 19.198777427728547, 18.022243336814338, 260.735781021051, 318.37245513620576, 199.53612141785857, 196.7272308624356, 170.18541521634438, 165.35315430187222, 140.84698503066235, 111.33789371744085, 96.5023063047694, 92.61116575830755, 86.97925386154229, 84.69775854708963, 78.57515691948737, 69.89609170448071, 63.46968653443349, 62.492657149150105, 55.560969162294825, 52.68158063391926, 51.19619942786978, 42.25875304297314, 39.2403820803636, 26.436929233144202, 24.331043884736868, 16.00686358295403, 8.952870775478845, 8.453808818553963, 5.351962410379358, 0.05877612755851254, 0.05877279324549807, 0.05877718278971125, 0.05877710663900619, 0.058777188229047324, 523.8627466816714, 304.3737370330815, 250.90455935944667, 233.7908000334604, 214.2772610991584, 202.11944692280244, 129.9753656943327, 103.60710141730829, 76.64455599757054, 71.74102495093537, 20.79901038072961, 14.357229782011265, 9.446294854066224, 5.928646554725061, 5.0281255416871575, 0.0566443268590372, 0.05663814010513932, 0.05664267800834399, 0.05663954186581511, 0.05663536034244327, 0.05664054448107813, 0.056636481750983896, 0.056634818645097375, 0.056634818645097375, 0.056638273153610245, 0.05663709472429636, 0.05664202226945158, 0.056638567760938716, 0.05664100064726414, 0.05663149243332432, 0.0566328846905379, 0.056635583673805175, 0.05663736557296931, 0.0566402973910607, 0.05663852499535877, 0.056639465838117437, 0.05663708046910305, 285.6923556999155, 243.8356135038858, 228.78000335996632, 222.95438556596739, 139.7554421080259, 128.5681492335811, 126.36307527369142, 120.86133870644124, 89.12820429680272, 78.68884432187137, 73.20363767589757, 65.43990195832505, 55.357855743227965, 15.259050944264905, 11.106810353896057, 21.06131638794079, 34.12947534323602, 0.052648425268866185, 0.05265879158067459, 0.05264686668253894, 0.05263481761131679, 0.05263493322074216, 0.0526295209869025, 0.05263399549984747, 0.05262723448937846, 0.05262388609787323, 0.05262132128136219, 0.05261897055637962, 0.05261897055637962, 0.052631422119675295, 0.05262120139010625, 0.052626763488015836, 0.05262791530043899, 0.0526227728219252, 0.052626870533780075, 0.05262477671863166, 418.97343805365466, 311.7837515599256, 299.38920721755136, 202.82222763629642, 135.68154067602066, 119.74639046625514, 60.1651200579331, 187.35276214967024, 37.49572427079707, 19.48703157270461, 74.96464717038673, 0.060067751921207516, 0.060050906213973625, 0.06004591678539689, 0.060048058152780935, 0.06004576352649863, 0.06004678099529542, 0.060046351018941964, 0.06004678099529542, 0.06004524840631281, 0.06004535057891165, 0.06004423519470764, 0.06004603172957059, 0.06004859881611647, 0.06004741105965494, 0.060050642268093285, 0.06004343058549177, 0.0600458954994388, 0.06004232371567099, 0.060042779235174155, 0.06004724502918182, 0.060051425591351064, 0.0600546312566397, 0.060053801104274114, 0.060047479174720836, 0.06004644041996595, 0.06004676822372057, 0.06004643616277434, 350.3079738409737, 130.12297699606964, 99.14589734241602, 91.87835524655912, 91.82196055107282, 64.62927843999367, 62.68910480008592, 54.14369086973918, 53.09218922687247, 47.8602145911223, 43.451170901657676, 32.40064035850645, 29.63660345310726, 16.875728501044076, 14.343175065894222, 14.067940152329827, 13.661932510563277, 8.077819173499883, 3.66821643030852, 3.5668211671466477, 414.5335947398907, 0.055087553769032, 0.05505682029106801, 0.05504979668097884, 0.0550478249428808, 0.055046433793056376, 0.0550444545148509, 0.0550444545148509, 0.05504445828490462, 0.05504594745612589, 0.05504626791069249, 0.055057815585251337, 0.05504869205523749, 0.055054004060935635, 0.05505090884682763, 0.055053234969975794, 0.05505076935483982, 0.05505078066500099, 679.9496985160366, 268.21496903030726, 210.04778004631575, 116.10280165649014, 98.36183647989127, 82.04937414706356, 56.01084254014573, 47.812869089063256, 34.13423740367752, 17.311162998042803, 13.082377195358031, 7.727907321143313, 0.050162499416679086, 0.05016661817817539, 0.05014380657604203, 0.05014568175457658, 0.05013845365971455, 0.05013845365971455, 0.05014627856974867, 0.05013850155229009, 0.05013719003252919, 0.05013719003252919, 0.05014897897420018, 0.050136578481180014, 0.05014079302782739, 0.05013696898987286, 0.050139643606014465, 0.05014490073719087, 0.05013694688560723, 0.05013541800723428, 0.0501414008951323, 0.050147468516048586, 0.05014810585570767, 0.05014680907212386, 0.050140980914085274, 0.050139179416436176, 0.05014038778295745, 0.05014260189356503, 0.05014016305625685, 0.05014130510998122, 413.08829133030275, 154.91950798857582, 137.4619002145797, 130.57308228001563, 66.50687719214083, 64.25292100518008, 55.000323711535906, 52.27346689636616, 40.69938687189297, 37.12579108622473, 30.906131060337987, 29.724271125262256, 25.26286917870266, 25.062029598260086, 21.220996376555632, 19.28991469722695, 15.76390013963582, 14.757639954564034, 14.470001069849529, 10.145169178706354, 9.607805686453181, 6.447127924886706, 0.05088455481570294, 0.050889434766879064, 0.050881462888965695, 0.05087715742939629, 0.050875653423279835, 0.050872522766771344, 0.050875475911828325, 0.05087243885226699, 0.05087793847978294, 0.05087399772555937, 0.05087902614085857, 0.05087805466909666, 0.050876421563742745, 315.78418389104326, 112.63923223067886, 81.08281517600827, 66.02403308319181, 61.960501399975435, 59.771213976038815, 38.66681599146449, 6.197406926168997, 0.3418074194148515, 0.046695326513065814, 0.046689758036487145, 0.046688364907828954, 0.046687056578306484, 0.04668365653676968, 0.0466864347179779, 0.04668421378823296, 0.04668501332294114, 0.04668376152617581, 0.04668385843947377, 0.04668343848184927, 0.046683826135041115, 0.046682356283355375, 0.04668291757287273, 0.04668202920097476, 0.04668640645159933, 0.04668208169567782, 0.04668202920097476, 0.04668186767881149, 0.046682852964007426, 0.04668284892595334, 0.04668528791061869, 0.046687892455501395, 0.04668620051084116, 0.04668322042692886, 0.046683398101308456, 0.04668492044769726, 0.04668360000401254, 0.04668508196986053, 0.046687000045549334, 0.046685647297431965, 0.046685263682294205, 0.046686220701111565, 0.046685982455920746, 0.04668601879840748, 0.04668668103927688, 0.04668485180077787, 0.0466850658176442, 0.046685073893752364, 0.04668521118759114, 223.6266644205128, 197.60828722377343, 87.87728507155215, 16.45008077531784, 9.312014881351299, 7.222465001153797, 0.037145092843874454, 0.0371339709296888, 0.0371339709296888, 0.03713274764054666, 0.03712886529113524, 0.037126106060787326, 0.03712616980538282, 0.03712610909624425, 0.03712521060099345, 0.037122921866469434, 0.03712300989472036, 0.03712655834386965, 0.03712052992640986, 0.03712001389873203, 0.03712274884542452, 0.0371227367035968, 0.03712167732912879, 0.03712120076239103, 0.03712334683043941, 0.03712716847071226, 0.037120554210065285, 0.03711905469434266, 0.03711923378630143, 0.03711963143115905, 0.0371257721605252, 0.03712726256987704, 0.037122223711375905, 0.03712842818533755, 0.0371299944811126, 0.037123750546210886, 0.037126033209821045, 0.03712298561106493, 0.03712360787973525], \"Total\": [2234.0, 2030.0, 969.0, 877.0, 2308.0, 681.0, 823.0, 933.0, 912.0, 1036.0, 649.0, 614.0, 632.0, 985.0, 648.0, 524.0, 1064.0, 652.0, 636.0, 794.0, 414.0, 1440.0, 642.0, 702.0, 1490.0, 420.0, 998.0, 481.0, 316.0, 1236.0, 1440.3727966335114, 2308.9127299456327, 1236.7598722018797, 1130.7360056688478, 994.1937137029722, 828.326021108907, 802.5527987887887, 721.5943718343076, 1181.2313881869795, 619.9719463856577, 674.5949433927376, 580.9259318091881, 574.1864218931114, 565.5571055483326, 522.8046090372419, 484.10118649097205, 457.83376517403167, 417.5801791345029, 402.3556597013407, 401.9355628132952, 397.27060967034464, 385.69957015362525, 384.30557613246043, 336.6781272204143, 331.18167043779545, 311.2368786465759, 302.96129195581204, 290.0186428278757, 264.6297700932643, 254.057778997491, 1490.9134532641312, 663.7495265793509, 753.3368058233048, 1318.5024246946282, 740.0079063018223, 536.2190194903018, 622.9113375934542, 998.4588436745205, 564.0986817726391, 2030.6495135282494, 1036.1260567664897, 985.427363814844, 493.7669539637164, 471.0579727990727, 460.60203221404487, 457.4462384123422, 430.6685395588321, 408.98788683768504, 357.40627820298505, 331.34492977999935, 323.34133720941327, 322.76227000017656, 223.091751775716, 192.58477008427434, 188.26070912271507, 185.23849926647404, 175.48053488709155, 173.96119945503742, 144.68437417764102, 140.17542358630547, 131.34421221996217, 130.2440663632545, 127.83834622192029, 127.59796379369052, 117.82483400706475, 112.56302784279428, 110.465313959786, 102.8288275948679, 93.07929147637026, 268.79918808936054, 1064.2687114396128, 138.99374221835768, 476.0312406952217, 794.8376304787391, 555.0788431590487, 424.1644794615763, 357.0328028332993, 351.02769539120436, 323.4491673304223, 321.1321731802811, 266.72736393001423, 255.46623392753196, 255.07403702678212, 239.5771321879783, 231.79191062293472, 231.79407098605697, 225.42084642881605, 217.94405091719491, 200.36066998494638, 197.61570888280144, 197.5649193731752, 194.26085646203785, 183.84883132607456, 176.74461298120923, 167.22480779821348, 166.16327849699934, 159.76265845335325, 156.7733894937947, 151.769491944012, 149.87650126966386, 143.14352064298728, 141.91197934016736, 141.5421798847693, 469.099581945143, 458.6038375376592, 209.37878556779873, 564.0986817726391, 2234.593936627254, 933.0718603735677, 642.1101085373109, 497.4621142116642, 473.61012380208473, 330.43286981232393, 313.57149272656903, 259.81162240253684, 239.9561264067986, 222.52246044271655, 164.42089279716686, 159.95538013205868, 118.04167389721505, 91.34276625592935, 79.16539459571315, 78.74403035744238, 74.36427518519615, 60.06063171388214, 59.68029615759613, 58.70251886421556, 56.17836031882843, 55.28038751578583, 50.90446928127537, 47.22426237493173, 39.61629481449389, 33.33555691681425, 31.15448154351707, 28.328021590942477, 24.87014977309292, 23.957406742750976, 740.0079063018223, 104.53562239799716, 912.9534943544928, 473.4092306858036, 461.411904845496, 411.1498203404386, 357.8503535705193, 222.02927420331136, 195.21705590315239, 185.85748922270196, 170.0088508852513, 155.4014704901909, 146.40187721278383, 145.05767344708167, 138.1872906780172, 131.66386073021755, 128.3839341327192, 104.41358850809846, 100.55485515206776, 98.1231310272347, 96.22960323041143, 94.79806256719186, 74.33926089060927, 68.25743397532868, 67.9591004402627, 64.56324328085898, 64.5022773828882, 60.49654974331845, 59.91948167158631, 54.93437772403704, 54.17335794742206, 49.665125886244375, 702.469061295698, 184.66059007101524, 112.14872407337418, 998.4588436745205, 98.15671076928031, 652.7803727563464, 636.6246191896186, 350.5525469640233, 317.19765072487166, 305.2704955780769, 292.3061661331418, 238.6282951588862, 214.58946770589455, 213.5293371612407, 175.18101167535826, 141.47397913958062, 135.59396423032723, 129.68871671682223, 117.80340312322139, 116.9069773543337, 113.7057612973808, 104.29303783107314, 99.52605156090945, 99.5059437721162, 94.15055619559101, 92.64035192013824, 90.51785062790542, 87.79213961391353, 85.36148138470428, 79.84450879495876, 77.15639977576254, 72.06124521874598, 71.64220337427585, 68.84466076105222, 68.39656229104834, 969.0527804960418, 823.2633942020303, 481.8951031829283, 421.6958499260419, 236.27608515956663, 218.17828714893707, 215.50086005865896, 204.1979253854311, 174.25183572188973, 174.14260158289127, 150.70113278220276, 113.30830761038123, 104.28339287907491, 75.21474370999194, 66.7124916557617, 60.42591733495575, 44.31311829189448, 39.946159251122275, 38.57101282635607, 30.291049489069405, 18.886982969239444, 16.824372644256268, 12.8153194384467, 10.698228326551611, 9.773303991560287, 93.33803471561144, 7.737444825894806, 4.947044175736374, 99.78180831028733, 2.1208047340137255, 168.53482110898355, 648.1529531187798, 375.2564825546866, 273.48446178892283, 261.38535349564944, 256.01579819295756, 212.88087576300606, 200.5873256783861, 169.89020482500487, 163.25861223508213, 159.5111851324409, 153.5606862332479, 125.85493027767356, 125.04736204645415, 112.6199615378376, 112.03452328509374, 102.56326996721499, 91.7287151989148, 78.67551102765783, 74.32960348741712, 72.24697977858267, 67.6576742842793, 64.0089854760235, 61.52852248777676, 59.52859849199042, 59.16789772300247, 53.069665904487245, 48.96962939463383, 44.54660683926472, 39.13039551931923, 32.08751327778255, 195.5121006049002, 877.4378519731442, 649.9541001942744, 632.1133154833794, 318.83323793283967, 222.35860733765782, 205.63219397358813, 188.5759021665545, 185.25218826762674, 106.85277062899965, 100.29695308095398, 68.46333514685122, 52.78329336396233, 49.10995957801106, 35.433098314029486, 12.506985888430425, 10.494323097305045, 8.799055030861181, 614.9600559209894, 1.543122952634604, 1.1343347843811682, 1.134375718472923, 1.134207172007748, 1.134232950603226, 1.1343446253064184, 1.1342141445938356, 1.1342120050620494, 1.1341737039848634, 1.1341991737717763, 1.1343113580808197, 1.1342909880357737, 1.1344993684996674, 1.1345325442807945, 1.1345566037068457, 1.134432050142876, 419.3560596628123, 315.5445781261118, 235.19914504279464, 232.71138979545913, 167.26919714763832, 153.3810345355218, 147.30739477032148, 142.44099995980812, 102.79369259392293, 98.54287494497841, 95.04127030636194, 79.3736168476298, 78.46626846658722, 76.82919695124974, 75.93378950690997, 74.28046042540672, 66.86222720663555, 66.53744677465777, 52.53759230703948, 51.603284055375234, 49.7116675937987, 47.7021478706449, 42.21303189983309, 36.07646537335205, 35.40919547639722, 34.68876088271207, 31.838305810805366, 26.05090941314961, 25.89840652816442, 25.71729506978226, 377.2560556106433, 300.87237007694756, 254.37101542810947, 250.7571647134932, 233.00858095083822, 186.37917129900873, 138.52898726681937, 128.50870628348787, 123.21171364768917, 105.39048039011116, 94.85411527440041, 93.73769855370006, 87.26022884218808, 81.82324053109814, 59.307272720207244, 51.20695261139386, 50.208063120596776, 46.10693505393805, 42.31531816805996, 42.08644760281354, 36.727596107158654, 28.759983731505535, 28.275075452326536, 27.08390139212485, 26.767718390106502, 23.193770735750167, 22.095453883805913, 21.71148438116137, 20.2737374496045, 19.09720332553238, 261.8111585949544, 319.8640079472743, 200.611498991762, 197.80260843633903, 171.26079279024782, 166.42853187577566, 141.9223626045658, 112.41327129134426, 97.57768387867281, 93.68654333221096, 88.0546314354457, 85.77313612099304, 79.65053449339078, 70.97146927838412, 64.54506412075528, 63.56803472305352, 56.63634673619824, 53.756958260163465, 52.271577014888926, 43.33413065187982, 40.31575965426702, 27.51230681673007, 25.406421504171867, 17.082241171108567, 10.02824834938227, 9.529186406145039, 6.427339984282784, 1.1342707559346725, 1.1342191454742905, 1.1343099611104492, 1.1344773940327515, 1.1344867019786244, 524.9402577731803, 305.4512481245904, 251.9820704509556, 234.86831112496935, 215.35477219066735, 203.19695801431138, 131.05287678584165, 104.68461253047194, 77.72206712444782, 72.81853604244428, 21.876521519518416, 15.434740886714344, 10.523805948610603, 7.006158073665555, 6.10563663319608, 1.134270825932514, 1.1342150964909674, 1.1343113580808197, 1.1342488047096009, 1.1341689319574269, 1.1342733332968964, 1.134202606185547, 1.1341722387774795, 1.1341722387774795, 1.1342508278695167, 1.134232950603226, 1.1343454574242315, 1.1343103501515746, 1.1343628244090123, 1.1341740473196222, 1.1342077223785023, 1.134278305224149, 1.1343478050924232, 1.1344993684996674, 1.134432050142876, 1.1345325442807945, 1.1343467722448095, 286.7738779124908, 244.91713571646116, 229.86152557254167, 224.03590777854274, 140.83696432060125, 129.64967144615645, 127.44459748626673, 121.94286091901655, 90.20972650937803, 79.77036655493784, 74.28515988847288, 66.52142418035345, 56.43937795580328, 16.340573173348776, 12.18833257657304, 97.04744858987463, 412.249020912339, 1.1343160716076062, 1.13457420814322, 1.1344299974423504, 1.1342627892509298, 1.1343103501515746, 1.134299782431317, 1.1344109887918665, 1.134284346534629, 1.1342565885903868, 1.1342077223785023, 1.134164522262005, 1.134164522262005, 1.1344371490352496, 1.1342200808708331, 1.1343628244090123, 1.134432050142876, 1.1342692461929675, 1.1344993684996674, 1.1345566037068457, 420.04753240879387, 312.8578459150648, 300.46330157269057, 203.89632199143566, 136.7556350311599, 120.82048482139436, 61.23921445491872, 192.1968950975811, 38.56981865952432, 20.561125931553754, 97.04744858987463, 1.1343064164119572, 1.1342353113252606, 1.1341500693400697, 1.1341918774221416, 1.1341589668560632, 1.1341840210700709, 1.134176020118118, 1.1341858615030405, 1.1341581658733022, 1.134168180046598, 1.134152419200682, 1.1341865078513684, 1.134247672196179, 1.1342257441700558, 1.1342896502830757, 1.1341544950380256, 1.1342031420563343, 1.1341402815532768, 1.1341502226666405, 1.134234953851782, 1.1343374118576435, 1.1344277174978623, 1.1344867019786244, 1.1343633766869046, 1.1343242407461995, 1.1343829116084383, 1.1345566037068457, 351.3870702723595, 131.20207342745547, 100.22499377380183, 92.95745167794493, 92.90105698245863, 65.70837487137948, 63.76820124347846, 55.22278730112499, 54.17128565825828, 48.93931102250811, 44.53026733304348, 33.479736828675414, 30.715699938401816, 17.95482495217486, 15.42227159234893, 15.147036583715643, 14.741028941949093, 9.156915615887595, 4.747313323355196, 4.64591761181353, 614.9600559209894, 1.1344773940327515, 1.1343315151576743, 1.1341970957105247, 1.1342021066705965, 1.1341962829821413, 1.1341630173186457, 1.1341630173186457, 1.1341637540835645, 1.1342031420563343, 1.1342125728726113, 1.13457420814322, 1.1342986881125101, 1.1345325442807945, 1.1344231327952081, 1.1345566037068457, 1.1344299974423504, 1.1344993684996674, 681.033700893388, 269.29897140765866, 211.13178242366718, 117.18680403384154, 99.44583885724266, 83.13337652926026, 57.09484491749714, 48.896871502681165, 35.21823980373953, 18.39516539228, 14.166379572709445, 8.81190973973482, 1.134375718472923, 1.13457420814322, 1.1341861447873094, 1.134247672196179, 1.1341527827714661, 1.1341527827714661, 1.1343347843811682, 1.1341743948190075, 1.1341483761312374, 1.1341483761312374, 1.1344299974423504, 1.1341549557014163, 1.1342505413066002, 1.1341759470608834, 1.1342375963584805, 1.1343657609279683, 1.1341876233734802, 1.134153701522195, 1.1342941240574254, 1.1344773940327515, 1.1345325442807945, 1.1344993684996674, 1.1343829116084383, 1.1342700128502918, 1.1343633766869046, 1.1345566037068457, 1.1343467722448095, 1.1344867019786244, 414.17156229183786, 156.00277895011092, 138.54517117611482, 131.65635324155073, 67.59014817104075, 65.33619196671516, 56.083594673070984, 53.35673786730706, 41.78265783768524, 38.20906204775981, 31.98940202861844, 30.8075420959283, 26.346140184827668, 26.14530055979517, 22.304267338090717, 20.373185673013147, 16.847171135489596, 15.840910916099121, 15.553272031384616, 11.22844014024144, 10.691076703902157, 7.530398903794711, 1.1341848674083912, 1.134369649000079, 1.1341933272349414, 1.1342169937051412, 1.1342158967923575, 1.1341542769205362, 1.13422140304965, 1.134163127212231, 1.1343311919192762, 1.134237050667648, 1.1345566037068457, 1.1344993684996674, 1.13457420814322, 316.8716366123008, 113.72668495193636, 82.17026789726577, 67.11148580444932, 63.047954121232934, 60.8586667005238, 39.75426871272199, 7.284859670263396, 1.429260140672355, 1.1341928040076017, 1.1342424704937542, 1.1342253504762372, 1.1342060259802342, 1.1341465577884693, 1.1342197537087204, 1.1341720536476239, 1.1341996498156877, 1.1341761550952982, 1.1341828001207261, 1.1341730535003482, 1.134186310020423, 1.1341514402992106, 1.134165457843324, 1.1341441652384512, 1.1342508278695167, 1.1341464611587446, 1.1341468504393704, 1.1341445685100124, 1.1341725929642146, 1.1341730437178248, 1.134240269426671, 1.1343315151576743, 1.134288840940605, 1.1341860417088268, 1.1341933272349414, 1.1342565885903868, 1.1342052984935722, 1.1342743854994939, 1.134369649000079, 1.13432393160571, 1.1343454574242315, 1.134432050142876, 1.1344109887918665, 1.1344231327952081, 1.1345325442807945, 1.1343103501515746, 1.1343628244090123, 1.1343657609279683, 1.1344371490352496, 224.7236855773218, 198.7053083805824, 88.97430622836114, 17.54710193212683, 10.409036038160288, 8.319486157962785, 1.1342772706971838, 1.134350737055029, 1.1343597254505484, 1.1343548209048735, 1.1342909880357737, 1.1342776734245248, 1.1342903568560103, 1.1342954298876342, 1.1342707559346725, 1.1342123407551135, 1.1342248886512414, 1.1343454574242315, 1.13416540990641, 1.134153257631697, 1.134237050667648, 1.1342566701071994, 1.134232950603226, 1.1342191454742905, 1.1342866801280973, 1.1344109887918665, 1.1342101230923027, 1.1341651959430483, 1.134170729068163, 1.1341830839572715, 1.1343829116084383, 1.1344371490352496, 1.1342716556869819, 1.1344993684996674, 1.13457420814322, 1.1343365268684382, 1.1344867019786244, 1.1343597006360453, 1.1344299974423504], \"Category\": [\"Default\", \"Default\", \"Default\", \"Default\", \"Default\", \"Default\", \"Default\", \"Default\", \"Default\", \"Default\", \"Default\", \"Default\", \"Default\", \"Default\", \"Default\", \"Default\", \"Default\", \"Default\", \"Default\", \"Default\", \"Default\", \"Default\", \"Default\", \"Default\", \"Default\", \"Default\", \"Default\", \"Default\", \"Default\", \"Default\", \"Topic1\", \"Topic1\", \"Topic1\", \"Topic1\", \"Topic1\", \"Topic1\", \"Topic1\", \"Topic1\", \"Topic1\", \"Topic1\", \"Topic1\", \"Topic1\", \"Topic1\", \"Topic1\", \"Topic1\", \"Topic1\", \"Topic1\", \"Topic1\", \"Topic1\", \"Topic1\", \"Topic1\", \"Topic1\", \"Topic1\", \"Topic1\", \"Topic1\", \"Topic1\", \"Topic1\", \"Topic1\", \"Topic1\", \"Topic1\", \"Topic1\", \"Topic1\", \"Topic1\", \"Topic1\", \"Topic1\", \"Topic1\", \"Topic1\", \"Topic1\", \"Topic1\", \"Topic2\", \"Topic2\", \"Topic2\", \"Topic2\", \"Topic2\", \"Topic2\", \"Topic2\", \"Topic2\", \"Topic2\", \"Topic2\", \"Topic2\", \"Topic2\", \"Topic2\", \"Topic2\", \"Topic2\", \"Topic2\", \"Topic2\", \"Topic2\", \"Topic2\", \"Topic2\", \"Topic2\", \"Topic2\", \"Topic2\", \"Topic2\", \"Topic2\", \"Topic2\", \"Topic2\", \"Topic2\", \"Topic2\", \"Topic2\", \"Topic2\", \"Topic2\", \"Topic2\", \"Topic2\", \"Topic3\", \"Topic3\", \"Topic3\", \"Topic3\", \"Topic3\", \"Topic3\", \"Topic3\", \"Topic3\", \"Topic3\", \"Topic3\", \"Topic3\", \"Topic3\", \"Topic3\", \"Topic3\", \"Topic3\", \"Topic3\", \"Topic3\", \"Topic3\", \"Topic3\", \"Topic3\", \"Topic3\", \"Topic3\", \"Topic3\", \"Topic3\", \"Topic3\", \"Topic3\", \"Topic3\", \"Topic3\", \"Topic3\", \"Topic3\", \"Topic3\", \"Topic3\", \"Topic3\", \"Topic3\", \"Topic4\", \"Topic4\", \"Topic4\", \"Topic4\", \"Topic4\", \"Topic4\", \"Topic4\", \"Topic4\", \"Topic4\", \"Topic4\", \"Topic4\", \"Topic4\", \"Topic4\", \"Topic4\", \"Topic4\", \"Topic4\", \"Topic4\", \"Topic4\", \"Topic4\", \"Topic4\", \"Topic4\", \"Topic4\", \"Topic4\", \"Topic4\", \"Topic4\", \"Topic4\", \"Topic4\", \"Topic4\", \"Topic4\", \"Topic4\", \"Topic4\", \"Topic4\", \"Topic5\", \"Topic5\", \"Topic5\", \"Topic5\", \"Topic5\", \"Topic5\", \"Topic5\", \"Topic5\", \"Topic5\", \"Topic5\", \"Topic5\", \"Topic5\", \"Topic5\", \"Topic5\", \"Topic5\", \"Topic5\", \"Topic5\", \"Topic5\", \"Topic5\", \"Topic5\", \"Topic5\", \"Topic5\", \"Topic5\", \"Topic5\", \"Topic5\", \"Topic5\", \"Topic5\", \"Topic5\", \"Topic5\", \"Topic5\", \"Topic5\", \"Topic5\", \"Topic5\", \"Topic5\", \"Topic5\", \"Topic6\", \"Topic6\", \"Topic6\", \"Topic6\", \"Topic6\", \"Topic6\", \"Topic6\", \"Topic6\", \"Topic6\", \"Topic6\", \"Topic6\", \"Topic6\", \"Topic6\", \"Topic6\", \"Topic6\", \"Topic6\", \"Topic6\", \"Topic6\", \"Topic6\", \"Topic6\", \"Topic6\", \"Topic6\", \"Topic6\", \"Topic6\", \"Topic6\", \"Topic6\", \"Topic6\", \"Topic6\", \"Topic6\", \"Topic6\", \"Topic7\", \"Topic7\", \"Topic7\", \"Topic7\", \"Topic7\", \"Topic7\", \"Topic7\", \"Topic7\", \"Topic7\", \"Topic7\", \"Topic7\", \"Topic7\", \"Topic7\", \"Topic7\", \"Topic7\", \"Topic7\", \"Topic7\", \"Topic7\", \"Topic7\", \"Topic7\", \"Topic7\", \"Topic7\", \"Topic7\", \"Topic7\", \"Topic7\", \"Topic7\", \"Topic7\", \"Topic7\", \"Topic7\", \"Topic7\", \"Topic7\", \"Topic8\", \"Topic8\", \"Topic8\", \"Topic8\", \"Topic8\", \"Topic8\", \"Topic8\", \"Topic8\", \"Topic8\", \"Topic8\", \"Topic8\", \"Topic8\", \"Topic8\", \"Topic8\", \"Topic8\", \"Topic8\", \"Topic8\", \"Topic8\", \"Topic8\", \"Topic8\", \"Topic8\", \"Topic8\", \"Topic8\", \"Topic8\", \"Topic8\", \"Topic8\", \"Topic8\", \"Topic8\", \"Topic8\", \"Topic8\", \"Topic8\", \"Topic9\", \"Topic9\", \"Topic9\", \"Topic9\", \"Topic9\", \"Topic9\", \"Topic9\", \"Topic9\", \"Topic9\", \"Topic9\", \"Topic9\", \"Topic9\", \"Topic9\", \"Topic9\", \"Topic9\", \"Topic9\", \"Topic9\", \"Topic9\", \"Topic9\", \"Topic9\", \"Topic9\", \"Topic9\", \"Topic9\", \"Topic9\", \"Topic9\", \"Topic9\", \"Topic9\", \"Topic9\", \"Topic9\", \"Topic9\", \"Topic9\", \"Topic9\", \"Topic9\", \"Topic9\", \"Topic10\", \"Topic10\", \"Topic10\", \"Topic10\", \"Topic10\", \"Topic10\", \"Topic10\", \"Topic10\", \"Topic10\", \"Topic10\", \"Topic10\", \"Topic10\", \"Topic10\", \"Topic10\", \"Topic10\", \"Topic10\", \"Topic10\", \"Topic10\", \"Topic10\", \"Topic10\", \"Topic10\", \"Topic10\", \"Topic10\", \"Topic10\", \"Topic10\", \"Topic10\", \"Topic10\", \"Topic10\", \"Topic10\", \"Topic10\", \"Topic11\", \"Topic11\", \"Topic11\", \"Topic11\", \"Topic11\", \"Topic11\", \"Topic11\", \"Topic11\", \"Topic11\", \"Topic11\", \"Topic11\", \"Topic11\", \"Topic11\", \"Topic11\", \"Topic11\", \"Topic11\", \"Topic11\", \"Topic11\", \"Topic11\", \"Topic11\", \"Topic11\", \"Topic11\", \"Topic11\", \"Topic11\", \"Topic11\", \"Topic11\", \"Topic11\", \"Topic11\", \"Topic11\", \"Topic11\", \"Topic12\", \"Topic12\", \"Topic12\", \"Topic12\", \"Topic12\", \"Topic12\", \"Topic12\", \"Topic12\", \"Topic12\", \"Topic12\", \"Topic12\", \"Topic12\", \"Topic12\", \"Topic12\", \"Topic12\", \"Topic12\", \"Topic12\", \"Topic12\", \"Topic12\", \"Topic12\", \"Topic12\", \"Topic12\", \"Topic12\", \"Topic12\", \"Topic12\", \"Topic12\", \"Topic12\", \"Topic12\", \"Topic12\", \"Topic12\", \"Topic12\", \"Topic12\", \"Topic13\", \"Topic13\", \"Topic13\", \"Topic13\", \"Topic13\", \"Topic13\", \"Topic13\", \"Topic13\", \"Topic13\", \"Topic13\", \"Topic13\", \"Topic13\", \"Topic13\", \"Topic13\", \"Topic13\", \"Topic13\", \"Topic13\", \"Topic13\", \"Topic13\", \"Topic13\", \"Topic13\", \"Topic13\", \"Topic13\", \"Topic13\", \"Topic13\", \"Topic13\", \"Topic13\", \"Topic13\", \"Topic13\", \"Topic13\", \"Topic13\", \"Topic13\", \"Topic13\", \"Topic13\", \"Topic13\", \"Topic13\", \"Topic13\", \"Topic14\", \"Topic14\", \"Topic14\", \"Topic14\", \"Topic14\", \"Topic14\", \"Topic14\", \"Topic14\", \"Topic14\", \"Topic14\", \"Topic14\", \"Topic14\", \"Topic14\", \"Topic14\", \"Topic14\", \"Topic14\", \"Topic14\", \"Topic14\", \"Topic14\", \"Topic14\", \"Topic14\", \"Topic14\", \"Topic14\", \"Topic14\", \"Topic14\", \"Topic14\", \"Topic14\", \"Topic14\", \"Topic14\", \"Topic14\", \"Topic14\", \"Topic14\", \"Topic14\", \"Topic14\", \"Topic14\", \"Topic14\", \"Topic15\", \"Topic15\", \"Topic15\", \"Topic15\", \"Topic15\", \"Topic15\", \"Topic15\", \"Topic15\", \"Topic15\", \"Topic15\", \"Topic15\", \"Topic15\", \"Topic15\", \"Topic15\", \"Topic15\", \"Topic15\", \"Topic15\", \"Topic15\", \"Topic15\", \"Topic15\", \"Topic15\", \"Topic15\", \"Topic15\", \"Topic15\", \"Topic15\", \"Topic15\", \"Topic15\", \"Topic15\", \"Topic15\", \"Topic15\", \"Topic15\", \"Topic15\", \"Topic15\", \"Topic15\", \"Topic15\", \"Topic15\", \"Topic15\", \"Topic15\", \"Topic16\", \"Topic16\", \"Topic16\", \"Topic16\", \"Topic16\", \"Topic16\", \"Topic16\", \"Topic16\", \"Topic16\", \"Topic16\", \"Topic16\", \"Topic16\", \"Topic16\", \"Topic16\", \"Topic16\", \"Topic16\", \"Topic16\", \"Topic16\", \"Topic16\", \"Topic16\", \"Topic16\", \"Topic16\", \"Topic16\", \"Topic16\", \"Topic16\", \"Topic16\", \"Topic16\", \"Topic16\", \"Topic16\", \"Topic16\", \"Topic16\", \"Topic16\", \"Topic16\", \"Topic16\", \"Topic16\", \"Topic16\", \"Topic16\", \"Topic16\", \"Topic17\", \"Topic17\", \"Topic17\", \"Topic17\", \"Topic17\", \"Topic17\", \"Topic17\", \"Topic17\", \"Topic17\", \"Topic17\", \"Topic17\", \"Topic17\", \"Topic17\", \"Topic17\", \"Topic17\", \"Topic17\", \"Topic17\", \"Topic17\", \"Topic17\", \"Topic17\", \"Topic17\", \"Topic17\", \"Topic17\", \"Topic17\", \"Topic17\", \"Topic17\", \"Topic17\", \"Topic17\", \"Topic17\", \"Topic17\", \"Topic17\", \"Topic17\", \"Topic17\", \"Topic17\", \"Topic17\", \"Topic17\", \"Topic17\", \"Topic17\", \"Topic17\", \"Topic17\", \"Topic18\", \"Topic18\", \"Topic18\", \"Topic18\", \"Topic18\", \"Topic18\", \"Topic18\", \"Topic18\", \"Topic18\", \"Topic18\", \"Topic18\", \"Topic18\", \"Topic18\", \"Topic18\", \"Topic18\", \"Topic18\", \"Topic18\", \"Topic18\", \"Topic18\", \"Topic18\", \"Topic18\", \"Topic18\", \"Topic18\", \"Topic18\", \"Topic18\", \"Topic18\", \"Topic18\", \"Topic18\", \"Topic18\", \"Topic18\", \"Topic18\", \"Topic18\", \"Topic18\", \"Topic18\", \"Topic18\", \"Topic19\", \"Topic19\", \"Topic19\", \"Topic19\", \"Topic19\", \"Topic19\", \"Topic19\", \"Topic19\", \"Topic19\", \"Topic19\", \"Topic19\", \"Topic19\", \"Topic19\", \"Topic19\", \"Topic19\", \"Topic19\", \"Topic19\", \"Topic19\", \"Topic19\", \"Topic19\", \"Topic19\", \"Topic19\", \"Topic19\", \"Topic19\", \"Topic19\", \"Topic19\", \"Topic19\", \"Topic19\", \"Topic19\", \"Topic19\", \"Topic19\", \"Topic19\", \"Topic19\", \"Topic19\", \"Topic19\", \"Topic19\", \"Topic19\", \"Topic19\", \"Topic19\", \"Topic19\", \"Topic19\", \"Topic19\", \"Topic19\", \"Topic19\", \"Topic19\", \"Topic19\", \"Topic19\", \"Topic19\", \"Topic19\", \"Topic20\", \"Topic20\", \"Topic20\", \"Topic20\", \"Topic20\", \"Topic20\", \"Topic20\", \"Topic20\", \"Topic20\", \"Topic20\", \"Topic20\", \"Topic20\", \"Topic20\", \"Topic20\", \"Topic20\", \"Topic20\", \"Topic20\", \"Topic20\", \"Topic20\", \"Topic20\", \"Topic20\", \"Topic20\", \"Topic20\", \"Topic20\", \"Topic20\", \"Topic20\", \"Topic20\", \"Topic20\", \"Topic20\", \"Topic20\", \"Topic20\", \"Topic20\", \"Topic20\", \"Topic20\", \"Topic20\", \"Topic20\", \"Topic20\", \"Topic20\", \"Topic20\"], \"logprob\": [30.0, 29.0, 28.0, 27.0, 26.0, 25.0, 24.0, 23.0, 22.0, 21.0, 20.0, 19.0, 18.0, 17.0, 16.0, 15.0, 14.0, 13.0, 12.0, 11.0, 10.0, 9.0, 8.0, 7.0, 6.0, 5.0, 4.0, 3.0, 2.0, 1.0, -3.2076, -2.7358, -3.3601, -3.4498, -3.5787, -3.7614, -3.7931, -3.8995, -3.4067, -4.0516, -3.9672, -4.1167, -4.1284, -4.1436, -4.2224, -4.2994, -4.3554, -4.4476, -4.4848, -4.4859, -4.4976, -4.5272, -4.5309, -4.6636, -4.6801, -4.7424, -4.7695, -4.8133, -4.9052, -4.9462, -3.1792, -3.9916, -3.8829, -3.3438, -4.0873, -4.3298, -4.2343, -3.9641, -4.4783, -1.9762, -2.6496, -2.6998, -3.3919, -3.4391, -3.4616, -3.4685, -3.5289, -3.5807, -3.7159, -3.7918, -3.8164, -3.8182, -4.189, -4.3368, -4.3597, -4.3759, -4.4304, -4.4391, -4.6247, -4.6566, -4.7221, -4.7306, -4.7494, -4.7513, -4.8317, -4.8778, -4.8968, -4.9692, -5.0699, -4.0219, -2.7222, -4.6999, -3.9992, -2.6981, -3.0577, -3.3273, -3.5001, -3.5171, -3.5992, -3.6064, -3.7927, -3.836, -3.8376, -3.9005, -3.9337, -3.9337, -3.9617, -3.9956, -4.0801, -4.094, -4.0943, -4.1112, -4.1666, -4.2063, -4.262, -4.2684, -4.3079, -4.327, -4.3596, -4.3723, -4.4186, -4.4273, -4.4299, -3.2805, -3.3794, -4.1134, -4.3049, -1.2954, -2.1694, -2.5437, -2.7994, -2.8487, -3.2096, -3.2622, -3.451, -3.5308, -3.6066, -3.9109, -3.9386, -4.2449, -4.504, -4.6489, -4.6543, -4.7124, -4.9295, -4.936, -4.9528, -4.9976, -5.014, -5.0982, -5.175, -5.3551, -5.533, -5.603, -5.7017, -5.8374, -5.8765, -4.0521, -5.673, -2.1333, -2.7911, -2.8168, -2.9325, -3.0717, -3.5508, -3.6802, -3.7296, -3.8193, -3.9097, -3.9698, -3.9791, -4.028, -4.0767, -4.1022, -4.3108, -4.3488, -4.3736, -4.3933, -4.4084, -4.6547, -4.7414, -4.7458, -4.7979, -4.7989, -4.8641, -4.8739, -4.9624, -4.9766, -5.0653, -2.5468, -4.0716, -4.4735, -3.1743, -4.6021, -2.2947, -2.3199, -2.9179, -3.0182, -3.0567, -3.1002, -3.3039, -3.4106, -3.4156, -3.6147, -3.8299, -3.8726, -3.9175, -4.0145, -4.0222, -4.0502, -4.1375, -4.1848, -4.185, -4.2409, -4.2573, -4.2807, -4.3117, -4.3401, -4.4078, -4.4425, -4.5119, -4.5178, -4.5582, -4.5649, -1.7054, -1.8687, -2.4052, -2.5389, -3.1202, -3.2003, -3.2127, -3.2668, -3.4263, -3.427, -3.5725, -3.8601, -3.9439, -4.2747, -4.3965, -4.4972, -4.8139, -4.9204, -4.9564, -5.2059, -5.7008, -5.8239, -6.1177, -6.3166, -6.4176, -4.1921, -6.6843, -7.2271, -4.3244, -8.5369, -5.3932, -2.0755, -2.6232, -2.9406, -2.986, -3.0069, -3.1923, -3.252, -3.4191, -3.4592, -3.4826, -3.5208, -3.7214, -3.7279, -3.8335, -3.8387, -3.928, -4.0409, -4.1963, -4.254, -4.2828, -4.3495, -4.4058, -4.446, -4.4797, -4.4858, -4.5967, -4.6789, -4.7758, -4.9088, -5.1135, -4.4769, -1.6089, -1.9095, -1.9373, -2.6234, -2.9853, -3.0639, -3.1509, -3.1688, -3.7234, -3.7873, -4.1742, -4.4391, -4.5128, -4.8478, -5.9482, -6.1418, -6.3402, -3.0894, -9.1415, -11.195, -11.195, -11.1952, -11.1951, -11.1951, -11.1952, -11.1952, -11.1952, -11.1952, -11.1951, -11.1951, -11.195, -11.195, -11.1951, -11.1952, -2.1757, -2.461, -2.756, -2.7667, -3.0987, -3.1859, -3.2266, -3.2605, -3.5896, -3.6323, -3.6689, -3.8513, -3.863, -3.8843, -3.8962, -3.9186, -4.0254, -4.0303, -4.271, -4.2893, -4.3274, -4.3696, -4.4949, -4.6564, -4.6757, -4.6969, -4.7855, -4.9939, -5.0, -5.0073, -2.2385, -2.4654, -2.634, -2.6483, -2.7221, -2.9465, -3.2452, -3.3209, -3.3634, -3.5211, -3.6276, -3.6396, -3.712, -3.7772, -4.1041, -4.2539, -4.274, -4.3611, -4.4491, -4.4547, -4.5947, -4.8476, -4.8653, -4.9101, -4.9223, -5.0721, -5.123, -5.1415, -5.2137, -5.2769, -2.4396, -2.2399, -2.7071, -2.7213, -2.8662, -2.895, -3.0555, -3.2906, -3.4336, -3.4747, -3.5375, -3.564, -3.6391, -3.7561, -3.8526, -3.8681, -3.9857, -4.0389, -4.0675, -4.2593, -4.3334, -4.7284, -4.8114, -5.2301, -5.8112, -5.8685, -6.3257, -10.8372, -10.8372, -10.8371, -10.8371, -10.8371, -1.6068, -2.1497, -2.3429, -2.4136, -2.5007, -2.5591, -3.0006, -3.2274, -3.5288, -3.5949, -4.8331, -5.2037, -5.6224, -6.0882, -6.2529, -10.7389, -10.7391, -10.739, -10.739, -10.7391, -10.739, -10.7391, -10.7391, -10.7391, -10.7391, -10.7391, -10.739, -10.739, -10.739, -10.7392, -10.7391, -10.7391, -10.7391, -10.739, -10.739, -10.739, -10.7391, -2.1089, -2.2674, -2.3311, -2.3569, -2.824, -2.9074, -2.9247, -2.9692, -3.2738, -3.3984, -3.4706, -3.5827, -3.75, -5.0387, -5.3563, -4.7164, -4.2337, -10.708, -10.7078, -10.708, -10.7082, -10.7082, -10.7083, -10.7082, -10.7084, -10.7084, -10.7085, -10.7085, -10.7085, -10.7083, -10.7085, -10.7084, -10.7084, -10.7085, -10.7084, -10.7084, -1.7203, -2.0158, -2.0563, -2.4458, -2.8478, -2.9727, -3.661, -2.5251, -4.1339, -4.7883, -3.4411, -10.5704, -10.5706, -10.5707, -10.5707, -10.5707, -10.5707, -10.5707, -10.5707, -10.5707, -10.5707, -10.5708, -10.5707, -10.5707, -10.5707, -10.5707, -10.5708, -10.5707, -10.5708, -10.5708, -10.5707, -10.5706, -10.5706, -10.5706, -10.5707, -10.5707, -10.5707, -10.5707, -1.7778, -2.7681, -3.04, -3.1161, -3.1167, -3.4679, -3.4984, -3.6449, -3.6645, -3.7683, -3.8649, -4.1584, -4.2476, -4.8107, -4.9733, -4.9927, -5.022, -5.5474, -6.3369, -6.3649, -1.6094, -10.5354, -10.536, -10.5361, -10.5361, -10.5361, -10.5362, -10.5362, -10.5362, -10.5362, -10.5361, -10.5359, -10.5361, -10.536, -10.5361, -10.536, -10.5361, -10.5361, -1.0915, -2.0217, -2.2662, -2.859, -3.0248, -3.2062, -3.5879, -3.7462, -4.0832, -4.7621, -5.0422, -5.5686, -10.606, -10.6059, -10.6063, -10.6063, -10.6065, -10.6065, -10.6063, -10.6065, -10.6065, -10.6065, -10.6062, -10.6065, -10.6064, -10.6065, -10.6064, -10.6063, -10.6065, -10.6065, -10.6064, -10.6063, -10.6063, -10.6063, -10.6064, -10.6064, -10.6064, -10.6064, -10.6064, -10.6064, -1.4575, -2.4383, -2.5578, -2.6092, -3.2839, -3.3183, -3.4738, -3.5247, -3.775, -3.8669, -4.0502, -4.0892, -4.2518, -4.2598, -4.4262, -4.5216, -4.7235, -4.7894, -4.8091, -5.1642, -5.2186, -5.6175, -10.4594, -10.4593, -10.4594, -10.4595, -10.4595, -10.4596, -10.4596, -10.4596, -10.4595, -10.4596, -10.4595, -10.4595, -10.4595, -1.257, -2.2879, -2.6166, -2.8221, -2.8856, -2.9216, -3.3571, -5.188, -8.0856, -10.0762, -10.0763, -10.0764, -10.0764, -10.0765, -10.0764, -10.0764, -10.0764, -10.0764, -10.0764, -10.0765, -10.0764, -10.0765, -10.0765, -10.0765, -10.0764, -10.0765, -10.0765, -10.0765, -10.0765, -10.0765, -10.0764, -10.0764, -10.0764, -10.0765, -10.0765, -10.0764, -10.0765, -10.0764, -10.0764, -10.0764, -10.0764, -10.0764, -10.0764, -10.0764, -10.0764, -10.0764, -10.0764, -10.0764, -10.0764, -1.3167, -1.4404, -2.2507, -3.9264, -4.4954, -4.7495, -10.0196, -10.0199, -10.0199, -10.0199, -10.02, -10.0201, -10.0201, -10.0201, -10.0201, -10.0202, -10.0202, -10.0201, -10.0203, -10.0203, -10.0202, -10.0202, -10.0202, -10.0203, -10.0202, -10.0201, -10.0203, -10.0203, -10.0203, -10.0203, -10.0201, -10.0201, -10.0202, -10.0201, -10.02, -10.0202, -10.0201, -10.0202, -10.0202], \"loglift\": [30.0, 29.0, 28.0, 27.0, 26.0, 25.0, 24.0, 23.0, 22.0, 21.0, 20.0, 19.0, 18.0, 17.0, 16.0, 15.0, 14.0, 13.0, 12.0, 11.0, 10.0, 9.0, 8.0, 7.0, 6.0, 5.0, 4.0, 3.0, 2.0, 1.0, 1.252, 1.2519, 1.2519, 1.2518, 1.2517, 1.2514, 1.2514, 1.2512, 1.2512, 1.251, 1.251, 1.2509, 1.2509, 1.2508, 1.2507, 1.2505, 1.2504, 1.2502, 1.2501, 1.2501, 1.25, 1.25, 1.2499, 1.2496, 1.2495, 1.2493, 1.2492, 1.249, 1.2487, 1.2485, 1.2459, 1.2428, 1.2249, 1.2042, 1.0382, 1.1179, 1.0635, 0.8619, 0.9187, 2.14, 2.1395, 2.1394, 2.1383, 2.1382, 2.1382, 2.1381, 2.138, 2.1379, 2.1375, 2.1372, 2.1372, 2.1372, 2.1357, 2.1349, 2.1348, 2.1347, 2.1344, 2.1343, 2.133, 2.1328, 2.1323, 2.1322, 2.1321, 2.132, 2.1313, 2.1309, 2.1307, 2.13, 2.1289, 2.1164, 2.04, 2.0979, 1.5676, 2.356, 2.3554, 2.3548, 2.3543, 2.3543, 2.354, 2.354, 2.3533, 2.3532, 2.3531, 2.3529, 2.3527, 2.3527, 2.3526, 2.3524, 2.352, 2.3519, 2.3519, 2.3518, 2.3515, 2.3513, 2.3509, 2.3509, 2.3506, 2.3505, 2.3503, 2.3502, 2.3498, 2.3498, 2.3498, 2.3009, 2.2247, 2.2747, 1.0921, 2.725, 2.7243, 2.7238, 2.7233, 2.7232, 2.7222, 2.722, 2.7213, 2.721, 2.7206, 2.7189, 2.7187, 2.7163, 2.7136, 2.7118, 2.7117, 2.7109, 2.7074, 2.7073, 2.707, 2.7061, 2.7058, 2.7041, 2.7023, 2.6979, 2.6927, 2.6903, 2.6867, 2.6812, 2.6795, 1.0735, 1.4097, 2.7823, 2.7812, 2.7811, 2.7808, 2.7804, 2.7786, 2.7779, 2.7777, 2.7771, 2.7765, 2.7761, 2.776, 2.7757, 2.7753, 2.7751, 2.7731, 2.7727, 2.7725, 2.7722, 2.7721, 2.7689, 2.7676, 2.7675, 2.7667, 2.7667, 2.7656, 2.7654, 2.7637, 2.7634, 2.7616, 2.6309, 2.4421, 2.5389, 1.6517, 2.5436, 2.9563, 2.9562, 2.9548, 2.9545, 2.9544, 2.9542, 2.9534, 2.9529, 2.9529, 2.9518, 2.9503, 2.95, 2.9496, 2.9487, 2.9487, 2.9484, 2.9476, 2.9471, 2.9471, 2.9464, 2.9462, 2.946, 2.9456, 2.9452, 2.9444, 2.9439, 2.9429, 2.9428, 2.9422, 2.9421, 3.1505, 3.1503, 3.1494, 3.1491, 3.1471, 3.1467, 3.1466, 3.1463, 3.1454, 3.1454, 3.1445, 3.1421, 3.1413, 3.1372, 3.1354, 3.1337, 3.127, 3.1243, 3.1233, 3.1155, 3.093, 3.0855, 3.0639, 3.0456, 3.035, 3.004, 3.0019, 2.9063, 2.8049, 2.4436, 1.2119, 3.1827, 3.1815, 3.1804, 3.1802, 3.1801, 3.1793, 3.179, 3.178, 3.1777, 3.1776, 3.1773, 3.1758, 3.1757, 3.1748, 3.1747, 3.1738, 3.1726, 3.1706, 3.1698, 3.1694, 3.1683, 3.1674, 3.1667, 3.1661, 3.166, 3.1639, 3.1622, 3.16, 3.1565, 3.1503, 1.9797, 3.3463, 3.3459, 3.3458, 3.3442, 3.3427, 3.3423, 3.3418, 3.3417, 3.3374, 3.3368, 3.3317, 3.327, 3.3254, 3.3168, 3.2578, 3.2396, 3.2174, 2.2213, 2.1569, 0.4112, 0.4112, 0.4112, 0.4111, 0.4111, 0.4111, 0.4111, 0.4111, 0.4111, 0.4111, 0.4111, 0.4111, 0.411, 0.4109, 0.411, 3.5178, 3.517, 3.5158, 3.5158, 3.514, 3.5134, 3.5131, 3.5128, 3.5099, 3.5095, 3.509, 3.5068, 3.5066, 3.5063, 3.5062, 3.5058, 3.5042, 3.5041, 3.4998, 3.4994, 3.4986, 3.4976, 3.4946, 3.4902, 3.4896, 3.489, 3.4861, 3.4783, 3.4781, 3.4778, 3.5609, 3.5602, 3.5595, 3.5594, 3.5591, 3.5579, 3.5559, 3.5553, 3.555, 3.5535, 3.5523, 3.5522, 3.5513, 3.5505, 3.5454, 3.5425, 3.5421, 3.5401, 3.538, 3.5379, 3.534, 3.5256, 3.525, 3.5232, 3.5227, 3.5163, 3.5139, 3.513, 3.5093, 3.5058, 3.725, 3.7244, 3.7237, 3.7237, 3.7228, 3.7226, 3.7215, 3.7195, 3.718, 3.7176, 3.7168, 3.7165, 3.7155, 3.7139, 3.7123, 3.7121, 3.71, 3.7089, 3.7083, 3.704, 3.7021, 3.6893, 3.6859, 3.6641, 3.6157, 3.6094, 3.546, 0.7691, 0.7691, 0.7691, 0.7689, 0.7689, 3.8622, 3.8607, 3.86, 3.8597, 3.8593, 3.859, 3.856, 3.8539, 3.8503, 3.8494, 3.8138, 3.7919, 3.7563, 3.6973, 3.6701, 0.8673, 0.8673, 0.8673, 0.8673, 0.8672, 0.8672, 0.8672, 0.8672, 0.8672, 0.8672, 0.8672, 0.8672, 0.8672, 0.8672, 0.8672, 0.8672, 0.8672, 0.8671, 0.867, 0.8671, 0.867, 0.8671, 3.9646, 3.964, 3.9637, 3.9636, 3.9607, 3.96, 3.9599, 3.9595, 3.9563, 3.9547, 3.9537, 3.952, 3.9491, 3.8999, 3.8755, 2.4406, 1.4769, 0.8983, 0.8982, 0.8981, 0.898, 0.898, 0.8979, 0.8979, 0.8979, 0.8978, 0.8978, 0.8978, 0.8978, 0.8978, 0.8978, 0.8978, 0.8978, 0.8978, 0.8977, 0.8976, 3.9716, 3.9707, 3.9706, 3.9689, 3.9663, 3.9652, 3.9565, 3.9486, 3.9459, 3.9205, 3.716, 1.0359, 1.0356, 1.0356, 1.0356, 1.0356, 1.0356, 1.0356, 1.0356, 1.0356, 1.0356, 1.0356, 1.0356, 1.0356, 1.0356, 1.0356, 1.0356, 1.0356, 1.0356, 1.0356, 1.0356, 1.0356, 1.0355, 1.0355, 1.0355, 1.0355, 1.0354, 1.0353, 4.0926, 4.0874, 4.0849, 4.084, 4.084, 4.0791, 4.0786, 4.076, 4.0756, 4.0734, 4.0712, 4.0629, 4.0599, 4.0337, 4.0232, 4.0218, 4.0197, 3.9703, 3.8378, 3.8314, 3.7013, 1.0707, 1.0703, 1.0702, 1.0702, 1.0702, 1.0702, 1.0702, 1.0702, 1.0702, 1.0702, 1.0701, 1.0701, 1.07, 1.0701, 1.07, 1.0701, 1.07, 4.1172, 4.1147, 4.1136, 4.1095, 4.1078, 4.1056, 4.0996, 4.0963, 4.0875, 4.058, 4.0392, 3.9875, 1.0002, 1.0001, 1.0, 1.0, 0.9999, 0.9999, 0.9999, 0.9999, 0.9999, 0.9999, 0.9999, 0.9999, 0.9999, 0.9999, 0.9999, 0.9999, 0.9999, 0.9999, 0.9998, 0.9998, 0.9998, 0.9998, 0.9998, 0.9998, 0.9998, 0.9996, 0.9998, 0.9997, 4.2485, 4.2441, 4.2432, 4.2428, 4.2349, 4.2344, 4.2316, 4.2306, 4.2248, 4.2223, 4.2166, 4.2153, 4.2091, 4.2088, 4.2013, 4.1964, 4.1846, 4.1802, 4.1789, 4.1496, 4.1442, 4.0958, 1.147, 1.1469, 1.1469, 1.1468, 1.1468, 1.1468, 1.1468, 1.1467, 1.1467, 1.1467, 1.1465, 1.1466, 1.1465, 4.7167, 4.7106, 4.7068, 4.7038, 4.7028, 4.7021, 4.6924, 4.5585, 3.2895, 1.5301, 1.53, 1.53, 1.5299, 1.5299, 1.5299, 1.5299, 1.5299, 1.5299, 1.5299, 1.5299, 1.5299, 1.5299, 1.5299, 1.5299, 1.5299, 1.5299, 1.5299, 1.5299, 1.5299, 1.5299, 1.5299, 1.5298, 1.5299, 1.5299, 1.5299, 1.5299, 1.5299, 1.5298, 1.5298, 1.5298, 1.5298, 1.5297, 1.5297, 1.5297, 1.5296, 1.5298, 1.5298, 1.5298, 1.5297, 5.0007, 5.0, 4.9932, 4.941, 4.8942, 4.8642, 1.5866, 1.5863, 1.5863, 1.5862, 1.5862, 1.5861, 1.5861, 1.5861, 1.5861, 1.5861, 1.5861, 1.5861, 1.5861, 1.5861, 1.5861, 1.5861, 1.5861, 1.5861, 1.5861, 1.586, 1.586, 1.586, 1.586, 1.586, 1.586, 1.586, 1.586, 1.586, 1.586, 1.586, 1.5859, 1.586, 1.5859]}, \"token.table\": {\"Topic\": [1, 8, 7, 2, 12, 5, 8, 1, 4, 18, 4, 12, 10, 3, 1, 3, 18, 3, 8, 6, 20, 3, 13, 19, 5, 3, 8, 16, 10, 8, 6, 4, 7, 7, 8, 1, 4, 6, 6, 5, 11, 8, 10, 18, 5, 19, 10, 15, 3, 6, 11, 12, 6, 7, 17, 3, 5, 6, 4, 7, 2, 7, 5, 12, 1, 5, 10, 6, 11, 3, 9, 4, 3, 4, 13, 10, 5, 10, 17, 7, 12, 9, 14, 12, 8, 9, 2, 14, 10, 9, 4, 7, 16, 3, 2, 1, 18, 6, 4, 3, 8, 13, 8, 10, 18, 12, 2, 7, 19, 4, 11, 16, 5, 16, 11, 9, 9, 11, 16, 3, 15, 17, 11, 6, 11, 8, 3, 10, 3, 4, 5, 2, 12, 12, 16, 10, 6, 14, 4, 11, 10, 10, 5, 19, 7, 5, 1, 2, 3, 16, 1, 5, 5, 9, 17, 10, 13, 5, 7, 16, 8, 8, 10, 2, 4, 2, 9, 1, 3, 3, 8, 14, 6, 7, 2, 5, 5, 12, 6, 3, 16, 16, 16, 14, 7, 4, 1, 18, 1, 2, 5, 7, 1, 1, 3, 5, 4, 10, 3, 2, 6, 7, 12, 18, 6, 11, 3, 4, 1, 6, 14, 2, 4, 18, 18, 5, 6, 12, 10, 4, 6, 2, 11, 12, 8, 5, 11, 3, 10, 14, 2, 17, 16, 7, 3, 12, 2, 12, 4, 7, 8, 14, 8, 5, 8, 10, 17, 2, 4, 12, 17, 6, 6, 15, 18, 9, 1, 8, 1, 10, 8, 11, 13, 11, 1, 11, 3, 6, 2, 11, 3, 3, 16, 20, 5, 14, 4, 9, 16, 13, 8, 11, 17, 4, 12, 3, 5, 2, 10, 18, 16, 12, 1, 6, 1, 8, 16, 12, 1, 3, 13, 2, 9, 7, 11, 13, 2, 2, 8, 14, 15, 4, 10, 4, 6, 7, 13, 11, 5, 7, 5, 2, 10, 18, 17, 10, 3, 16, 2, 3, 19, 4, 11, 4, 4, 9, 7, 6, 3, 5, 9, 8, 6, 11, 5, 1, 8, 12, 18, 13, 13, 14, 12, 12, 15, 1, 3, 19, 11, 13, 5, 8, 8, 1, 5, 4, 1, 11, 7, 5, 18, 6, 12, 3, 10, 15, 11, 15, 11, 4, 15, 14, 2, 4, 14, 5, 16, 5, 9, 14, 18, 2, 18, 1, 5, 7, 4, 19, 15, 18, 8, 1, 3, 1, 2, 17, 18, 1, 14, 1, 2, 17, 12, 15, 16, 1, 16, 10, 3, 1, 19, 18, 2, 20, 7, 11, 1, 8, 2, 10, 11, 8, 1, 4, 2, 5, 13, 7, 3, 5, 8, 9, 9, 8, 6, 6, 10, 8, 9, 7, 2, 5, 8, 2, 14, 8, 11, 7, 1, 6, 2, 1, 20, 20, 13, 1, 3, 10, 2, 6, 13, 7, 7, 20, 1, 5, 6, 5, 3, 10, 12, 18, 1, 14, 1, 2, 1, 18, 15, 12, 2, 11, 11, 4, 8, 1, 1, 2, 16, 1, 12, 9, 7, 2, 1, 2, 1, 5, 7, 18, 4, 17], \"Freq\": [0.9968270139409352, 0.9944951007852253, 0.9930354799593355, 0.9861141986605299, 0.9940797541434668, 0.7846723244254238, 0.20508481206573576, 0.806748137305043, 0.19188984170404708, 0.9806789368729376, 0.9886009922638505, 0.9753329683718402, 0.9736698989014403, 0.9957870683091858, 0.7161867472025628, 0.28186557625051356, 0.9489056015270545, 0.9968843120504828, 0.9743216112807344, 0.9877309183934555, 0.9967796648783922, 0.9942605568454581, 0.9599332316732175, 0.9936102511715392, 0.9972034030332628, 0.9935736268043918, 0.9661078978489883, 0.9908379997659097, 0.970161562054048, 0.9945720434016154, 0.9937930911386716, 0.9790246580330773, 0.9928159395468998, 0.7115525485288287, 0.28061227265925637, 0.7174587789266078, 0.2678512774659336, 0.9910359628259781, 0.9973670550742196, 0.9819844739567697, 0.9371730322161518, 0.9847579940877986, 0.9911247173140225, 0.9561947831819401, 0.9872221936999234, 0.9834382178977831, 0.9602025559339084, 0.9951298492526996, 0.9891044500937827, 0.9932583351125583, 0.9759388622959806, 0.9941724986214093, 0.9972530445590068, 0.9981425352176934, 0.9078622269502216, 0.9972546511601951, 0.9767097001246853, 0.9956195378334224, 0.9982711554878965, 0.9983498772251045, 0.9977540496920452, 0.9984653827548656, 0.9915814464390957, 0.9859188785105721, 0.9981109643637185, 0.0008465741852109571, 0.9843431100844189, 0.9922418885950259, 0.9966705488435165, 0.9935094671927165, 0.9091885403536366, 0.9987117593745954, 0.9920113698625639, 0.9956636583608109, 0.993460237240954, 0.9801445521493007, 0.9904244587605505, 0.9922787811791299, 0.9816578959937756, 0.9884535596906103, 0.7779267958792974, 0.8795084681574271, 0.9771288092655901, 0.897464810048745, 0.990279383806249, 0.9595548122456438, 0.9975845572216736, 0.9962519800980362, 0.9707334835967834, 0.9932406290077516, 0.9911753716901534, 0.8085636307067331, 0.9879532238874776, 0.9953829930821313, 0.9984467288514153, 0.9991763075524042, 0.9497143390616495, 0.9958381317668088, 0.9968761120267385, 0.9949298641370172, 0.9898366810442789, 0.9937091146070918, 0.9982211712324506, 0.9856840933276703, 0.9415238654415103, 0.9863118336387605, 0.9969635704629268, 0.9941335085399621, 0.9810267239935265, 0.9931581718102184, 0.9549046136242363, 0.9877775619865189, 0.9866077881737818, 0.9778571969854177, 0.9921301827857717, 0.9773984831682077, 0.9786260026083681, 0.9713192443630064, 0.9960525859096512, 0.9971072606631568, 0.997258032917296, 0.9241558658197487, 0.9868063947999459, 0.9931801365502062, 0.9882598904998725, 0.990766031266441, 0.9936969164506055, 0.9768935111101478, 0.9965742394415915, 0.9768383042644155, 0.9752622298351199, 0.9986929449460937, 0.996951824821432, 0.9926719109512187, 0.842581841042877, 0.9969430383442581, 0.9846668129904107, 0.9903426975679335, 0.9822320261060443, 0.9855578095667473, 0.9871044198995814, 0.9653103550140274, 0.998955593729156, 0.983378459525937, 0.9530373394901641, 0.9914081051000294, 0.09208200799912417, 0.9048466704403731, 0.0028188369795650254, 0.9892194127039958, 0.9979858292963286, 0.9892203479970592, 0.9815780655366685, 0.9870688685836033, 0.9863667689611844, 0.9596593962812235, 0.8563894700795492, 0.9940658919815167, 0.9945994298317471, 0.9242732017331492, 0.9916242771593609, 0.9802612942499658, 0.9898835310043125, 0.9934421380853522, 0.9997342082525514, 0.991614624331192, 0.9851602028967537, 0.998799314774858, 0.9950668318373935, 0.944362384982481, 0.05329358831729577, 0.917960455907677, 0.9946894630908713, 0.9208758888265348, 0.1395079234083845, 0.858400794033223, 0.9953642410127916, 0.9673636397887455, 0.9928378124450138, 0.9965835277822833, 0.9808066153183869, 0.9897001083757969, 0.9077780738179629, 0.9826996416188329, 0.9989135983950194, 0.9599359650673602, 0.9993855943914748, 0.9812683568210125, 0.3046018571979313, 0.5629882602003144, 0.12814285026947456, 0.9046914268872317, 0.997725296855903, 0.874642604892687, 0.12494894355609813, 0.9858870933539539, 0.9852996979293674, 0.9877025825660262, 0.9952263034382598, 0.6586176035884093, 0.18987174157503692, 0.14240380618127768, 0.9760622420660289, 0.9683566676866203, 0.9848657907756241, 0.9759920052668193, 0.9929991842510477, 0.9531198609589067, 0.9966306930978752, 0.9840504011573042, 0.9953761529175639, 0.9747053250506835, 0.018601246661272587, 0.9971713116048939, 0.9469152424028531, 0.9953863079379358, 0.9909771009409595, 0.8395260265704405, 0.9949015756729198, 0.9844434009444918, 0.9955711433921414, 0.9929994893350302, 0.9801893893345, 0.991416544629247, 0.9946999574493278, 0.9846547125252866, 0.9735749596174841, 0.9975910380815249, 0.995105039879676, 0.9744969202720407, 0.9952698818961558, 0.995176470965081, 0.9783781085491051, 0.9573785157382783, 0.9989461615220273, 0.9446430697081474, 0.9953136885894406, 0.9926381703032755, 0.9823406500461934, 0.8678134293998819, 0.12856495250368621, 0.9886648982007856, 0.9920557570512727, 0.784459864196044, 0.20375580888208936, 0.9909960541099235, 0.9946394502491525, 0.9951062656192974, 0.998851256351104, 0.99594237688429, 0.9984821589709408, 0.987601877767071, 0.9895812703611993, 0.9956040306039787, 0.969070943316374, 0.9969460458100005, 0.695609118715547, 0.3017716029721858, 0.9984061103860444, 0.9924122482245307, 0.993207017986603, 0.9485305451471879, 0.9963029873174022, 0.9504217523855083, 0.9976357021226454, 0.9764299074667977, 0.9956683795073921, 0.9795813964288799, 0.9897657293211289, 0.9599798649230049, 0.9955196442693516, 0.9972730059664778, 0.9766992144135702, 0.9118314843037268, 0.988553860690371, 0.9940572112964889, 0.9949884069087257, 0.3235982533889448, 0.6748405786754377, 0.9907096253205457, 0.9711120855202924, 0.9899387933580405, 0.9854610421727328, 0.9650122825543119, 0.9909862673098201, 0.9941518432693673, 0.9909816137146569, 0.9989132048565559, 0.9712640422817418, 0.9737875195166891, 0.9558020173143053, 0.9935009353872177, 0.9980651755359496, 0.9930877645986247, 0.9983991555557656, 0.9751574972716042, 0.9656353436731345, 0.99183264120538, 0.07641652881217546, 0.9217743787968665, 0.9941093704058942, 0.998447670313887, 0.9982387406559723, 0.9838496596534895, 0.9425463871945348, 0.8189154219914133, 0.9933033869436171, 0.9976382927280313, 0.9947601168300325, 0.21638899636348624, 0.772817844155308, 0.988032560138679, 0.9967663286804472, 0.9960154115624551, 0.9962242761819492, 0.9876932189906488, 0.9887592351215744, 0.9956714858022717, 0.9927086005038712, 0.9953475281223263, 0.9969400337731451, 0.9884046015042535, 0.9826942893346201, 0.9795489769682955, 0.9654088389843329, 0.9721084558918065, 0.9964744324149499, 0.9497301752226862, 0.9968384516236013, 0.9932088968106934, 0.9858908065674661, 0.9600371295177569, 0.9741853336478579, 0.990551279200912, 0.962943323518176, 0.9973866026696527, 0.9934387015439906, 0.9832314773563847, 0.8765735632706931, 0.12210975010736023, 0.9969256079927381, 0.965281152729651, 0.98777961339707, 0.968916264251257, 0.9976237173946183, 0.9986106162038021, 0.9801993724146894, 0.996901741700745, 0.890595654881852, 0.9952488387803266, 0.8552039104434663, 0.9865898439537751, 0.9692129360434754, 0.988022987340321, 0.9932090586906082, 0.9958364628642155, 0.9980564145574189, 0.82362602322895, 0.990995485309946, 0.9982088289871901, 0.9829910201453288, 0.9798441183629761, 0.9827400428031133, 0.9964319570094765, 0.9864616423178596, 0.9740755638444527, 0.9976201842557534, 0.9901655969889849, 0.976402222790404, 0.9783406827289373, 0.9745723235426961, 0.9852730102633599, 0.9450316243271013, 0.9920789612946453, 0.9892072677555658, 0.9944745601818329, 0.9971005311098375, 0.9240739083671483, 0.992600185474609, 0.02081199073465335, 0.9729605668450442, 0.9973014351302704, 0.9960653231665215, 0.9852789896183217, 0.9922680105099164, 0.9949579123190242, 0.8609709285048219, 0.9970232293870525, 0.9985320498878472, 0.9962553223816772, 0.9001321375817062, 0.9915629680064278, 0.9912687249989843, 0.6760418862292513, 0.3224970183197317, 0.9763141371070438, 0.9940272085173383, 0.9972492438211904, 0.9975061574513087, 0.9888471668626354, 0.995862118850043, 0.9898312144731239, 0.009039554470074191, 0.997933733979289, 0.9958516370935135, 0.989872545431832, 0.9935720443131875, 0.9144958044185765, 0.08247442267965942, 0.9730043644939409, 0.026548550190830585, 0.9808241020869887, 0.9874278964119686, 0.9592992989315837, 0.8736566258314861, 0.9960259251668552, 0.9903008963328721, 0.9827618135634395, 0.9926756812321087, 0.9966027655762912, 0.9857580128772501, 0.9950146481701, 0.9933140288256579, 0.8646333788263718, 0.47151912854676237, 0.9779576321714448, 0.9976723562186266, 0.98211205999986, 0.9919397350504338, 0.9852805816511883, 0.9672300443087756, 0.9914139607250805, 0.9964876643172204, 0.9913581980185469, 0.9568776110154543, 0.03597284251937798, 0.9961026177410239, 0.936379312091067, 0.9957893126274182, 0.9845372443755562, 0.997071970143678, 0.9938900168789295, 0.9983613061940388, 0.9922906839777016, 0.9955315135824166, 0.9850122636732228, 0.981313391152128, 0.9842368150577634, 0.9920191996521969, 0.9510012847618599, 0.281597713838141, 0.7094096252460859, 0.996651669956152, 0.9959409978571505, 0.9949890235824759, 0.9960322831632759, 0.9889626907913908, 0.9893199663499578, 0.9972467757312978, 0.9990188579410993, 0.986735076312557, 0.9981862304037658, 0.9890495776852646, 0.8413981184763589, 0.9919660154613608, 0.8283682907322032, 0.170168679879096, 0.9890440194769552, 0.9904481916298224, 0.9894230823421125, 0.9070447053666242, 0.9347342096991238, 0.9592695988194903, 0.9964504804308926, 0.9525958970389424, 0.04626460964918431, 0.9988045401042753, 0.9757874108947926, 0.9970723239086333, 0.9883091925946447, 0.9756736435457699, 0.796770539868278, 0.9984609756239073, 0.9025024490341598, 0.9991715884620387, 0.0004331042862861026, 0.9984322736031461, 0.9325983822533899, 0.9797643639627193, 0.9366452469399053, 0.9985515281315932, 0.996980486223162, 0.9946101743321579, 0.9970608531385727, 0.9905261494284168, 0.9990469157452015, 0.9933507520222403, 0.0060365677030385975, 0.9468207039211929, 0.9968016519737037, 0.988764339988908, 0.8576065284583444, 0.9945991776581838, 0.9944746330903182, 0.9993490915075155, 0.9996801449369168, 0.998178891035451, 0.9937656272013642, 0.9703672785281131, 0.9353594850133364, 0.9816541587772009, 0.9176656557363184], \"Term\": [\"able\", \"accept\", \"access\", \"achieve\", \"action\", \"actually\", \"actually\", \"add\", \"add\", \"address\", \"advantage\", \"age\", \"ago\", \"allow\", \"also\", \"also\", \"alternative\", \"always\", \"amount\", \"amp\", \"android\", \"answer\", \"apart\", \"appear\", \"application\", \"apply\", \"arg\", \"argument\", \"around\", \"array\", \"attribute\", \"author\", \"available\", \"avoid\", \"avoid\", \"back\", \"back\", \"background\", \"base\", \"bash\", \"behave\", \"behavior\", \"bit\", \"blank\", \"block\", \"body\", \"bool\", \"branch\", \"break\", \"browser\", \"bug\", \"build\", \"button\", \"call\", \"candidate\", \"case\", \"cause\", \"certain\", \"change\", \"character\", \"check\", \"class\", \"clear\", \"closure\", \"code\", \"code\", \"collection\", \"color\", \"com\", \"come\", \"comma\", \"command\", \"comment\", \"commit\", \"compare\", \"comparison\", \"compile\", \"compiler\", \"complete\", \"component\", \"concept\", \"conditional\", \"conflict\", \"consist\", \"const\", \"construct\", \"contain\", \"content\", \"conversion\", \"convert\", \"copy\", \"copying\", \"core\", \"correct\", \"could\", \"create\", \"creation\", \"css\", \"current\", \"currently\", \"data\", \"date\", \"datum\", \"day\", \"declaration\", \"declare\", \"default\", \"define\", \"definition\", \"delete\", \"describe\", \"design\", \"determine\", \"develop\", \"developer\", \"dict\", \"dictionary\", \"differ\", \"difference\", \"different\", \"directory\", \"distance\", \"docker\", \"document\", \"documentation\", \"double\", \"easy\", \"echo\", \"edit\", \"editor\", \"effect\", \"element\", \"else\", \"empty\", \"encourage\", \"end\", \"enter\", \"entity\", \"entry\", \"environment\", \"equal\", \"equality\", \"error\", \"escape\", \"eval\", \"exactly\", \"example\", \"example\", \"example\", \"execution\", \"exist\", \"expect\", \"explain\", \"expression\", \"extend\", \"extremely\", \"eye\", \"fail\", \"false\", \"familiar\", \"fast\", \"faster\", \"feature\", \"figure\", \"file\", \"filename\", \"final\", \"find\", \"fine\", \"first\", \"first\", \"fit\", \"fix\", \"flash\", \"follow\", \"follow\", \"foo\", \"foreach\", \"form\", \"format\", \"frame\", \"framework\", \"front\", \"full\", \"function\", \"future\", \"get\", \"git\", \"give\", \"give\", \"give\", \"globally\", \"go\", \"good\", \"good\", \"great\", \"group\", \"gt\", \"handle\", \"happen\", \"happen\", \"happen\", \"hard\", \"hash\", \"head\", \"hear\", \"help\", \"history\", \"however\", \"html\", \"http\", \"idea\", \"idea\", \"image\", \"immediately\", \"import\", \"important\", \"incorrect\", \"index\", \"initial\", \"input\", \"insert\", \"inside\", \"instance\", \"int\", \"internal\", \"introduce\", \"issue\", \"item\", \"join\", \"jquery\", \"key\", \"keyword\", \"kill\", \"know\", \"knowledge\", \"large\", \"last\", \"late\", \"least\", \"least\", \"leave\", \"length\", \"less\", \"less\", \"let\", \"library\", \"like\", \"line\", \"link\", \"list\", \"little\", \"load\", \"local\", \"lock\", \"log\", \"long\", \"long\", \"look\", \"loop\", \"lt\", \"mail\", \"main\", \"maintain\", \"make\", \"manage\", \"many\", \"master\", \"match\", \"maximum\", \"may\", \"mean\", \"meaning\", \"measure\", \"memory\", \"merge\", \"message\", \"method\", \"method\", \"mode\", \"modern\", \"modify\", \"module\", \"moment\", \"move\", \"much\", \"must\", \"name\", \"namespace\", \"nbsp\", \"necessary\", \"nee\", \"need\", \"never\", \"new\", \"next\", \"node\", \"none\", \"note\", \"note\", \"null\", \"number\", \"object\", \"occur\", \"occurrence\", \"offset\", \"open\", \"option\", \"order\", \"origin\", \"origin\", \"other\", \"output\", \"package\", \"page\", \"parameter\", \"parse\", \"part\", \"particular\", \"pass\", \"path\", \"perform\", \"performance\", \"person\", \"piece\", \"pipe\", \"point\", \"pop\", \"possible\", \"post\", \"prefer\", \"prefix\", \"present\", \"previous\", \"previously\", \"print\", \"private\", \"probably\", \"problem\", \"problem\", \"process\", \"processing\", \"produce\", \"production\", \"program\", \"project\", \"prompt\", \"property\", \"protect\", \"public\", \"public_void\", \"pull\", \"pure\", \"purpose\", \"push\", \"put\", \"question\", \"quit\", \"quite\", \"quot\", \"quote\", \"random\", \"range\", \"read\", \"real\", \"realize\", \"really\", \"reason\", \"receive\", \"recently\", \"recommend\", \"red\", \"redirect\", \"reference\", \"regex\", \"remote\", \"remove\", \"rename\", \"replace\", \"repository\", \"repository\", \"request\", \"require\", \"reset\", \"resource\", \"response\", \"restriction\", \"result\", \"return\", \"right\", \"role\", \"row\", \"rule\", \"run\", \"run\", \"runtime\", \"save\", \"say\", \"script\", \"search\", \"second\", \"see\", \"see\", \"seem\", \"select\", \"self\", \"send\", \"server\", \"server\", \"set\", \"set\", \"setting\", \"several\", \"shell\", \"shift\", \"show\", \"side\", \"sign\", \"similar\", \"simple\", \"simply\", \"site\", \"size\", \"sleep\", \"soap\", \"software\", \"solution\", \"sort\", \"space\", \"special\", \"specification\", \"speed\", \"start\", \"state\", \"statement\", \"statement\", \"static\", \"stay\", \"still\", \"stop\", \"store\", \"stre\", \"string\", \"structure\", \"style\", \"submit\", \"suggestion\", \"sum\", \"suppose\", \"surprise\", \"syntax\", \"syntax\", \"system\", \"table\", \"tag\", \"take\", \"tell\", \"term\", \"test\", \"text\", \"thank\", \"thing\", \"thread\", \"threading\", \"throw\", \"time\", \"time\", \"token\", \"tool\", \"top\", \"transition\", \"trick\", \"trouble\", \"true\", \"try\", \"try\", \"type\", \"undefined\", \"understand\", \"unexpected\", \"unfortunately\", \"untracked\", \"update\", \"uri\", \"use\", \"use\", \"user\", \"username\", \"usually\", \"validation\", \"value\", \"var\", \"variable\", \"version\", \"void\", \"want\", \"way\", \"way\", \"welcome\", \"well\", \"whole\", \"win\", \"window\", \"word\", \"work\", \"would\", \"write\", \"wrong\", \"xml\", \"yesterday\", \"yet\", \"yield\"]}, \"R\": 30, \"lambda.step\": 0.01, \"plot.opts\": {\"xlab\": \"PC1\", \"ylab\": \"PC2\"}, \"topic.order\": [2, 5, 1, 15, 18, 4, 9, 17, 19, 8, 10, 7, 3, 16, 14, 12, 11, 6, 13, 20]};\n",
              "\n",
              "function LDAvis_load_lib(url, callback){\n",
              "  var s = document.createElement('script');\n",
              "  s.src = url;\n",
              "  s.async = true;\n",
              "  s.onreadystatechange = s.onload = callback;\n",
              "  s.onerror = function(){console.warn(\"failed to load library \" + url);};\n",
              "  document.getElementsByTagName(\"head\")[0].appendChild(s);\n",
              "}\n",
              "\n",
              "if(typeof(LDAvis) !== \"undefined\"){\n",
              "   // already loaded: just create the visualization\n",
              "   !function(LDAvis){\n",
              "       new LDAvis(\"#\" + \"ldavis_el27041399134635039521503770221\", ldavis_el27041399134635039521503770221_data);\n",
              "   }(LDAvis);\n",
              "}else if(typeof define === \"function\" && define.amd){\n",
              "   // require.js is available: use it to load d3/LDAvis\n",
              "   require.config({paths: {d3: \"https://d3js.org/d3.v5\"}});\n",
              "   require([\"d3\"], function(d3){\n",
              "      window.d3 = d3;\n",
              "      LDAvis_load_lib(\"https://cdn.jsdelivr.net/gh/bmabey/pyLDAvis@3.3.1/pyLDAvis/js/ldavis.v3.0.0.js\", function(){\n",
              "        new LDAvis(\"#\" + \"ldavis_el27041399134635039521503770221\", ldavis_el27041399134635039521503770221_data);\n",
              "      });\n",
              "    });\n",
              "}else{\n",
              "    // require.js not available: dynamically load d3 & LDAvis\n",
              "    LDAvis_load_lib(\"https://d3js.org/d3.v5.js\", function(){\n",
              "         LDAvis_load_lib(\"https://cdn.jsdelivr.net/gh/bmabey/pyLDAvis@3.3.1/pyLDAvis/js/ldavis.v3.0.0.js\", function(){\n",
              "                 new LDAvis(\"#\" + \"ldavis_el27041399134635039521503770221\", ldavis_el27041399134635039521503770221_data);\n",
              "            })\n",
              "         });\n",
              "}\n",
              "</script>"
            ],
            "text/plain": [
              "PreparedData(topic_coordinates=              x         y  topics  cluster       Freq\n",
              "topic                                                \n",
              "1     -0.325483  0.166686       1        1  28.572321\n",
              "4     -0.211241 -0.346752       2        1  11.759688\n",
              "0     -0.186552  0.244108       3        1   9.467061\n",
              "14    -0.115246  0.023553       4        1   6.551493\n",
              "17    -0.155954 -0.079579       5        1   6.182464\n",
              "3     -0.045146 -0.081855       6        1   5.192719\n",
              "8     -0.024128 -0.057262       7        1   4.278256\n",
              "16    -0.016936  0.015573       8        1   4.140637\n",
              "18     0.041264  0.002797       9        1   3.517070\n",
              "7      0.049550  0.000971      10        1   2.958740\n",
              "9      0.051432  0.001384      11        1   2.833288\n",
              "6      0.070798  0.005127      12        1   2.401390\n",
              "2      0.081047  0.007084      13        1   2.097822\n",
              "15     0.078522  0.023155      14        1   1.890368\n",
              "13     0.102198  0.012145      15        1   1.879490\n",
              "11     0.112435  0.011908      16        1   1.664425\n",
              "10     0.096311  0.009487      17        1   1.626453\n",
              "5      0.112983  0.011733      18        1   1.424887\n",
              "12     0.140643  0.014735      19        1   0.891372\n",
              "19     0.143502  0.015000      20        1   0.670056, topic_info=           Term         Freq        Total Category  logprob  loglift\n",
              "96         file  2234.000000  2234.000000  Default  30.0000  30.0000\n",
              "266       would  2030.000000  2030.000000  Default  29.0000  29.0000\n",
              "276    function   969.000000   969.000000  Default  28.0000  28.0000\n",
              "72       string   877.000000   877.000000  Default  27.0000  27.0000\n",
              "181         use  2308.000000  2308.000000  Default  26.0000  26.0000\n",
              "...         ...          ...          ...      ...      ...      ...\n",
              "2567    angular     0.037130     1.134574  Topic20 -10.0200   1.5860\n",
              "1048     native     0.037124     1.134337  Topic20 -10.0202   1.5860\n",
              "1680    install     0.037126     1.134487  Topic20 -10.0201   1.5859\n",
              "1031  implement     0.037123     1.134360  Topic20 -10.0202   1.5860\n",
              "5550     loader     0.037124     1.134430  Topic20 -10.0202   1.5859\n",
              "\n",
              "[734 rows x 6 columns], token_table=      Topic      Freq       Term\n",
              "term                            \n",
              "611       1  0.996827       able\n",
              "414       8  0.994495     accept\n",
              "980       7  0.993035     access\n",
              "937       2  0.986114    achieve\n",
              "612      12  0.994080     action\n",
              "...     ...       ...        ...\n",
              "107       5  0.993766      wrong\n",
              "778       7  0.970367        xml\n",
              "968      18  0.935359  yesterday\n",
              "316       4  0.981654        yet\n",
              "153      17  0.917666      yield\n",
              "\n",
              "[512 rows x 3 columns], R=30, lambda_step=0.01, plot_opts={'xlab': 'PC1', 'ylab': 'PC2'}, topic_order=[2, 5, 1, 15, 18, 4, 9, 17, 19, 8, 10, 7, 3, 16, 14, 12, 11, 6, 13, 20])"
            ]
          },
          "metadata": {},
          "execution_count": 204
        }
      ]
    },
    {
      "cell_type": "code",
      "metadata": {
        "id": "H_wdx3sF4hJj",
        "outputId": "979ef635-f7ea-48a8-9fc6-6322b5ef881a",
        "colab": {
          "base_uri": "https://localhost:8080/"
        }
      },
      "source": [
        "# Install java\n",
        "def install_java():\n",
        "  !apt-get install -y openjdk-8-jdk-headless -qq > /dev/null      #install openjdk\n",
        "  os.environ[\"JAVA_HOME\"] = \"/usr/lib/jvm/java-8-openjdk-amd64\"     #set environment variable\n",
        "  !java -version       #check java version\n",
        "install_java()"
      ],
      "execution_count": 205,
      "outputs": [
        {
          "output_type": "stream",
          "name": "stdout",
          "text": [
            "openjdk version \"11.0.11\" 2021-04-20\n",
            "OpenJDK Runtime Environment (build 11.0.11+9-Ubuntu-0ubuntu2.18.04)\n",
            "OpenJDK 64-Bit Server VM (build 11.0.11+9-Ubuntu-0ubuntu2.18.04, mixed mode, sharing)\n"
          ]
        }
      ]
    },
    {
      "cell_type": "code",
      "metadata": {
        "id": "YXUiPwxB7sTF",
        "outputId": "c415c050-4910-4081-fc8d-a11e7c36e658",
        "colab": {
          "base_uri": "https://localhost:8080/"
        }
      },
      "source": [
        "# Install mallet\n",
        "!wget http://mallet.cs.umass.edu/dist/mallet-2.0.8.zip\n",
        "!unzip mallet-2.0.8.zip"
      ],
      "execution_count": null,
      "outputs": [
        {
          "output_type": "stream",
          "name": "stdout",
          "text": [
            "--2021-12-07 13:11:31--  http://mallet.cs.umass.edu/dist/mallet-2.0.8.zip\n",
            "Resolving mallet.cs.umass.edu (mallet.cs.umass.edu)... 128.119.246.70\n",
            "Connecting to mallet.cs.umass.edu (mallet.cs.umass.edu)|128.119.246.70|:80... connected.\n",
            "HTTP request sent, awaiting response... 302 Found\n",
            "Location: https://mallet.cs.umass.edu/dist/mallet-2.0.8.zip [following]\n",
            "--2021-12-07 13:11:31--  https://mallet.cs.umass.edu/dist/mallet-2.0.8.zip\n",
            "Connecting to mallet.cs.umass.edu (mallet.cs.umass.edu)|128.119.246.70|:443... connected.\n",
            "HTTP request sent, awaiting response... 200 OK\n",
            "Length: 16184794 (15M) [application/zip]\n",
            "Saving to: ‘mallet-2.0.8.zip.1’\n",
            "\n",
            "mallet-2.0.8.zip.1  100%[===================>]  15.43M  9.75MB/s    in 1.6s    \n",
            "\n",
            "2021-12-07 13:11:33 (9.75 MB/s) - ‘mallet-2.0.8.zip.1’ saved [16184794/16184794]\n",
            "\n",
            "Archive:  mallet-2.0.8.zip\n",
            "replace mallet-2.0.8/bin/classifier2info? [y]es, [n]o, [A]ll, [N]one, [r]ename: "
          ]
        }
      ]
    },
    {
      "cell_type": "code",
      "metadata": {
        "id": "ro5CR6z87x34"
      },
      "source": [
        "mallet_path = '/content/mallet-2.0.8/bin/mallet'"
      ],
      "execution_count": null,
      "outputs": []
    },
    {
      "cell_type": "code",
      "metadata": {
        "id": "yN_0mWjr2v_d"
      },
      "source": [
        "ldamallet = gensim.models.wrappers.LdaMallet(mallet_path, corpus=corpus, num_topics=20, id2word=id2word)"
      ],
      "execution_count": null,
      "outputs": []
    },
    {
      "cell_type": "code",
      "metadata": {
        "id": "0OAMJPCVszZZ"
      },
      "source": [
        "# Show Topics\n",
        "pprint(ldamallet.show_topics(formatted=False))\n",
        "\n",
        "# Compute Coherence Score\n",
        "coherence_model_ldamallet = CoherenceModel(model=ldamallet, texts=data_lemmatized, dictionary=id2word, coherence='c_v')\n",
        "coherence_ldamallet = coherence_model_ldamallet.get_coherence()\n",
        "print('\\nCoherence Score: ', coherence_ldamallet)"
      ],
      "execution_count": null,
      "outputs": []
    },
    {
      "cell_type": "code",
      "metadata": {
        "_uuid": "92bbda91-7f8a-44f0-8888-d9b30924e816",
        "_cell_guid": "fce979f6-5607-4d95-ab8e-c6d9a130a293",
        "jupyter": {
          "outputs_hidden": false
        },
        "trusted": true,
        "id": "M1BkvDE0T3b6"
      },
      "source": [
        "def compute_coherence_values(dictionary, corpus, texts, limit, start=2, step=3):\n",
        "    \"\"\"\n",
        "    Compute c_v coherence for various number of topics\n",
        "\n",
        "    Parameters:\n",
        "    ----------\n",
        "    dictionary : Gensim dictionary\n",
        "    corpus : Gensim corpus\n",
        "    texts : List of input texts\n",
        "    limit : Max num of topics\n",
        "\n",
        "    Returns:\n",
        "    -------\n",
        "    model_list : List of LDA topic models\n",
        "    coherence_values : Coherence values corresponding to the LDA model with respective number of topics\n",
        "    \"\"\"\n",
        "    coherence_values = []\n",
        "    model_list = []\n",
        "    for num_topics in range(start, limit, step):\n",
        "        model = gensim.models.wrappers.LdaMallet(mallet_path, corpus=corpus, num_topics=num_topics, id2word=id2word)\n",
        "        model_list.append(model)\n",
        "        coherencemodel = CoherenceModel(model=model, texts=texts, dictionary=dictionary, coherence='c_v')\n",
        "        coherence_values.append(coherencemodel.get_coherence())\n",
        "\n",
        "    return model_list, coherence_values"
      ],
      "execution_count": null,
      "outputs": []
    },
    {
      "cell_type": "code",
      "metadata": {
        "id": "vlAhvGIPdmjw"
      },
      "source": [
        "# Can take a long time to run.\n",
        "model_list, coherence_values = compute_coherence_values(dictionary=id2word, corpus=corpus, texts=data_lemmatized, start=2, limit=20, step=6)"
      ],
      "execution_count": null,
      "outputs": []
    },
    {
      "cell_type": "code",
      "metadata": {
        "id": "OIgH2J1VfnN7"
      },
      "source": [
        "# Show graph\n",
        "limit=20; start=2; step=6;\n",
        "x = range(start, limit, step)\n",
        "plt.plot(x, coherence_values)\n",
        "plt.xlabel(\"Num Topics\")\n",
        "plt.ylabel(\"Coherence score\")\n",
        "plt.legend((\"coherence_values\"), loc='best')\n",
        "plt.show()"
      ],
      "execution_count": null,
      "outputs": []
    },
    {
      "cell_type": "code",
      "metadata": {
        "id": "dqvrD2WN9IGp"
      },
      "source": [
        "# Print the coherence scores\n",
        "for m, cv in zip(x, coherence_values):\n",
        "    print(\"Num Topics =\", m, \" has Coherence Value of\", round(cv, 4))"
      ],
      "execution_count": null,
      "outputs": []
    },
    {
      "cell_type": "code",
      "metadata": {
        "id": "UFg07epQ9Kq5"
      },
      "source": [
        "# Select the model and print the topics\n",
        "optimal_model = model_list[2]\n",
        "model_topics = optimal_model.show_topics(formatted=False)\n",
        "pprint(optimal_model.print_topics(num_words=10))"
      ],
      "execution_count": null,
      "outputs": []
    },
    {
      "cell_type": "code",
      "metadata": {
        "id": "9SEYr4gr9P19"
      },
      "source": [
        "def format_topics_sentences(ldamodel=lda_model, corpus=corpus, texts=texts):\n",
        "    # Init output\n",
        "    sent_topics_df = pd.DataFrame()\n",
        "\n",
        "    # Get main topic in each document\n",
        "    for i, row in enumerate(ldamodel[corpus]):\n",
        "        row = sorted(row, key=lambda x: (x[1]), reverse=True)\n",
        "        # Get the Dominant topic, Perc Contribution and Keywords for each document\n",
        "        for j, (topic_num, prop_topic) in enumerate(row):\n",
        "            if j == 0:  # => dominant topic\n",
        "                wp = ldamodel.show_topic(topic_num)\n",
        "                topic_keywords = \", \".join([word for word, prop in wp])\n",
        "                sent_topics_df = sent_topics_df.append(pd.Series([int(topic_num), round(prop_topic,4), topic_keywords]), ignore_index=True)\n",
        "            else:\n",
        "                break\n",
        "    sent_topics_df.columns = ['Dominant_Topic', 'Perc_Contribution', 'Topic_Keywords']\n",
        "\n",
        "    # Add original text to the end of the output\n",
        "    contents = pd.Series(texts)\n",
        "    sent_topics_df = pd.concat([sent_topics_df, contents], axis=1)\n",
        "\n",
        "    return(sent_topics_df)"
      ],
      "execution_count": null,
      "outputs": []
    },
    {
      "cell_type": "code",
      "metadata": {
        "id": "TJlRrD__AaQQ"
      },
      "source": [
        "df_topic_sents_keywords = format_topics_sentences(ldamodel=optimal_model, corpus=corpus, texts=texts)"
      ],
      "execution_count": null,
      "outputs": []
    },
    {
      "cell_type": "code",
      "metadata": {
        "id": "gpfzBTWGAxPg"
      },
      "source": [
        "# Format\n",
        "df_dominant_topic = df_topic_sents_keywords.reset_index()\n",
        "df_dominant_topic.columns = ['Document_No', 'Dominant_Topic', 'Topic_Perc_Contrib', 'Keywords', 'Text']\n",
        "\n",
        "# Show\n",
        "df_dominant_topic.head(10)"
      ],
      "execution_count": null,
      "outputs": []
    },
    {
      "cell_type": "code",
      "metadata": {
        "id": "Mx-pFBBqA0b_"
      },
      "source": [
        "# Group top 5 sentences under each topic\n",
        "sent_topics_sorteddf_mallet = pd.DataFrame()\n",
        "\n",
        "sent_topics_outdf_grpd = df_topic_sents_keywords.groupby('Dominant_Topic')\n",
        "\n",
        "for i, grp in sent_topics_outdf_grpd:\n",
        "    sent_topics_sorteddf_mallet = pd.concat([sent_topics_sorteddf_mallet, \n",
        "                                             grp.sort_values(['Perc_Contribution'], ascending=[0]).head(1)], \n",
        "                                            axis=0)\n",
        "\n",
        "# Reset Index    \n",
        "sent_topics_sorteddf_mallet.reset_index(drop=True, inplace=True)\n",
        "\n",
        "# Format\n",
        "sent_topics_sorteddf_mallet.columns = ['Topic_Num', \"Topic_Perc_Contrib\", \"Keywords\", \"Text\"]\n",
        "\n",
        "# Show\n",
        "sent_topics_sorteddf_mallet.head()"
      ],
      "execution_count": null,
      "outputs": []
    },
    {
      "cell_type": "code",
      "metadata": {
        "id": "wuIHu4lIA7xu"
      },
      "source": [
        ""
      ],
      "execution_count": null,
      "outputs": []
    }
  ]
}