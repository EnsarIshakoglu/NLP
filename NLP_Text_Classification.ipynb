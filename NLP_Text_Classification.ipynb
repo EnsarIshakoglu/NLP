{
  "nbformat": 4,
  "nbformat_minor": 0,
  "metadata": {
    "kernelspec": {
      "language": "python",
      "display_name": "Python 3",
      "name": "python3"
    },
    "language_info": {
      "pygments_lexer": "ipython3",
      "nbconvert_exporter": "python",
      "version": "3.6.4",
      "file_extension": ".py",
      "codemirror_mode": {
        "name": "ipython",
        "version": 3
      },
      "name": "python",
      "mimetype": "text/x-python"
    },
    "colab": {
      "name": "NLP Text Classification",
      "provenance": [],
      "collapsed_sections": [],
      "include_colab_link": true
    }
  },
  "cells": [
    {
      "cell_type": "markdown",
      "metadata": {
        "id": "view-in-github",
        "colab_type": "text"
      },
      "source": [
        "<a href=\"https://colab.research.google.com/github/EnsarIshakoglu/NLP/blob/demo-eric-supervised/NLP_Text_Classification.ipynb\" target=\"_parent\"><img src=\"https://colab.research.google.com/assets/colab-badge.svg\" alt=\"Open In Colab\"/></a>"
      ]
    },
    {
      "cell_type": "code",
      "metadata": {
        "_uuid": "935329e7-815b-4377-874b-38ca768865f2",
        "_cell_guid": "f7832109-87a9-4266-bb22-e819083e084c",
        "execution": {
          "iopub.status.busy": "2021-11-18T08:52:35.870893Z",
          "iopub.execute_input": "2021-11-18T08:52:35.871339Z",
          "iopub.status.idle": "2021-11-18T08:52:42.798162Z",
          "shell.execute_reply.started": "2021-11-18T08:52:35.871298Z",
          "shell.execute_reply": "2021-11-18T08:52:42.797316Z"
        },
        "jupyter": {
          "outputs_hidden": false
        },
        "trusted": true,
        "colab": {
          "base_uri": "https://localhost:8080/"
        },
        "id": "YqfVPrH9T3bd",
        "outputId": "6c452c90-0995-44e8-b3c6-8ae2e6c65b9c"
      },
      "source": [
        "# Source: https://keras.io/examples/nlp/multi_label_classification/#introduction\n",
        "from tensorflow.keras import layers\n",
        "from tensorflow import keras\n",
        "import tensorflow as tf\n",
        "from ast import literal_eval\n",
        "\n",
        "# Tensorflow\n",
        "import tensorflow as tf\n",
        "!pip install tensorflow_addons\n",
        "import tensorflow_addons as tfa\n",
        "\n",
        "# Keras\n",
        "from keras.wrappers.scikit_learn import KerasClassifier\n",
        "from keras.models import Sequential, Input\n",
        "from keras.layers import Dense, Conv1D, SeparableConv1D, BatchNormalization, MaxPool1D, Dropout, Flatten, Embedding\n",
        "\n",
        "# SKlearn\n",
        "from sklearn.model_selection import train_test_split\n",
        "from sklearn.model_selection import cross_val_score\n",
        "from sklearn.model_selection import KFold\n",
        "from sklearn.preprocessing import MinMaxScaler\n",
        "from sklearn.preprocessing import LabelEncoder\n",
        "from sklearn.feature_extraction.text import CountVectorizer\n",
        "from imblearn.over_sampling import SMOTE\n",
        "\n",
        "# Data processing\n",
        "import matplotlib.pyplot as plt\n",
        "import pandas as pd\n",
        "import numpy as np\n",
        "\n",
        "# NLTK\n",
        "import nltk\n",
        "from nltk.stem import WordNetLemmatizer\n",
        "from nltk.corpus import stopwords\n",
        "from nltk.stem import WordNetLemmatizer\n",
        "from nltk.corpus import wordnet\n",
        "nltk.download('wordnet')\n",
        "nltk.download('stopwords')\n",
        "nltk.download('averaged_perceptron_tagger')\n",
        "\n",
        "# Stackapi to fetch stackoverflow api\n",
        "!pip install stackapi\n",
        "from stackapi import StackAPI"
      ],
      "execution_count": 1,
      "outputs": [
        {
          "output_type": "stream",
          "name": "stdout",
          "text": [
            "Collecting tensorflow_addons\n",
            "  Downloading tensorflow_addons-0.15.0-cp37-cp37m-manylinux_2_12_x86_64.manylinux2010_x86_64.whl (1.1 MB)\n",
            "\u001b[K     |████████████████████████████████| 1.1 MB 4.8 MB/s \n",
            "\u001b[?25hRequirement already satisfied: typeguard>=2.7 in /usr/local/lib/python3.7/dist-packages (from tensorflow_addons) (2.7.1)\n",
            "Installing collected packages: tensorflow-addons\n",
            "Successfully installed tensorflow-addons-0.15.0\n",
            "[nltk_data] Downloading package wordnet to /root/nltk_data...\n",
            "[nltk_data]   Unzipping corpora/wordnet.zip.\n",
            "[nltk_data] Downloading package stopwords to /root/nltk_data...\n",
            "[nltk_data]   Unzipping corpora/stopwords.zip.\n",
            "[nltk_data] Downloading package averaged_perceptron_tagger to\n",
            "[nltk_data]     /root/nltk_data...\n",
            "[nltk_data]   Unzipping taggers/averaged_perceptron_tagger.zip.\n",
            "Collecting stackapi\n",
            "  Downloading StackAPI-0.2.0.tar.gz (5.6 kB)\n",
            "Requirement already satisfied: requests in /usr/local/lib/python3.7/dist-packages (from stackapi) (2.23.0)\n",
            "Requirement already satisfied: six in /usr/local/lib/python3.7/dist-packages (from stackapi) (1.15.0)\n",
            "Requirement already satisfied: chardet<4,>=3.0.2 in /usr/local/lib/python3.7/dist-packages (from requests->stackapi) (3.0.4)\n",
            "Requirement already satisfied: idna<3,>=2.5 in /usr/local/lib/python3.7/dist-packages (from requests->stackapi) (2.10)\n",
            "Requirement already satisfied: certifi>=2017.4.17 in /usr/local/lib/python3.7/dist-packages (from requests->stackapi) (2021.10.8)\n",
            "Requirement already satisfied: urllib3!=1.25.0,!=1.25.1,<1.26,>=1.21.1 in /usr/local/lib/python3.7/dist-packages (from requests->stackapi) (1.24.3)\n",
            "Building wheels for collected packages: stackapi\n",
            "  Building wheel for stackapi (setup.py) ... \u001b[?25l\u001b[?25hdone\n",
            "  Created wheel for stackapi: filename=StackAPI-0.2.0-py3-none-any.whl size=5856 sha256=4ca4a9ea55b5fbac2af6b609da0054c08e4c21e95704516a71a0eddbde99bdb7\n",
            "  Stored in directory: /root/.cache/pip/wheels/ec/db/60/df42a65853e3581c26a2fbb2012a228cb8e267369a3b9ca44d\n",
            "Successfully built stackapi\n",
            "Installing collected packages: stackapi\n",
            "Successfully installed stackapi-0.2.0\n"
          ]
        }
      ]
    },
    {
      "cell_type": "markdown",
      "metadata": {
        "id": "cX5X4xhqabeI"
      },
      "source": [
        "### Mount colab drive to google drive"
      ]
    },
    {
      "cell_type": "code",
      "metadata": {
        "id": "pGt6RbgySmTR",
        "colab": {
          "base_uri": "https://localhost:8080/"
        },
        "outputId": "862d7f88-3b9a-4093-a018-2b94248fab21"
      },
      "source": [
        "from google.colab import drive\n",
        "drive.mount('/content/drive')"
      ],
      "execution_count": 2,
      "outputs": [
        {
          "output_type": "stream",
          "name": "stdout",
          "text": [
            "Mounted at /content/drive\n"
          ]
        }
      ]
    },
    {
      "cell_type": "markdown",
      "metadata": {
        "_uuid": "cd8ab0fa-e99a-4837-9d07-6bedca16f4ad",
        "_cell_guid": "27a0b46b-904c-48ef-946f-970a6d0f4fb6",
        "trusted": true,
        "id": "bG7FuSZMT3bk"
      },
      "source": [
        "## Fetch data"
      ]
    },
    {
      "cell_type": "code",
      "metadata": {
        "id": "SHjpvi1MWTPJ"
      },
      "source": [
        "# Get the data from stackoverflow sorted by votes\n",
        "def fetch_data():\n",
        "  if not exists('/content/NLP-question-data'):\n",
        "    !git clone https://github.com/EnsarIshakoglu/NLP-question-data.git\n",
        "  \n",
        "  data = pd.read_csv('/content/NLP-question-data/questions.csv')\n",
        "  return data"
      ],
      "execution_count": 3,
      "outputs": []
    },
    {
      "cell_type": "markdown",
      "metadata": {
        "id": "pZWjtjucXZk1"
      },
      "source": [
        "## Remove useless data"
      ]
    },
    {
      "cell_type": "code",
      "metadata": {
        "id": "gmY-K07YW_FI"
      },
      "source": [
        "# def clean_data(df):  \n",
        "#   df = df[['tags', 'body']]\n",
        "\n",
        "#   # Strip html tags with regex:\n",
        "#   df['body'] = df['body'].str.replace(r'<[^<>]*>', '', regex=True)\n",
        "\n",
        "#   # Get first tag for multi-class classification\n",
        "#   row_count = df.shape[0]\n",
        "\n",
        "#   # for i in range(row_count):\n",
        "#   #   df['tags'].iloc[i] = df['tags'].iloc[i][0]\n",
        "  \n",
        "#   return df"
      ],
      "execution_count": null,
      "outputs": []
    },
    {
      "cell_type": "markdown",
      "metadata": {
        "id": "Ft2veo6bajpz"
      },
      "source": [
        "### Create folder and file from df, unmout drive after"
      ]
    },
    {
      "cell_type": "code",
      "metadata": {
        "id": "GXasm52uSns_",
        "colab": {
          "base_uri": "https://localhost:8080/"
        },
        "outputId": "a0616a23-aa76-4002-fecc-dd52c8d77fdb"
      },
      "source": [
        "from os.path import exists\n",
        "\n",
        "!mkdir stackoverflow\n",
        "\n",
        "if not exists('/content/stackoverflow/questions.csv'):\n",
        "  data = fetch_data()\n",
        "  # df = clean_data(data)\n",
        "  # data.to_csv('/content/stackoverflow/questions.csv')\n",
        "  print(\"Fetched data from stackoverflow, removed the useless data and saved it in stackoverflow/questions.csv\")\n",
        "\n",
        "drive.flush_and_unmount()"
      ],
      "execution_count": 5,
      "outputs": [
        {
          "output_type": "stream",
          "name": "stdout",
          "text": [
            "mkdir: cannot create directory ‘stackoverflow’: File exists\n",
            "Fetched data from stackoverflow, removed the useless data and saved it in stackoverflow/questions.csv\n"
          ]
        }
      ]
    },
    {
      "cell_type": "markdown",
      "metadata": {
        "id": "XlrQln74au2T"
      },
      "source": [
        "### Load file from drive"
      ]
    },
    {
      "cell_type": "code",
      "metadata": {
        "id": "I1InpULeaN4l",
        "colab": {
          "base_uri": "https://localhost:8080/",
          "height": 591
        },
        "outputId": "4276318b-a069-4553-9eb9-d5fa2229f492"
      },
      "source": [
        "raw_df = pd.read_csv('/content/NLP-question-data/questions.csv')\n",
        "\n",
        "raw_df.head()"
      ],
      "execution_count": 6,
      "outputs": [
        {
          "output_type": "execute_result",
          "data": {
            "text/html": [
              "<div>\n",
              "<style scoped>\n",
              "    .dataframe tbody tr th:only-of-type {\n",
              "        vertical-align: middle;\n",
              "    }\n",
              "\n",
              "    .dataframe tbody tr th {\n",
              "        vertical-align: top;\n",
              "    }\n",
              "\n",
              "    .dataframe thead th {\n",
              "        text-align: right;\n",
              "    }\n",
              "</style>\n",
              "<table border=\"1\" class=\"dataframe\">\n",
              "  <thead>\n",
              "    <tr style=\"text-align: right;\">\n",
              "      <th></th>\n",
              "      <th>Unnamed: 0</th>\n",
              "      <th>tags</th>\n",
              "      <th>owner</th>\n",
              "      <th>is_answered</th>\n",
              "      <th>view_count</th>\n",
              "      <th>protected_date</th>\n",
              "      <th>accepted_answer_id</th>\n",
              "      <th>answer_count</th>\n",
              "      <th>score</th>\n",
              "      <th>last_activity_date</th>\n",
              "      <th>creation_date</th>\n",
              "      <th>last_edit_date</th>\n",
              "      <th>question_id</th>\n",
              "      <th>content_license</th>\n",
              "      <th>link</th>\n",
              "      <th>title</th>\n",
              "      <th>body</th>\n",
              "      <th>community_owned_date</th>\n",
              "      <th>locked_date</th>\n",
              "      <th>closed_date</th>\n",
              "      <th>closed_reason</th>\n",
              "      <th>migrated_from</th>\n",
              "    </tr>\n",
              "  </thead>\n",
              "  <tbody>\n",
              "    <tr>\n",
              "      <th>0</th>\n",
              "      <td>0</td>\n",
              "      <td>['java', 'c++', 'performance', 'cpu-architectu...</td>\n",
              "      <td>{'reputation': 469918, 'user_id': 87234, 'user...</td>\n",
              "      <td>True</td>\n",
              "      <td>1662469</td>\n",
              "      <td>1.399067e+09</td>\n",
              "      <td>11227902.0</td>\n",
              "      <td>29</td>\n",
              "      <td>26031</td>\n",
              "      <td>1636434375</td>\n",
              "      <td>1340805096</td>\n",
              "      <td>1.634760e+09</td>\n",
              "      <td>11227809</td>\n",
              "      <td>CC BY-SA 4.0</td>\n",
              "      <td>https://stackoverflow.com/questions/11227809/w...</td>\n",
              "      <td>Why is processing a sorted array faster than p...</td>\n",
              "      <td>&lt;p&gt;Here is a piece of C++ code that shows some...</td>\n",
              "      <td>NaN</td>\n",
              "      <td>NaN</td>\n",
              "      <td>NaN</td>\n",
              "      <td>NaN</td>\n",
              "      <td>NaN</td>\n",
              "    </tr>\n",
              "    <tr>\n",
              "      <th>1</th>\n",
              "      <td>1</td>\n",
              "      <td>['git', 'version-control', 'git-commit', 'undo']</td>\n",
              "      <td>{'reputation': 47989, 'user_id': 89904, 'user_...</td>\n",
              "      <td>True</td>\n",
              "      <td>10254767</td>\n",
              "      <td>1.370840e+09</td>\n",
              "      <td>927386.0</td>\n",
              "      <td>100</td>\n",
              "      <td>23542</td>\n",
              "      <td>1637838948</td>\n",
              "      <td>1243620554</td>\n",
              "      <td>1.625030e+09</td>\n",
              "      <td>927358</td>\n",
              "      <td>CC BY-SA 4.0</td>\n",
              "      <td>https://stackoverflow.com/questions/927358/how...</td>\n",
              "      <td>How do I undo the most recent local commits in...</td>\n",
              "      <td>&lt;p&gt;I accidentally &lt;strong&gt;committed the wrong ...</td>\n",
              "      <td>1.363429e+09</td>\n",
              "      <td>NaN</td>\n",
              "      <td>NaN</td>\n",
              "      <td>NaN</td>\n",
              "      <td>NaN</td>\n",
              "    </tr>\n",
              "    <tr>\n",
              "      <th>2</th>\n",
              "      <td>2</td>\n",
              "      <td>['git', 'version-control', 'git-branch', 'git-...</td>\n",
              "      <td>{'reputation': 416782, 'user_id': 95592, 'user...</td>\n",
              "      <td>True</td>\n",
              "      <td>9430056</td>\n",
              "      <td>1.358718e+09</td>\n",
              "      <td>2003515.0</td>\n",
              "      <td>41</td>\n",
              "      <td>18667</td>\n",
              "      <td>1638336685</td>\n",
              "      <td>1262653935</td>\n",
              "      <td>1.633560e+09</td>\n",
              "      <td>2003505</td>\n",
              "      <td>CC BY-SA 4.0</td>\n",
              "      <td>https://stackoverflow.com/questions/2003505/ho...</td>\n",
              "      <td>How do I delete a Git branch locally and remot...</td>\n",
              "      <td>&lt;p&gt;I want to delete a branch both locally and ...</td>\n",
              "      <td>NaN</td>\n",
              "      <td>NaN</td>\n",
              "      <td>NaN</td>\n",
              "      <td>NaN</td>\n",
              "      <td>NaN</td>\n",
              "    </tr>\n",
              "    <tr>\n",
              "      <th>3</th>\n",
              "      <td>3</td>\n",
              "      <td>['git', 'version-control', 'git-pull', 'git-fe...</td>\n",
              "      <td>{'reputation': 264138, 'user_id': 6068, 'user_...</td>\n",
              "      <td>True</td>\n",
              "      <td>3071149</td>\n",
              "      <td>1.362879e+09</td>\n",
              "      <td>292359.0</td>\n",
              "      <td>38</td>\n",
              "      <td>12908</td>\n",
              "      <td>1636728187</td>\n",
              "      <td>1226742669</td>\n",
              "      <td>1.606493e+09</td>\n",
              "      <td>292357</td>\n",
              "      <td>CC BY-SA 4.0</td>\n",
              "      <td>https://stackoverflow.com/questions/292357/wha...</td>\n",
              "      <td>What is the difference between &amp;#39;git pull&amp;#...</td>\n",
              "      <td>&lt;p&gt;What are the differences between &lt;code&gt;git ...</td>\n",
              "      <td>NaN</td>\n",
              "      <td>NaN</td>\n",
              "      <td>NaN</td>\n",
              "      <td>NaN</td>\n",
              "      <td>NaN</td>\n",
              "    </tr>\n",
              "    <tr>\n",
              "      <th>4</th>\n",
              "      <td>4</td>\n",
              "      <td>['python', 'iterator', 'generator', 'yield', '...</td>\n",
              "      <td>{'reputation': 131777, 'user_id': 18300, 'user...</td>\n",
              "      <td>True</td>\n",
              "      <td>2731894</td>\n",
              "      <td>1.360547e+09</td>\n",
              "      <td>231855.0</td>\n",
              "      <td>43</td>\n",
              "      <td>11664</td>\n",
              "      <td>1636440019</td>\n",
              "      <td>1224800471</td>\n",
              "      <td>1.633986e+09</td>\n",
              "      <td>231767</td>\n",
              "      <td>CC BY-SA 4.0</td>\n",
              "      <td>https://stackoverflow.com/questions/231767/wha...</td>\n",
              "      <td>What does the &amp;quot;yield&amp;quot; keyword do?</td>\n",
              "      <td>&lt;p&gt;What is the use of the &lt;code&gt;yield&lt;/code&gt; k...</td>\n",
              "      <td>NaN</td>\n",
              "      <td>NaN</td>\n",
              "      <td>NaN</td>\n",
              "      <td>NaN</td>\n",
              "      <td>NaN</td>\n",
              "    </tr>\n",
              "  </tbody>\n",
              "</table>\n",
              "</div>"
            ],
            "text/plain": [
              "   Unnamed: 0  ... migrated_from\n",
              "0           0  ...           NaN\n",
              "1           1  ...           NaN\n",
              "2           2  ...           NaN\n",
              "3           3  ...           NaN\n",
              "4           4  ...           NaN\n",
              "\n",
              "[5 rows x 22 columns]"
            ]
          },
          "metadata": {},
          "execution_count": 6
        }
      ]
    },
    {
      "cell_type": "code",
      "source": [
        "from ast import literal_eval\n",
        "\n",
        "df = raw_df[['tags', 'body']]\n",
        "\n",
        "\n",
        "# Get first tag for multi-class classification\n",
        "row_count = df.shape[0]\n",
        "\n",
        "for i in range(row_count):\n",
        "  array = literal_eval(df['tags'].iloc[i])\n",
        "  df['tags'].iloc[i] = array[0]\n",
        "\n",
        "df.head()"
      ],
      "metadata": {
        "id": "7Pg12TtFwiYF",
        "outputId": "2144adb9-7cde-471e-9ca0-08daba7f3188",
        "colab": {
          "base_uri": "https://localhost:8080/",
          "height": 293
        }
      },
      "execution_count": 7,
      "outputs": [
        {
          "output_type": "stream",
          "name": "stderr",
          "text": [
            "/usr/local/lib/python3.7/dist-packages/ipykernel_launcher.py:11: SettingWithCopyWarning: \n",
            "A value is trying to be set on a copy of a slice from a DataFrame\n",
            "\n",
            "See the caveats in the documentation: https://pandas.pydata.org/pandas-docs/stable/user_guide/indexing.html#returning-a-view-versus-a-copy\n",
            "  # This is added back by InteractiveShellApp.init_path()\n"
          ]
        },
        {
          "output_type": "execute_result",
          "data": {
            "text/html": [
              "<div>\n",
              "<style scoped>\n",
              "    .dataframe tbody tr th:only-of-type {\n",
              "        vertical-align: middle;\n",
              "    }\n",
              "\n",
              "    .dataframe tbody tr th {\n",
              "        vertical-align: top;\n",
              "    }\n",
              "\n",
              "    .dataframe thead th {\n",
              "        text-align: right;\n",
              "    }\n",
              "</style>\n",
              "<table border=\"1\" class=\"dataframe\">\n",
              "  <thead>\n",
              "    <tr style=\"text-align: right;\">\n",
              "      <th></th>\n",
              "      <th>tags</th>\n",
              "      <th>body</th>\n",
              "    </tr>\n",
              "  </thead>\n",
              "  <tbody>\n",
              "    <tr>\n",
              "      <th>0</th>\n",
              "      <td>java</td>\n",
              "      <td>&lt;p&gt;Here is a piece of C++ code that shows some...</td>\n",
              "    </tr>\n",
              "    <tr>\n",
              "      <th>1</th>\n",
              "      <td>git</td>\n",
              "      <td>&lt;p&gt;I accidentally &lt;strong&gt;committed the wrong ...</td>\n",
              "    </tr>\n",
              "    <tr>\n",
              "      <th>2</th>\n",
              "      <td>git</td>\n",
              "      <td>&lt;p&gt;I want to delete a branch both locally and ...</td>\n",
              "    </tr>\n",
              "    <tr>\n",
              "      <th>3</th>\n",
              "      <td>git</td>\n",
              "      <td>&lt;p&gt;What are the differences between &lt;code&gt;git ...</td>\n",
              "    </tr>\n",
              "    <tr>\n",
              "      <th>4</th>\n",
              "      <td>python</td>\n",
              "      <td>&lt;p&gt;What is the use of the &lt;code&gt;yield&lt;/code&gt; k...</td>\n",
              "    </tr>\n",
              "  </tbody>\n",
              "</table>\n",
              "</div>"
            ],
            "text/plain": [
              "     tags                                               body\n",
              "0    java  <p>Here is a piece of C++ code that shows some...\n",
              "1     git  <p>I accidentally <strong>committed the wrong ...\n",
              "2     git  <p>I want to delete a branch both locally and ...\n",
              "3     git  <p>What are the differences between <code>git ...\n",
              "4  python  <p>What is the use of the <code>yield</code> k..."
            ]
          },
          "metadata": {},
          "execution_count": 7
        }
      ]
    },
    {
      "cell_type": "code",
      "metadata": {
        "_uuid": "f76b7aed-1453-43c3-8fd6-b5b2975745c5",
        "_cell_guid": "93e5cfbc-0042-418d-975e-49198d762bbc",
        "execution": {
          "iopub.status.busy": "2021-11-18T08:56:42.617124Z",
          "iopub.execute_input": "2021-11-18T08:56:42.617630Z",
          "iopub.status.idle": "2021-11-18T08:56:42.628289Z",
          "shell.execute_reply.started": "2021-11-18T08:56:42.617593Z",
          "shell.execute_reply": "2021-11-18T08:56:42.627547Z"
        },
        "jupyter": {
          "outputs_hidden": false
        },
        "trusted": true,
        "id": "ddE71wzjT3bt",
        "colab": {
          "base_uri": "https://localhost:8080/"
        },
        "outputId": "f8e1ccd1-dda1-4456-96e2-0555f4aefd92"
      },
      "source": [
        "print(f\"There are {len(df['body'].unique())} rows in the dataset.\")"
      ],
      "execution_count": 8,
      "outputs": [
        {
          "output_type": "stream",
          "name": "stdout",
          "text": [
            "There are 3900 rows in the dataset.\n"
          ]
        }
      ]
    },
    {
      "cell_type": "code",
      "metadata": {
        "_uuid": "9bd0590f-4430-49f9-9af6-e53a65efcc84",
        "_cell_guid": "56e348ea-0b56-460a-9886-15594c5a4022",
        "execution": {
          "iopub.status.busy": "2021-11-18T08:56:42.630012Z",
          "iopub.execute_input": "2021-11-18T08:56:42.630495Z",
          "iopub.status.idle": "2021-11-18T08:56:42.638376Z",
          "shell.execute_reply.started": "2021-11-18T08:56:42.630460Z",
          "shell.execute_reply": "2021-11-18T08:56:42.637643Z"
        },
        "jupyter": {
          "outputs_hidden": false
        },
        "trusted": true,
        "id": "91v21KDhT3bt",
        "colab": {
          "base_uri": "https://localhost:8080/"
        },
        "outputId": "585f6a4d-2c9f-4ae6-fbc5-a9620036ab96"
      },
      "source": [
        "df = df[~df['body'].duplicated()]\n",
        "print(f\"There are {len(df)} rows in the deduplicated dataset.\")"
      ],
      "execution_count": 9,
      "outputs": [
        {
          "output_type": "stream",
          "name": "stdout",
          "text": [
            "There are 3900 rows in the deduplicated dataset.\n"
          ]
        }
      ]
    },
    {
      "cell_type": "code",
      "source": [
        "# Remove <pre> tags\n",
        "df_filtered = df\n",
        "df_filtered['body'] = df_filtered['body'].replace('<pre.*?</pre>','', regex=True)\n",
        "df_filtered['body'] = df_filtered['body'].replace('<code.*?</code>','', regex=True)\n",
        "df_filtered.iloc[0]['body']"
      ],
      "metadata": {
        "id": "ssTfV5RbsApy",
        "outputId": "b2197919-27a2-4788-e98e-3b786da91308",
        "colab": {
          "base_uri": "https://localhost:8080/",
          "height": 105
        }
      },
      "execution_count": 12,
      "outputs": [
        {
          "output_type": "execute_result",
          "data": {
            "application/vnd.google.colaboratory.intrinsic+json": {
              "type": "string"
            },
            "text/plain": [
              "'<p>Here is a piece of C++ code that shows some very peculiar behavior. For some strange reason, sorting the data (<em>before</em> the timed region) miraculously makes the loop almost six times faster.</p>\\n<pre class=\"lang-cpp prettyprint-override\"><code>#include &lt;algorithm&gt;\\n#include &lt;ctime&gt;\\n#include &lt;iostream&gt;\\n\\nint main()\\n{\\n    // Generate data\\n    const unsigned arraySize = 32768;\\n    int data[arraySize];\\n\\n    for (unsigned c = 0; c &lt; arraySize; ++c)\\n        data[c] = std::rand() % 256;\\n\\n    // !!! With this, the next loop runs faster.\\n    std::sort(data, data + arraySize);\\n\\n    // Test\\n    clock_t start = clock();\\n    long long sum = 0;\\n    for (unsigned i = 0; i &lt; 100000; ++i)\\n    {\\n        for (unsigned c = 0; c &lt; arraySize; ++c)\\n        {   // Primary loop\\n            if (data[c] &gt;= 128)\\n                sum += data[c];\\n        }\\n    }\\n\\n    double elapsedTime = static_cast&lt;double&gt;(clock()-start) / CLOCKS_PER_SEC;\\n\\n    std::cout &lt;&lt; elapsedTime &lt;&lt; \\'\\\\n\\';\\n    std::cout &lt;&lt; &quot;sum = &quot; &lt;&lt; sum &lt;&lt; \\'\\\\n\\';\\n}\\n</code></pre>\\n<ul>\\n<li>Without , the code runs in 11.54 seconds.</li>\\n<li>With the sorted data, the code runs in 1.93 seconds.</li>\\n</ul>\\n<p>(Sorting itself takes more time than this one pass over the array, so it\\'s not actually worth doing if we needed to calculate this for an unknown array.)</p>\\n<hr />\\n<p>Initially, I thought this might be just a language or compiler anomaly, so I tried Java:</p>\\n<pre class=\"lang-java prettyprint-override\"><code>import java.util.Arrays;\\nimport java.util.Random;\\n\\npublic class Main\\n{\\n    public static void main(String[] args)\\n    {\\n        // Generate data\\n        int arraySize = 32768;\\n        int data[] = new int[arraySize];\\n\\n        Random rnd = new Random(0);\\n        for (int c = 0; c &lt; arraySize; ++c)\\n            data[c] = rnd.nextInt() % 256;\\n\\n        // !!! With this, the next loop runs faster\\n        Arrays.sort(data);\\n\\n        // Test\\n        long start = System.nanoTime();\\n        long sum = 0;\\n        for (int i = 0; i &lt; 100000; ++i)\\n        {\\n            for (int c = 0; c &lt; arraySize; ++c)\\n            {   // Primary loop\\n                if (data[c] &gt;= 128)\\n                    sum += data[c];\\n            }\\n        }\\n\\n        System.out.println((System.nanoTime() - start) / 1000000000.0);\\n        System.out.println(&quot;sum = &quot; + sum);\\n    }\\n}\\n</code></pre>\\n<p>With a similar but less extreme result.</p>\\n<hr />\\n<p>My first thought was that sorting brings the data into the <a href=\"https://en.wikipedia.org/wiki/CPU_cache\" rel=\"noreferrer\">cache</a>, but then I thought how silly that was because the array was just generated.</p>\\n<ul>\\n<li>What is going on?</li>\\n<li>Why is processing a sorted array faster than processing an unsorted array?</li>\\n</ul>\\n<p>The code is summing up some independent terms, so the order should not matter.</p>\\n<hr />\\n<p><strong>Related / followup Q&amp;As</strong> about the same effect with different / later compilers and options:</p>\\n<ul>\\n<li><a href=\"https://stackoverflow.com/q/66521344\">Why is processing an unsorted array the same speed as processing a sorted array with modern x86-64 clang?</a></li>\\n<li><a href=\"https://stackoverflow.com/q/28875325\">gcc optimization flag -O3 makes code slower than -O2</a></li>\\n</ul>\\n'"
            ]
          },
          "metadata": {},
          "execution_count": 12
        }
      ]
    },
    {
      "cell_type": "code",
      "source": [
        "# Remove html tags\n",
        "df_filtered['body'] = df_filtered['body'].str.replace(r'<[^<>]*>', '', regex=True)"
      ],
      "metadata": {
        "id": "RU1pCiervmcu"
      },
      "execution_count": 13,
      "outputs": []
    },
    {
      "cell_type": "code",
      "metadata": {
        "id": "mbUq7xY3nYsS"
      },
      "source": [
        "# Remove punctuation\n",
        "df_filtered['body'] = df_filtered['body'].replace('[^\\w\\s]','', regex=True)\n",
        "df_filtered['body'] = df_filtered['body'].replace(r'\\s+|\\\\n', ' ', regex=True) "
      ],
      "execution_count": 14,
      "outputs": []
    },
    {
      "cell_type": "code",
      "metadata": {
        "_uuid": "39c58fe5-ac22-4c40-a07a-48220e52b081",
        "_cell_guid": "b16a1519-94a9-4dbc-9f16-caa61b93aa3b",
        "execution": {
          "iopub.status.busy": "2021-11-18T08:56:44.087385Z",
          "iopub.execute_input": "2021-11-18T08:56:44.087900Z",
          "iopub.status.idle": "2021-11-18T08:56:44.103181Z",
          "shell.execute_reply.started": "2021-11-18T08:56:44.087853Z",
          "shell.execute_reply": "2021-11-18T08:56:44.102340Z"
        },
        "jupyter": {
          "outputs_hidden": false
        },
        "trusted": true,
        "id": "wSsklTTaT3bv",
        "colab": {
          "base_uri": "https://localhost:8080/"
        },
        "outputId": "2b682c08-e694-4996-cbaa-c9002aa5d997"
      },
      "source": [
        "# There are a lot of terms with occurrence below 40.\n",
        "threshold = 5\n",
        "\n",
        "print(sum(df['tags'].value_counts() < threshold))\n",
        "\n",
        "# How many unique terms?\n",
        "print(df['tags'].nunique())"
      ],
      "execution_count": 16,
      "outputs": [
        {
          "output_type": "stream",
          "name": "stdout",
          "text": [
            "161\n",
            "223\n"
          ]
        }
      ]
    },
    {
      "cell_type": "code",
      "metadata": {
        "_uuid": "768030f8-0963-4c7f-8dd9-e8b032950f4b",
        "_cell_guid": "a5f2be9e-44d7-465f-a64c-6f8724af49a1",
        "execution": {
          "iopub.status.busy": "2021-11-18T08:56:44.489512Z",
          "iopub.execute_input": "2021-11-18T08:56:44.489831Z",
          "iopub.status.idle": "2021-11-18T08:56:44.511147Z",
          "shell.execute_reply.started": "2021-11-18T08:56:44.489795Z",
          "shell.execute_reply": "2021-11-18T08:56:44.510543Z"
        },
        "jupyter": {
          "outputs_hidden": false
        },
        "trusted": true,
        "id": "MGLEcLMPT3bx",
        "colab": {
          "base_uri": "https://localhost:8080/"
        },
        "outputId": "42c2ab61-9207-40d9-d895-667bd818ded2"
      },
      "source": [
        "# Filtering the rare terms because there is not enough data to train properly with.\n",
        "df_filtered = df.groupby(\"tags\").filter(lambda x: len(x) > threshold)\n",
        "df_filtered.shape"
      ],
      "execution_count": 17,
      "outputs": [
        {
          "output_type": "execute_result",
          "data": {
            "text/plain": [
              "(3644, 2)"
            ]
          },
          "metadata": {},
          "execution_count": 17
        }
      ]
    },
    {
      "cell_type": "code",
      "source": [
        "# View example of text\n",
        "for i in range(5):\n",
        "  print(df_filtered.iloc[i]['body'])\n",
        "  print('\\n')"
      ],
      "metadata": {
        "id": "q-_rc-s-v3qo",
        "outputId": "ddfbb0ab-208b-4e19-aad0-074ee768f386",
        "colab": {
          "base_uri": "https://localhost:8080/"
        }
      },
      "execution_count": 18,
      "outputs": [
        {
          "output_type": "stream",
          "name": "stdout",
          "text": [
            "Here is a piece of C code that shows some very peculiar behavior For some strange reason sorting the data before the timed region miraculously makes the loop almost six times faster include ltalgorithmgt include ltctimegt include ltiostreamgt int main Generate data const unsigned arraySize 32768 int dataarraySize for unsigned c 0 c lt arraySize c datac stdrand 256 With this the next loop runs faster stdsortdata data arraySize Test clock_t start clock long long sum 0 for unsigned i 0 i lt 100000 i for unsigned c 0 c lt arraySize c Primary loop if datac gt 128 sum datac double elapsedTime static_castltdoublegtclockstart CLOCKS_PER_SEC stdcout ltlt elapsedTime ltlt n stdcout ltlt quotsum quot ltlt sum ltlt n Without the code runs in 1154 seconds With the sorted data the code runs in 193 seconds Sorting itself takes more time than this one pass over the array so its not actually worth doing if we needed to calculate this for an unknown array Initially I thought this might be just a language or compiler anomaly so I tried Java import javautilArrays import javautilRandom public class Main public static void mainString args Generate data int arraySize 32768 int data new intarraySize Random rnd new Random0 for int c 0 c lt arraySize c datac rndnextInt 256 With this the next loop runs faster Arrayssortdata Test long start SystemnanoTime long sum 0 for int i 0 i lt 100000 i for int c 0 c lt arraySize c Primary loop if datac gt 128 sum datac SystemoutprintlnSystemnanoTime start 10000000000 Systemoutprintlnquotsum quot sum With a similar but less extreme result My first thought was that sorting brings the data into the cache but then I thought how silly that was because the array was just generated What is going on Why is processing a sorted array faster than processing an unsorted array The code is summing up some independent terms so the order should not matter Related followup QampAs about the same effect with different later compilers and options Why is processing an unsorted array the same speed as processing a sorted array with modern x8664 clang gcc optimization flag O3 makes code slower than O2 \n",
            "\n",
            "\n",
            "I accidentally committed the wrong files to Git but didnt push the commit to the server yet How can I undo those commits from the local repository The only way seems to be to copy the edits in some kind of GUI text editor then wipe the whole local clone then reclone the repository then reapplying the edits However This can cause data loss Its very hard to do this when only an accidental was run Is there a better way \n",
            "\n",
            "\n",
            "I want to delete a branch both locally and remotely Failed Attempts to Delete a Remote Branch git branch d remotesoriginbugfix error branch remotesoriginbugfix not found git branch d originbugfix error branch originbugfix not found git branch rd originbugfix Deleted remote branch originbugfix was 2a14ef7 git push Everything uptodate git pull From githubcomgitusergitproject new branch bugfix gt originbugfix Already uptodate What should I do differently to successfully delete the branch both locally and remotely \n",
            "\n",
            "\n",
            "What are the differences between and \n",
            "\n",
            "\n",
            "What is the use of the keyword in Python What does it do For example Im trying to understand this code1 def _get_child_candidatesself distance min_dist max_dist if self_leftchild and distance max_dist lt self_median yield self_leftchild if self_rightchild and distance max_dist gt self_median yield self_rightchild And this is the caller result candidates self while candidates node candidatespop distance node_get_distobj if distance lt max_dist and distance gt min_dist resultextendnode_values candidatesextendnode_get_child_candidatesdistance min_dist max_dist return result What happens when the method is called Is a list returned A single element Is it called again When will subsequent calls stop 1 This piece of code was written by Jochen Schulz jrschulz who made a great Python library for metric spaces This is the link to the complete source Module mspace \n",
            "\n",
            "\n"
          ]
        }
      ]
    },
    {
      "cell_type": "code",
      "metadata": {
        "id": "ixIWwEJ2nq2I",
        "colab": {
          "base_uri": "https://localhost:8080/",
          "height": 206
        },
        "outputId": "2819ad94-c2cf-444c-eddd-3dcedd1b2065"
      },
      "source": [
        "# Source: https://stackoverflow.com/questions/29523254/python-remove-stop-words-from-pandas-dataframe\n",
        "\n",
        "stop = stopwords.words('english')\n",
        "\n",
        "# Exclude stopwords with Python's list comprehension and pandas.DataFrame.apply.\n",
        "df_filtered['body'] = df_filtered['body'].apply(lambda x: ' '.join([word for word in x.split() if word not in (stop)]))\n",
        "df_filtered.head()"
      ],
      "execution_count": 19,
      "outputs": [
        {
          "output_type": "execute_result",
          "data": {
            "text/html": [
              "<div>\n",
              "<style scoped>\n",
              "    .dataframe tbody tr th:only-of-type {\n",
              "        vertical-align: middle;\n",
              "    }\n",
              "\n",
              "    .dataframe tbody tr th {\n",
              "        vertical-align: top;\n",
              "    }\n",
              "\n",
              "    .dataframe thead th {\n",
              "        text-align: right;\n",
              "    }\n",
              "</style>\n",
              "<table border=\"1\" class=\"dataframe\">\n",
              "  <thead>\n",
              "    <tr style=\"text-align: right;\">\n",
              "      <th></th>\n",
              "      <th>tags</th>\n",
              "      <th>body</th>\n",
              "    </tr>\n",
              "  </thead>\n",
              "  <tbody>\n",
              "    <tr>\n",
              "      <th>0</th>\n",
              "      <td>java</td>\n",
              "      <td>Here piece C code shows peculiar behavior For ...</td>\n",
              "    </tr>\n",
              "    <tr>\n",
              "      <th>1</th>\n",
              "      <td>git</td>\n",
              "      <td>I accidentally committed wrong files Git didnt...</td>\n",
              "    </tr>\n",
              "    <tr>\n",
              "      <th>2</th>\n",
              "      <td>git</td>\n",
              "      <td>I want delete branch locally remotely Failed A...</td>\n",
              "    </tr>\n",
              "    <tr>\n",
              "      <th>3</th>\n",
              "      <td>git</td>\n",
              "      <td>What differences</td>\n",
              "    </tr>\n",
              "    <tr>\n",
              "      <th>4</th>\n",
              "      <td>python</td>\n",
              "      <td>What use keyword Python What For example Im tr...</td>\n",
              "    </tr>\n",
              "  </tbody>\n",
              "</table>\n",
              "</div>"
            ],
            "text/plain": [
              "     tags                                               body\n",
              "0    java  Here piece C code shows peculiar behavior For ...\n",
              "1     git  I accidentally committed wrong files Git didnt...\n",
              "2     git  I want delete branch locally remotely Failed A...\n",
              "3     git                                   What differences\n",
              "4  python  What use keyword Python What For example Im tr..."
            ]
          },
          "metadata": {},
          "execution_count": 19
        }
      ]
    },
    {
      "cell_type": "code",
      "metadata": {
        "id": "nIfpZaHUn0Si",
        "colab": {
          "base_uri": "https://localhost:8080/",
          "height": 206
        },
        "outputId": "22a958a0-93c0-4321-c080-b065342a9ab1"
      },
      "source": [
        "# Source: https://www.machinelearningplus.com/nlp/lemmatization-examples-python/\n",
        "def get_wordnet_pos(word):\n",
        "    \"\"\"Map POS tag to first character lemmatize() accepts\"\"\"\n",
        "    tag = nltk.pos_tag([word])[0][1][0].upper()\n",
        "    tag_dict = {\"J\": wordnet.ADJ,\n",
        "                \"N\": wordnet.NOUN,\n",
        "                \"V\": wordnet.VERB,\n",
        "                \"R\": wordnet.ADV}\n",
        "\n",
        "    return tag_dict.get(tag, wordnet.NOUN)\n",
        "\n",
        "# Lemmatize words\n",
        "lemmatizer = WordNetLemmatizer()\n",
        "df_filtered['body'] = df_filtered['body'].apply(\n",
        "    lambda x: ' '.join([lemmatizer.lemmatize(word, get_wordnet_pos(word)) for word in x.split()]))\n",
        "df_filtered.head()"
      ],
      "execution_count": 20,
      "outputs": [
        {
          "output_type": "execute_result",
          "data": {
            "text/html": [
              "<div>\n",
              "<style scoped>\n",
              "    .dataframe tbody tr th:only-of-type {\n",
              "        vertical-align: middle;\n",
              "    }\n",
              "\n",
              "    .dataframe tbody tr th {\n",
              "        vertical-align: top;\n",
              "    }\n",
              "\n",
              "    .dataframe thead th {\n",
              "        text-align: right;\n",
              "    }\n",
              "</style>\n",
              "<table border=\"1\" class=\"dataframe\">\n",
              "  <thead>\n",
              "    <tr style=\"text-align: right;\">\n",
              "      <th></th>\n",
              "      <th>tags</th>\n",
              "      <th>body</th>\n",
              "    </tr>\n",
              "  </thead>\n",
              "  <tbody>\n",
              "    <tr>\n",
              "      <th>0</th>\n",
              "      <td>java</td>\n",
              "      <td>Here piece C code show peculiar behavior For s...</td>\n",
              "    </tr>\n",
              "    <tr>\n",
              "      <th>1</th>\n",
              "      <td>git</td>\n",
              "      <td>I accidentally commit wrong file Git didnt pus...</td>\n",
              "    </tr>\n",
              "    <tr>\n",
              "      <th>2</th>\n",
              "      <td>git</td>\n",
              "      <td>I want delete branch locally remotely Failed A...</td>\n",
              "    </tr>\n",
              "    <tr>\n",
              "      <th>3</th>\n",
              "      <td>git</td>\n",
              "      <td>What difference</td>\n",
              "    </tr>\n",
              "    <tr>\n",
              "      <th>4</th>\n",
              "      <td>python</td>\n",
              "      <td>What use keyword Python What For example Im tr...</td>\n",
              "    </tr>\n",
              "  </tbody>\n",
              "</table>\n",
              "</div>"
            ],
            "text/plain": [
              "     tags                                               body\n",
              "0    java  Here piece C code show peculiar behavior For s...\n",
              "1     git  I accidentally commit wrong file Git didnt pus...\n",
              "2     git  I want delete branch locally remotely Failed A...\n",
              "3     git                                    What difference\n",
              "4  python  What use keyword Python What For example Im tr..."
            ]
          },
          "metadata": {},
          "execution_count": 20
        }
      ]
    },
    {
      "cell_type": "code",
      "metadata": {
        "_uuid": "804d35db-b463-4f83-8bb5-05696d279cba",
        "_cell_guid": "32dc0179-3eb4-421d-a991-b4e50705d59d",
        "execution": {
          "iopub.status.busy": "2021-11-18T08:56:44.939301Z",
          "iopub.execute_input": "2021-11-18T08:56:44.939708Z",
          "iopub.status.idle": "2021-11-18T08:56:44.948290Z",
          "shell.execute_reply.started": "2021-11-18T08:56:44.939673Z",
          "shell.execute_reply": "2021-11-18T08:56:44.947411Z"
        },
        "jupyter": {
          "outputs_hidden": false
        },
        "trusted": true,
        "id": "dZM4FT4kT3by",
        "colab": {
          "base_uri": "https://localhost:8080/"
        },
        "outputId": "d9a71e17-18fb-4602-994b-09ea4ac89fc6"
      },
      "source": [
        "# Check class imbalance:\n",
        "print(df_filtered.groupby(df_filtered['tags']).size())"
      ],
      "execution_count": 21,
      "outputs": [
        {
          "output_type": "stream",
          "name": "stdout",
          "text": [
            "tags\n",
            ".net                   16\n",
            "algorithm              21\n",
            "android               146\n",
            "android-studio          7\n",
            "angular                17\n",
            "angularjs              14\n",
            "arrays                  7\n",
            "asp.net                 7\n",
            "bash                   85\n",
            "batch-file              8\n",
            "c                      31\n",
            "c#                    222\n",
            "c++                   123\n",
            "css                    77\n",
            "database                7\n",
            "docker                 35\n",
            "eclipse                 8\n",
            "git                   398\n",
            "github                 12\n",
            "haskell                 6\n",
            "html                  132\n",
            "http                   16\n",
            "ios                    57\n",
            "java                  295\n",
            "javascript            601\n",
            "jquery                 43\n",
            "json                   14\n",
            "language-agnostic      14\n",
            "linux                  62\n",
            "macos                  17\n",
            "mongodb                10\n",
            "mysql                  48\n",
            "node.js                58\n",
            "objective-c            11\n",
            "oop                    12\n",
            "php                    86\n",
            "postgresql             17\n",
            "python                531\n",
            "r                      22\n",
            "reactjs                 8\n",
            "regex                  17\n",
            "rest                   10\n",
            "ruby                   26\n",
            "ruby-on-rails          18\n",
            "security                7\n",
            "shell                  11\n",
            "sql                    66\n",
            "sql-server             23\n",
            "string                 15\n",
            "svn                     9\n",
            "swift                  11\n",
            "typescript              8\n",
            "unit-testing            6\n",
            "unix                   10\n",
            "vim                    28\n",
            "visual-studio          16\n",
            "visual-studio-code     18\n",
            "windows                34\n",
            "xcode                  10\n",
            "dtype: int64\n"
          ]
        }
      ]
    },
    {
      "cell_type": "markdown",
      "metadata": {
        "_uuid": "3e47d8d7-b296-445c-bd20-e47dc836ba32",
        "_cell_guid": "939331e3-43f2-4025-bf1b-05d4f930c062",
        "trusted": true,
        "id": "iFV12cSlT3bz"
      },
      "source": [
        "## Prepare data"
      ]
    },
    {
      "cell_type": "code",
      "metadata": {
        "_uuid": "bfe5b6e8-9098-422a-82d0-7e0b877ad97a",
        "_cell_guid": "9f8148c4-cf0b-4867-bce8-55a92ecee5f8",
        "execution": {
          "iopub.status.busy": "2021-11-18T09:04:40.360320Z",
          "iopub.execute_input": "2021-11-18T09:04:40.360901Z",
          "iopub.status.idle": "2021-11-18T09:04:40.375274Z",
          "shell.execute_reply.started": "2021-11-18T09:04:40.360860Z",
          "shell.execute_reply": "2021-11-18T09:04:40.374484Z"
        },
        "jupyter": {
          "outputs_hidden": false
        },
        "trusted": true,
        "id": "bf4ameRsT3b0",
        "colab": {
          "base_uri": "https://localhost:8080/",
          "height": 206
        },
        "outputId": "8c6cd115-2a96-4ee9-dd6f-2c9b79ec8440"
      },
      "source": [
        "df_filtered['label'] = pd.factorize(df_filtered['tags'])[0]\n",
        "df_filtered.head()"
      ],
      "execution_count": 22,
      "outputs": [
        {
          "output_type": "execute_result",
          "data": {
            "text/html": [
              "<div>\n",
              "<style scoped>\n",
              "    .dataframe tbody tr th:only-of-type {\n",
              "        vertical-align: middle;\n",
              "    }\n",
              "\n",
              "    .dataframe tbody tr th {\n",
              "        vertical-align: top;\n",
              "    }\n",
              "\n",
              "    .dataframe thead th {\n",
              "        text-align: right;\n",
              "    }\n",
              "</style>\n",
              "<table border=\"1\" class=\"dataframe\">\n",
              "  <thead>\n",
              "    <tr style=\"text-align: right;\">\n",
              "      <th></th>\n",
              "      <th>tags</th>\n",
              "      <th>body</th>\n",
              "      <th>label</th>\n",
              "    </tr>\n",
              "  </thead>\n",
              "  <tbody>\n",
              "    <tr>\n",
              "      <th>0</th>\n",
              "      <td>java</td>\n",
              "      <td>Here piece C code show peculiar behavior For s...</td>\n",
              "      <td>0</td>\n",
              "    </tr>\n",
              "    <tr>\n",
              "      <th>1</th>\n",
              "      <td>git</td>\n",
              "      <td>I accidentally commit wrong file Git didnt pus...</td>\n",
              "      <td>1</td>\n",
              "    </tr>\n",
              "    <tr>\n",
              "      <th>2</th>\n",
              "      <td>git</td>\n",
              "      <td>I want delete branch locally remotely Failed A...</td>\n",
              "      <td>1</td>\n",
              "    </tr>\n",
              "    <tr>\n",
              "      <th>3</th>\n",
              "      <td>git</td>\n",
              "      <td>What difference</td>\n",
              "      <td>1</td>\n",
              "    </tr>\n",
              "    <tr>\n",
              "      <th>4</th>\n",
              "      <td>python</td>\n",
              "      <td>What use keyword Python What For example Im tr...</td>\n",
              "      <td>2</td>\n",
              "    </tr>\n",
              "  </tbody>\n",
              "</table>\n",
              "</div>"
            ],
            "text/plain": [
              "     tags                                               body  label\n",
              "0    java  Here piece C code show peculiar behavior For s...      0\n",
              "1     git  I accidentally commit wrong file Git didnt pus...      1\n",
              "2     git  I want delete branch locally remotely Failed A...      1\n",
              "3     git                                    What difference      1\n",
              "4  python  What use keyword Python What For example Im tr...      2"
            ]
          },
          "metadata": {},
          "execution_count": 22
        }
      ]
    },
    {
      "cell_type": "code",
      "metadata": {
        "_uuid": "d75ba10e-88bf-4ba6-995a-0244e53a3f5e",
        "_cell_guid": "ca7c046e-4708-4bd6-9d4c-7f08d7ba2416",
        "execution": {
          "iopub.status.busy": "2021-11-18T09:04:40.515318Z",
          "iopub.execute_input": "2021-11-18T09:04:40.515575Z",
          "iopub.status.idle": "2021-11-18T09:04:40.710919Z",
          "shell.execute_reply.started": "2021-11-18T09:04:40.515532Z",
          "shell.execute_reply": "2021-11-18T09:04:40.710045Z"
        },
        "jupyter": {
          "outputs_hidden": false
        },
        "trusted": true,
        "id": "FpFKcxRCT3b0",
        "colab": {
          "base_uri": "https://localhost:8080/"
        },
        "outputId": "dd1a16a1-768d-4eec-cf50-ac56439f7a3b"
      },
      "source": [
        "vectorizer = CountVectorizer(min_df=0, lowercase=False)\n",
        "vectorizer.fit(df_filtered['body'])\n",
        "vectorizer.transform(df_filtered['body']).toarray()"
      ],
      "execution_count": 23,
      "outputs": [
        {
          "output_type": "execute_result",
          "data": {
            "text/plain": [
              "array([[0, 0, 0, ..., 0, 0, 0],\n",
              "       [0, 0, 0, ..., 0, 0, 0],\n",
              "       [0, 0, 0, ..., 0, 0, 0],\n",
              "       ...,\n",
              "       [0, 0, 0, ..., 0, 0, 0],\n",
              "       [0, 0, 0, ..., 0, 0, 0],\n",
              "       [0, 0, 0, ..., 0, 0, 0]])"
            ]
          },
          "metadata": {},
          "execution_count": 23
        }
      ]
    },
    {
      "cell_type": "code",
      "metadata": {
        "_uuid": "8351f5bb-3ac7-4d1b-a9b2-ee38bdfa4a73",
        "_cell_guid": "72cb57bd-f458-4d34-b10b-e699ec34db40",
        "execution": {
          "iopub.status.busy": "2021-11-18T09:04:40.712620Z",
          "iopub.execute_input": "2021-11-18T09:04:40.712905Z",
          "iopub.status.idle": "2021-11-18T09:04:40.725589Z",
          "shell.execute_reply.started": "2021-11-18T09:04:40.712866Z",
          "shell.execute_reply": "2021-11-18T09:04:40.724577Z"
        },
        "jupyter": {
          "outputs_hidden": false
        },
        "trusted": true,
        "id": "P3CaGbeQT3b0",
        "colab": {
          "base_uri": "https://localhost:8080/"
        },
        "outputId": "6a334c91-1c75-4053-8fc1-87ded90b6d96"
      },
      "source": [
        "# Use stratified splits because of class imbalance\n",
        "X = df_filtered['body']\n",
        "y = df_filtered['label']\n",
        "\n",
        "# Initial train and test split.\n",
        "X_train, X_test, y_train, y_test = train_test_split(X, y, test_size=0.2, random_state=132)\n",
        "\n",
        "# Splitting the test set further into validation and new test sets.\n",
        "X_test, X_val, y_test, y_val = train_test_split(X_test, y_test, test_size=0.5, random_state=23)\n",
        "\n",
        "print(f\"Number of rows in training set: {len(X_train)}\")\n",
        "print(f\"Number of rows in validation set: {len(X_val)}\")\n",
        "print(f\"Number of rows in test set: {len(X_test)}\")"
      ],
      "execution_count": 24,
      "outputs": [
        {
          "output_type": "stream",
          "name": "stdout",
          "text": [
            "Number of rows in training set: 2915\n",
            "Number of rows in validation set: 365\n",
            "Number of rows in test set: 364\n"
          ]
        }
      ]
    },
    {
      "cell_type": "code",
      "metadata": {
        "_uuid": "cb6d4992-a636-45bb-ac20-bca6cee5c98f",
        "_cell_guid": "843fae3a-7ba8-4e4e-abe0-451e63b03326",
        "execution": {
          "iopub.status.busy": "2021-11-18T09:04:40.819519Z",
          "iopub.execute_input": "2021-11-18T09:04:40.819718Z",
          "iopub.status.idle": "2021-11-18T09:04:40.899666Z",
          "shell.execute_reply.started": "2021-11-18T09:04:40.819695Z",
          "shell.execute_reply": "2021-11-18T09:04:40.898972Z"
        },
        "jupyter": {
          "outputs_hidden": false
        },
        "trusted": true,
        "id": "CW4KvvslT3b1"
      },
      "source": [
        "X_train = vectorizer.transform(X_train)\n",
        "X_test = vectorizer.transform(X_test)\n",
        "X_val = vectorizer.transform(X_val)"
      ],
      "execution_count": 25,
      "outputs": []
    },
    {
      "cell_type": "code",
      "metadata": {
        "_uuid": "2795708a-d074-4690-8e68-2e8377b2decd",
        "_cell_guid": "13acf96a-4541-4d55-b90c-4a4152f07de0",
        "execution": {
          "iopub.status.busy": "2021-11-18T09:04:41.967821Z",
          "iopub.execute_input": "2021-11-18T09:04:41.968319Z",
          "iopub.status.idle": "2021-11-18T09:04:41.973635Z",
          "shell.execute_reply.started": "2021-11-18T09:04:41.968280Z",
          "shell.execute_reply": "2021-11-18T09:04:41.972653Z"
        },
        "jupyter": {
          "outputs_hidden": false
        },
        "trusted": true,
        "id": "HgyOLw9oT3b2",
        "colab": {
          "base_uri": "https://localhost:8080/"
        },
        "outputId": "f3c0d0de-5f2d-4c67-e931-2614539f0cf7"
      },
      "source": [
        "# Dataset preview\n",
        "print(f'X_train shape: {X_train.shape}')\n",
        "print(f'X_test shape: {X_test.shape}')\n",
        "print(f'X_val shape: {X_val.shape}')\n",
        "print(f'y_train shape: {y_train.shape}')"
      ],
      "execution_count": 26,
      "outputs": [
        {
          "output_type": "stream",
          "name": "stdout",
          "text": [
            "X_train shape: (2915, 21734)\n",
            "X_test shape: (364, 21734)\n",
            "X_val shape: (365, 21734)\n",
            "y_train shape: (2915,)\n"
          ]
        }
      ]
    },
    {
      "cell_type": "code",
      "metadata": {
        "_uuid": "e9e8831d-6b05-40a8-a61a-1cc6f23726f9",
        "_cell_guid": "73cf81f4-fa63-48eb-97bc-6401fbf31f5c",
        "execution": {
          "iopub.status.busy": "2021-11-18T09:04:44.221747Z",
          "iopub.execute_input": "2021-11-18T09:04:44.222193Z",
          "iopub.status.idle": "2021-11-18T09:04:44.227989Z",
          "shell.execute_reply.started": "2021-11-18T09:04:44.222156Z",
          "shell.execute_reply": "2021-11-18T09:04:44.227268Z"
        },
        "jupyter": {
          "outputs_hidden": false
        },
        "trusted": true,
        "id": "SfbzgvZOT3b2",
        "colab": {
          "base_uri": "https://localhost:8080/"
        },
        "outputId": "fbef0ec7-893f-4bc1-96cd-65cfcde9796b"
      },
      "source": [
        "y_train.shape"
      ],
      "execution_count": 27,
      "outputs": [
        {
          "output_type": "execute_result",
          "data": {
            "text/plain": [
              "(2915,)"
            ]
          },
          "metadata": {},
          "execution_count": 27
        }
      ]
    },
    {
      "cell_type": "markdown",
      "metadata": {
        "_uuid": "eb57c47d-3ac2-4d79-9f8b-bbe8e2c884aa",
        "_cell_guid": "237d546b-8ae9-44a7-aa2d-65c4ee7effea",
        "trusted": true,
        "id": "D3uMGZXwT3b3"
      },
      "source": [
        "## Create model"
      ]
    },
    {
      "cell_type": "code",
      "metadata": {
        "_uuid": "7b7c5452-6b96-46af-990b-4d63a6992821",
        "_cell_guid": "87eba012-bee0-495c-84a4-18d99911edf4",
        "execution": {
          "iopub.status.busy": "2021-11-18T09:04:46.285719Z",
          "iopub.execute_input": "2021-11-18T09:04:46.286217Z",
          "iopub.status.idle": "2021-11-18T09:04:46.292889Z",
          "shell.execute_reply.started": "2021-11-18T09:04:46.286176Z",
          "shell.execute_reply": "2021-11-18T09:04:46.291517Z"
        },
        "jupyter": {
          "outputs_hidden": false
        },
        "trusted": true,
        "id": "XUO7sskKT3b3",
        "colab": {
          "base_uri": "https://localhost:8080/"
        },
        "outputId": "242bfc02-c7d5-4c43-e81a-62beee3f7aba"
      },
      "source": [
        "# Amount of columns in data:\n",
        "input_dim = X_train.shape[1]\n",
        "\n",
        "# Amount of unique labels:\n",
        "output_dim = y_train.nunique()\n",
        "\n",
        "print(f'Input dim: {input_dim}')\n",
        "print(f'Output dim: {output_dim}')"
      ],
      "execution_count": 28,
      "outputs": [
        {
          "output_type": "stream",
          "name": "stdout",
          "text": [
            "Input dim: 21734\n",
            "Output dim: 59\n"
          ]
        }
      ]
    },
    {
      "cell_type": "code",
      "metadata": {
        "_uuid": "61c22ee3-9299-417c-b0ee-7802b7af4125",
        "_cell_guid": "0cce1f92-4f0e-468c-9cf9-bd49e7949794",
        "execution": {
          "iopub.status.busy": "2021-11-18T09:04:48.144949Z",
          "iopub.execute_input": "2021-11-18T09:04:48.145218Z",
          "iopub.status.idle": "2021-11-18T09:04:48.155392Z",
          "shell.execute_reply.started": "2021-11-18T09:04:48.145188Z",
          "shell.execute_reply": "2021-11-18T09:04:48.154434Z"
        },
        "jupyter": {
          "outputs_hidden": false
        },
        "trusted": true,
        "id": "hF6w3v6VT3b4"
      },
      "source": [
        "# Reshape labels\n",
        "label_encoder = LabelEncoder()\n",
        "y_train = np.array(label_encoder.fit_transform(y_train))\n",
        "y_val = np.array(label_encoder.fit_transform(y_val))\n",
        "y_test = np.array(label_encoder.fit_transform(y_test))\n",
        "\n",
        "y_train = tf.one_hot(y_train, depth=output_dim)\n",
        "y_val = tf.one_hot(y_val, depth=output_dim)\n",
        "y_test = tf.one_hot(y_test, depth=output_dim)"
      ],
      "execution_count": 29,
      "outputs": []
    },
    {
      "cell_type": "code",
      "metadata": {
        "_uuid": "45195067-272a-4d59-b8fc-af7f09f491c4",
        "_cell_guid": "19df4404-6fbe-4a3f-a4cd-5b770e5ced01",
        "execution": {
          "iopub.status.busy": "2021-11-18T09:04:48.760458Z",
          "iopub.execute_input": "2021-11-18T09:04:48.761001Z",
          "iopub.status.idle": "2021-11-18T09:04:48.766703Z",
          "shell.execute_reply.started": "2021-11-18T09:04:48.760963Z",
          "shell.execute_reply": "2021-11-18T09:04:48.765798Z"
        },
        "jupyter": {
          "outputs_hidden": false
        },
        "trusted": true,
        "id": "iqvKqvpIT3b4"
      },
      "source": [
        "# First define baseline model. Then use it in Keras Classifier for the training\n",
        "def baseline_model():\n",
        "    # Create model here\n",
        "    model = Sequential()\n",
        "    model.add(Dense(128, input_dim = input_dim, activation = 'relu')) # Rectified Linear Unit Activation Function\n",
        "    model.add(Dense(64, activation = 'relu'))\n",
        "    model.add(Dense(32, activation = 'relu'))\n",
        "\n",
        "    model.add(Dense(output_dim, activation = 'softmax')) # Softmax for multi-class classification\n",
        "    # Compile model here\n",
        "    model.compile(loss = 'categorical_crossentropy', optimizer = 'adam', metrics = ['accuracy'])\n",
        "    return model"
      ],
      "execution_count": 30,
      "outputs": []
    },
    {
      "cell_type": "markdown",
      "metadata": {
        "_uuid": "12fe43c9-3181-4de3-8621-ca4bd97f6990",
        "_cell_guid": "49dcc4e9-5060-4ad7-aa6a-a81a9aeec7c9",
        "trusted": true,
        "id": "nuf8IjAsT3b4"
      },
      "source": [
        "## Evaluate model"
      ]
    },
    {
      "cell_type": "code",
      "metadata": {
        "_uuid": "7efdf9ff-6189-442b-88ff-794ffeb010f7",
        "_cell_guid": "cd644068-31a8-4a32-bc70-3f2895e4e7d0",
        "execution": {
          "iopub.status.busy": "2021-11-18T09:04:50.393154Z",
          "iopub.execute_input": "2021-11-18T09:04:50.393433Z",
          "iopub.status.idle": "2021-11-18T09:04:50.437238Z",
          "shell.execute_reply.started": "2021-11-18T09:04:50.393402Z",
          "shell.execute_reply": "2021-11-18T09:04:50.436578Z"
        },
        "jupyter": {
          "outputs_hidden": false
        },
        "trusted": true,
        "id": "gfWngi4eT3b5",
        "colab": {
          "base_uri": "https://localhost:8080/"
        },
        "outputId": "b6362523-72c0-4bc2-b39b-e4b7cfeb8a40"
      },
      "source": [
        "model = baseline_model()\n",
        "\n",
        "model.compile(\n",
        "    loss=\"binary_crossentropy\", optimizer=\"adam\", metrics=[\"categorical_accuracy\"]\n",
        ")\n",
        "\n",
        "model.summary()"
      ],
      "execution_count": 31,
      "outputs": [
        {
          "output_type": "stream",
          "name": "stdout",
          "text": [
            "Model: \"sequential\"\n",
            "_________________________________________________________________\n",
            " Layer (type)                Output Shape              Param #   \n",
            "=================================================================\n",
            " dense (Dense)               (None, 128)               2782080   \n",
            "                                                                 \n",
            " dense_1 (Dense)             (None, 64)                8256      \n",
            "                                                                 \n",
            " dense_2 (Dense)             (None, 32)                2080      \n",
            "                                                                 \n",
            " dense_3 (Dense)             (None, 59)                1947      \n",
            "                                                                 \n",
            "=================================================================\n",
            "Total params: 2,794,363\n",
            "Trainable params: 2,794,363\n",
            "Non-trainable params: 0\n",
            "_________________________________________________________________\n"
          ]
        }
      ]
    },
    {
      "cell_type": "code",
      "metadata": {
        "_uuid": "8d026945-ae77-4175-b210-5f200f5c6fa7",
        "_cell_guid": "496e92cf-0524-4672-b646-ad826f8ab39b",
        "execution": {
          "iopub.status.busy": "2021-11-18T09:04:51.897553Z",
          "iopub.execute_input": "2021-11-18T09:04:51.898087Z",
          "iopub.status.idle": "2021-11-18T09:04:51.901747Z",
          "shell.execute_reply.started": "2021-11-18T09:04:51.898047Z",
          "shell.execute_reply": "2021-11-18T09:04:51.901069Z"
        },
        "jupyter": {
          "outputs_hidden": false
        },
        "trusted": true,
        "id": "Pv1fbMCyT3b5"
      },
      "source": [
        "# For Keras, convert dataframe to array values (Inbuilt requirement of Keras)\n",
        "X = X_train\n",
        "y = y_train"
      ],
      "execution_count": 32,
      "outputs": []
    },
    {
      "cell_type": "code",
      "metadata": {
        "_uuid": "1d1a620c-b219-4d64-b36a-9b2808ff971a",
        "_cell_guid": "63df68b9-ee27-49df-8ef3-27547be288bb",
        "execution": {
          "iopub.status.busy": "2021-11-18T09:04:52.241856Z",
          "iopub.execute_input": "2021-11-18T09:04:52.242180Z",
          "iopub.status.idle": "2021-11-18T09:04:54.976113Z",
          "shell.execute_reply.started": "2021-11-18T09:04:52.242149Z",
          "shell.execute_reply": "2021-11-18T09:04:54.975218Z"
        },
        "jupyter": {
          "outputs_hidden": false
        },
        "trusted": true,
        "id": "Yf9aO-bzT3b5",
        "colab": {
          "base_uri": "https://localhost:8080/",
          "height": 1000
        },
        "outputId": "408e8bed-d999-45ef-cdba-c233b9245972"
      },
      "source": [
        "history = model.fit(X, y, validation_data=[X_val, y_val], batch_size = 128, epochs = 15, verbose = 1)\n",
        "\n",
        "def plot_result(item):\n",
        "    plt.plot(history.history[item], label=item)\n",
        "    plt.plot(history.history[\"val_\" + item], label=\"val_\" + item)\n",
        "    plt.xlabel(\"Epochs\")\n",
        "    plt.ylabel(item)\n",
        "    plt.title(\"Train and Validation {} Over Epochs\".format(item), fontsize=14)\n",
        "    plt.legend()\n",
        "    plt.grid()\n",
        "    plt.show()\n",
        "\n",
        "\n",
        "plot_result(\"loss\")\n",
        "plot_result(\"categorical_accuracy\")"
      ],
      "execution_count": 33,
      "outputs": [
        {
          "output_type": "stream",
          "name": "stdout",
          "text": [
            "Epoch 1/15\n"
          ]
        },
        {
          "output_type": "stream",
          "name": "stderr",
          "text": [
            "/usr/local/lib/python3.7/dist-packages/tensorflow/python/framework/indexed_slices.py:450: UserWarning: Converting sparse IndexedSlices(IndexedSlices(indices=Tensor(\"gradient_tape/sequential/dense/embedding_lookup_sparse/Reshape_1:0\", shape=(None,), dtype=int32), values=Tensor(\"gradient_tape/sequential/dense/embedding_lookup_sparse/Reshape:0\", shape=(None, 128), dtype=float32), dense_shape=Tensor(\"gradient_tape/sequential/dense/embedding_lookup_sparse/Cast:0\", shape=(2,), dtype=int32))) to a dense Tensor of unknown shape. This may consume a large amount of memory.\n",
            "  \"shape. This may consume a large amount of memory.\" % value)\n"
          ]
        },
        {
          "output_type": "stream",
          "name": "stdout",
          "text": [
            "23/23 [==============================] - 3s 56ms/step - loss: 0.5854 - categorical_accuracy: 0.0034 - val_loss: 0.4186 - val_categorical_accuracy: 0.0000e+00\n",
            "Epoch 2/15\n",
            "23/23 [==============================] - 1s 47ms/step - loss: 0.2555 - categorical_accuracy: 0.0223 - val_loss: 0.1449 - val_categorical_accuracy: 0.1178\n",
            "Epoch 3/15\n",
            "23/23 [==============================] - 1s 46ms/step - loss: 0.1137 - categorical_accuracy: 0.1828 - val_loss: 0.1076 - val_categorical_accuracy: 0.2411\n",
            "Epoch 4/15\n",
            "23/23 [==============================] - 1s 47ms/step - loss: 0.0871 - categorical_accuracy: 0.3527 - val_loss: 0.0962 - val_categorical_accuracy: 0.2877\n",
            "Epoch 5/15\n",
            "23/23 [==============================] - 1s 43ms/step - loss: 0.0717 - categorical_accuracy: 0.4206 - val_loss: 0.0871 - val_categorical_accuracy: 0.3342\n",
            "Epoch 6/15\n",
            "23/23 [==============================] - 1s 48ms/step - loss: 0.0604 - categorical_accuracy: 0.4655 - val_loss: 0.0802 - val_categorical_accuracy: 0.3589\n",
            "Epoch 7/15\n",
            "23/23 [==============================] - 1s 46ms/step - loss: 0.0513 - categorical_accuracy: 0.5084 - val_loss: 0.0750 - val_categorical_accuracy: 0.4137\n",
            "Epoch 8/15\n",
            "23/23 [==============================] - 1s 43ms/step - loss: 0.0438 - categorical_accuracy: 0.5770 - val_loss: 0.0719 - val_categorical_accuracy: 0.4356\n",
            "Epoch 9/15\n",
            "23/23 [==============================] - 1s 49ms/step - loss: 0.0373 - categorical_accuracy: 0.6443 - val_loss: 0.0702 - val_categorical_accuracy: 0.4548\n",
            "Epoch 10/15\n",
            "23/23 [==============================] - 1s 46ms/step - loss: 0.0316 - categorical_accuracy: 0.7070 - val_loss: 0.0702 - val_categorical_accuracy: 0.4548\n",
            "Epoch 11/15\n",
            "23/23 [==============================] - 1s 48ms/step - loss: 0.0265 - categorical_accuracy: 0.7674 - val_loss: 0.0717 - val_categorical_accuracy: 0.4740\n",
            "Epoch 12/15\n",
            "23/23 [==============================] - 1s 50ms/step - loss: 0.0222 - categorical_accuracy: 0.8158 - val_loss: 0.0739 - val_categorical_accuracy: 0.4795\n",
            "Epoch 13/15\n",
            "23/23 [==============================] - 1s 51ms/step - loss: 0.0186 - categorical_accuracy: 0.8552 - val_loss: 0.0760 - val_categorical_accuracy: 0.4849\n",
            "Epoch 14/15\n",
            "23/23 [==============================] - 1s 49ms/step - loss: 0.0155 - categorical_accuracy: 0.8933 - val_loss: 0.0815 - val_categorical_accuracy: 0.4685\n",
            "Epoch 15/15\n",
            "23/23 [==============================] - 1s 45ms/step - loss: 0.0130 - categorical_accuracy: 0.9153 - val_loss: 0.0852 - val_categorical_accuracy: 0.4740\n"
          ]
        },
        {
          "output_type": "display_data",
          "data": {
            "image/png": "[encoded data removed]",
            "text/plain": [
              "<Figure size 432x288 with 1 Axes>"
            ]
          },
          "metadata": {
            "needs_background": "light"
          }
        },
        {
          "output_type": "display_data",
          "data": {
            "image/png": "[encoded data removed]",
            "text/plain": [
              "<Figure size 432x288 with 1 Axes>"
            ]
          },
          "metadata": {
            "needs_background": "light"
          }
        }
      ]
    },
    {
      "cell_type": "code",
      "metadata": {
        "_uuid": "1473a20a-8d5d-4f41-918a-cc33e5a9f2bc",
        "_cell_guid": "84907cf5-1ce8-42e0-99f6-1821797a600a",
        "execution": {
          "iopub.status.busy": "2021-11-18T09:04:59.304057Z",
          "iopub.execute_input": "2021-11-18T09:04:59.304301Z",
          "iopub.status.idle": "2021-11-18T09:04:59.438871Z",
          "shell.execute_reply.started": "2021-11-18T09:04:59.304272Z",
          "shell.execute_reply": "2021-11-18T09:04:59.437309Z"
        },
        "jupyter": {
          "outputs_hidden": false
        },
        "trusted": true,
        "id": "DsFD0DsdT3b5",
        "colab": {
          "base_uri": "https://localhost:8080/"
        },
        "outputId": "7bd441ad-089d-4558-86bf-e5ea84efac27"
      },
      "source": [
        "_, categorical_acc = model.evaluate(X_test, y_test)\n",
        "print(f\"Categorical accuracy on the test set: {round(categorical_acc * 100, 2)}%.\")"
      ],
      "execution_count": null,
      "outputs": [
        {
          "output_type": "stream",
          "name": "stdout",
          "text": [
            "11/11 [==============================] - 0s 3ms/step - loss: 0.1710 - categorical_accuracy: 0.7198\n",
            "Categorical accuracy on the test set: 71.98%.\n"
          ]
        }
      ]
    },
    {
      "cell_type": "code",
      "metadata": {
        "_uuid": "92bbda91-7f8a-44f0-8888-d9b30924e816",
        "_cell_guid": "fce979f6-5607-4d95-ab8e-c6d9a130a293",
        "jupyter": {
          "outputs_hidden": false
        },
        "trusted": true,
        "id": "M1BkvDE0T3b6"
      },
      "source": [
        ""
      ],
      "execution_count": null,
      "outputs": []
    }
  ]
}