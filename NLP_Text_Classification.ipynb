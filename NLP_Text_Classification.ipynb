{
  "nbformat": 4,
  "nbformat_minor": 0,
  "metadata": {
    "kernelspec": {
      "language": "python",
      "display_name": "Python 3",
      "name": "python3"
    },
    "language_info": {
      "pygments_lexer": "ipython3",
      "nbconvert_exporter": "python",
      "version": "3.6.4",
      "file_extension": ".py",
      "codemirror_mode": {
        "name": "ipython",
        "version": 3
      },
      "name": "python",
      "mimetype": "text/x-python"
    },
    "colab": {
      "name": "NLP Text Classification",
      "provenance": [],
      "collapsed_sections": [],
      "include_colab_link": true
    }
  },
  "cells": [
    {
      "cell_type": "markdown",
      "metadata": {
        "id": "view-in-github",
        "colab_type": "text"
      },
      "source": [
        "<a href=\"https://colab.research.google.com/github/EnsarIshakoglu/NLP/blob/master/NLP_Text_Classification.ipynb\" target=\"_parent\"><img src=\"https://colab.research.google.com/assets/colab-badge.svg\" alt=\"Open In Colab\"/></a>"
      ]
    },
    {
      "cell_type": "code",
      "metadata": {
        "_uuid": "935329e7-815b-4377-874b-38ca768865f2",
        "_cell_guid": "f7832109-87a9-4266-bb22-e819083e084c",
        "execution": {
          "iopub.status.busy": "2021-11-18T08:52:35.870893Z",
          "iopub.execute_input": "2021-11-18T08:52:35.871339Z",
          "iopub.status.idle": "2021-11-18T08:52:42.798162Z",
          "shell.execute_reply.started": "2021-11-18T08:52:35.871298Z",
          "shell.execute_reply": "2021-11-18T08:52:42.797316Z"
        },
        "jupyter": {
          "outputs_hidden": false
        },
        "trusted": true,
        "colab": {
          "base_uri": "https://localhost:8080/"
        },
        "id": "YqfVPrH9T3bd",
        "outputId": "1e409f1d-5602-4449-be59-04394abd55c9"
      },
      "source": [
        "# Source: https://keras.io/examples/nlp/multi_label_classification/#introduction\n",
        "from tensorflow.keras import layers\n",
        "from tensorflow import keras\n",
        "import tensorflow as tf\n",
        "from ast import literal_eval\n",
        "\n",
        "# Tensorflow\n",
        "import tensorflow as tf\n",
        "!pip install tensorflow_addons\n",
        "import tensorflow_addons as tfa\n",
        "\n",
        "# Keras\n",
        "from keras.wrappers.scikit_learn import KerasClassifier\n",
        "from keras.models import Sequential, Input\n",
        "from keras.layers import Dense, Conv1D, SeparableConv1D, BatchNormalization, MaxPool1D, Dropout, Flatten, Embedding\n",
        "\n",
        "# SKlearn\n",
        "from sklearn.model_selection import train_test_split\n",
        "from sklearn.model_selection import cross_val_score\n",
        "from sklearn.model_selection import KFold\n",
        "from sklearn.preprocessing import MinMaxScaler\n",
        "from sklearn.preprocessing import LabelEncoder\n",
        "from sklearn.feature_extraction.text import CountVectorizer\n",
        "\n",
        "# Data processing\n",
        "import matplotlib.pyplot as plt\n",
        "import pandas as pd\n",
        "import numpy as np\n",
        "\n",
        "# NLTK\n",
        "import nltk\n",
        "from nltk.stem import WordNetLemmatizer\n",
        "from nltk.corpus import stopwords\n",
        "from nltk.stem import WordNetLemmatizer\n",
        "from nltk.corpus import wordnet\n",
        "nltk.download('wordnet')\n",
        "nltk.download('stopwords')\n",
        "nltk.download('averaged_perceptron_tagger')\n",
        "\n",
        "# Stackapi to fetch stackoverflow api\n",
        "!pip install stackapi\n",
        "from stackapi import StackAPI"
      ],
      "execution_count": 231,
      "outputs": [
        {
          "output_type": "stream",
          "name": "stdout",
          "text": [
            "Requirement already satisfied: tensorflow_addons in /usr/local/lib/python3.7/dist-packages (0.15.0)\n",
            "Requirement already satisfied: typeguard>=2.7 in /usr/local/lib/python3.7/dist-packages (from tensorflow_addons) (2.7.1)\n",
            "[nltk_data] Downloading package wordnet to /root/nltk_data...\n",
            "[nltk_data]   Package wordnet is already up-to-date!\n",
            "[nltk_data] Downloading package stopwords to /root/nltk_data...\n",
            "[nltk_data]   Package stopwords is already up-to-date!\n",
            "[nltk_data] Downloading package averaged_perceptron_tagger to\n",
            "[nltk_data]     /root/nltk_data...\n",
            "[nltk_data]   Package averaged_perceptron_tagger is already up-to-\n",
            "[nltk_data]       date!\n",
            "Requirement already satisfied: stackapi in /usr/local/lib/python3.7/dist-packages (0.2.0)\n",
            "Requirement already satisfied: requests in /usr/local/lib/python3.7/dist-packages (from stackapi) (2.23.0)\n",
            "Requirement already satisfied: six in /usr/local/lib/python3.7/dist-packages (from stackapi) (1.15.0)\n",
            "Requirement already satisfied: urllib3!=1.25.0,!=1.25.1,<1.26,>=1.21.1 in /usr/local/lib/python3.7/dist-packages (from requests->stackapi) (1.24.3)\n",
            "Requirement already satisfied: chardet<4,>=3.0.2 in /usr/local/lib/python3.7/dist-packages (from requests->stackapi) (3.0.4)\n",
            "Requirement already satisfied: certifi>=2017.4.17 in /usr/local/lib/python3.7/dist-packages (from requests->stackapi) (2021.10.8)\n",
            "Requirement already satisfied: idna<3,>=2.5 in /usr/local/lib/python3.7/dist-packages (from requests->stackapi) (2.10)\n"
          ]
        }
      ]
    },
    {
      "cell_type": "markdown",
      "metadata": {
        "id": "cX5X4xhqabeI"
      },
      "source": [
        "### Mount colab drive to google drive"
      ]
    },
    {
      "cell_type": "code",
      "metadata": {
        "id": "pGt6RbgySmTR",
        "colab": {
          "base_uri": "https://localhost:8080/"
        },
        "outputId": "7158f674-10d8-415f-d9d6-8f61fe9abfed"
      },
      "source": [
        "from google.colab import drive\n",
        "drive.mount('/content/drive')"
      ],
      "execution_count": 232,
      "outputs": [
        {
          "output_type": "stream",
          "name": "stdout",
          "text": [
            "Mounted at /content/drive\n"
          ]
        }
      ]
    },
    {
      "cell_type": "markdown",
      "metadata": {
        "_uuid": "cd8ab0fa-e99a-4837-9d07-6bedca16f4ad",
        "_cell_guid": "27a0b46b-904c-48ef-946f-970a6d0f4fb6",
        "trusted": true,
        "id": "bG7FuSZMT3bk"
      },
      "source": [
        "## Fetch data"
      ]
    },
    {
      "cell_type": "code",
      "metadata": {
        "id": "SHjpvi1MWTPJ"
      },
      "source": [
        "# Get the data from stackoverflow sorted by votes\n",
        "def fetch_data():\n",
        "  data = []\n",
        "  page_count = 16\n",
        "  SITE = StackAPI('stackoverflow')\n",
        "\n",
        "  for i in range(page_count):\n",
        "    data.append(SITE.fetch('questions', sort=\"votes\", min=20, filter='withbody', page=i + 1))\n",
        "  \n",
        "  return data"
      ],
      "execution_count": 233,
      "outputs": []
    },
    {
      "cell_type": "markdown",
      "metadata": {
        "id": "pZWjtjucXZk1"
      },
      "source": [
        "## Remove useless data"
      ]
    },
    {
      "cell_type": "code",
      "metadata": {
        "id": "gmY-K07YW_FI"
      },
      "source": [
        "def clean_data(data):\n",
        "  raw_df = pd.DataFrame(pd.DataFrame.from_dict(data[0]['items']))\n",
        "  for i in range(len(data) - 1):\n",
        "    raw_df = raw_df.append(pd.DataFrame.from_dict(data[i + 1]['items']))\n",
        "  \n",
        "  df = raw_df[['tags', 'body']]\n",
        "\n",
        "  # Strip html tags with regex:\n",
        "  df['body'] = df['body'].str.replace(r'<[^<>]*>', '', regex=True)\n",
        "\n",
        "  # Get first tag for multi-class classification\n",
        "  row_count = df.shape[0]\n",
        "\n",
        "  for i in range(row_count):\n",
        "    df['tags'].iloc[i] = df['tags'].iloc[i][0]\n",
        "  \n",
        "  return df"
      ],
      "execution_count": 234,
      "outputs": []
    },
    {
      "cell_type": "markdown",
      "metadata": {
        "id": "Ft2veo6bajpz"
      },
      "source": [
        "### Create folder and file from df, unmout drive after"
      ]
    },
    {
      "cell_type": "code",
      "metadata": {
        "id": "GXasm52uSns_",
        "colab": {
          "base_uri": "https://localhost:8080/"
        },
        "outputId": "fb3f6878-9160-4e12-b1bf-9018f1e37693"
      },
      "source": [
        "from os.path import exists\n",
        "\n",
        "!mkdir stackoverflow\n",
        "\n",
        "if not exists('/content/stackoverflow/questions.csv'):\n",
        "  data = fetch_data()\n",
        "  df = clean_data(data)\n",
        "  df.to_csv('/content/stackoverflow/questions.csv')\n",
        "  print(\"Fetched data from stackoverflow, removed the useless data and saved it in stackoverflow/questions.csv\")\n",
        "\n",
        "drive.flush_and_unmount()"
      ],
      "execution_count": 235,
      "outputs": [
        {
          "output_type": "stream",
          "name": "stdout",
          "text": [
            "mkdir: cannot create directory ‘stackoverflow’: File exists\n"
          ]
        }
      ]
    },
    {
      "cell_type": "markdown",
      "metadata": {
        "id": "XlrQln74au2T"
      },
      "source": [
        "### Load file from drive"
      ]
    },
    {
      "cell_type": "code",
      "metadata": {
        "id": "I1InpULeaN4l",
        "colab": {
          "base_uri": "https://localhost:8080/",
          "height": 206
        },
        "outputId": "92bd9467-283a-4cb7-a7f7-d8b08096cb8b"
      },
      "source": [
        "df = pd.read_csv('/content/stackoverflow/questions.csv')\n",
        "\n",
        "df.head()"
      ],
      "execution_count": 211,
      "outputs": [
        {
          "output_type": "execute_result",
          "data": {
            "text/html": [
              "<div>\n",
              "<style scoped>\n",
              "    .dataframe tbody tr th:only-of-type {\n",
              "        vertical-align: middle;\n",
              "    }\n",
              "\n",
              "    .dataframe tbody tr th {\n",
              "        vertical-align: top;\n",
              "    }\n",
              "\n",
              "    .dataframe thead th {\n",
              "        text-align: right;\n",
              "    }\n",
              "</style>\n",
              "<table border=\"1\" class=\"dataframe\">\n",
              "  <thead>\n",
              "    <tr style=\"text-align: right;\">\n",
              "      <th></th>\n",
              "      <th>Unnamed: 0</th>\n",
              "      <th>tags</th>\n",
              "      <th>body</th>\n",
              "    </tr>\n",
              "  </thead>\n",
              "  <tbody>\n",
              "    <tr>\n",
              "      <th>0</th>\n",
              "      <td>0</td>\n",
              "      <td>java</td>\n",
              "      <td>Here is a piece of C++ code that shows some ve...</td>\n",
              "    </tr>\n",
              "    <tr>\n",
              "      <th>1</th>\n",
              "      <td>1</td>\n",
              "      <td>git</td>\n",
              "      <td>I accidentally committed the wrong files to Gi...</td>\n",
              "    </tr>\n",
              "    <tr>\n",
              "      <th>2</th>\n",
              "      <td>2</td>\n",
              "      <td>git</td>\n",
              "      <td>I want to delete a branch both locally and rem...</td>\n",
              "    </tr>\n",
              "    <tr>\n",
              "      <th>3</th>\n",
              "      <td>3</td>\n",
              "      <td>git</td>\n",
              "      <td>What are the differences between git pull and ...</td>\n",
              "    </tr>\n",
              "    <tr>\n",
              "      <th>4</th>\n",
              "      <td>4</td>\n",
              "      <td>python</td>\n",
              "      <td>What is the use of the yield keyword in Python...</td>\n",
              "    </tr>\n",
              "  </tbody>\n",
              "</table>\n",
              "</div>"
            ],
            "text/plain": [
              "   Unnamed: 0    tags                                               body\n",
              "0           0    java  Here is a piece of C++ code that shows some ve...\n",
              "1           1     git  I accidentally committed the wrong files to Gi...\n",
              "2           2     git  I want to delete a branch both locally and rem...\n",
              "3           3     git  What are the differences between git pull and ...\n",
              "4           4  python  What is the use of the yield keyword in Python..."
            ]
          },
          "metadata": {},
          "execution_count": 211
        }
      ]
    },
    {
      "cell_type": "code",
      "metadata": {
        "_uuid": "f76b7aed-1453-43c3-8fd6-b5b2975745c5",
        "_cell_guid": "93e5cfbc-0042-418d-975e-49198d762bbc",
        "execution": {
          "iopub.status.busy": "2021-11-18T08:56:42.617124Z",
          "iopub.execute_input": "2021-11-18T08:56:42.617630Z",
          "iopub.status.idle": "2021-11-18T08:56:42.628289Z",
          "shell.execute_reply.started": "2021-11-18T08:56:42.617593Z",
          "shell.execute_reply": "2021-11-18T08:56:42.627547Z"
        },
        "jupyter": {
          "outputs_hidden": false
        },
        "trusted": true,
        "id": "ddE71wzjT3bt",
        "colab": {
          "base_uri": "https://localhost:8080/"
        },
        "outputId": "2df1fcc4-2438-40a7-ed2f-898265fe1398"
      },
      "source": [
        "print(f\"There are {len(df['body'].unique())} rows in the dataset.\")"
      ],
      "execution_count": 236,
      "outputs": [
        {
          "output_type": "stream",
          "name": "stdout",
          "text": [
            "There are 2000 rows in the dataset.\n"
          ]
        }
      ]
    },
    {
      "cell_type": "code",
      "metadata": {
        "_uuid": "9bd0590f-4430-49f9-9af6-e53a65efcc84",
        "_cell_guid": "56e348ea-0b56-460a-9886-15594c5a4022",
        "execution": {
          "iopub.status.busy": "2021-11-18T08:56:42.630012Z",
          "iopub.execute_input": "2021-11-18T08:56:42.630495Z",
          "iopub.status.idle": "2021-11-18T08:56:42.638376Z",
          "shell.execute_reply.started": "2021-11-18T08:56:42.630460Z",
          "shell.execute_reply": "2021-11-18T08:56:42.637643Z"
        },
        "jupyter": {
          "outputs_hidden": false
        },
        "trusted": true,
        "id": "91v21KDhT3bt",
        "colab": {
          "base_uri": "https://localhost:8080/"
        },
        "outputId": "9e21152a-cb4a-43d8-a93e-c145f32e2f9d"
      },
      "source": [
        "df = df[~df['body'].duplicated()]\n",
        "print(f\"There are {len(df)} rows in the deduplicated dataset.\")"
      ],
      "execution_count": 237,
      "outputs": [
        {
          "output_type": "stream",
          "name": "stdout",
          "text": [
            "There are 2000 rows in the deduplicated dataset.\n"
          ]
        }
      ]
    },
    {
      "cell_type": "code",
      "metadata": {
        "_uuid": "39c58fe5-ac22-4c40-a07a-48220e52b081",
        "_cell_guid": "b16a1519-94a9-4dbc-9f16-caa61b93aa3b",
        "execution": {
          "iopub.status.busy": "2021-11-18T08:56:44.087385Z",
          "iopub.execute_input": "2021-11-18T08:56:44.087900Z",
          "iopub.status.idle": "2021-11-18T08:56:44.103181Z",
          "shell.execute_reply.started": "2021-11-18T08:56:44.087853Z",
          "shell.execute_reply": "2021-11-18T08:56:44.102340Z"
        },
        "jupyter": {
          "outputs_hidden": false
        },
        "trusted": true,
        "id": "wSsklTTaT3bv",
        "colab": {
          "base_uri": "https://localhost:8080/"
        },
        "outputId": "0ef4db10-75d7-4e34-d223-69393d302c02"
      },
      "source": [
        "# There are a lot of terms with occurrence below 6.\n",
        "threshold = 20\n",
        "\n",
        "print(sum(df['tags'].value_counts() < threshold))\n",
        "\n",
        "# How many unique terms?\n",
        "print(df['tags'].nunique())"
      ],
      "execution_count": 238,
      "outputs": [
        {
          "output_type": "stream",
          "name": "stdout",
          "text": [
            "129\n",
            "145\n"
          ]
        }
      ]
    },
    {
      "cell_type": "code",
      "metadata": {
        "_uuid": "768030f8-0963-4c7f-8dd9-e8b032950f4b",
        "_cell_guid": "a5f2be9e-44d7-465f-a64c-6f8724af49a1",
        "execution": {
          "iopub.status.busy": "2021-11-18T08:56:44.489512Z",
          "iopub.execute_input": "2021-11-18T08:56:44.489831Z",
          "iopub.status.idle": "2021-11-18T08:56:44.511147Z",
          "shell.execute_reply.started": "2021-11-18T08:56:44.489795Z",
          "shell.execute_reply": "2021-11-18T08:56:44.510543Z"
        },
        "jupyter": {
          "outputs_hidden": false
        },
        "trusted": true,
        "id": "MGLEcLMPT3bx",
        "colab": {
          "base_uri": "https://localhost:8080/"
        },
        "outputId": "fc8b1c77-8f0d-4ced-da1b-44d867298bd7"
      },
      "source": [
        "# Filtering the rare terms because there is not enough data to train properly with.\n",
        "df_filtered = df.groupby(\"tags\").filter(lambda x: len(x) > threshold)\n",
        "df_filtered.shape"
      ],
      "execution_count": 239,
      "outputs": [
        {
          "output_type": "execute_result",
          "data": {
            "text/plain": [
              "(1595, 3)"
            ]
          },
          "metadata": {},
          "execution_count": 239
        }
      ]
    },
    {
      "cell_type": "code",
      "metadata": {
        "id": "mbUq7xY3nYsS",
        "colab": {
          "base_uri": "https://localhost:8080/",
          "height": 206
        },
        "outputId": "0049f147-59b7-4878-bcb0-66822348b04b"
      },
      "source": [
        "# Remove punctuation\n",
        "df_filtered['body'] = df_filtered['body'].replace('[^\\w\\s]','', regex=True)\n",
        "df_filtered['body'] = df_filtered['body'].replace(r'\\s+|\\\\n', ' ', regex=True) \n",
        "    \n",
        "df_filtered.head()"
      ],
      "execution_count": 216,
      "outputs": [
        {
          "output_type": "execute_result",
          "data": {
            "text/html": [
              "<div>\n",
              "<style scoped>\n",
              "    .dataframe tbody tr th:only-of-type {\n",
              "        vertical-align: middle;\n",
              "    }\n",
              "\n",
              "    .dataframe tbody tr th {\n",
              "        vertical-align: top;\n",
              "    }\n",
              "\n",
              "    .dataframe thead th {\n",
              "        text-align: right;\n",
              "    }\n",
              "</style>\n",
              "<table border=\"1\" class=\"dataframe\">\n",
              "  <thead>\n",
              "    <tr style=\"text-align: right;\">\n",
              "      <th></th>\n",
              "      <th>Unnamed: 0</th>\n",
              "      <th>tags</th>\n",
              "      <th>body</th>\n",
              "    </tr>\n",
              "  </thead>\n",
              "  <tbody>\n",
              "    <tr>\n",
              "      <th>0</th>\n",
              "      <td>0</td>\n",
              "      <td>java</td>\n",
              "      <td>Here is a piece of C code that shows some very...</td>\n",
              "    </tr>\n",
              "    <tr>\n",
              "      <th>1</th>\n",
              "      <td>1</td>\n",
              "      <td>git</td>\n",
              "      <td>I accidentally committed the wrong files to Gi...</td>\n",
              "    </tr>\n",
              "    <tr>\n",
              "      <th>2</th>\n",
              "      <td>2</td>\n",
              "      <td>git</td>\n",
              "      <td>I want to delete a branch both locally and rem...</td>\n",
              "    </tr>\n",
              "    <tr>\n",
              "      <th>3</th>\n",
              "      <td>3</td>\n",
              "      <td>git</td>\n",
              "      <td>What are the differences between git pull and ...</td>\n",
              "    </tr>\n",
              "    <tr>\n",
              "      <th>4</th>\n",
              "      <td>4</td>\n",
              "      <td>python</td>\n",
              "      <td>What is the use of the yield keyword in Python...</td>\n",
              "    </tr>\n",
              "  </tbody>\n",
              "</table>\n",
              "</div>"
            ],
            "text/plain": [
              "   Unnamed: 0    tags                                               body\n",
              "0           0    java  Here is a piece of C code that shows some very...\n",
              "1           1     git  I accidentally committed the wrong files to Gi...\n",
              "2           2     git  I want to delete a branch both locally and rem...\n",
              "3           3     git  What are the differences between git pull and ...\n",
              "4           4  python  What is the use of the yield keyword in Python..."
            ]
          },
          "metadata": {},
          "execution_count": 216
        }
      ]
    },
    {
      "cell_type": "code",
      "metadata": {
        "id": "ixIWwEJ2nq2I",
        "colab": {
          "base_uri": "https://localhost:8080/",
          "height": 206
        },
        "outputId": "9cdd0217-bb36-4812-ef5e-a778534161f1"
      },
      "source": [
        "# Source: https://stackoverflow.com/questions/29523254/python-remove-stop-words-from-pandas-dataframe\n",
        "\n",
        "stop = stopwords.words('english')\n",
        "\n",
        "# Exclude stopwords with Python's list comprehension and pandas.DataFrame.apply.\n",
        "df_filtered['body'] = df_filtered['body'].apply(lambda x: ' '.join([word for word in x.split() if word not in (stop)]))\n",
        "df_filtered.head()"
      ],
      "execution_count": 217,
      "outputs": [
        {
          "output_type": "execute_result",
          "data": {
            "text/html": [
              "<div>\n",
              "<style scoped>\n",
              "    .dataframe tbody tr th:only-of-type {\n",
              "        vertical-align: middle;\n",
              "    }\n",
              "\n",
              "    .dataframe tbody tr th {\n",
              "        vertical-align: top;\n",
              "    }\n",
              "\n",
              "    .dataframe thead th {\n",
              "        text-align: right;\n",
              "    }\n",
              "</style>\n",
              "<table border=\"1\" class=\"dataframe\">\n",
              "  <thead>\n",
              "    <tr style=\"text-align: right;\">\n",
              "      <th></th>\n",
              "      <th>Unnamed: 0</th>\n",
              "      <th>tags</th>\n",
              "      <th>body</th>\n",
              "    </tr>\n",
              "  </thead>\n",
              "  <tbody>\n",
              "    <tr>\n",
              "      <th>0</th>\n",
              "      <td>0</td>\n",
              "      <td>java</td>\n",
              "      <td>Here piece C code shows peculiar behavior For ...</td>\n",
              "    </tr>\n",
              "    <tr>\n",
              "      <th>1</th>\n",
              "      <td>1</td>\n",
              "      <td>git</td>\n",
              "      <td>I accidentally committed wrong files Git didnt...</td>\n",
              "    </tr>\n",
              "    <tr>\n",
              "      <th>2</th>\n",
              "      <td>2</td>\n",
              "      <td>git</td>\n",
              "      <td>I want delete branch locally remotely Failed A...</td>\n",
              "    </tr>\n",
              "    <tr>\n",
              "      <th>3</th>\n",
              "      <td>3</td>\n",
              "      <td>git</td>\n",
              "      <td>What differences git pull git fetch</td>\n",
              "    </tr>\n",
              "    <tr>\n",
              "      <th>4</th>\n",
              "      <td>4</td>\n",
              "      <td>python</td>\n",
              "      <td>What use yield keyword Python What For example...</td>\n",
              "    </tr>\n",
              "  </tbody>\n",
              "</table>\n",
              "</div>"
            ],
            "text/plain": [
              "   Unnamed: 0    tags                                               body\n",
              "0           0    java  Here piece C code shows peculiar behavior For ...\n",
              "1           1     git  I accidentally committed wrong files Git didnt...\n",
              "2           2     git  I want delete branch locally remotely Failed A...\n",
              "3           3     git                What differences git pull git fetch\n",
              "4           4  python  What use yield keyword Python What For example..."
            ]
          },
          "metadata": {},
          "execution_count": 217
        }
      ]
    },
    {
      "cell_type": "code",
      "metadata": {
        "id": "nIfpZaHUn0Si",
        "colab": {
          "base_uri": "https://localhost:8080/",
          "height": 206
        },
        "outputId": "3670aa31-5426-4aed-f7c2-f6e2b39c2290"
      },
      "source": [
        "# Source: https://www.machinelearningplus.com/nlp/lemmatization-examples-python/\n",
        "def get_wordnet_pos(word):\n",
        "    \"\"\"Map POS tag to first character lemmatize() accepts\"\"\"\n",
        "    tag = nltk.pos_tag([word])[0][1][0].upper()\n",
        "    tag_dict = {\"J\": wordnet.ADJ,\n",
        "                \"N\": wordnet.NOUN,\n",
        "                \"V\": wordnet.VERB,\n",
        "                \"R\": wordnet.ADV}\n",
        "\n",
        "    return tag_dict.get(tag, wordnet.NOUN)\n",
        "\n",
        "# Lemmatize words\n",
        "lemmatizer = WordNetLemmatizer()\n",
        "df_filtered['body'] = df_filtered['body'].apply(\n",
        "    lambda x: ' '.join([lemmatizer.lemmatize(word, get_wordnet_pos(word)) for word in x.split()]))\n",
        "df_filtered.head()"
      ],
      "execution_count": 218,
      "outputs": [
        {
          "output_type": "execute_result",
          "data": {
            "text/html": [
              "<div>\n",
              "<style scoped>\n",
              "    .dataframe tbody tr th:only-of-type {\n",
              "        vertical-align: middle;\n",
              "    }\n",
              "\n",
              "    .dataframe tbody tr th {\n",
              "        vertical-align: top;\n",
              "    }\n",
              "\n",
              "    .dataframe thead th {\n",
              "        text-align: right;\n",
              "    }\n",
              "</style>\n",
              "<table border=\"1\" class=\"dataframe\">\n",
              "  <thead>\n",
              "    <tr style=\"text-align: right;\">\n",
              "      <th></th>\n",
              "      <th>Unnamed: 0</th>\n",
              "      <th>tags</th>\n",
              "      <th>body</th>\n",
              "    </tr>\n",
              "  </thead>\n",
              "  <tbody>\n",
              "    <tr>\n",
              "      <th>0</th>\n",
              "      <td>0</td>\n",
              "      <td>java</td>\n",
              "      <td>Here piece C code show peculiar behavior For s...</td>\n",
              "    </tr>\n",
              "    <tr>\n",
              "      <th>1</th>\n",
              "      <td>1</td>\n",
              "      <td>git</td>\n",
              "      <td>I accidentally commit wrong file Git didnt pus...</td>\n",
              "    </tr>\n",
              "    <tr>\n",
              "      <th>2</th>\n",
              "      <td>2</td>\n",
              "      <td>git</td>\n",
              "      <td>I want delete branch locally remotely Failed A...</td>\n",
              "    </tr>\n",
              "    <tr>\n",
              "      <th>3</th>\n",
              "      <td>3</td>\n",
              "      <td>git</td>\n",
              "      <td>What difference git pull git fetch</td>\n",
              "    </tr>\n",
              "    <tr>\n",
              "      <th>4</th>\n",
              "      <td>4</td>\n",
              "      <td>python</td>\n",
              "      <td>What use yield keyword Python What For example...</td>\n",
              "    </tr>\n",
              "  </tbody>\n",
              "</table>\n",
              "</div>"
            ],
            "text/plain": [
              "   Unnamed: 0    tags                                               body\n",
              "0           0    java  Here piece C code show peculiar behavior For s...\n",
              "1           1     git  I accidentally commit wrong file Git didnt pus...\n",
              "2           2     git  I want delete branch locally remotely Failed A...\n",
              "3           3     git                 What difference git pull git fetch\n",
              "4           4  python  What use yield keyword Python What For example..."
            ]
          },
          "metadata": {},
          "execution_count": 218
        }
      ]
    },
    {
      "cell_type": "code",
      "metadata": {
        "_uuid": "804d35db-b463-4f83-8bb5-05696d279cba",
        "_cell_guid": "32dc0179-3eb4-421d-a991-b4e50705d59d",
        "execution": {
          "iopub.status.busy": "2021-11-18T08:56:44.939301Z",
          "iopub.execute_input": "2021-11-18T08:56:44.939708Z",
          "iopub.status.idle": "2021-11-18T08:56:44.948290Z",
          "shell.execute_reply.started": "2021-11-18T08:56:44.939673Z",
          "shell.execute_reply": "2021-11-18T08:56:44.947411Z"
        },
        "jupyter": {
          "outputs_hidden": false
        },
        "trusted": true,
        "id": "dZM4FT4kT3by",
        "colab": {
          "base_uri": "https://localhost:8080/"
        },
        "outputId": "d420d5ae-0b7f-4129-86f0-2c2c3ed05631"
      },
      "source": [
        "# Check class imbalance:\n",
        "print(df_filtered.groupby(df_filtered['tags']).size())"
      ],
      "execution_count": 219,
      "outputs": [
        {
          "output_type": "stream",
          "name": "stdout",
          "text": [
            "tags\n",
            "android        59\n",
            "bash           44\n",
            "c#            108\n",
            "c++            61\n",
            "css            36\n",
            "git           253\n",
            "html           65\n",
            "ios            21\n",
            "java          147\n",
            "javascript    349\n",
            "linux          33\n",
            "mysql          23\n",
            "node.js        22\n",
            "php            44\n",
            "python        289\n",
            "sql            41\n",
            "dtype: int64\n"
          ]
        }
      ]
    },
    {
      "cell_type": "markdown",
      "metadata": {
        "_uuid": "3e47d8d7-b296-445c-bd20-e47dc836ba32",
        "_cell_guid": "939331e3-43f2-4025-bf1b-05d4f930c062",
        "trusted": true,
        "id": "iFV12cSlT3bz"
      },
      "source": [
        "## Prepare data"
      ]
    },
    {
      "cell_type": "code",
      "metadata": {
        "_uuid": "bfe5b6e8-9098-422a-82d0-7e0b877ad97a",
        "_cell_guid": "9f8148c4-cf0b-4867-bce8-55a92ecee5f8",
        "execution": {
          "iopub.status.busy": "2021-11-18T09:04:40.360320Z",
          "iopub.execute_input": "2021-11-18T09:04:40.360901Z",
          "iopub.status.idle": "2021-11-18T09:04:40.375274Z",
          "shell.execute_reply.started": "2021-11-18T09:04:40.360860Z",
          "shell.execute_reply": "2021-11-18T09:04:40.374484Z"
        },
        "jupyter": {
          "outputs_hidden": false
        },
        "trusted": true,
        "id": "bf4ameRsT3b0",
        "colab": {
          "base_uri": "https://localhost:8080/",
          "height": 206
        },
        "outputId": "b0e6f381-72d8-445a-98b1-c74c377119d1"
      },
      "source": [
        "df_filtered['label'] = pd.factorize(df_filtered['tags'])[0]\n",
        "df_filtered.head()"
      ],
      "execution_count": 220,
      "outputs": [
        {
          "output_type": "execute_result",
          "data": {
            "text/html": [
              "<div>\n",
              "<style scoped>\n",
              "    .dataframe tbody tr th:only-of-type {\n",
              "        vertical-align: middle;\n",
              "    }\n",
              "\n",
              "    .dataframe tbody tr th {\n",
              "        vertical-align: top;\n",
              "    }\n",
              "\n",
              "    .dataframe thead th {\n",
              "        text-align: right;\n",
              "    }\n",
              "</style>\n",
              "<table border=\"1\" class=\"dataframe\">\n",
              "  <thead>\n",
              "    <tr style=\"text-align: right;\">\n",
              "      <th></th>\n",
              "      <th>Unnamed: 0</th>\n",
              "      <th>tags</th>\n",
              "      <th>body</th>\n",
              "      <th>label</th>\n",
              "    </tr>\n",
              "  </thead>\n",
              "  <tbody>\n",
              "    <tr>\n",
              "      <th>0</th>\n",
              "      <td>0</td>\n",
              "      <td>java</td>\n",
              "      <td>Here piece C code show peculiar behavior For s...</td>\n",
              "      <td>0</td>\n",
              "    </tr>\n",
              "    <tr>\n",
              "      <th>1</th>\n",
              "      <td>1</td>\n",
              "      <td>git</td>\n",
              "      <td>I accidentally commit wrong file Git didnt pus...</td>\n",
              "      <td>1</td>\n",
              "    </tr>\n",
              "    <tr>\n",
              "      <th>2</th>\n",
              "      <td>2</td>\n",
              "      <td>git</td>\n",
              "      <td>I want delete branch locally remotely Failed A...</td>\n",
              "      <td>1</td>\n",
              "    </tr>\n",
              "    <tr>\n",
              "      <th>3</th>\n",
              "      <td>3</td>\n",
              "      <td>git</td>\n",
              "      <td>What difference git pull git fetch</td>\n",
              "      <td>1</td>\n",
              "    </tr>\n",
              "    <tr>\n",
              "      <th>4</th>\n",
              "      <td>4</td>\n",
              "      <td>python</td>\n",
              "      <td>What use yield keyword Python What For example...</td>\n",
              "      <td>2</td>\n",
              "    </tr>\n",
              "  </tbody>\n",
              "</table>\n",
              "</div>"
            ],
            "text/plain": [
              "   Unnamed: 0    tags                                               body  label\n",
              "0           0    java  Here piece C code show peculiar behavior For s...      0\n",
              "1           1     git  I accidentally commit wrong file Git didnt pus...      1\n",
              "2           2     git  I want delete branch locally remotely Failed A...      1\n",
              "3           3     git                 What difference git pull git fetch      1\n",
              "4           4  python  What use yield keyword Python What For example...      2"
            ]
          },
          "metadata": {},
          "execution_count": 220
        }
      ]
    },
    {
      "cell_type": "code",
      "metadata": {
        "_uuid": "d75ba10e-88bf-4ba6-995a-0244e53a3f5e",
        "_cell_guid": "ca7c046e-4708-4bd6-9d4c-7f08d7ba2416",
        "execution": {
          "iopub.status.busy": "2021-11-18T09:04:40.515318Z",
          "iopub.execute_input": "2021-11-18T09:04:40.515575Z",
          "iopub.status.idle": "2021-11-18T09:04:40.710919Z",
          "shell.execute_reply.started": "2021-11-18T09:04:40.515532Z",
          "shell.execute_reply": "2021-11-18T09:04:40.710045Z"
        },
        "jupyter": {
          "outputs_hidden": false
        },
        "trusted": true,
        "id": "FpFKcxRCT3b0",
        "colab": {
          "base_uri": "https://localhost:8080/"
        },
        "outputId": "3e02d8c9-2f28-49a9-bc45-15184a3f151d"
      },
      "source": [
        "vectorizer = CountVectorizer(min_df=0, lowercase=False)\n",
        "vectorizer.fit(df_filtered['body'])\n",
        "vectorizer.transform(df_filtered['body']).toarray()"
      ],
      "execution_count": 221,
      "outputs": [
        {
          "output_type": "execute_result",
          "data": {
            "text/plain": [
              "array([[0, 0, 0, ..., 0, 0, 0],\n",
              "       [0, 0, 0, ..., 0, 0, 0],\n",
              "       [0, 0, 0, ..., 0, 0, 0],\n",
              "       ...,\n",
              "       [0, 0, 0, ..., 0, 0, 0],\n",
              "       [0, 0, 0, ..., 0, 0, 0],\n",
              "       [0, 0, 0, ..., 0, 0, 0]])"
            ]
          },
          "metadata": {},
          "execution_count": 221
        }
      ]
    },
    {
      "cell_type": "code",
      "metadata": {
        "_uuid": "8351f5bb-3ac7-4d1b-a9b2-ee38bdfa4a73",
        "_cell_guid": "72cb57bd-f458-4d34-b10b-e699ec34db40",
        "execution": {
          "iopub.status.busy": "2021-11-18T09:04:40.712620Z",
          "iopub.execute_input": "2021-11-18T09:04:40.712905Z",
          "iopub.status.idle": "2021-11-18T09:04:40.725589Z",
          "shell.execute_reply.started": "2021-11-18T09:04:40.712866Z",
          "shell.execute_reply": "2021-11-18T09:04:40.724577Z"
        },
        "jupyter": {
          "outputs_hidden": false
        },
        "trusted": true,
        "id": "P3CaGbeQT3b0",
        "colab": {
          "base_uri": "https://localhost:8080/"
        },
        "outputId": "3365265b-1bc7-4910-be56-60a82899d3e7"
      },
      "source": [
        "# Use stratified splits because of class imbalance\n",
        "X = df_filtered['body']\n",
        "y = df_filtered['label']\n",
        "\n",
        "# Initial train and test split.\n",
        "X_train, X_test, y_train, y_test = train_test_split(X, y, test_size=0.2, random_state=132)\n",
        "\n",
        "# Splitting the test set further into validation and new test sets.\n",
        "X_test, X_val, y_test, y_val = train_test_split(X_test, y_test, test_size=0.5, random_state=23)\n",
        "\n",
        "print(f\"Number of rows in training set: {len(X_train)}\")\n",
        "print(f\"Number of rows in validation set: {len(X_val)}\")\n",
        "print(f\"Number of rows in test set: {len(X_test)}\")"
      ],
      "execution_count": 222,
      "outputs": [
        {
          "output_type": "stream",
          "name": "stdout",
          "text": [
            "Number of rows in training set: 1276\n",
            "Number of rows in validation set: 160\n",
            "Number of rows in test set: 159\n"
          ]
        }
      ]
    },
    {
      "cell_type": "code",
      "metadata": {
        "_uuid": "cb6d4992-a636-45bb-ac20-bca6cee5c98f",
        "_cell_guid": "843fae3a-7ba8-4e4e-abe0-451e63b03326",
        "execution": {
          "iopub.status.busy": "2021-11-18T09:04:40.819519Z",
          "iopub.execute_input": "2021-11-18T09:04:40.819718Z",
          "iopub.status.idle": "2021-11-18T09:04:40.899666Z",
          "shell.execute_reply.started": "2021-11-18T09:04:40.819695Z",
          "shell.execute_reply": "2021-11-18T09:04:40.898972Z"
        },
        "jupyter": {
          "outputs_hidden": false
        },
        "trusted": true,
        "id": "CW4KvvslT3b1"
      },
      "source": [
        "X_train = vectorizer.transform(X_train)\n",
        "X_test = vectorizer.transform(X_test)\n",
        "X_val = vectorizer.transform(X_val)"
      ],
      "execution_count": 223,
      "outputs": []
    },
    {
      "cell_type": "code",
      "metadata": {
        "_uuid": "2795708a-d074-4690-8e68-2e8377b2decd",
        "_cell_guid": "13acf96a-4541-4d55-b90c-4a4152f07de0",
        "execution": {
          "iopub.status.busy": "2021-11-18T09:04:41.967821Z",
          "iopub.execute_input": "2021-11-18T09:04:41.968319Z",
          "iopub.status.idle": "2021-11-18T09:04:41.973635Z",
          "shell.execute_reply.started": "2021-11-18T09:04:41.968280Z",
          "shell.execute_reply": "2021-11-18T09:04:41.972653Z"
        },
        "jupyter": {
          "outputs_hidden": false
        },
        "trusted": true,
        "id": "HgyOLw9oT3b2",
        "colab": {
          "base_uri": "https://localhost:8080/"
        },
        "outputId": "e6799c01-6f72-4bb5-bd0b-95a7a6a57dd0"
      },
      "source": [
        "# Dataset preview\n",
        "print(f'X_train shape: {X_train.shape}')\n",
        "print(f'X_test shape: {X_test.shape}')\n",
        "print(f'X_val shape: {X_val.shape}')"
      ],
      "execution_count": 224,
      "outputs": [
        {
          "output_type": "stream",
          "name": "stdout",
          "text": [
            "X_train shape: (1276, 11767)\n",
            "X_test shape: (159, 11767)\n",
            "X_val shape: (160, 11767)\n"
          ]
        }
      ]
    },
    {
      "cell_type": "code",
      "metadata": {
        "_uuid": "e9e8831d-6b05-40a8-a61a-1cc6f23726f9",
        "_cell_guid": "73cf81f4-fa63-48eb-97bc-6401fbf31f5c",
        "execution": {
          "iopub.status.busy": "2021-11-18T09:04:44.221747Z",
          "iopub.execute_input": "2021-11-18T09:04:44.222193Z",
          "iopub.status.idle": "2021-11-18T09:04:44.227989Z",
          "shell.execute_reply.started": "2021-11-18T09:04:44.222156Z",
          "shell.execute_reply": "2021-11-18T09:04:44.227268Z"
        },
        "jupyter": {
          "outputs_hidden": false
        },
        "trusted": true,
        "id": "SfbzgvZOT3b2",
        "colab": {
          "base_uri": "https://localhost:8080/"
        },
        "outputId": "61ca06e7-0e0a-4db5-e01a-c02a88c24d19"
      },
      "source": [
        "y_train.shape"
      ],
      "execution_count": 225,
      "outputs": [
        {
          "output_type": "execute_result",
          "data": {
            "text/plain": [
              "(1276,)"
            ]
          },
          "metadata": {},
          "execution_count": 225
        }
      ]
    },
    {
      "cell_type": "markdown",
      "metadata": {
        "_uuid": "eb57c47d-3ac2-4d79-9f8b-bbe8e2c884aa",
        "_cell_guid": "237d546b-8ae9-44a7-aa2d-65c4ee7effea",
        "trusted": true,
        "id": "D3uMGZXwT3b3"
      },
      "source": [
        "## Create model"
      ]
    },
    {
      "cell_type": "code",
      "metadata": {
        "_uuid": "7b7c5452-6b96-46af-990b-4d63a6992821",
        "_cell_guid": "87eba012-bee0-495c-84a4-18d99911edf4",
        "execution": {
          "iopub.status.busy": "2021-11-18T09:04:46.285719Z",
          "iopub.execute_input": "2021-11-18T09:04:46.286217Z",
          "iopub.status.idle": "2021-11-18T09:04:46.292889Z",
          "shell.execute_reply.started": "2021-11-18T09:04:46.286176Z",
          "shell.execute_reply": "2021-11-18T09:04:46.291517Z"
        },
        "jupyter": {
          "outputs_hidden": false
        },
        "trusted": true,
        "id": "XUO7sskKT3b3",
        "colab": {
          "base_uri": "https://localhost:8080/"
        },
        "outputId": "481534ee-4d3c-4ff3-d02f-6e1a1c1d8fbd"
      },
      "source": [
        "# Amount of columns in data:\n",
        "input_dim = X_train.shape[1]\n",
        "\n",
        "# Amount of unique labels:\n",
        "output_dim = y_train.nunique()\n",
        "\n",
        "print(f'Input dim: {input_dim}')\n",
        "print(f'Output dim: {output_dim}')"
      ],
      "execution_count": 226,
      "outputs": [
        {
          "output_type": "stream",
          "name": "stdout",
          "text": [
            "Input dim: 11767\n",
            "Output dim: 16\n"
          ]
        }
      ]
    },
    {
      "cell_type": "code",
      "metadata": {
        "_uuid": "61c22ee3-9299-417c-b0ee-7802b7af4125",
        "_cell_guid": "0cce1f92-4f0e-468c-9cf9-bd49e7949794",
        "execution": {
          "iopub.status.busy": "2021-11-18T09:04:48.144949Z",
          "iopub.execute_input": "2021-11-18T09:04:48.145218Z",
          "iopub.status.idle": "2021-11-18T09:04:48.155392Z",
          "shell.execute_reply.started": "2021-11-18T09:04:48.145188Z",
          "shell.execute_reply": "2021-11-18T09:04:48.154434Z"
        },
        "jupyter": {
          "outputs_hidden": false
        },
        "trusted": true,
        "id": "hF6w3v6VT3b4"
      },
      "source": [
        "# Reshape labels\n",
        "label_encoder = LabelEncoder()\n",
        "y_train = np.array(label_encoder.fit_transform(y_train))\n",
        "y_val = np.array(label_encoder.fit_transform(y_val))\n",
        "y_test = np.array(label_encoder.fit_transform(y_test))\n",
        "\n",
        "y_train = tf.one_hot(y_train, depth=output_dim)\n",
        "y_val = tf.one_hot(y_val, depth=output_dim)\n",
        "y_test = tf.one_hot(y_test, depth=output_dim)"
      ],
      "execution_count": 227,
      "outputs": []
    },
    {
      "cell_type": "code",
      "metadata": {
        "_uuid": "45195067-272a-4d59-b8fc-af7f09f491c4",
        "_cell_guid": "19df4404-6fbe-4a3f-a4cd-5b770e5ced01",
        "execution": {
          "iopub.status.busy": "2021-11-18T09:04:48.760458Z",
          "iopub.execute_input": "2021-11-18T09:04:48.761001Z",
          "iopub.status.idle": "2021-11-18T09:04:48.766703Z",
          "shell.execute_reply.started": "2021-11-18T09:04:48.760963Z",
          "shell.execute_reply": "2021-11-18T09:04:48.765798Z"
        },
        "jupyter": {
          "outputs_hidden": false
        },
        "trusted": true,
        "id": "iqvKqvpIT3b4"
      },
      "source": [
        "# First define baseline model. Then use it in Keras Classifier for the training\n",
        "def baseline_model():\n",
        "    # Create model here\n",
        "    model = Sequential()\n",
        "    model.add(Dense(128, input_dim = input_dim, activation = 'relu')) # Rectified Linear Unit Activation Function\n",
        "    model.add(Dense(64, activation = 'relu'))\n",
        "    model.add(Dense(32, activation = 'relu'))\n",
        "\n",
        "    model.add(Dense(output_dim, activation = 'softmax')) # Softmax for multi-class classification\n",
        "    # Compile model here\n",
        "    model.compile(loss = 'categorical_crossentropy', optimizer = 'adam', metrics = ['accuracy'])\n",
        "    return model"
      ],
      "execution_count": 244,
      "outputs": []
    },
    {
      "cell_type": "markdown",
      "metadata": {
        "_uuid": "12fe43c9-3181-4de3-8621-ca4bd97f6990",
        "_cell_guid": "49dcc4e9-5060-4ad7-aa6a-a81a9aeec7c9",
        "trusted": true,
        "id": "nuf8IjAsT3b4"
      },
      "source": [
        "## Evaluate model"
      ]
    },
    {
      "cell_type": "code",
      "metadata": {
        "_uuid": "7efdf9ff-6189-442b-88ff-794ffeb010f7",
        "_cell_guid": "cd644068-31a8-4a32-bc70-3f2895e4e7d0",
        "execution": {
          "iopub.status.busy": "2021-11-18T09:04:50.393154Z",
          "iopub.execute_input": "2021-11-18T09:04:50.393433Z",
          "iopub.status.idle": "2021-11-18T09:04:50.437238Z",
          "shell.execute_reply.started": "2021-11-18T09:04:50.393402Z",
          "shell.execute_reply": "2021-11-18T09:04:50.436578Z"
        },
        "jupyter": {
          "outputs_hidden": false
        },
        "trusted": true,
        "id": "gfWngi4eT3b5",
        "colab": {
          "base_uri": "https://localhost:8080/"
        },
        "outputId": "c18e2c15-f96f-40b2-8399-6fde5af8b1e3"
      },
      "source": [
        "model = baseline_model()\n",
        "\n",
        "model.compile(\n",
        "    loss=\"binary_crossentropy\", optimizer=\"adam\", metrics=[\"categorical_accuracy\"]\n",
        ")\n",
        "\n",
        "model.summary()"
      ],
      "execution_count": 251,
      "outputs": [
        {
          "output_type": "stream",
          "name": "stdout",
          "text": [
            "Model: \"sequential_23\"\n",
            "_________________________________________________________________\n",
            " Layer (type)                Output Shape              Param #   \n",
            "=================================================================\n",
            " dense_98 (Dense)            (None, 128)               1506304   \n",
            "                                                                 \n",
            " dense_99 (Dense)            (None, 64)                8256      \n",
            "                                                                 \n",
            " dense_100 (Dense)           (None, 32)                2080      \n",
            "                                                                 \n",
            " dense_101 (Dense)           (None, 16)                528       \n",
            "                                                                 \n",
            "=================================================================\n",
            "Total params: 1,517,168\n",
            "Trainable params: 1,517,168\n",
            "Non-trainable params: 0\n",
            "_________________________________________________________________\n"
          ]
        }
      ]
    },
    {
      "cell_type": "code",
      "metadata": {
        "_uuid": "8d026945-ae77-4175-b210-5f200f5c6fa7",
        "_cell_guid": "496e92cf-0524-4672-b646-ad826f8ab39b",
        "execution": {
          "iopub.status.busy": "2021-11-18T09:04:51.897553Z",
          "iopub.execute_input": "2021-11-18T09:04:51.898087Z",
          "iopub.status.idle": "2021-11-18T09:04:51.901747Z",
          "shell.execute_reply.started": "2021-11-18T09:04:51.898047Z",
          "shell.execute_reply": "2021-11-18T09:04:51.901069Z"
        },
        "jupyter": {
          "outputs_hidden": false
        },
        "trusted": true,
        "id": "Pv1fbMCyT3b5"
      },
      "source": [
        "# For Keras, convert dataframe to array values (Inbuilt requirement of Keras)\n",
        "X = X_train\n",
        "y = y_train"
      ],
      "execution_count": 252,
      "outputs": []
    },
    {
      "cell_type": "code",
      "metadata": {
        "_uuid": "1d1a620c-b219-4d64-b36a-9b2808ff971a",
        "_cell_guid": "63df68b9-ee27-49df-8ef3-27547be288bb",
        "execution": {
          "iopub.status.busy": "2021-11-18T09:04:52.241856Z",
          "iopub.execute_input": "2021-11-18T09:04:52.242180Z",
          "iopub.status.idle": "2021-11-18T09:04:54.976113Z",
          "shell.execute_reply.started": "2021-11-18T09:04:52.242149Z",
          "shell.execute_reply": "2021-11-18T09:04:54.975218Z"
        },
        "jupyter": {
          "outputs_hidden": false
        },
        "trusted": true,
        "id": "Yf9aO-bzT3b5",
        "colab": {
          "base_uri": "https://localhost:8080/",
          "height": 1000
        },
        "outputId": "bdf097ec-2b7e-43de-c371-a8674c88cfb0"
      },
      "source": [
        "history = model.fit(X, y, validation_data=[X_val, y_val], batch_size = 128, epochs = 17, verbose = 1)\n",
        "\n",
        "def plot_result(item):\n",
        "    plt.plot(history.history[item], label=item)\n",
        "    plt.plot(history.history[\"val_\" + item], label=\"val_\" + item)\n",
        "    plt.xlabel(\"Epochs\")\n",
        "    plt.ylabel(item)\n",
        "    plt.title(\"Train and Validation {} Over Epochs\".format(item), fontsize=14)\n",
        "    plt.legend()\n",
        "    plt.grid()\n",
        "    plt.show()\n",
        "\n",
        "\n",
        "plot_result(\"loss\")\n",
        "plot_result(\"categorical_accuracy\")"
      ],
      "execution_count": 253,
      "outputs": [
        {
          "output_type": "stream",
          "name": "stdout",
          "text": [
            "Epoch 1/17\n"
          ]
        },
        {
          "output_type": "stream",
          "name": "stderr",
          "text": [
            "/usr/local/lib/python3.7/dist-packages/tensorflow/python/framework/indexed_slices.py:450: UserWarning: Converting sparse IndexedSlices(IndexedSlices(indices=Tensor(\"gradient_tape/sequential_23/dense_98/embedding_lookup_sparse/Reshape_1:0\", shape=(None,), dtype=int32), values=Tensor(\"gradient_tape/sequential_23/dense_98/embedding_lookup_sparse/Reshape:0\", shape=(None, 128), dtype=float32), dense_shape=Tensor(\"gradient_tape/sequential_23/dense_98/embedding_lookup_sparse/Cast:0\", shape=(2,), dtype=int32))) to a dense Tensor of unknown shape. This may consume a large amount of memory.\n",
            "  \"shape. This may consume a large amount of memory.\" % value)\n"
          ]
        },
        {
          "output_type": "stream",
          "name": "stdout",
          "text": [
            "10/10 [==============================] - 1s 40ms/step - loss: 0.6417 - categorical_accuracy: 0.0517 - val_loss: 0.5701 - val_categorical_accuracy: 0.0500\n",
            "Epoch 2/17\n",
            "10/10 [==============================] - 0s 27ms/step - loss: 0.4770 - categorical_accuracy: 0.0792 - val_loss: 0.3895 - val_categorical_accuracy: 0.1562\n",
            "Epoch 3/17\n",
            "10/10 [==============================] - 0s 25ms/step - loss: 0.3255 - categorical_accuracy: 0.1803 - val_loss: 0.2803 - val_categorical_accuracy: 0.3125\n",
            "Epoch 4/17\n",
            "10/10 [==============================] - 0s 27ms/step - loss: 0.2513 - categorical_accuracy: 0.3817 - val_loss: 0.2367 - val_categorical_accuracy: 0.4437\n",
            "Epoch 5/17\n",
            "10/10 [==============================] - 0s 25ms/step - loss: 0.2040 - categorical_accuracy: 0.5290 - val_loss: 0.2120 - val_categorical_accuracy: 0.5063\n",
            "Epoch 6/17\n",
            "10/10 [==============================] - 0s 26ms/step - loss: 0.1654 - categorical_accuracy: 0.5807 - val_loss: 0.1921 - val_categorical_accuracy: 0.5437\n",
            "Epoch 7/17\n",
            "10/10 [==============================] - 0s 24ms/step - loss: 0.1348 - categorical_accuracy: 0.6755 - val_loss: 0.1761 - val_categorical_accuracy: 0.5562\n",
            "Epoch 8/17\n",
            "10/10 [==============================] - 0s 26ms/step - loss: 0.1094 - categorical_accuracy: 0.7484 - val_loss: 0.1617 - val_categorical_accuracy: 0.5813\n",
            "Epoch 9/17\n",
            "10/10 [==============================] - 0s 25ms/step - loss: 0.0879 - categorical_accuracy: 0.8174 - val_loss: 0.1529 - val_categorical_accuracy: 0.6125\n",
            "Epoch 10/17\n",
            "10/10 [==============================] - 0s 26ms/step - loss: 0.0703 - categorical_accuracy: 0.8934 - val_loss: 0.1454 - val_categorical_accuracy: 0.6062\n",
            "Epoch 11/17\n",
            "10/10 [==============================] - 0s 24ms/step - loss: 0.0558 - categorical_accuracy: 0.9287 - val_loss: 0.1443 - val_categorical_accuracy: 0.6250\n",
            "Epoch 12/17\n",
            "10/10 [==============================] - 0s 25ms/step - loss: 0.0441 - categorical_accuracy: 0.9569 - val_loss: 0.1433 - val_categorical_accuracy: 0.6375\n",
            "Epoch 13/17\n",
            "10/10 [==============================] - 0s 24ms/step - loss: 0.0350 - categorical_accuracy: 0.9765 - val_loss: 0.1450 - val_categorical_accuracy: 0.6375\n",
            "Epoch 14/17\n",
            "10/10 [==============================] - 0s 25ms/step - loss: 0.0279 - categorical_accuracy: 0.9804 - val_loss: 0.1487 - val_categorical_accuracy: 0.6375\n",
            "Epoch 15/17\n",
            "10/10 [==============================] - 0s 25ms/step - loss: 0.0223 - categorical_accuracy: 0.9867 - val_loss: 0.1527 - val_categorical_accuracy: 0.6375\n",
            "Epoch 16/17\n",
            "10/10 [==============================] - 0s 25ms/step - loss: 0.0180 - categorical_accuracy: 0.9929 - val_loss: 0.1582 - val_categorical_accuracy: 0.6500\n",
            "Epoch 17/17\n",
            "10/10 [==============================] - 0s 25ms/step - loss: 0.0146 - categorical_accuracy: 0.9961 - val_loss: 0.1633 - val_categorical_accuracy: 0.6625\n"
          ]
        },
        {
          "output_type": "display_data",
          "data": {
            "image/png": "[encoded data removed]",
            "text/plain": [
              "<Figure size 432x288 with 1 Axes>"
            ]
          },
          "metadata": {
            "needs_background": "light"
          }
        },
        {
          "output_type": "display_data",
          "data": {
            "image/png": "[encoded data removed]",
            "text/plain": [
              "<Figure size 432x288 with 1 Axes>"
            ]
          },
          "metadata": {
            "needs_background": "light"
          }
        }
      ]
    },
    {
      "cell_type": "code",
      "metadata": {
        "_uuid": "1473a20a-8d5d-4f41-918a-cc33e5a9f2bc",
        "_cell_guid": "84907cf5-1ce8-42e0-99f6-1821797a600a",
        "execution": {
          "iopub.status.busy": "2021-11-18T09:04:59.304057Z",
          "iopub.execute_input": "2021-11-18T09:04:59.304301Z",
          "iopub.status.idle": "2021-11-18T09:04:59.438871Z",
          "shell.execute_reply.started": "2021-11-18T09:04:59.304272Z",
          "shell.execute_reply": "2021-11-18T09:04:59.437309Z"
        },
        "jupyter": {
          "outputs_hidden": false
        },
        "trusted": true,
        "id": "DsFD0DsdT3b5",
        "colab": {
          "base_uri": "https://localhost:8080/"
        },
        "outputId": "d29f7845-9b52-4552-ceba-e817a2ebad0b"
      },
      "source": [
        "_, categorical_acc = model.evaluate(X_test, y_test)\n",
        "print(f\"Categorical accuracy on the test set: {round(categorical_acc * 100, 2)}%.\")"
      ],
      "execution_count": 254,
      "outputs": [
        {
          "output_type": "stream",
          "name": "stdout",
          "text": [
            "5/5 [==============================] - 0s 4ms/step - loss: 0.1764 - categorical_accuracy: 0.6792\n",
            "Categorical accuracy on the test set: 67.92%.\n"
          ]
        }
      ]
    },
    {
      "cell_type": "code",
      "metadata": {
        "_uuid": "92bbda91-7f8a-44f0-8888-d9b30924e816",
        "_cell_guid": "fce979f6-5607-4d95-ab8e-c6d9a130a293",
        "jupyter": {
          "outputs_hidden": false
        },
        "trusted": true,
        "id": "M1BkvDE0T3b6"
      },
      "source": [
        ""
      ],
      "execution_count": 230,
      "outputs": []
    }
  ]
}