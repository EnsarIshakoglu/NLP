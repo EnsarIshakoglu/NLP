{
  "nbformat": 4,
  "nbformat_minor": 0,
  "metadata": {
    "kernelspec": {
      "language": "python",
      "display_name": "Python 3",
      "name": "python3"
    },
    "language_info": {
      "pygments_lexer": "ipython3",
      "nbconvert_exporter": "python",
      "version": "3.6.4",
      "file_extension": ".py",
      "codemirror_mode": {
        "name": "ipython",
        "version": 3
      },
      "name": "python",
      "mimetype": "text/x-python"
    },
    "colab": {
      "name": "NLP Text Classification",
      "provenance": [],
      "collapsed_sections": [],
      "include_colab_link": true
    }
  },
  "cells": [
    {
      "cell_type": "markdown",
      "metadata": {
        "id": "view-in-github",
        "colab_type": "text"
      },
      "source": [
        "<a href=\"https://colab.research.google.com/github/EnsarIshakoglu/NLP/blob/topic-modelling/NLP_Text_Classification.ipynb\" target=\"_parent\"><img src=\"https://colab.research.google.com/assets/colab-badge.svg\" alt=\"Open In Colab\"/></a>"
      ]
    },
    {
      "cell_type": "code",
      "metadata": {
        "_uuid": "935329e7-815b-4377-874b-38ca768865f2",
        "_cell_guid": "f7832109-87a9-4266-bb22-e819083e084c",
        "execution": {
          "iopub.status.busy": "2021-11-18T08:52:35.870893Z",
          "iopub.execute_input": "2021-11-18T08:52:35.871339Z",
          "iopub.status.idle": "2021-11-18T08:52:42.798162Z",
          "shell.execute_reply.started": "2021-11-18T08:52:35.871298Z",
          "shell.execute_reply": "2021-11-18T08:52:42.797316Z"
        },
        "jupyter": {
          "outputs_hidden": false
        },
        "trusted": true,
        "colab": {
          "base_uri": "https://localhost:8080/"
        },
        "id": "YqfVPrH9T3bd",
        "outputId": "b887dd0e-d820-43ef-f332-6a6835156866"
      },
      "source": [
        "# Source: https://keras.io/examples/nlp/multi_label_classification/#introduction\n",
        "from tensorflow.keras import layers\n",
        "from tensorflow import keras\n",
        "import tensorflow as tf\n",
        "from ast import literal_eval\n",
        "\n",
        "# Tensorflow\n",
        "import tensorflow as tf\n",
        "!pip install tensorflow_addons\n",
        "import tensorflow_addons as tfa\n",
        "\n",
        "# Keras\n",
        "from keras.wrappers.scikit_learn import KerasClassifier\n",
        "from keras.models import Sequential, Input\n",
        "from keras.layers import Dense, Conv1D, SeparableConv1D, BatchNormalization, MaxPool1D, Dropout, Flatten, Embedding\n",
        "\n",
        "# SKlearn\n",
        "from sklearn.model_selection import train_test_split\n",
        "from sklearn.model_selection import cross_val_score\n",
        "from sklearn.model_selection import KFold\n",
        "from sklearn.preprocessing import MinMaxScaler\n",
        "from sklearn.preprocessing import LabelEncoder\n",
        "from sklearn.feature_extraction.text import CountVectorizer\n",
        "from imblearn.over_sampling import SMOTE\n",
        "\n",
        "# Data processing\n",
        "import matplotlib.pyplot as plt\n",
        "import seaborn as sns\n",
        "import pandas as pd\n",
        "import numpy as np\n",
        "\n",
        "# NLTK\n",
        "import nltk\n",
        "from nltk.stem import WordNetLemmatizer\n",
        "from nltk.corpus import stopwords\n",
        "from nltk.stem import WordNetLemmatizer\n",
        "from nltk.corpus import wordnet\n",
        "nltk.download('wordnet')\n",
        "nltk.download('stopwords')\n",
        "nltk.download('averaged_perceptron_tagger')\n",
        "\n",
        "# Stackapi to fetch stackoverflow api\n",
        "!pip install stackapi\n",
        "from stackapi import StackAPI\n",
        "\n",
        "# Gensim\n",
        "!pip install --upgrade gensim\n",
        "from gensim.utils import simple_preprocess\n",
        "from gensim import corpora\n",
        "from gensim import models"
      ],
      "execution_count": 10,
      "outputs": [
        {
          "output_type": "stream",
          "name": "stdout",
          "text": [
            "Requirement already satisfied: tensorflow_addons in /usr/local/lib/python3.7/dist-packages (0.15.0)\n",
            "Requirement already satisfied: typeguard>=2.7 in /usr/local/lib/python3.7/dist-packages (from tensorflow_addons) (2.7.1)\n"
          ]
        },
        {
          "output_type": "stream",
          "name": "stderr",
          "text": [
            "/usr/local/lib/python3.7/dist-packages/nltk/decorators.py:70: DeprecationWarning: `formatargspec` is deprecated since Python 3.5. Use `signature` and the `Signature` object directly\n",
            "  formatvalue=lambda value: \"\")[1:-1]\n",
            "/usr/local/lib/python3.7/dist-packages/scipy/io/matlab/mio5.py:98: DeprecationWarning: `np.bool` is a deprecated alias for the builtin `bool`. To silence this warning, use `bool` by itself. Doing this will not modify any behavior and is safe. If you specifically wanted the numpy scalar type, use `np.bool_` here.\n",
            "Deprecated in NumPy 1.20; for more details and guidance: https://numpy.org/devdocs/release/1.20.0-notes.html#deprecations\n",
            "  from .mio5_utils import VarReader5\n"
          ]
        },
        {
          "output_type": "stream",
          "name": "stdout",
          "text": [
            "[nltk_data] Downloading package wordnet to /root/nltk_data...\n",
            "[nltk_data]   Package wordnet is already up-to-date!\n",
            "[nltk_data] Downloading package stopwords to /root/nltk_data...\n",
            "[nltk_data]   Package stopwords is already up-to-date!\n",
            "[nltk_data] Downloading package averaged_perceptron_tagger to\n",
            "[nltk_data]     /root/nltk_data...\n",
            "[nltk_data]   Package averaged_perceptron_tagger is already up-to-\n",
            "[nltk_data]       date!\n",
            "Requirement already satisfied: stackapi in /usr/local/lib/python3.7/dist-packages (0.2.0)\n",
            "Requirement already satisfied: requests in /usr/local/lib/python3.7/dist-packages (from stackapi) (2.23.0)\n",
            "Requirement already satisfied: six in /usr/local/lib/python3.7/dist-packages (from stackapi) (1.15.0)\n",
            "Requirement already satisfied: idna<3,>=2.5 in /usr/local/lib/python3.7/dist-packages (from requests->stackapi) (2.10)\n",
            "Requirement already satisfied: urllib3!=1.25.0,!=1.25.1,<1.26,>=1.21.1 in /usr/local/lib/python3.7/dist-packages (from requests->stackapi) (1.24.3)\n",
            "Requirement already satisfied: certifi>=2017.4.17 in /usr/local/lib/python3.7/dist-packages (from requests->stackapi) (2021.10.8)\n",
            "Requirement already satisfied: chardet<4,>=3.0.2 in /usr/local/lib/python3.7/dist-packages (from requests->stackapi) (3.0.4)\n",
            "Requirement already satisfied: gensim in /usr/local/lib/python3.7/dist-packages (4.1.2)\n",
            "Requirement already satisfied: scipy>=0.18.1 in /usr/local/lib/python3.7/dist-packages (from gensim) (1.4.1)\n",
            "Requirement already satisfied: smart-open>=1.8.1 in /usr/local/lib/python3.7/dist-packages (from gensim) (5.2.1)\n",
            "Requirement already satisfied: numpy>=1.17.0 in /usr/local/lib/python3.7/dist-packages (from gensim) (1.21.4)\n"
          ]
        }
      ]
    },
    {
      "cell_type": "markdown",
      "metadata": {
        "id": "cX5X4xhqabeI"
      },
      "source": [
        "### Mount colab drive to google drive"
      ]
    },
    {
      "cell_type": "code",
      "metadata": {
        "id": "pGt6RbgySmTR",
        "colab": {
          "base_uri": "https://localhost:8080/"
        },
        "outputId": "bb360f31-e498-4c3c-fd4a-8b881d12e6c5"
      },
      "source": [
        "from google.colab import drive\n",
        "drive.mount('/content/drive')"
      ],
      "execution_count": 11,
      "outputs": [
        {
          "output_type": "stream",
          "name": "stdout",
          "text": [
            "Mounted at /content/drive\n"
          ]
        }
      ]
    },
    {
      "cell_type": "markdown",
      "metadata": {
        "_uuid": "cd8ab0fa-e99a-4837-9d07-6bedca16f4ad",
        "_cell_guid": "27a0b46b-904c-48ef-946f-970a6d0f4fb6",
        "trusted": true,
        "id": "bG7FuSZMT3bk"
      },
      "source": [
        "## Fetch data"
      ]
    },
    {
      "cell_type": "code",
      "metadata": {
        "id": "SHjpvi1MWTPJ"
      },
      "source": [
        "# Get the data from stackoverflow sorted by votes\n",
        "def fetch_data():\n",
        "  data = []\n",
        "  page_count = 40\n",
        "  SITE = StackAPI('stackoverflow')\n",
        "\n",
        "  for i in range(page_count):\n",
        "    data.append(SITE.fetch('questions', sort=\"votes\", min=20, filter='withbody', page=i + 1))\n",
        "  \n",
        "  return data"
      ],
      "execution_count": 12,
      "outputs": []
    },
    {
      "cell_type": "markdown",
      "metadata": {
        "id": "pZWjtjucXZk1"
      },
      "source": [
        "## Remove useless data"
      ]
    },
    {
      "cell_type": "code",
      "metadata": {
        "id": "gmY-K07YW_FI"
      },
      "source": [
        "def clean_data(data):\n",
        "  raw_df = pd.DataFrame(pd.DataFrame.from_dict(data[0]['items']))\n",
        "  for i in range(len(data) - 1):\n",
        "    raw_df = raw_df.append(pd.DataFrame.from_dict(data[i + 1]['items']))\n",
        "  \n",
        "  df = raw_df[['tags', 'body']]\n",
        "\n",
        "  # Strip html tags with regex:\n",
        "  df['body'] = df['body'].str.replace(r'<[^<>]*>', '', regex=True)\n",
        "\n",
        "  # Get first tag for multi-class classification\n",
        "  row_count = df.shape[0]\n",
        "\n",
        "  for i in range(row_count):\n",
        "    df['tags'].iloc[i] = df['tags'].iloc[i][0]\n",
        "  \n",
        "  return df"
      ],
      "execution_count": 13,
      "outputs": []
    },
    {
      "cell_type": "markdown",
      "metadata": {
        "id": "Ft2veo6bajpz"
      },
      "source": [
        "### Create folder and file from df, unmout drive after"
      ]
    },
    {
      "cell_type": "code",
      "metadata": {
        "id": "GXasm52uSns_",
        "colab": {
          "base_uri": "https://localhost:8080/"
        },
        "outputId": "14a6e79d-0bd9-44b6-eb49-c260268386cb"
      },
      "source": [
        "from os.path import exists\n",
        "\n",
        "!mkdir stackoverflow\n",
        "\n",
        "if not exists('/content/stackoverflow/questions.csv'):\n",
        "  data = fetch_data()\n",
        "  df = clean_data(data)\n",
        "  df.to_csv('/content/stackoverflow/questions.csv')\n",
        "  print(\"Fetched data from stackoverflow, removed the useless data and saved it in stackoverflow/questions.csv\")\n",
        "\n",
        "drive.flush_and_unmount()"
      ],
      "execution_count": 14,
      "outputs": [
        {
          "output_type": "stream",
          "name": "stdout",
          "text": [
            "mkdir: cannot create directory ‘stackoverflow’: File exists\n"
          ]
        }
      ]
    },
    {
      "cell_type": "markdown",
      "metadata": {
        "id": "XlrQln74au2T"
      },
      "source": [
        "### Load file from drive"
      ]
    },
    {
      "cell_type": "code",
      "metadata": {
        "id": "I1InpULeaN4l",
        "colab": {
          "base_uri": "https://localhost:8080/",
          "height": 591
        },
        "outputId": "3679044a-3bf6-492b-e1d3-1a2b0f40616b"
      },
      "source": [
        "df = pd.read_csv('/content/stackoverflow/questions.csv')\n",
        "\n",
        "df.head()"
      ],
      "execution_count": 15,
      "outputs": [
        {
          "output_type": "execute_result",
          "data": {
            "text/html": [
              "<div>\n",
              "<style scoped>\n",
              "    .dataframe tbody tr th:only-of-type {\n",
              "        vertical-align: middle;\n",
              "    }\n",
              "\n",
              "    .dataframe tbody tr th {\n",
              "        vertical-align: top;\n",
              "    }\n",
              "\n",
              "    .dataframe thead th {\n",
              "        text-align: right;\n",
              "    }\n",
              "</style>\n",
              "<table border=\"1\" class=\"dataframe\">\n",
              "  <thead>\n",
              "    <tr style=\"text-align: right;\">\n",
              "      <th></th>\n",
              "      <th>Unnamed: 0</th>\n",
              "      <th>tags</th>\n",
              "      <th>owner</th>\n",
              "      <th>is_answered</th>\n",
              "      <th>view_count</th>\n",
              "      <th>protected_date</th>\n",
              "      <th>accepted_answer_id</th>\n",
              "      <th>answer_count</th>\n",
              "      <th>score</th>\n",
              "      <th>last_activity_date</th>\n",
              "      <th>creation_date</th>\n",
              "      <th>last_edit_date</th>\n",
              "      <th>question_id</th>\n",
              "      <th>content_license</th>\n",
              "      <th>link</th>\n",
              "      <th>title</th>\n",
              "      <th>body</th>\n",
              "      <th>community_owned_date</th>\n",
              "      <th>locked_date</th>\n",
              "      <th>closed_date</th>\n",
              "      <th>closed_reason</th>\n",
              "      <th>migrated_from</th>\n",
              "    </tr>\n",
              "  </thead>\n",
              "  <tbody>\n",
              "    <tr>\n",
              "      <th>0</th>\n",
              "      <td>0</td>\n",
              "      <td>['java', 'c++', 'performance', 'cpu-architectu...</td>\n",
              "      <td>{'reputation': 469918, 'user_id': 87234, 'user...</td>\n",
              "      <td>True</td>\n",
              "      <td>1662469</td>\n",
              "      <td>1.399067e+09</td>\n",
              "      <td>11227902.0</td>\n",
              "      <td>29</td>\n",
              "      <td>26031</td>\n",
              "      <td>1636434375</td>\n",
              "      <td>1340805096</td>\n",
              "      <td>1.634760e+09</td>\n",
              "      <td>11227809</td>\n",
              "      <td>CC BY-SA 4.0</td>\n",
              "      <td>https://stackoverflow.com/questions/11227809/w...</td>\n",
              "      <td>Why is processing a sorted array faster than p...</td>\n",
              "      <td>&lt;p&gt;Here is a piece of C++ code that shows some...</td>\n",
              "      <td>NaN</td>\n",
              "      <td>NaN</td>\n",
              "      <td>NaN</td>\n",
              "      <td>NaN</td>\n",
              "      <td>NaN</td>\n",
              "    </tr>\n",
              "    <tr>\n",
              "      <th>1</th>\n",
              "      <td>1</td>\n",
              "      <td>['git', 'version-control', 'git-commit', 'undo']</td>\n",
              "      <td>{'reputation': 47989, 'user_id': 89904, 'user_...</td>\n",
              "      <td>True</td>\n",
              "      <td>10254767</td>\n",
              "      <td>1.370840e+09</td>\n",
              "      <td>927386.0</td>\n",
              "      <td>100</td>\n",
              "      <td>23542</td>\n",
              "      <td>1637838948</td>\n",
              "      <td>1243620554</td>\n",
              "      <td>1.625030e+09</td>\n",
              "      <td>927358</td>\n",
              "      <td>CC BY-SA 4.0</td>\n",
              "      <td>https://stackoverflow.com/questions/927358/how...</td>\n",
              "      <td>How do I undo the most recent local commits in...</td>\n",
              "      <td>&lt;p&gt;I accidentally &lt;strong&gt;committed the wrong ...</td>\n",
              "      <td>1.363429e+09</td>\n",
              "      <td>NaN</td>\n",
              "      <td>NaN</td>\n",
              "      <td>NaN</td>\n",
              "      <td>NaN</td>\n",
              "    </tr>\n",
              "    <tr>\n",
              "      <th>2</th>\n",
              "      <td>2</td>\n",
              "      <td>['git', 'version-control', 'git-branch', 'git-...</td>\n",
              "      <td>{'reputation': 416782, 'user_id': 95592, 'user...</td>\n",
              "      <td>True</td>\n",
              "      <td>9430056</td>\n",
              "      <td>1.358718e+09</td>\n",
              "      <td>2003515.0</td>\n",
              "      <td>41</td>\n",
              "      <td>18667</td>\n",
              "      <td>1638336685</td>\n",
              "      <td>1262653935</td>\n",
              "      <td>1.633560e+09</td>\n",
              "      <td>2003505</td>\n",
              "      <td>CC BY-SA 4.0</td>\n",
              "      <td>https://stackoverflow.com/questions/2003505/ho...</td>\n",
              "      <td>How do I delete a Git branch locally and remot...</td>\n",
              "      <td>&lt;p&gt;I want to delete a branch both locally and ...</td>\n",
              "      <td>NaN</td>\n",
              "      <td>NaN</td>\n",
              "      <td>NaN</td>\n",
              "      <td>NaN</td>\n",
              "      <td>NaN</td>\n",
              "    </tr>\n",
              "    <tr>\n",
              "      <th>3</th>\n",
              "      <td>3</td>\n",
              "      <td>['git', 'version-control', 'git-pull', 'git-fe...</td>\n",
              "      <td>{'reputation': 264138, 'user_id': 6068, 'user_...</td>\n",
              "      <td>True</td>\n",
              "      <td>3071149</td>\n",
              "      <td>1.362879e+09</td>\n",
              "      <td>292359.0</td>\n",
              "      <td>38</td>\n",
              "      <td>12908</td>\n",
              "      <td>1636728187</td>\n",
              "      <td>1226742669</td>\n",
              "      <td>1.606493e+09</td>\n",
              "      <td>292357</td>\n",
              "      <td>CC BY-SA 4.0</td>\n",
              "      <td>https://stackoverflow.com/questions/292357/wha...</td>\n",
              "      <td>What is the difference between &amp;#39;git pull&amp;#...</td>\n",
              "      <td>&lt;p&gt;What are the differences between &lt;code&gt;git ...</td>\n",
              "      <td>NaN</td>\n",
              "      <td>NaN</td>\n",
              "      <td>NaN</td>\n",
              "      <td>NaN</td>\n",
              "      <td>NaN</td>\n",
              "    </tr>\n",
              "    <tr>\n",
              "      <th>4</th>\n",
              "      <td>4</td>\n",
              "      <td>['python', 'iterator', 'generator', 'yield', '...</td>\n",
              "      <td>{'reputation': 131777, 'user_id': 18300, 'user...</td>\n",
              "      <td>True</td>\n",
              "      <td>2731894</td>\n",
              "      <td>1.360547e+09</td>\n",
              "      <td>231855.0</td>\n",
              "      <td>43</td>\n",
              "      <td>11664</td>\n",
              "      <td>1636440019</td>\n",
              "      <td>1224800471</td>\n",
              "      <td>1.633986e+09</td>\n",
              "      <td>231767</td>\n",
              "      <td>CC BY-SA 4.0</td>\n",
              "      <td>https://stackoverflow.com/questions/231767/wha...</td>\n",
              "      <td>What does the &amp;quot;yield&amp;quot; keyword do?</td>\n",
              "      <td>&lt;p&gt;What is the use of the &lt;code&gt;yield&lt;/code&gt; k...</td>\n",
              "      <td>NaN</td>\n",
              "      <td>NaN</td>\n",
              "      <td>NaN</td>\n",
              "      <td>NaN</td>\n",
              "      <td>NaN</td>\n",
              "    </tr>\n",
              "  </tbody>\n",
              "</table>\n",
              "</div>"
            ],
            "text/plain": [
              "   Unnamed: 0  ... migrated_from\n",
              "0           0  ...           NaN\n",
              "1           1  ...           NaN\n",
              "2           2  ...           NaN\n",
              "3           3  ...           NaN\n",
              "4           4  ...           NaN\n",
              "\n",
              "[5 rows x 22 columns]"
            ]
          },
          "metadata": {},
          "execution_count": 15
        }
      ]
    },
    {
      "cell_type": "code",
      "metadata": {
        "_uuid": "f76b7aed-1453-43c3-8fd6-b5b2975745c5",
        "_cell_guid": "93e5cfbc-0042-418d-975e-49198d762bbc",
        "execution": {
          "iopub.status.busy": "2021-11-18T08:56:42.617124Z",
          "iopub.execute_input": "2021-11-18T08:56:42.617630Z",
          "iopub.status.idle": "2021-11-18T08:56:42.628289Z",
          "shell.execute_reply.started": "2021-11-18T08:56:42.617593Z",
          "shell.execute_reply": "2021-11-18T08:56:42.627547Z"
        },
        "jupyter": {
          "outputs_hidden": false
        },
        "trusted": true,
        "id": "ddE71wzjT3bt",
        "colab": {
          "base_uri": "https://localhost:8080/"
        },
        "outputId": "48bf03f4-1570-4a3f-eee3-0454259d7cfd"
      },
      "source": [
        "print(f\"There are {len(df['body'].unique())} rows in the dataset.\")"
      ],
      "execution_count": 16,
      "outputs": [
        {
          "output_type": "stream",
          "name": "stdout",
          "text": [
            "There are 3900 rows in the dataset.\n"
          ]
        }
      ]
    },
    {
      "cell_type": "code",
      "metadata": {
        "_uuid": "9bd0590f-4430-49f9-9af6-e53a65efcc84",
        "_cell_guid": "56e348ea-0b56-460a-9886-15594c5a4022",
        "execution": {
          "iopub.status.busy": "2021-11-18T08:56:42.630012Z",
          "iopub.execute_input": "2021-11-18T08:56:42.630495Z",
          "iopub.status.idle": "2021-11-18T08:56:42.638376Z",
          "shell.execute_reply.started": "2021-11-18T08:56:42.630460Z",
          "shell.execute_reply": "2021-11-18T08:56:42.637643Z"
        },
        "jupyter": {
          "outputs_hidden": false
        },
        "trusted": true,
        "id": "91v21KDhT3bt",
        "colab": {
          "base_uri": "https://localhost:8080/"
        },
        "outputId": "cb1253b0-13b6-4f3b-936d-a5b49011111d"
      },
      "source": [
        "df = df[~df['body'].duplicated()]\n",
        "print(f\"There are {len(df)} rows in the deduplicated dataset.\")"
      ],
      "execution_count": 17,
      "outputs": [
        {
          "output_type": "stream",
          "name": "stdout",
          "text": [
            "There are 3900 rows in the deduplicated dataset.\n"
          ]
        }
      ]
    },
    {
      "cell_type": "code",
      "metadata": {
        "_uuid": "39c58fe5-ac22-4c40-a07a-48220e52b081",
        "_cell_guid": "b16a1519-94a9-4dbc-9f16-caa61b93aa3b",
        "execution": {
          "iopub.status.busy": "2021-11-18T08:56:44.087385Z",
          "iopub.execute_input": "2021-11-18T08:56:44.087900Z",
          "iopub.status.idle": "2021-11-18T08:56:44.103181Z",
          "shell.execute_reply.started": "2021-11-18T08:56:44.087853Z",
          "shell.execute_reply": "2021-11-18T08:56:44.102340Z"
        },
        "jupyter": {
          "outputs_hidden": false
        },
        "trusted": true,
        "id": "wSsklTTaT3bv",
        "colab": {
          "base_uri": "https://localhost:8080/"
        },
        "outputId": "e3aaac2b-eed4-4327-a652-71a59d52065f"
      },
      "source": [
        "# There are a lot of terms with occurrence below 40.\n",
        "threshold = 40\n",
        "\n",
        "print(sum(df['tags'].value_counts() < threshold))\n",
        "\n",
        "# How many unique terms?\n",
        "print(df['tags'].nunique())"
      ],
      "execution_count": 18,
      "outputs": [
        {
          "output_type": "stream",
          "name": "stdout",
          "text": [
            "3317\n",
            "3318\n"
          ]
        }
      ]
    },
    {
      "cell_type": "code",
      "metadata": {
        "_uuid": "768030f8-0963-4c7f-8dd9-e8b032950f4b",
        "_cell_guid": "a5f2be9e-44d7-465f-a64c-6f8724af49a1",
        "execution": {
          "iopub.status.busy": "2021-11-18T08:56:44.489512Z",
          "iopub.execute_input": "2021-11-18T08:56:44.489831Z",
          "iopub.status.idle": "2021-11-18T08:56:44.511147Z",
          "shell.execute_reply.started": "2021-11-18T08:56:44.489795Z",
          "shell.execute_reply": "2021-11-18T08:56:44.510543Z"
        },
        "jupyter": {
          "outputs_hidden": false
        },
        "trusted": true,
        "id": "MGLEcLMPT3bx",
        "colab": {
          "base_uri": "https://localhost:8080/"
        },
        "outputId": "149f248c-8aef-49ee-cba3-d339f72efb1c"
      },
      "source": [
        "# Filtering the rare terms because there is not enough data to train properly with.\n",
        "df_filtered = df.groupby(\"tags\").filter(lambda x: len(x) > threshold)\n",
        "df_filtered.shape"
      ],
      "execution_count": 19,
      "outputs": [
        {
          "output_type": "execute_result",
          "data": {
            "text/plain": [
              "(61, 22)"
            ]
          },
          "metadata": {},
          "execution_count": 19
        }
      ]
    },
    {
      "cell_type": "code",
      "metadata": {
        "id": "mbUq7xY3nYsS"
      },
      "source": [
        "# # Remove punctuation\n",
        "# df_filtered['body'] = df_filtered['body'].replace('[^\\w\\s]','', regex=True)\n",
        "# df_filtered['body'] = df_filtered['body'].replace(r'\\s+|\\\\n', ' ', regex=True) \n",
        "    \n",
        "# df_filtered.head()"
      ],
      "execution_count": 20,
      "outputs": []
    },
    {
      "cell_type": "code",
      "metadata": {
        "id": "ixIWwEJ2nq2I",
        "colab": {
          "base_uri": "https://localhost:8080/",
          "height": 591
        },
        "outputId": "9b40380c-ebd0-4ff9-89af-be24acce9284"
      },
      "source": [
        "# Source: https://stackoverflow.com/questions/29523254/python-remove-stop-words-from-pandas-dataframe\n",
        "\n",
        "stop = stopwords.words('english')\n",
        "\n",
        "# Exclude stopwords with Python's list comprehension and pandas.DataFrame.apply.\n",
        "df_filtered['body'] = df_filtered['body'].apply(lambda x: ' '.join([word for word in x.split() if word not in (stop)]))\n",
        "df_filtered.head()"
      ],
      "execution_count": 21,
      "outputs": [
        {
          "output_type": "execute_result",
          "data": {
            "text/html": [
              "<div>\n",
              "<style scoped>\n",
              "    .dataframe tbody tr th:only-of-type {\n",
              "        vertical-align: middle;\n",
              "    }\n",
              "\n",
              "    .dataframe tbody tr th {\n",
              "        vertical-align: top;\n",
              "    }\n",
              "\n",
              "    .dataframe thead th {\n",
              "        text-align: right;\n",
              "    }\n",
              "</style>\n",
              "<table border=\"1\" class=\"dataframe\">\n",
              "  <thead>\n",
              "    <tr style=\"text-align: right;\">\n",
              "      <th></th>\n",
              "      <th>Unnamed: 0</th>\n",
              "      <th>tags</th>\n",
              "      <th>owner</th>\n",
              "      <th>is_answered</th>\n",
              "      <th>view_count</th>\n",
              "      <th>protected_date</th>\n",
              "      <th>accepted_answer_id</th>\n",
              "      <th>answer_count</th>\n",
              "      <th>score</th>\n",
              "      <th>last_activity_date</th>\n",
              "      <th>creation_date</th>\n",
              "      <th>last_edit_date</th>\n",
              "      <th>question_id</th>\n",
              "      <th>content_license</th>\n",
              "      <th>link</th>\n",
              "      <th>title</th>\n",
              "      <th>body</th>\n",
              "      <th>community_owned_date</th>\n",
              "      <th>locked_date</th>\n",
              "      <th>closed_date</th>\n",
              "      <th>closed_reason</th>\n",
              "      <th>migrated_from</th>\n",
              "    </tr>\n",
              "  </thead>\n",
              "  <tbody>\n",
              "    <tr>\n",
              "      <th>470</th>\n",
              "      <td>470</td>\n",
              "      <td>['git']</td>\n",
              "      <td>{'reputation': 21892, 'user_id': 39758, 'user_...</td>\n",
              "      <td>True</td>\n",
              "      <td>804018</td>\n",
              "      <td>1.529411e+09</td>\n",
              "      <td>936290.0</td>\n",
              "      <td>20</td>\n",
              "      <td>1935</td>\n",
              "      <td>1617169294</td>\n",
              "      <td>1243883296</td>\n",
              "      <td>1.479563e+09</td>\n",
              "      <td>936249</td>\n",
              "      <td>CC BY-SA 3.0</td>\n",
              "      <td>https://stackoverflow.com/questions/936249/how...</td>\n",
              "      <td>How to stop tracking and ignore changes to a f...</td>\n",
              "      <td>&lt;p&gt;I cloned project includes &lt;code&gt;.csproj&lt;/co...</td>\n",
              "      <td>NaN</td>\n",
              "      <td>NaN</td>\n",
              "      <td>NaN</td>\n",
              "      <td>NaN</td>\n",
              "      <td>NaN</td>\n",
              "    </tr>\n",
              "    <tr>\n",
              "      <th>905</th>\n",
              "      <td>905</td>\n",
              "      <td>['git']</td>\n",
              "      <td>{'reputation': 33616, 'user_id': 101152, 'user...</td>\n",
              "      <td>True</td>\n",
              "      <td>843120</td>\n",
              "      <td>NaN</td>\n",
              "      <td>2763118.0</td>\n",
              "      <td>15</td>\n",
              "      <td>1881</td>\n",
              "      <td>1636462398</td>\n",
              "      <td>1272951052</td>\n",
              "      <td>1.507462e+09</td>\n",
              "      <td>2763006</td>\n",
              "      <td>CC BY-SA 3.0</td>\n",
              "      <td>https://stackoverflow.com/questions/2763006/ma...</td>\n",
              "      <td>Make the current Git branch a master branch</td>\n",
              "      <td>&lt;p&gt;I repository Git. I made branch, changes ma...</td>\n",
              "      <td>NaN</td>\n",
              "      <td>NaN</td>\n",
              "      <td>NaN</td>\n",
              "      <td>NaN</td>\n",
              "      <td>NaN</td>\n",
              "    </tr>\n",
              "    <tr>\n",
              "      <th>914</th>\n",
              "      <td>914</td>\n",
              "      <td>['git']</td>\n",
              "      <td>{'reputation': 41654, 'user_id': 27358, 'user_...</td>\n",
              "      <td>True</td>\n",
              "      <td>1312743</td>\n",
              "      <td>NaN</td>\n",
              "      <td>5097495.0</td>\n",
              "      <td>21</td>\n",
              "      <td>1871</td>\n",
              "      <td>1636390741</td>\n",
              "      <td>1298496835</td>\n",
              "      <td>1.549057e+09</td>\n",
              "      <td>5097456</td>\n",
              "      <td>CC BY-SA 4.0</td>\n",
              "      <td>https://stackoverflow.com/questions/5097456/th...</td>\n",
              "      <td>Throw away local commits in Git</td>\n",
              "      <td>&lt;p&gt;Due bad cherry-picking, local Git repositor...</td>\n",
              "      <td>NaN</td>\n",
              "      <td>NaN</td>\n",
              "      <td>NaN</td>\n",
              "      <td>NaN</td>\n",
              "      <td>NaN</td>\n",
              "    </tr>\n",
              "    <tr>\n",
              "      <th>1424</th>\n",
              "      <td>1424</td>\n",
              "      <td>['git']</td>\n",
              "      <td>{'reputation': 68102, 'user_id': 73297, 'user_...</td>\n",
              "      <td>True</td>\n",
              "      <td>1100433</td>\n",
              "      <td>1.545281e+09</td>\n",
              "      <td>5772882.0</td>\n",
              "      <td>28</td>\n",
              "      <td>1671</td>\n",
              "      <td>1634800354</td>\n",
              "      <td>1303667461</td>\n",
              "      <td>1.496082e+09</td>\n",
              "      <td>5772192</td>\n",
              "      <td>CC BY-SA 3.0</td>\n",
              "      <td>https://stackoverflow.com/questions/5772192/ho...</td>\n",
              "      <td>How can I reconcile detached HEAD with master/...</td>\n",
              "      <td>&lt;p&gt;I'm new branching complexities Git. I alway...</td>\n",
              "      <td>NaN</td>\n",
              "      <td>NaN</td>\n",
              "      <td>NaN</td>\n",
              "      <td>NaN</td>\n",
              "      <td>NaN</td>\n",
              "    </tr>\n",
              "    <tr>\n",
              "      <th>1469</th>\n",
              "      <td>1469</td>\n",
              "      <td>['git']</td>\n",
              "      <td>{'reputation': 52282, 'user_id': 74865, 'user_...</td>\n",
              "      <td>True</td>\n",
              "      <td>604954</td>\n",
              "      <td>NaN</td>\n",
              "      <td>2531803.0</td>\n",
              "      <td>4</td>\n",
              "      <td>1609</td>\n",
              "      <td>1608024775</td>\n",
              "      <td>1269454109</td>\n",
              "      <td>1.608025e+09</td>\n",
              "      <td>2510276</td>\n",
              "      <td>CC BY-SA 4.0</td>\n",
              "      <td>https://stackoverflow.com/questions/2510276/ho...</td>\n",
              "      <td>How to undo &amp;#39;git reset&amp;#39;?</td>\n",
              "      <td>&lt;p&gt;What's simplest way undo:&lt;/p&gt; &lt;pre&gt;&lt;code&gt;gi...</td>\n",
              "      <td>NaN</td>\n",
              "      <td>NaN</td>\n",
              "      <td>NaN</td>\n",
              "      <td>NaN</td>\n",
              "      <td>NaN</td>\n",
              "    </tr>\n",
              "  </tbody>\n",
              "</table>\n",
              "</div>"
            ],
            "text/plain": [
              "      Unnamed: 0     tags  ... closed_reason  migrated_from\n",
              "470          470  ['git']  ...           NaN            NaN\n",
              "905          905  ['git']  ...           NaN            NaN\n",
              "914          914  ['git']  ...           NaN            NaN\n",
              "1424        1424  ['git']  ...           NaN            NaN\n",
              "1469        1469  ['git']  ...           NaN            NaN\n",
              "\n",
              "[5 rows x 22 columns]"
            ]
          },
          "metadata": {},
          "execution_count": 21
        }
      ]
    },
    {
      "cell_type": "code",
      "metadata": {
        "id": "nIfpZaHUn0Si",
        "colab": {
          "base_uri": "https://localhost:8080/",
          "height": 591
        },
        "outputId": "0b16d4a7-b925-4177-f128-bd5296f6149c"
      },
      "source": [
        "# Source: https://www.machinelearningplus.com/nlp/lemmatization-examples-python/\n",
        "def get_wordnet_pos(word):\n",
        "    \"\"\"Map POS tag to first character lemmatize() accepts\"\"\"\n",
        "    tag = nltk.pos_tag([word])[0][1][0].upper()\n",
        "    tag_dict = {\"J\": wordnet.ADJ,\n",
        "                \"N\": wordnet.NOUN,\n",
        "                \"V\": wordnet.VERB,\n",
        "                \"R\": wordnet.ADV}\n",
        "\n",
        "    return tag_dict.get(tag, wordnet.NOUN)\n",
        "\n",
        "# Lemmatize words\n",
        "lemmatizer = WordNetLemmatizer()\n",
        "df_filtered['body'] = df_filtered['body'].apply(\n",
        "    lambda x: ' '.join([lemmatizer.lemmatize(word, get_wordnet_pos(word)) for word in x.split()]))\n",
        "df_filtered.head()"
      ],
      "execution_count": 22,
      "outputs": [
        {
          "output_type": "execute_result",
          "data": {
            "text/html": [
              "<div>\n",
              "<style scoped>\n",
              "    .dataframe tbody tr th:only-of-type {\n",
              "        vertical-align: middle;\n",
              "    }\n",
              "\n",
              "    .dataframe tbody tr th {\n",
              "        vertical-align: top;\n",
              "    }\n",
              "\n",
              "    .dataframe thead th {\n",
              "        text-align: right;\n",
              "    }\n",
              "</style>\n",
              "<table border=\"1\" class=\"dataframe\">\n",
              "  <thead>\n",
              "    <tr style=\"text-align: right;\">\n",
              "      <th></th>\n",
              "      <th>Unnamed: 0</th>\n",
              "      <th>tags</th>\n",
              "      <th>owner</th>\n",
              "      <th>is_answered</th>\n",
              "      <th>view_count</th>\n",
              "      <th>protected_date</th>\n",
              "      <th>accepted_answer_id</th>\n",
              "      <th>answer_count</th>\n",
              "      <th>score</th>\n",
              "      <th>last_activity_date</th>\n",
              "      <th>creation_date</th>\n",
              "      <th>last_edit_date</th>\n",
              "      <th>question_id</th>\n",
              "      <th>content_license</th>\n",
              "      <th>link</th>\n",
              "      <th>title</th>\n",
              "      <th>body</th>\n",
              "      <th>community_owned_date</th>\n",
              "      <th>locked_date</th>\n",
              "      <th>closed_date</th>\n",
              "      <th>closed_reason</th>\n",
              "      <th>migrated_from</th>\n",
              "    </tr>\n",
              "  </thead>\n",
              "  <tbody>\n",
              "    <tr>\n",
              "      <th>470</th>\n",
              "      <td>470</td>\n",
              "      <td>['git']</td>\n",
              "      <td>{'reputation': 21892, 'user_id': 39758, 'user_...</td>\n",
              "      <td>True</td>\n",
              "      <td>804018</td>\n",
              "      <td>1.529411e+09</td>\n",
              "      <td>936290.0</td>\n",
              "      <td>20</td>\n",
              "      <td>1935</td>\n",
              "      <td>1617169294</td>\n",
              "      <td>1243883296</td>\n",
              "      <td>1.479563e+09</td>\n",
              "      <td>936249</td>\n",
              "      <td>CC BY-SA 3.0</td>\n",
              "      <td>https://stackoverflow.com/questions/936249/how...</td>\n",
              "      <td>How to stop tracking and ignore changes to a f...</td>\n",
              "      <td>&lt;p&gt;I clone project include &lt;code&gt;.csproj&lt;/code...</td>\n",
              "      <td>NaN</td>\n",
              "      <td>NaN</td>\n",
              "      <td>NaN</td>\n",
              "      <td>NaN</td>\n",
              "      <td>NaN</td>\n",
              "    </tr>\n",
              "    <tr>\n",
              "      <th>905</th>\n",
              "      <td>905</td>\n",
              "      <td>['git']</td>\n",
              "      <td>{'reputation': 33616, 'user_id': 101152, 'user...</td>\n",
              "      <td>True</td>\n",
              "      <td>843120</td>\n",
              "      <td>NaN</td>\n",
              "      <td>2763118.0</td>\n",
              "      <td>15</td>\n",
              "      <td>1881</td>\n",
              "      <td>1636462398</td>\n",
              "      <td>1272951052</td>\n",
              "      <td>1.507462e+09</td>\n",
              "      <td>2763006</td>\n",
              "      <td>CC BY-SA 3.0</td>\n",
              "      <td>https://stackoverflow.com/questions/2763006/ma...</td>\n",
              "      <td>Make the current Git branch a master branch</td>\n",
              "      <td>&lt;p&gt;I repository Git. I make branch, change mas...</td>\n",
              "      <td>NaN</td>\n",
              "      <td>NaN</td>\n",
              "      <td>NaN</td>\n",
              "      <td>NaN</td>\n",
              "      <td>NaN</td>\n",
              "    </tr>\n",
              "    <tr>\n",
              "      <th>914</th>\n",
              "      <td>914</td>\n",
              "      <td>['git']</td>\n",
              "      <td>{'reputation': 41654, 'user_id': 27358, 'user_...</td>\n",
              "      <td>True</td>\n",
              "      <td>1312743</td>\n",
              "      <td>NaN</td>\n",
              "      <td>5097495.0</td>\n",
              "      <td>21</td>\n",
              "      <td>1871</td>\n",
              "      <td>1636390741</td>\n",
              "      <td>1298496835</td>\n",
              "      <td>1.549057e+09</td>\n",
              "      <td>5097456</td>\n",
              "      <td>CC BY-SA 4.0</td>\n",
              "      <td>https://stackoverflow.com/questions/5097456/th...</td>\n",
              "      <td>Throw away local commits in Git</td>\n",
              "      <td>&lt;p&gt;Due bad cherry-picking, local Git repositor...</td>\n",
              "      <td>NaN</td>\n",
              "      <td>NaN</td>\n",
              "      <td>NaN</td>\n",
              "      <td>NaN</td>\n",
              "      <td>NaN</td>\n",
              "    </tr>\n",
              "    <tr>\n",
              "      <th>1424</th>\n",
              "      <td>1424</td>\n",
              "      <td>['git']</td>\n",
              "      <td>{'reputation': 68102, 'user_id': 73297, 'user_...</td>\n",
              "      <td>True</td>\n",
              "      <td>1100433</td>\n",
              "      <td>1.545281e+09</td>\n",
              "      <td>5772882.0</td>\n",
              "      <td>28</td>\n",
              "      <td>1671</td>\n",
              "      <td>1634800354</td>\n",
              "      <td>1303667461</td>\n",
              "      <td>1.496082e+09</td>\n",
              "      <td>5772192</td>\n",
              "      <td>CC BY-SA 3.0</td>\n",
              "      <td>https://stackoverflow.com/questions/5772192/ho...</td>\n",
              "      <td>How can I reconcile detached HEAD with master/...</td>\n",
              "      <td>&lt;p&gt;I'm new branching complexity Git. I always ...</td>\n",
              "      <td>NaN</td>\n",
              "      <td>NaN</td>\n",
              "      <td>NaN</td>\n",
              "      <td>NaN</td>\n",
              "      <td>NaN</td>\n",
              "    </tr>\n",
              "    <tr>\n",
              "      <th>1469</th>\n",
              "      <td>1469</td>\n",
              "      <td>['git']</td>\n",
              "      <td>{'reputation': 52282, 'user_id': 74865, 'user_...</td>\n",
              "      <td>True</td>\n",
              "      <td>604954</td>\n",
              "      <td>NaN</td>\n",
              "      <td>2531803.0</td>\n",
              "      <td>4</td>\n",
              "      <td>1609</td>\n",
              "      <td>1608024775</td>\n",
              "      <td>1269454109</td>\n",
              "      <td>1.608025e+09</td>\n",
              "      <td>2510276</td>\n",
              "      <td>CC BY-SA 4.0</td>\n",
              "      <td>https://stackoverflow.com/questions/2510276/ho...</td>\n",
              "      <td>How to undo &amp;#39;git reset&amp;#39;?</td>\n",
              "      <td>&lt;p&gt;What's simplest way undo:&lt;/p&gt; &lt;pre&gt;&lt;code&gt;gi...</td>\n",
              "      <td>NaN</td>\n",
              "      <td>NaN</td>\n",
              "      <td>NaN</td>\n",
              "      <td>NaN</td>\n",
              "      <td>NaN</td>\n",
              "    </tr>\n",
              "  </tbody>\n",
              "</table>\n",
              "</div>"
            ],
            "text/plain": [
              "      Unnamed: 0     tags  ... closed_reason  migrated_from\n",
              "470          470  ['git']  ...           NaN            NaN\n",
              "905          905  ['git']  ...           NaN            NaN\n",
              "914          914  ['git']  ...           NaN            NaN\n",
              "1424        1424  ['git']  ...           NaN            NaN\n",
              "1469        1469  ['git']  ...           NaN            NaN\n",
              "\n",
              "[5 rows x 22 columns]"
            ]
          },
          "metadata": {},
          "execution_count": 22
        }
      ]
    },
    {
      "cell_type": "code",
      "metadata": {
        "_uuid": "804d35db-b463-4f83-8bb5-05696d279cba",
        "_cell_guid": "32dc0179-3eb4-421d-a991-b4e50705d59d",
        "execution": {
          "iopub.status.busy": "2021-11-18T08:56:44.939301Z",
          "iopub.execute_input": "2021-11-18T08:56:44.939708Z",
          "iopub.status.idle": "2021-11-18T08:56:44.948290Z",
          "shell.execute_reply.started": "2021-11-18T08:56:44.939673Z",
          "shell.execute_reply": "2021-11-18T08:56:44.947411Z"
        },
        "jupyter": {
          "outputs_hidden": false
        },
        "trusted": true,
        "id": "dZM4FT4kT3by",
        "colab": {
          "base_uri": "https://localhost:8080/"
        },
        "outputId": "aea22eeb-b6a7-4799-d6a7-2185830e0dbf"
      },
      "source": [
        "# Check class imbalance:\n",
        "print(df_filtered.groupby(df_filtered['tags']).size())"
      ],
      "execution_count": 23,
      "outputs": [
        {
          "output_type": "stream",
          "name": "stdout",
          "text": [
            "tags\n",
            "['git']    61\n",
            "dtype: int64\n"
          ]
        }
      ]
    },
    {
      "cell_type": "markdown",
      "metadata": {
        "_uuid": "3e47d8d7-b296-445c-bd20-e47dc836ba32",
        "_cell_guid": "939331e3-43f2-4025-bf1b-05d4f930c062",
        "trusted": true,
        "id": "iFV12cSlT3bz"
      },
      "source": [
        "## Prepare data"
      ]
    },
    {
      "cell_type": "code",
      "metadata": {
        "id": "FQZSMe4sKaJ_",
        "outputId": "14765e75-0b1e-426a-bb23-620febc6cdb7",
        "colab": {
          "base_uri": "https://localhost:8080/",
          "height": 206
        }
      },
      "source": [
        "df = df_filtered[['title', 'body']]\n",
        "df.head()"
      ],
      "execution_count": 24,
      "outputs": [
        {
          "output_type": "execute_result",
          "data": {
            "text/html": [
              "<div>\n",
              "<style scoped>\n",
              "    .dataframe tbody tr th:only-of-type {\n",
              "        vertical-align: middle;\n",
              "    }\n",
              "\n",
              "    .dataframe tbody tr th {\n",
              "        vertical-align: top;\n",
              "    }\n",
              "\n",
              "    .dataframe thead th {\n",
              "        text-align: right;\n",
              "    }\n",
              "</style>\n",
              "<table border=\"1\" class=\"dataframe\">\n",
              "  <thead>\n",
              "    <tr style=\"text-align: right;\">\n",
              "      <th></th>\n",
              "      <th>title</th>\n",
              "      <th>body</th>\n",
              "    </tr>\n",
              "  </thead>\n",
              "  <tbody>\n",
              "    <tr>\n",
              "      <th>470</th>\n",
              "      <td>How to stop tracking and ignore changes to a f...</td>\n",
              "      <td>&lt;p&gt;I clone project include &lt;code&gt;.csproj&lt;/code...</td>\n",
              "    </tr>\n",
              "    <tr>\n",
              "      <th>905</th>\n",
              "      <td>Make the current Git branch a master branch</td>\n",
              "      <td>&lt;p&gt;I repository Git. I make branch, change mas...</td>\n",
              "    </tr>\n",
              "    <tr>\n",
              "      <th>914</th>\n",
              "      <td>Throw away local commits in Git</td>\n",
              "      <td>&lt;p&gt;Due bad cherry-picking, local Git repositor...</td>\n",
              "    </tr>\n",
              "    <tr>\n",
              "      <th>1424</th>\n",
              "      <td>How can I reconcile detached HEAD with master/...</td>\n",
              "      <td>&lt;p&gt;I'm new branching complexity Git. I always ...</td>\n",
              "    </tr>\n",
              "    <tr>\n",
              "      <th>1469</th>\n",
              "      <td>How to undo &amp;#39;git reset&amp;#39;?</td>\n",
              "      <td>&lt;p&gt;What's simplest way undo:&lt;/p&gt; &lt;pre&gt;&lt;code&gt;gi...</td>\n",
              "    </tr>\n",
              "  </tbody>\n",
              "</table>\n",
              "</div>"
            ],
            "text/plain": [
              "                                                  title                                               body\n",
              "470   How to stop tracking and ignore changes to a f...  <p>I clone project include <code>.csproj</code...\n",
              "905         Make the current Git branch a master branch  <p>I repository Git. I make branch, change mas...\n",
              "914                     Throw away local commits in Git  <p>Due bad cherry-picking, local Git repositor...\n",
              "1424  How can I reconcile detached HEAD with master/...  <p>I'm new branching complexity Git. I always ...\n",
              "1469                   How to undo &#39;git reset&#39;?  <p>What's simplest way undo:</p> <pre><code>gi..."
            ]
          },
          "metadata": {},
          "execution_count": 24
        }
      ]
    },
    {
      "cell_type": "code",
      "metadata": {
        "id": "DfviMYofJ8n_"
      },
      "source": [
        "texts = df.body.apply(simple_preprocess)"
      ],
      "execution_count": 25,
      "outputs": []
    },
    {
      "cell_type": "code",
      "metadata": {
        "id": "3ln_G2Z6LORd"
      },
      "source": [
        "dictionary = corpora.Dictionary(texts)\n",
        "dictionary.filter_extremes(no_below=5, no_above=0.5)\n",
        "\n",
        "corpus = [dictionary.doc2bow(text) for text in texts]"
      ],
      "execution_count": 26,
      "outputs": []
    },
    {
      "cell_type": "code",
      "metadata": {
        "id": "5MMftA0DLUXy"
      },
      "source": [
        "tfidf = models.TfidfModel(corpus)\n",
        "corpus_tfidf = tfidf[corpus]"
      ],
      "execution_count": 27,
      "outputs": []
    },
    {
      "cell_type": "code",
      "metadata": {
        "id": "3TLHtSy0LghN"
      },
      "source": [
        "n_topics = 15\n",
        "\n",
        "# Build an LSI model\n",
        "lsi_model = models.LsiModel(corpus_tfidf,\n",
        "                            id2word=dictionary,\n",
        "                            num_topics=n_topics)"
      ],
      "execution_count": 28,
      "outputs": []
    },
    {
      "cell_type": "code",
      "metadata": {
        "id": "_s8hk4UZLiZu",
        "outputId": "fe9f7f02-bc20-4778-9e65-b7eba2607d1a",
        "colab": {
          "base_uri": "https://localhost:8080/"
        }
      },
      "source": [
        "lsi_model.print_topics()"
      ],
      "execution_count": 29,
      "outputs": [
        {
          "output_type": "execute_result",
          "data": {
            "text/plain": [
              "[(0,\n",
              "  '-0.233*\"file\" + -0.223*\"commit\" + -0.219*\"branch\" + -0.199*\"remote\" + -0.186*\"pre\" + -0.172*\"new\" + -0.164*\"em\" + -0.162*\"repository\" + -0.158*\"master\" + -0.151*\"commits\"'),\n",
              " (1,\n",
              "  '-0.435*\"gt\" + -0.424*\"lt\" + 0.263*\"remote\" + -0.244*\"head\" + -0.220*\"reset\" + 0.219*\"branch\" + 0.209*\"local\" + -0.204*\"directory\" + -0.195*\"revert\" + -0.147*\"hard\"'),\n",
              " (2,\n",
              "  '-0.424*\"file\" + -0.320*\"line\" + 0.288*\"branch\" + 0.270*\"remote\" + 0.259*\"master\" + 0.197*\"origin\" + 0.187*\"push\" + 0.176*\"pre\" + -0.160*\"add\" + 0.159*\"gt\"'),\n",
              " (3,\n",
              "  '-0.383*\"line\" + 0.339*\"clone\" + -0.325*\"em\" + 0.322*\"directory\" + 0.201*\"repo\" + 0.197*\"project\" + -0.194*\"commits\" + 0.156*\"file\" + -0.148*\"commit\" + -0.144*\"log\"'),\n",
              " (4,\n",
              "  '0.453*\"head\" + -0.257*\"lt\" + -0.240*\"commit\" + -0.235*\"gt\" + 0.215*\"version\" + 0.193*\"like\" + 0.193*\"line\" + 0.188*\"exactly\" + 0.184*\"reset\" + 0.172*\"pull\"'),\n",
              " (5,\n",
              "  '-0.333*\"branch\" + 0.324*\"clone\" + -0.264*\"head\" + -0.261*\"delete\" + 0.240*\"push\" + 0.224*\"pull\" + -0.214*\"how\" + -0.184*\"commit\" + 0.180*\"github\" + -0.178*\"reset\"'),\n",
              " (6,\n",
              "  '0.294*\"remote\" + 0.248*\"line\" + 0.241*\"lt\" + 0.231*\"directory\" + -0.216*\"master\" + 0.215*\"that\" + -0.212*\"try\" + 0.198*\"gt\" + -0.169*\"project\" + -0.158*\"github\"'),\n",
              " (7,\n",
              "  '-0.296*\"new\" + 0.291*\"clone\" + -0.286*\"directory\" + -0.283*\"pull\" + 0.203*\"commit\" + -0.202*\"push\" + 0.197*\"pre\" + -0.194*\"github\" + -0.193*\"file\" + -0.178*\"the\"'),\n",
              " (8,\n",
              "  '0.468*\"directory\" + -0.296*\"file\" + 0.251*\"work\" + -0.242*\"new\" + -0.225*\"gt\" + 0.218*\"em\" + 0.207*\"clone\" + -0.202*\"lt\" + 0.200*\"how\" + 0.174*\"commit\"'),\n",
              " (9,\n",
              "  '0.272*\"use\" + 0.261*\"know\" + 0.239*\"try\" + 0.237*\"merge\" + -0.233*\"list\" + -0.228*\"show\" + 0.220*\"remove\" + 0.212*\"href\" + 0.192*\"see\" + -0.180*\"push\"'),\n",
              " (10,\n",
              "  '-0.317*\"repository\" + -0.307*\"pull\" + 0.288*\"origin\" + -0.282*\"list\" + 0.271*\"pre\" + 0.189*\"version\" + -0.184*\"merge\" + -0.175*\"show\" + 0.165*\"em\" + 0.164*\"diff\"'),\n",
              " (11,\n",
              "  '-0.369*\"revert\" + 0.243*\"show\" + -0.223*\"head\" + 0.211*\"repository\" + -0.210*\"new\" + 0.208*\"master\" + -0.198*\"commit\" + 0.197*\"list\" + -0.190*\"commits\" + 0.188*\"version\"'),\n",
              " (12,\n",
              "  '0.295*\"pre\" + 0.231*\"commit\" + -0.214*\"local\" + 0.211*\"get\" + -0.207*\"em\" + 0.201*\"like\" + -0.196*\"file\" + 0.192*\"delete\" + -0.181*\"source\" + 0.172*\"log\"'),\n",
              " (13,\n",
              "  '-0.327*\"that\" + -0.301*\"master\" + 0.242*\"give\" + -0.223*\"merge\" + -0.211*\"em\" + 0.211*\"origin\" + -0.207*\"head\" + 0.191*\"work\" + -0.185*\"like\" + 0.172*\"branch\"'),\n",
              " (14,\n",
              "  '0.313*\"revert\" + -0.283*\"delete\" + -0.265*\"commit\" + -0.227*\"pull\" + 0.215*\"directory\" + -0.182*\"clone\" + -0.176*\"remote\" + 0.163*\"run\" + -0.162*\"reset\" + 0.162*\"show\"')]"
            ]
          },
          "metadata": {},
          "execution_count": 29
        }
      ]
    },
    {
      "cell_type": "code",
      "metadata": {
        "id": "DXQaxcNxLk-I",
        "outputId": "1737250b-4be7-4671-ebe1-fcb8ddd3c13c",
        "colab": {
          "base_uri": "https://localhost:8080/",
          "height": 206
        }
      },
      "source": [
        "n_words = 10\n",
        "\n",
        "topic_words = pd.DataFrame({})\n",
        "\n",
        "for i, topic in enumerate(lsi_model.get_topics()):\n",
        "    top_feature_ids = topic.argsort()[-n_words:][::-1]\n",
        "    feature_values = topic[top_feature_ids]\n",
        "    words = [dictionary[id] for id in top_feature_ids]\n",
        "    topic_df = pd.DataFrame({'value': feature_values, 'word': words, 'topic': i})\n",
        "    topic_words = pd.concat([topic_words, topic_df], ignore_index=True)\n",
        "\n",
        "topic_words.head()"
      ],
      "execution_count": 30,
      "outputs": [
        {
          "output_type": "execute_result",
          "data": {
            "text/html": [
              "<div>\n",
              "<style scoped>\n",
              "    .dataframe tbody tr th:only-of-type {\n",
              "        vertical-align: middle;\n",
              "    }\n",
              "\n",
              "    .dataframe tbody tr th {\n",
              "        vertical-align: top;\n",
              "    }\n",
              "\n",
              "    .dataframe thead th {\n",
              "        text-align: right;\n",
              "    }\n",
              "</style>\n",
              "<table border=\"1\" class=\"dataframe\">\n",
              "  <thead>\n",
              "    <tr style=\"text-align: right;\">\n",
              "      <th></th>\n",
              "      <th>value</th>\n",
              "      <th>word</th>\n",
              "      <th>topic</th>\n",
              "    </tr>\n",
              "  </thead>\n",
              "  <tbody>\n",
              "    <tr>\n",
              "      <th>0</th>\n",
              "      <td>-0.040722</td>\n",
              "      <td>sure</td>\n",
              "      <td>0</td>\n",
              "    </tr>\n",
              "    <tr>\n",
              "      <th>1</th>\n",
              "      <td>-0.041311</td>\n",
              "      <td>everything</td>\n",
              "      <td>0</td>\n",
              "    </tr>\n",
              "    <tr>\n",
              "      <th>2</th>\n",
              "      <td>-0.044203</td>\n",
              "      <td>href</td>\n",
              "      <td>0</td>\n",
              "    </tr>\n",
              "    <tr>\n",
              "      <th>3</th>\n",
              "      <td>-0.047512</td>\n",
              "      <td>do</td>\n",
              "      <td>0</td>\n",
              "    </tr>\n",
              "    <tr>\n",
              "      <th>4</th>\n",
              "      <td>-0.048334</td>\n",
              "      <td>manually</td>\n",
              "      <td>0</td>\n",
              "    </tr>\n",
              "  </tbody>\n",
              "</table>\n",
              "</div>"
            ],
            "text/plain": [
              "      value        word  topic\n",
              "0 -0.040722        sure      0\n",
              "1 -0.041311  everything      0\n",
              "2 -0.044203        href      0\n",
              "3 -0.047512          do      0\n",
              "4 -0.048334    manually      0"
            ]
          },
          "metadata": {},
          "execution_count": 30
        }
      ]
    },
    {
      "cell_type": "code",
      "metadata": {
        "id": "ft8eFOemLsO9",
        "outputId": "faf41eff-c4c4-4ec0-9aaa-4c5ff582ff75",
        "colab": {
          "base_uri": "https://localhost:8080/",
          "height": 1000
        }
      },
      "source": [
        "g = sns.FacetGrid(topic_words, col=\"topic\", col_wrap=3, sharey=False)\n",
        "g.map(plt.barh, \"word\", \"value\")"
      ],
      "execution_count": 31,
      "outputs": [
        {
          "output_type": "execute_result",
          "data": {
            "text/plain": [
              "<seaborn.axisgrid.FacetGrid at 0x7f1e01ff0510>"
            ]
          },
          "metadata": {},
          "execution_count": 31
        },
        {
          "output_type": "display_data",
          "data": {
            "image/png": "[encoded data removed]",
            "text/plain": [
              "<Figure size 648x1080 with 15 Axes>"
            ]
          },
          "metadata": {
            "needs_background": "light"
          }
        }
      ]
    },
    {
      "cell_type": "markdown",
      "metadata": {
        "id": "Dsv14BWhL9Ar"
      },
      "source": [
        "## Using LDA with Gensim"
      ]
    },
    {
      "cell_type": "code",
      "metadata": {
        "id": "IWRpsXbXMSgE",
        "outputId": "6181f977-3890-4d60-b145-e148a59571b5",
        "colab": {
          "base_uri": "https://localhost:8080/"
        }
      },
      "source": [
        "!pip install pyLDAvis\n",
        "import pyLDAvis\n",
        "import pyLDAvis.gensim_models as gensimvis\n",
        "from gensim.models.ldamodel import LdaModel"
      ],
      "execution_count": 32,
      "outputs": [
        {
          "output_type": "stream",
          "name": "stdout",
          "text": [
            "Requirement already satisfied: pyLDAvis in /usr/local/lib/python3.7/dist-packages (3.3.1)\n",
            "Requirement already satisfied: gensim in /usr/local/lib/python3.7/dist-packages (from pyLDAvis) (4.1.2)\n",
            "Requirement already satisfied: numexpr in /usr/local/lib/python3.7/dist-packages (from pyLDAvis) (2.7.3)\n",
            "Requirement already satisfied: scipy in /usr/local/lib/python3.7/dist-packages (from pyLDAvis) (1.4.1)\n",
            "Requirement already satisfied: sklearn in /usr/local/lib/python3.7/dist-packages (from pyLDAvis) (0.0)\n",
            "Requirement already satisfied: scikit-learn in /usr/local/lib/python3.7/dist-packages (from pyLDAvis) (1.0.1)\n",
            "Requirement already satisfied: setuptools in /usr/local/lib/python3.7/dist-packages (from pyLDAvis) (57.4.0)\n",
            "Requirement already satisfied: pandas>=1.2.0 in /usr/local/lib/python3.7/dist-packages (from pyLDAvis) (1.3.4)\n",
            "Requirement already satisfied: jinja2 in /usr/local/lib/python3.7/dist-packages (from pyLDAvis) (2.11.3)\n",
            "Requirement already satisfied: joblib in /usr/local/lib/python3.7/dist-packages (from pyLDAvis) (1.1.0)\n",
            "Requirement already satisfied: funcy in /usr/local/lib/python3.7/dist-packages (from pyLDAvis) (1.16)\n",
            "Requirement already satisfied: future in /usr/local/lib/python3.7/dist-packages (from pyLDAvis) (0.16.0)\n",
            "Requirement already satisfied: numpy>=1.20.0 in /usr/local/lib/python3.7/dist-packages (from pyLDAvis) (1.21.4)\n",
            "Requirement already satisfied: pytz>=2017.3 in /usr/local/lib/python3.7/dist-packages (from pandas>=1.2.0->pyLDAvis) (2018.9)\n",
            "Requirement already satisfied: python-dateutil>=2.7.3 in /usr/local/lib/python3.7/dist-packages (from pandas>=1.2.0->pyLDAvis) (2.8.2)\n",
            "Requirement already satisfied: six>=1.5 in /usr/local/lib/python3.7/dist-packages (from python-dateutil>=2.7.3->pandas>=1.2.0->pyLDAvis) (1.15.0)\n",
            "Requirement already satisfied: smart-open>=1.8.1 in /usr/local/lib/python3.7/dist-packages (from gensim->pyLDAvis) (5.2.1)\n",
            "Requirement already satisfied: MarkupSafe>=0.23 in /usr/local/lib/python3.7/dist-packages (from jinja2->pyLDAvis) (2.0.1)\n",
            "Requirement already satisfied: threadpoolctl>=2.0.0 in /usr/local/lib/python3.7/dist-packages (from scikit-learn->pyLDAvis) (3.0.0)\n"
          ]
        }
      ]
    },
    {
      "cell_type": "code",
      "metadata": {
        "id": "vLJx69CjL6KK",
        "outputId": "0dc0c6a4-5130-488c-eebd-4ad4d53c5d77",
        "colab": {
          "base_uri": "https://localhost:8080/",
          "height": 917
        }
      },
      "source": [
        "n_topics = 15\n",
        "pyLDAvis.enable_notebook()\n",
        "\n",
        "lda_model = LdaModel(corpus=corpus, num_topics=n_topics)\n",
        "\n",
        "# feed the LDA model into the pyLDAvis instance\n",
        "lda_viz = gensimvis.prepare(lda_model, corpus, dictionary)\n",
        "lda_viz"
      ],
      "execution_count": 33,
      "outputs": [
        {
          "output_type": "stream",
          "name": "stderr",
          "text": [
            "/usr/local/lib/python3.7/dist-packages/pyLDAvis/_prepare.py:247: FutureWarning: In a future version of pandas all arguments of DataFrame.drop except for the argument 'labels' will be keyword-only\n",
            "  by='saliency', ascending=False).head(R).drop('saliency', 1)\n"
          ]
        },
        {
          "output_type": "execute_result",
          "data": {
            "text/html": [
              "\n",
              "<link rel=\"stylesheet\" type=\"text/css\" href=\"https://cdn.jsdelivr.net/gh/bmabey/pyLDAvis@3.3.1/pyLDAvis/js/ldavis.v1.0.0.css\">\n",
              "\n",
              "\n",
              "<div id=\"ldavis_el64613976675328059273752460\"></div>\n",
              "<script type=\"text/javascript\">\n",
              "\n",
              "var ldavis_el64613976675328059273752460_data = {\"mdsDat\": {\"x\": [0.025912545513041493, -0.09109710490266, 0.037091533592724026, 0.03276081331076083, -0.10703071699164567, -0.10926738172988736, -0.05235350429191911, -0.031921773996238086, -0.1898412813860874, -0.0016896254896500286, 0.1219379870609463, 0.09558600948173354, 0.1869642549306196, 0.07328852725627254, 0.009659717641989952], \"y\": [-0.0017771618312331355, -0.0010326202525618733, -0.08209339508719918, -0.002424566852985145, 0.013768506137911722, 0.0472023398706557, 0.2005319936723341, 0.08648276226995512, -0.13043019501351005, -0.0743623054601804, 0.12137573945705894, -0.013673477830866938, -0.018116914113118374, -0.16691847936499588, 0.021467774398735394], \"topics\": [1, 2, 3, 4, 5, 6, 7, 8, 9, 10, 11, 12, 13, 14, 15], \"cluster\": [1, 1, 1, 1, 1, 1, 1, 1, 1, 1, 1, 1, 1, 1, 1], \"Freq\": [17.997285128367206, 13.481149419134411, 11.608277275037915, 9.34965492131883, 7.5287100099408155, 6.234060658512364, 6.211376465543559, 6.009830598172954, 5.0950757037315775, 4.690668472374795, 3.5035343417698637, 3.0790433987522037, 2.463864195297366, 1.9340910934000997, 0.8133783186460375]}, \"tinfo\": {\"Term\": [\"head\", \"file\", \"pre\", \"remote\", \"branch\", \"commit\", \"new\", \"like\", \"commits\", \"gt\", \"lt\", \"local\", \"version\", \"line\", \"clone\", \"work\", \"directory\", \"origin\", \"know\", \"how\", \"repository\", \"when\", \"seem\", \"em\", \"revert\", \"this\", \"reset\", \"is\", \"remove\", \"way\", \"so\", \"now\", \"exactly\", \"one\", \"problem\", \"go\", \"do\", \"push\", \"commit\", \"master\", \"em\", \"hard\", \"it\", \"origin\", \"see\", \"work\", \"branch\", \"want\", \"already\", \"the\", \"remote\", \"commits\", \"pre\", \"when\", \"merge\", \"different\", \"back\", \"local\", \"get\", \"keep\", \"change\", \"use\", \"this\", \"new\", \"lt\", \"something\", \"gt\", \"repository\", \"like\", \"repo\", \"try\", \"project\", \"set\", \"currently\", \"make\", \"run\", \"manually\", \"create\", \"get\", \"file\", \"everything\", \"log\", \"new\", \"in\", \"lt\", \"status\", \"use\", \"sure\", \"change\", \"problem\", \"way\", \"remove\", \"need\", \"commit\", \"add\", \"gt\", \"command\", \"like\", \"reset\", \"repository\", \"pre\", \"is\", \"local\", \"branch\", \"show\", \"head\", \"directory\", \"push\", \"remote\", \"already\", \"em\", \"track\", \"show\", \"it\", \"command\", \"seem\", \"need\", \"local\", \"know\", \"merge\", \"diff\", \"master\", \"set\", \"changes\", \"keep\", \"find\", \"how\", \"commits\", \"branch\", \"one\", \"change\", \"use\", \"everything\", \"create\", \"want\", \"remove\", \"repository\", \"github\", \"would\", \"like\", \"is\", \"remote\", \"get\", \"origin\", \"line\", \"file\", \"github\", \"source\", \"that\", \"repository\", \"project\", \"list\", \"changes\", \"pull\", \"back\", \"push\", \"now\", \"what\", \"delete\", \"clone\", \"one\", \"try\", \"change\", \"remote\", \"local\", \"everything\", \"href\", \"checkout\", \"commit\", \"how\", \"problem\", \"already\", \"different\", \"so\", \"something\", \"also\", \"like\", \"work\", \"the\", \"new\", \"way\", \"make\", \"get\", \"want\", \"master\", \"branch\", \"pre\", \"file\", \"pull\", \"think\", \"manually\", \"directory\", \"clone\", \"add\", \"when\", \"files\", \"see\", \"exactly\", \"command\", \"would\", \"hard\", \"file\", \"set\", \"github\", \"status\", \"delete\", \"repo\", \"reset\", \"run\", \"list\", \"new\", \"back\", \"changes\", \"last\", \"that\", \"want\", \"what\", \"how\", \"push\", \"is\", \"way\", \"like\", \"pre\", \"log\", \"show\", \"checkout\", \"change\", \"line\", \"new\", \"log\", \"file\", \"sure\", \"origin\", \"revert\", \"gt\", \"source\", \"checkout\", \"in\", \"diff\", \"give\", \"do\", \"it\", \"lt\", \"version\", \"show\", \"merge\", \"master\", \"command\", \"pre\", \"different\", \"when\", \"track\", \"work\", \"something\", \"this\", \"also\", \"make\", \"href\", \"head\", \"know\", \"branch\", \"clone\", \"like\", \"want\", \"commit\", \"remote\", \"lt\", \"files\", \"gt\", \"use\", \"reset\", \"everything\", \"checkout\", \"currently\", \"directory\", \"delete\", \"something\", \"status\", \"changes\", \"head\", \"what\", \"add\", \"want\", \"but\", \"pre\", \"repository\", \"push\", \"clone\", \"this\", \"commit\", \"work\", \"file\", \"master\", \"remote\", \"branch\", \"manually\", \"like\", \"version\", \"origin\", \"last\", \"diff\", \"sure\", \"find\", \"checkout\", \"gt\", \"show\", \"source\", \"pre\", \"problem\", \"href\", \"head\", \"master\", \"the\", \"seem\", \"would\", \"give\", \"run\", \"how\", \"do\", \"project\", \"this\", \"delete\", \"get\", \"see\", \"command\", \"is\", \"it\", \"file\", \"branch\", \"commits\", \"like\", \"work\", \"directory\", \"line\", \"log\", \"manually\", \"think\", \"last\", \"find\", \"file\", \"em\", \"give\", \"list\", \"is\", \"get\", \"new\", \"commits\", \"commit\", \"remove\", \"delete\", \"way\", \"add\", \"show\", \"back\", \"in\", \"something\", \"like\", \"it\", \"need\", \"go\", \"repo\", \"command\", \"merge\", \"repository\", \"pre\", \"master\", \"track\", \"go\", \"in\", \"the\", \"give\", \"source\", \"version\", \"work\", \"keep\", \"also\", \"add\", \"that\", \"line\", \"sure\", \"remove\", \"github\", \"files\", \"diff\", \"do\", \"know\", \"run\", \"see\", \"something\", \"directory\", \"want\", \"but\", \"file\", \"when\", \"create\", \"way\", \"branch\", \"commits\", \"em\", \"is\", \"this\", \"remote\", \"revert\", \"clone\", \"href\", \"like\", \"remote\", \"but\", \"pre\", \"this\", \"know\", \"commits\", \"something\", \"try\", \"head\", \"change\", \"want\", \"commit\", \"manually\", \"different\", \"everything\", \"hard\", \"also\", \"exactly\", \"set\", \"track\", \"currently\", \"sure\", \"already\", \"run\", \"problem\", \"so\", \"branch\", \"file\", \"work\", \"repository\", \"how\", \"way\", \"is\", \"local\", \"push\", \"get\", \"origin\", \"line\", \"lt\", \"it\", \"hard\", \"exactly\", \"give\", \"head\", \"reset\", \"merge\", \"track\", \"is\", \"way\", \"now\", \"version\", \"work\", \"the\", \"but\", \"see\", \"branch\", \"delete\", \"github\", \"directory\", \"try\", \"change\", \"this\", \"like\", \"origin\", \"want\", \"manually\", \"different\", \"everything\", \"href\", \"also\", \"commit\", \"file\", \"repository\", \"remote\", \"how\", \"remove\", \"also\", \"how\", \"create\", \"would\", \"remote\", \"local\", \"but\", \"this\", \"branch\", \"list\", \"directory\", \"origin\", \"work\", \"want\", \"repository\", \"think\", \"that\", \"something\", \"get\", \"manually\", \"different\", \"everything\", \"href\", \"hard\", \"exactly\", \"set\", \"track\", \"currently\", \"sure\", \"like\", \"problem\", \"push\", \"master\", \"em\", \"pre\", \"it\", \"now\", \"commits\", \"need\", \"different\", \"also\", \"diff\", \"seem\", \"line\", \"know\", \"commits\", \"create\", \"is\", \"way\", \"this\", \"local\", \"commit\", \"work\", \"repository\", \"branch\", \"change\", \"like\", \"new\", \"manually\", \"everything\", \"href\", \"hard\", \"exactly\", \"set\", \"track\", \"currently\", \"sure\", \"already\", \"run\", \"pre\", \"file\", \"head\", \"how\", \"directory\", \"remote\", \"want\", \"push\", \"make\", \"get\", \"lt\", \"head\", \"seem\", \"when\", \"version\", \"like\", \"commit\", \"manually\", \"different\", \"everything\", \"href\", \"hard\", \"also\", \"exactly\", \"set\", \"track\", \"currently\", \"sure\", \"already\", \"run\", \"problem\", \"so\", \"give\", \"diff\", \"back\", \"list\", \"in\", \"status\", \"do\", \"think\", \"that\", \"file\", \"branch\", \"how\", \"remote\", \"pre\", \"way\", \"commits\", \"repository\", \"directory\", \"push\", \"work\", \"change\", \"know\", \"clone\", \"is\", \"local\", \"show\", \"want\", \"new\", \"gt\", \"it\", \"get\", \"lt\", \"repo\"], \"Freq\": [19.0, 77.0, 52.0, 36.0, 53.0, 49.0, 46.0, 28.0, 26.0, 30.0, 21.0, 22.0, 12.0, 15.0, 17.0, 25.0, 25.0, 25.0, 17.0, 17.0, 27.0, 8.0, 7.0, 24.0, 9.0, 19.0, 13.0, 18.0, 8.0, 19.0, 4.489358426198393, 4.355615188799095, 2.622434084945876, 4.019571130302405, 2.7053835137588726, 4.205869280419791, 2.9726288557831495, 10.040814886553251, 16.7565748088891, 11.52857169114172, 8.013455481321758, 1.8335629343778646, 5.465358308970485, 7.730423554714013, 4.005830982115245, 7.6716534570154895, 15.643461723142604, 9.988057392838408, 1.8335678454323312, 3.3115269735832094, 9.935056310822013, 7.21365883065786, 13.631124742419546, 2.1847417577539194, 2.4232301747952354, 1.302816929360232, 1.6665317103681925, 5.050398270694365, 4.114397207685142, 2.1546679335156917, 5.421591973773425, 3.5999212805632324, 3.465125849744427, 5.687772599189303, 3.607989651946707, 2.713783872424302, 3.6079366125584658, 3.017886678221771, 2.7128961993294314, 6.791241780157908, 5.664005645215973, 4.16190971829231, 2.20866727269171, 2.2086648815350385, 3.832382945962889, 2.1311930608065914, 1.4507052797153064, 2.758579230123762, 5.043507478592685, 20.792569907615498, 1.4884495038339611, 3.9174632432837426, 11.989520001186651, 1.881495237877966, 5.435504874371527, 1.7988263300923824, 4.136876147296867, 1.4314962904680426, 5.924397088648147, 1.4396512383273663, 3.8652046981713304, 1.758583347252397, 1.7330435867831886, 8.80407847166769, 2.10875058396701, 5.376995845720781, 2.2324309555596544, 4.676750029023516, 2.2086681923673526, 4.2029103299267865, 6.968951072475244, 2.7214068603197643, 2.7049878910698872, 4.019110945503212, 2.11938332194301, 2.208667824497095, 2.2086705835240235, 2.2319212713184466, 2.208670031718638, 2.8610238299395183, 9.09282171376428, 2.3161156764902753, 3.926694500395994, 4.965010400482481, 3.653056835780553, 2.0897405943599705, 2.4224182774500016, 5.69569101220247, 4.498504451999549, 2.5291386898450257, 1.7687692337891712, 8.344014927850168, 1.470014734960209, 2.1345145221510826, 2.3440710310007673, 1.9623470685399582, 3.9095084811222383, 5.5263104463910055, 10.815710722235593, 2.0177979949238423, 5.791190859345912, 3.582492317200576, 1.0984021893501519, 1.9025377892081876, 6.4810086257551704, 1.5507080923992336, 4.799024908942071, 2.0839474598380265, 1.9061050245975784, 3.600417029626048, 2.6352485400402497, 3.974160603614396, 2.0979737603346056, 2.0993700551085195, 1.9755648294697459, 2.1587304801538485, 5.123451147597835, 3.445407212909912, 2.7640121038135583, 9.055466772269233, 3.5697884528136643, 2.1523496715395103, 2.598171045914365, 3.998705863586971, 1.9104507275447449, 7.4293445598789285, 1.750951845134399, 2.4636317628025166, 2.598177169059838, 3.4453870575560646, 2.007583332267467, 2.74670886010098, 4.975477173056828, 6.344109892554706, 3.6365070112770486, 0.9037165073148018, 0.9015624357637291, 1.7509444463336195, 7.625066822815807, 2.4993223021073967, 0.961116977806856, 0.9037114046935746, 0.748486541605917, 0.9037109582142171, 1.7923673978906938, 0.7296282740743423, 3.315940700691108, 2.586458999411518, 1.3591718219149516, 3.499030914517871, 1.7867219853304237, 1.337320101640426, 1.6547962648111594, 2.1029320606091524, 1.7452338477871718, 1.8962533218076474, 1.8343411774092468, 1.8295337428200178, 5.291171437711405, 2.725715532056724, 1.7321814097730899, 8.437381691326989, 4.246642403758953, 2.7133900651318035, 1.9598234054687558, 2.744446872540874, 2.570332061292034, 0.9869269159869034, 2.042880350143171, 1.7321814097730899, 0.8940278820721815, 11.44523362243249, 0.894027060305906, 1.7321857240460363, 1.0195009093821483, 1.7321787390326946, 1.732183053305641, 1.8432246321681043, 0.8940302446502236, 0.9235366872597456, 5.876886994119178, 0.8940256222149239, 1.0421117057322327, 0.9143456423512182, 0.8940300392086548, 3.5501852131792813, 1.2203333966637568, 1.7321855186044675, 2.7767903604958364, 1.7498960199328555, 1.7625543021993608, 1.777637205861781, 2.30845754241556, 1.3002025045138705, 1.191962121443078, 1.0855876614216329, 1.1602635145728282, 1.067181226778666, 10.0693344124122, 2.9408224828855936, 13.297520442900955, 1.1139443584202775, 3.856421986554585, 1.4004641430687765, 4.445187868373099, 1.3961538072330433, 1.4955594602157112, 0.9003037484132509, 0.8192295260746199, 0.8008270730447823, 0.8079076221537413, 1.7324391051972294, 2.2007852135110095, 1.237324617146784, 1.2950429365371625, 0.957543623587906, 3.2429797808091707, 1.1340459901341162, 4.449344081378807, 0.4702151453264568, 0.7423321004750668, 0.5087293943516937, 1.9663540121195027, 1.037982216837808, 1.4254923467682001, 0.42778837088272015, 0.85801438314827, 0.377042578529484, 1.2613410708113577, 1.088571844999032, 2.266720865466906, 0.9155687981824354, 1.1624591972918765, 1.1014781860488876, 1.1333198606639596, 0.8254687788746509, 9.048442774433791, 3.926692601678603, 9.0484719274875, 5.207125907504943, 3.9266719233498106, 1.365798616664448, 2.646234380161013, 1.3658039557411445, 5.20710726311013, 2.6462396344904606, 2.6462431938749247, 1.3657970912139634, 1.3658031930159023, 2.646238617523471, 1.3658031930159023, 1.3657966674777176, 3.926684126953688, 1.3658044642246394, 5.207108958055112, 2.6462445498309113, 2.6462496346658604, 1.3658044642246394, 1.3657964979832193, 2.64623471915001, 1.3658010743346733, 3.926683448975695, 1.3658022607961615, 1.3657999726204344, 1.3657978539392057, 0.08536424620079087, 0.08536456929967826, 5.555825135131832, 7.041917486000566, 2.171723795176942, 1.8673147449510106, 1.5594096543306, 1.8077028119670218, 2.3063123306523186, 6.219464717495205, 2.4304434119652627, 1.6430902789599444, 8.56700188811017, 1.0988055123841853, 0.8742788860391072, 2.6502483830416645, 4.563284212419879, 1.5751624994461106, 0.967330745506706, 1.325573291184041, 0.8383078643566801, 0.8166636713130684, 1.943495888989328, 0.8309791843131175, 1.0988073983239797, 1.832613288739728, 1.184890710251359, 1.2121390143926503, 0.8588156556781068, 0.8293696576946911, 1.1552997408959236, 1.0162506298173184, 3.515419327837289, 2.3002812591846693, 1.3775166649745676, 1.3280575658775282, 1.1272011238995159, 0.9572303899444695, 5.466393460334818, 3.7897978627848694, 0.97276038302361, 1.4505760623405117, 1.4316600447405672, 1.413388167772582, 12.008163925461396, 3.6716477611752323, 1.04702119173585, 0.9406572091964533, 2.405582049819005, 2.3199755790885526, 5.80550924177472, 3.219730205738514, 5.471984261779311, 0.9727635112697182, 1.4077119999676269, 1.8516708802057211, 1.1113970903292252, 1.0786475513395437, 0.5768104872576106, 0.5111106801529748, 0.9727687250132317, 1.8352614914539502, 0.9727636503028785, 0.47379139924850244, 0.541329954657221, 0.5397865823023282, 0.5309092802548996, 0.39727953939512506, 0.9828907561870948, 0.6115565424300958, 0.5188477017356913, 1.2364310644821683, 2.107921084120125, 1.4214887423614608, 2.0294918424290334, 1.1051008455822464, 1.5137661936292253, 1.939229332470213, 3.9568975064662384, 1.4753281994125715, 0.7929341881263501, 1.5817120318120932, 1.0474108308258272, 1.9958897329534049, 0.8226412606624646, 1.0474099988401515, 1.3068929553463928, 1.3894631817425385, 0.7495483750958295, 0.7686576140938515, 1.7359386245072916, 0.6796241389748536, 1.2901669713160933, 1.3228413527643281, 2.099336655917421, 2.8409676633258285, 1.0474123667993827, 5.752136486004871, 0.6517411630334388, 0.7192134733689913, 1.3343175071804525, 3.5524144864125105, 1.7769364466516278, 1.5114037383033974, 1.2156000631275674, 1.1820775682812215, 1.0474087188621888, 4.442229288512928, 4.845648458605083, 1.165170768721213, 4.931145206035639, 6.021998057742929, 2.082506095584843, 8.187475627929302, 2.9860004148834736, 2.0532969089484134, 2.2575273690590665, 1.165177556575035, 1.066070493005861, 1.165170290703338, 1.1651714379462377, 1.1651721071712624, 1.165170673117638, 0.07282469672705175, 0.07282467282615801, 0.07282470867749861, 0.07282467880138144, 0.07282468477660488, 0.07282470867749861, 0.07282468477660488, 0.07282468477660488, 0.07282472062794548, 0.0728246549004877, 0.07282469672705175, 0.07282468477660488, 0.07282467880138144, 0.07282469672705175, 0.07282516876970312, 0.07282505524045785, 0.07282495366165946, 0.07282491781031884, 0.07282488793420167, 0.07282488793420167, 0.07282486403330793, 0.0728248580580845, 0.07282482818196732, 0.07282481623152046, 0.07282481623152046, 0.07282481623152046, 0.07282481623152046, 0.07282481025629702, 1.49269497375104, 1.1829277249250405, 1.4104849327896445, 3.7315717465993288, 2.2598072058202114, 1.291200234956009, 0.774378128463347, 2.2984376642088016, 2.216324918606046, 0.9279107925382034, 1.3379529233270802, 2.7133600226412327, 1.2646432231567692, 1.2275229433313848, 1.2410080968428998, 4.678403461666805, 0.8993786345464722, 0.7373300219653127, 1.492685563491828, 0.7793010383540422, 1.4926909407828062, 0.8742317332861377, 1.1200030859970447, 0.8515459508904647, 0.6547228176530618, 0.0932949587250491, 0.0932949062124419, 0.09329493772000622, 0.09329493772000622, 0.09329493772000622, 0.0932956833990286, 0.09329533681582103, 0.09329528430321381, 0.09329521078556371, 0.0932951792779994, 2.533111122501815, 1.3074112293044362, 2.676119340118696, 1.3074042370397572, 1.307407867638725, 4.203842844933163, 2.5330995583717684, 1.3074838412837964, 1.4965164896849963, 3.7591006568168637, 0.4514407440622496, 1.307404505973014, 1.307784508664999, 1.3075627731946935, 1.307577161123937, 0.8808178675627036, 0.2177957829836726, 0.1804393736188202, 0.310200527292818, 0.31662419983356926, 0.0817147397935901, 0.08171474819775437, 0.08171474819775437, 0.08171474819775437, 0.08171475660191865, 0.08171475660191865, 0.08171473138942582, 0.08171473138942582, 0.08171474819775437, 0.08181552253160948, 0.35266801320485763, 0.0819354499558537, 0.0825086139595997, 0.08246588718841136, 0.08204052722181904, 0.08195627547493409, 0.08187598208942398, 0.08186448519269195, 0.08185561039521459, 0.08185492125374381, 0.9728580260286627, 0.9728504261410378, 0.9728567593807251, 0.9728551760708033, 1.8849030179307482, 1.884889507019415, 2.796964054040042, 0.9728521150049544, 0.9728506372490273, 0.9728541205308554, 0.9728503205870429, 0.9728542260848502, 1.8849042845786856, 0.9728522205589492, 0.9728508483570169, 1.8849023846067794, 0.972851270572996, 0.9728565482727356, 0.9728479983991576, 0.06080452383574713, 0.06080453043287181, 0.06080451723862246, 0.060804510641497785, 0.06080453702999648, 0.06080450404437311, 0.06080452383574713, 0.06080451723862246, 0.06080450404437311, 0.06080452383574713, 0.06080451723862246, 0.06080483390060683, 0.06080473494373671, 0.06080472834661204, 0.06080469536098867, 0.06080466897248997, 0.06080466897248997, 0.060804629389741925, 0.06080462279261725, 0.06080461619549257, 0.06080461619549257, 0.06080461619549257, 3.216235671915037, 0.8436066196873574, 0.8436051104093004, 0.8436028908827461, 0.8436020030721243, 0.8436039562554921, 0.05272627934581606, 0.052726257150550515, 0.052726268248183286, 0.05272627379699967, 0.052726257150550515, 0.052726257150550515, 0.052726290443448835, 0.05272625160173413, 0.052726257150550515, 0.052726257150550515, 0.052726246052917744, 0.052726268248183286, 0.05272627934581606, 0.052726257150550515, 0.052726257150550515, 0.05272627934581606, 0.05272627379699967, 0.05272627934581606, 0.052726290443448835, 0.052726257150550515, 0.052726268248183286, 0.052726257150550515, 0.05272629599226522, 0.052726301541081606, 0.05272656788426813, 0.052726551237818976, 0.052726506847287885, 0.052726456907940415, 0.05272645135912403, 0.05272641806622571, 0.05272641806622571, 0.052726412517409324, 0.052726412517409324, 0.05272640141977655, 0.05272640141977655, 0.052726384773327396, 0.052726384773327396, 0.052726373675694625, 0.052726373675694625, 0.052726373675694625, 0.05272636812687824, 0.05272636812687824, 0.05272636812687824, 0.05272636257806185, 0.05272635702924546, 0.05272635702924546, 0.052726340382796305, 0.052726329285163534], \"Total\": [19.0, 77.0, 52.0, 36.0, 53.0, 49.0, 46.0, 28.0, 26.0, 30.0, 21.0, 22.0, 12.0, 15.0, 17.0, 25.0, 25.0, 25.0, 17.0, 17.0, 27.0, 8.0, 7.0, 24.0, 9.0, 19.0, 13.0, 18.0, 8.0, 19.0, 7.02490752077793, 8.37744852129678, 5.894794469737603, 9.990933839610268, 7.0114593465903745, 10.92838617623173, 7.7392003966356375, 28.795138545999947, 49.00819010742147, 34.1407773813604, 24.356327249613788, 5.752387652701902, 17.23952700823487, 25.403500293793776, 13.273080780678102, 25.92817301358903, 53.355792616990044, 34.35977154713148, 6.71830331773796, 12.22966375345905, 36.72394431277923, 26.670386559720157, 52.944258261750186, 8.950300811068091, 9.963464167528072, 5.600901873584603, 7.219138226578695, 22.261544219529764, 18.244452122697478, 10.008363839192977, 28.748411203320334, 18.314769699188542, 19.33172988754212, 46.7559972225899, 21.927983904958758, 14.074011952051158, 30.486745971676537, 27.23441965372936, 28.78052359393687, 12.962959904560424, 14.448072302492967, 10.901144425051548, 6.029264777372353, 6.410247945948097, 12.055104721554665, 6.973931293643395, 5.0555586251842595, 9.963975336022768, 18.244452122697478, 77.16032693674701, 5.658758978164417, 15.271977631087939, 46.7559972225899, 7.382983263896121, 21.927983904958758, 7.448650266526562, 18.314769699188542, 6.633832510581581, 28.748411203320334, 7.0114593465903745, 19.082777423126764, 8.763168009784616, 8.949278806214854, 49.00819010742147, 11.868117903149708, 30.486745971676537, 13.054493077247773, 28.78052359393687, 13.963762711183412, 27.23441965372936, 52.944258261750186, 18.8490504386537, 22.261544219529764, 53.355792616990044, 13.419233290103579, 19.109800710102952, 25.1674804353884, 28.795138545999947, 36.72394431277923, 6.71830331773796, 24.356327249613788, 6.2836865380522955, 13.419233290103579, 17.23952700823487, 13.054493077247773, 7.577312269241286, 8.949278806214854, 22.261544219529764, 17.58499450122184, 9.963464167528072, 7.197308764238401, 34.1407773813604, 6.029264777372353, 8.775826027760775, 10.008363839192977, 8.607173826270156, 17.322621196989516, 26.670386559720157, 53.355792616990044, 9.990933839610268, 28.748411203320334, 18.314769699188542, 5.658758978164417, 9.963975336022768, 34.35977154713148, 8.763168009784616, 27.23441965372936, 12.159236479318967, 11.134105036822442, 28.78052359393687, 18.8490504386537, 36.72394431277923, 18.244452122697478, 25.403500293793776, 15.691680874623962, 77.16032693674701, 12.159236479318967, 9.679830678205649, 8.121353262139712, 27.23441965372936, 10.901144425051548, 7.257073758464324, 8.775826027760775, 14.023724419822413, 7.219138226578695, 28.795138545999947, 8.37744852129678, 11.847814073973636, 12.84395414541598, 17.111010685840665, 9.990933839610268, 14.448072302492967, 28.748411203320334, 36.72394431277923, 22.261544219529764, 5.658758978164417, 5.660170356200654, 11.249149842871445, 49.00819010742147, 17.322621196989516, 7.0114593465903745, 6.71830331773796, 5.600901873584603, 7.02490752077793, 14.074011952051158, 5.830709358073384, 28.78052359393687, 25.92817301358903, 12.22966375345905, 46.7559972225899, 19.082777423126764, 12.055104721554665, 18.244452122697478, 34.35977154713148, 34.1407773813604, 53.355792616990044, 52.944258261750186, 77.16032693674701, 14.023724419822413, 7.754892479679537, 5.0555586251842595, 25.1674804353884, 17.111010685840665, 11.868117903149708, 8.950300811068091, 13.054686641730756, 13.273080780678102, 5.894794469737603, 13.054493077247773, 11.134105036822442, 5.752387652701902, 77.16032693674701, 6.029264777372353, 12.159236479318967, 7.448650266526562, 12.84395414541598, 12.962959904560424, 13.963762711183412, 6.973931293643395, 7.257073758464324, 46.7559972225899, 7.219138226578695, 8.775826027760775, 8.288071858115456, 8.121353262139712, 34.35977154713148, 11.847814073973636, 17.322621196989516, 28.795138545999947, 18.8490504386537, 19.082777423126764, 28.78052359393687, 52.944258261750186, 15.271977631087939, 13.419233290103579, 11.249149842871445, 28.748411203320334, 15.691680874623962, 46.7559972225899, 15.271977631087939, 77.16032693674701, 6.633832510581581, 25.403500293793776, 9.372451635577201, 30.486745971676537, 9.679830678205649, 11.249149842871445, 7.382983263896121, 7.197308764238401, 7.048790402781633, 7.7392003966356375, 17.23952700823487, 21.927983904958758, 12.4046009140696, 13.419233290103579, 9.963464167528072, 34.1407773813604, 13.054493077247773, 52.944258261750186, 5.600901873584603, 8.950300811068091, 6.2836865380522955, 25.92817301358903, 14.074011952051158, 19.33172988754212, 5.830709358073384, 12.055104721554665, 5.660170356200654, 19.109800710102952, 17.58499450122184, 53.355792616990044, 17.111010685840665, 28.78052359393687, 34.35977154713148, 49.00819010742147, 36.72394431277923, 21.927983904958758, 13.054686641730756, 30.486745971676537, 18.314769699188542, 13.963762711183412, 5.658758978164417, 11.249149842871445, 6.410247945948097, 25.1674804353884, 12.84395414541598, 14.074011952051158, 7.448650266526562, 8.775826027760775, 19.109800710102952, 11.847814073973636, 11.868117903149708, 34.35977154713148, 12.76469101441202, 52.944258261750186, 27.23441965372936, 28.795138545999947, 17.111010685840665, 19.33172988754212, 49.00819010742147, 25.92817301358903, 77.16032693674701, 34.1407773813604, 36.72394431277923, 53.355792616990044, 5.0555586251842595, 28.78052359393687, 12.4046009140696, 25.403500293793776, 8.288071858115456, 7.197308764238401, 6.633832510581581, 8.607173826270156, 11.249149842871445, 30.486745971676537, 13.419233290103579, 9.679830678205649, 52.944258261750186, 7.0114593465903745, 5.660170356200654, 19.109800710102952, 34.1407773813604, 12.22966375345905, 7.577312269241286, 11.134105036822442, 7.048790402781633, 6.973931293643395, 17.322621196989516, 7.7392003966356375, 10.901144425051548, 19.33172988754212, 12.84395414541598, 18.244452122697478, 13.273080780678102, 13.054493077247773, 18.8490504386537, 17.23952700823487, 77.16032693674701, 53.355792616990044, 26.670386559720157, 28.78052359393687, 25.92817301358903, 25.1674804353884, 15.691680874623962, 15.271977631087939, 5.0555586251842595, 7.754892479679537, 8.288071858115456, 8.607173826270156, 77.16032693674701, 24.356327249613788, 7.048790402781633, 7.257073758464324, 18.8490504386537, 18.244452122697478, 46.7559972225899, 26.670386559720157, 49.00819010742147, 8.763168009784616, 12.84395414541598, 19.082777423126764, 11.868117903149708, 13.419233290103579, 7.219138226578695, 7.382983263896121, 14.074011952051158, 28.78052359393687, 17.23952700823487, 8.949278806214854, 10.92838617623173, 12.962959904560424, 13.054493077247773, 9.963464167528072, 27.23441965372936, 52.944258261750186, 34.1407773813604, 6.2836865380522955, 10.92838617623173, 7.382983263896121, 12.22966375345905, 7.048790402781633, 9.679830678205649, 12.4046009140696, 25.92817301358903, 10.008363839192977, 5.830709358073384, 11.868117903149708, 8.121353262139712, 15.691680874623962, 6.633832510581581, 8.763168009784616, 12.159236479318967, 13.054686641730756, 7.197308764238401, 7.7392003966356375, 17.58499450122184, 6.973931293643395, 13.273080780678102, 14.074011952051158, 25.1674804353884, 34.35977154713148, 12.76469101441202, 77.16032693674701, 8.950300811068091, 9.963975336022768, 19.082777423126764, 53.355792616990044, 26.670386559720157, 24.356327249613788, 18.8490504386537, 19.33172988754212, 36.72394431277923, 9.372451635577201, 17.111010685840665, 5.660170356200654, 28.78052359393687, 36.72394431277923, 12.76469101441202, 52.944258261750186, 19.33172988754212, 17.58499450122184, 26.670386559720157, 14.074011952051158, 14.448072302492967, 19.109800710102952, 28.748411203320334, 34.35977154713148, 49.00819010742147, 5.0555586251842595, 5.600901873584603, 5.658758978164417, 5.752387652701902, 5.830709358073384, 5.894794469737603, 6.029264777372353, 6.2836865380522955, 6.410247945948097, 6.633832510581581, 6.71830331773796, 6.973931293643395, 7.0114593465903745, 7.02490752077793, 53.355792616990044, 77.16032693674701, 25.92817301358903, 27.23441965372936, 17.322621196989516, 19.082777423126764, 18.8490504386537, 22.261544219529764, 28.795138545999947, 18.244452122697478, 25.403500293793776, 15.691680874623962, 21.927983904958758, 17.23952700823487, 5.752387652701902, 5.894794469737603, 7.048790402781633, 19.109800710102952, 13.963762711183412, 9.963464167528072, 6.2836865380522955, 18.8490504386537, 19.082777423126764, 8.37744852129678, 12.4046009140696, 25.92817301358903, 12.22966375345905, 12.76469101441202, 13.273080780678102, 53.355792616990044, 12.84395414541598, 12.159236479318967, 25.1674804353884, 14.448072302492967, 28.748411203320334, 19.33172988754212, 28.78052359393687, 25.403500293793776, 34.35977154713148, 5.0555586251842595, 5.600901873584603, 5.658758978164417, 5.660170356200654, 5.830709358073384, 49.00819010742147, 77.16032693674701, 27.23441965372936, 36.72394431277923, 17.322621196989516, 8.763168009784616, 5.830709358073384, 17.322621196989516, 9.963975336022768, 11.134105036822442, 36.72394431277923, 22.261544219529764, 12.76469101441202, 19.33172988754212, 53.355792616990044, 7.257073758464324, 25.1674804353884, 25.403500293793776, 25.92817301358903, 34.35977154713148, 27.23441965372936, 7.754892479679537, 8.121353262139712, 14.074011952051158, 18.244452122697478, 5.0555586251842595, 5.600901873584603, 5.658758978164417, 5.660170356200654, 5.752387652701902, 5.894794469737603, 6.029264777372353, 6.2836865380522955, 6.410247945948097, 6.633832510581581, 28.78052359393687, 7.0114593465903745, 28.795138545999947, 34.1407773813604, 24.356327249613788, 52.944258261750186, 17.23952700823487, 8.37744852129678, 26.670386559720157, 8.949278806214854, 5.600901873584603, 5.830709358073384, 7.197308764238401, 7.577312269241286, 15.691680874623962, 17.58499450122184, 26.670386559720157, 9.963975336022768, 18.8490504386537, 19.082777423126764, 19.33172988754212, 22.261544219529764, 49.00819010742147, 25.92817301358903, 27.23441965372936, 53.355792616990044, 28.748411203320334, 28.78052359393687, 46.7559972225899, 5.0555586251842595, 5.658758978164417, 5.660170356200654, 5.752387652701902, 5.894794469737603, 6.029264777372353, 6.2836865380522955, 6.410247945948097, 6.633832510581581, 6.71830331773796, 6.973931293643395, 52.944258261750186, 77.16032693674701, 19.109800710102952, 17.322621196989516, 25.1674804353884, 36.72394431277923, 34.35977154713148, 28.795138545999947, 12.055104721554665, 18.244452122697478, 21.927983904958758, 19.109800710102952, 7.577312269241286, 8.950300811068091, 12.4046009140696, 28.78052359393687, 49.00819010742147, 5.0555586251842595, 5.600901873584603, 5.658758978164417, 5.660170356200654, 5.752387652701902, 5.830709358073384, 5.894794469737603, 6.029264777372353, 6.2836865380522955, 6.410247945948097, 6.633832510581581, 6.71830331773796, 6.973931293643395, 7.0114593465903745, 7.02490752077793, 7.048790402781633, 7.197308764238401, 7.219138226578695, 7.257073758464324, 7.382983263896121, 7.448650266526562, 7.7392003966356375, 7.754892479679537, 8.121353262139712, 77.16032693674701, 53.355792616990044, 17.322621196989516, 36.72394431277923, 52.944258261750186, 19.082777423126764, 26.670386559720157, 27.23441965372936, 25.1674804353884, 28.795138545999947, 25.92817301358903, 28.748411203320334, 17.58499450122184, 17.111010685840665, 18.8490504386537, 22.261544219529764, 13.419233290103579, 34.35977154713148, 46.7559972225899, 30.486745971676537, 17.23952700823487, 18.244452122697478, 21.927983904958758, 12.962959904560424], \"Category\": [\"Default\", \"Default\", \"Default\", \"Default\", \"Default\", \"Default\", \"Default\", \"Default\", \"Default\", \"Default\", \"Default\", \"Default\", \"Default\", \"Default\", \"Default\", \"Default\", \"Default\", \"Default\", \"Default\", \"Default\", \"Default\", \"Default\", \"Default\", \"Default\", \"Default\", \"Default\", \"Default\", \"Default\", \"Default\", \"Default\", \"Topic1\", \"Topic1\", \"Topic1\", \"Topic1\", \"Topic1\", \"Topic1\", \"Topic1\", \"Topic1\", \"Topic1\", \"Topic1\", \"Topic1\", \"Topic1\", \"Topic1\", \"Topic1\", \"Topic1\", \"Topic1\", \"Topic1\", \"Topic1\", \"Topic1\", \"Topic1\", \"Topic1\", \"Topic1\", \"Topic1\", \"Topic1\", \"Topic1\", \"Topic1\", \"Topic1\", \"Topic1\", \"Topic1\", \"Topic1\", \"Topic1\", \"Topic1\", \"Topic1\", \"Topic1\", \"Topic1\", \"Topic1\", \"Topic1\", \"Topic1\", \"Topic1\", \"Topic2\", \"Topic2\", \"Topic2\", \"Topic2\", \"Topic2\", \"Topic2\", \"Topic2\", \"Topic2\", \"Topic2\", \"Topic2\", \"Topic2\", \"Topic2\", \"Topic2\", \"Topic2\", \"Topic2\", \"Topic2\", \"Topic2\", \"Topic2\", \"Topic2\", \"Topic2\", \"Topic2\", \"Topic2\", \"Topic2\", \"Topic2\", \"Topic2\", \"Topic2\", \"Topic2\", \"Topic2\", \"Topic2\", \"Topic2\", \"Topic2\", \"Topic2\", \"Topic2\", \"Topic2\", \"Topic2\", \"Topic2\", \"Topic2\", \"Topic2\", \"Topic2\", \"Topic2\", \"Topic3\", \"Topic3\", \"Topic3\", \"Topic3\", \"Topic3\", \"Topic3\", \"Topic3\", \"Topic3\", \"Topic3\", \"Topic3\", \"Topic3\", \"Topic3\", \"Topic3\", \"Topic3\", \"Topic3\", \"Topic3\", \"Topic3\", \"Topic3\", \"Topic3\", \"Topic3\", \"Topic3\", \"Topic3\", \"Topic3\", \"Topic3\", \"Topic3\", \"Topic3\", \"Topic3\", \"Topic3\", \"Topic3\", \"Topic3\", \"Topic3\", \"Topic3\", \"Topic3\", \"Topic3\", \"Topic3\", \"Topic3\", \"Topic3\", \"Topic4\", \"Topic4\", \"Topic4\", \"Topic4\", \"Topic4\", \"Topic4\", \"Topic4\", \"Topic4\", \"Topic4\", \"Topic4\", \"Topic4\", \"Topic4\", \"Topic4\", \"Topic4\", \"Topic4\", \"Topic4\", \"Topic4\", \"Topic4\", \"Topic4\", \"Topic4\", \"Topic4\", \"Topic4\", \"Topic4\", \"Topic4\", \"Topic4\", \"Topic4\", \"Topic4\", \"Topic4\", \"Topic4\", \"Topic4\", \"Topic4\", \"Topic4\", \"Topic4\", \"Topic4\", \"Topic4\", \"Topic4\", \"Topic4\", \"Topic4\", \"Topic4\", \"Topic4\", \"Topic4\", \"Topic4\", \"Topic5\", \"Topic5\", \"Topic5\", \"Topic5\", \"Topic5\", \"Topic5\", \"Topic5\", \"Topic5\", \"Topic5\", \"Topic5\", \"Topic5\", \"Topic5\", \"Topic5\", \"Topic5\", \"Topic5\", \"Topic5\", \"Topic5\", \"Topic5\", \"Topic5\", \"Topic5\", \"Topic5\", \"Topic5\", \"Topic5\", \"Topic5\", \"Topic5\", \"Topic5\", \"Topic5\", \"Topic5\", \"Topic5\", \"Topic5\", \"Topic5\", \"Topic5\", \"Topic5\", \"Topic5\", \"Topic5\", \"Topic5\", \"Topic5\", \"Topic5\", \"Topic5\", \"Topic5\", \"Topic6\", \"Topic6\", \"Topic6\", \"Topic6\", \"Topic6\", \"Topic6\", \"Topic6\", \"Topic6\", \"Topic6\", \"Topic6\", \"Topic6\", \"Topic6\", \"Topic6\", \"Topic6\", \"Topic6\", \"Topic6\", \"Topic6\", \"Topic6\", \"Topic6\", \"Topic6\", \"Topic6\", \"Topic6\", \"Topic6\", \"Topic6\", \"Topic6\", \"Topic6\", \"Topic6\", \"Topic6\", \"Topic6\", \"Topic6\", \"Topic6\", \"Topic6\", \"Topic6\", \"Topic6\", \"Topic6\", \"Topic6\", \"Topic6\", \"Topic6\", \"Topic7\", \"Topic7\", \"Topic7\", \"Topic7\", \"Topic7\", \"Topic7\", \"Topic7\", \"Topic7\", \"Topic7\", \"Topic7\", \"Topic7\", \"Topic7\", \"Topic7\", \"Topic7\", \"Topic7\", \"Topic7\", \"Topic7\", \"Topic7\", \"Topic7\", \"Topic7\", \"Topic7\", \"Topic7\", \"Topic7\", \"Topic7\", \"Topic7\", \"Topic7\", \"Topic7\", \"Topic7\", \"Topic7\", \"Topic7\", \"Topic7\", \"Topic8\", \"Topic8\", \"Topic8\", \"Topic8\", \"Topic8\", \"Topic8\", \"Topic8\", \"Topic8\", \"Topic8\", \"Topic8\", \"Topic8\", \"Topic8\", \"Topic8\", \"Topic8\", \"Topic8\", \"Topic8\", \"Topic8\", \"Topic8\", \"Topic8\", \"Topic8\", \"Topic8\", \"Topic8\", \"Topic8\", \"Topic8\", \"Topic8\", \"Topic8\", \"Topic8\", \"Topic8\", \"Topic8\", \"Topic8\", \"Topic8\", \"Topic8\", \"Topic8\", \"Topic8\", \"Topic8\", \"Topic8\", \"Topic9\", \"Topic9\", \"Topic9\", \"Topic9\", \"Topic9\", \"Topic9\", \"Topic9\", \"Topic9\", \"Topic9\", \"Topic9\", \"Topic9\", \"Topic9\", \"Topic9\", \"Topic9\", \"Topic9\", \"Topic9\", \"Topic9\", \"Topic9\", \"Topic9\", \"Topic9\", \"Topic9\", \"Topic9\", \"Topic9\", \"Topic9\", \"Topic9\", \"Topic9\", \"Topic9\", \"Topic9\", \"Topic9\", \"Topic9\", \"Topic9\", \"Topic9\", \"Topic9\", \"Topic10\", \"Topic10\", \"Topic10\", \"Topic10\", \"Topic10\", \"Topic10\", \"Topic10\", \"Topic10\", \"Topic10\", \"Topic10\", \"Topic10\", \"Topic10\", \"Topic10\", \"Topic10\", \"Topic10\", \"Topic10\", \"Topic10\", \"Topic10\", \"Topic10\", \"Topic10\", \"Topic10\", \"Topic10\", \"Topic10\", \"Topic10\", \"Topic10\", \"Topic10\", \"Topic10\", \"Topic10\", \"Topic10\", \"Topic10\", \"Topic10\", \"Topic10\", \"Topic10\", \"Topic10\", \"Topic10\", \"Topic10\", \"Topic11\", \"Topic11\", \"Topic11\", \"Topic11\", \"Topic11\", \"Topic11\", \"Topic11\", \"Topic11\", \"Topic11\", \"Topic11\", \"Topic11\", \"Topic11\", \"Topic11\", \"Topic11\", \"Topic11\", \"Topic11\", \"Topic11\", \"Topic11\", \"Topic11\", \"Topic11\", \"Topic11\", \"Topic11\", \"Topic11\", \"Topic11\", \"Topic11\", \"Topic11\", \"Topic11\", \"Topic11\", \"Topic11\", \"Topic11\", \"Topic11\", \"Topic11\", \"Topic11\", \"Topic11\", \"Topic11\", \"Topic11\", \"Topic11\", \"Topic11\", \"Topic11\", \"Topic11\", \"Topic11\", \"Topic11\", \"Topic11\", \"Topic11\", \"Topic12\", \"Topic12\", \"Topic12\", \"Topic12\", \"Topic12\", \"Topic12\", \"Topic12\", \"Topic12\", \"Topic12\", \"Topic12\", \"Topic12\", \"Topic12\", \"Topic12\", \"Topic12\", \"Topic12\", \"Topic12\", \"Topic12\", \"Topic12\", \"Topic12\", \"Topic12\", \"Topic12\", \"Topic12\", \"Topic12\", \"Topic12\", \"Topic12\", \"Topic12\", \"Topic12\", \"Topic12\", \"Topic12\", \"Topic12\", \"Topic12\", \"Topic12\", \"Topic12\", \"Topic12\", \"Topic12\", \"Topic13\", \"Topic13\", \"Topic13\", \"Topic13\", \"Topic13\", \"Topic13\", \"Topic13\", \"Topic13\", \"Topic13\", \"Topic13\", \"Topic13\", \"Topic13\", \"Topic13\", \"Topic13\", \"Topic13\", \"Topic13\", \"Topic13\", \"Topic13\", \"Topic13\", \"Topic13\", \"Topic13\", \"Topic13\", \"Topic13\", \"Topic13\", \"Topic13\", \"Topic13\", \"Topic13\", \"Topic13\", \"Topic13\", \"Topic13\", \"Topic13\", \"Topic13\", \"Topic13\", \"Topic13\", \"Topic13\", \"Topic13\", \"Topic13\", \"Topic13\", \"Topic13\", \"Topic13\", \"Topic14\", \"Topic14\", \"Topic14\", \"Topic14\", \"Topic14\", \"Topic14\", \"Topic14\", \"Topic14\", \"Topic14\", \"Topic14\", \"Topic14\", \"Topic14\", \"Topic14\", \"Topic14\", \"Topic14\", \"Topic14\", \"Topic14\", \"Topic14\", \"Topic14\", \"Topic14\", \"Topic14\", \"Topic14\", \"Topic14\", \"Topic14\", \"Topic14\", \"Topic14\", \"Topic14\", \"Topic14\", \"Topic14\", \"Topic14\", \"Topic14\", \"Topic14\", \"Topic14\", \"Topic14\", \"Topic14\", \"Topic14\", \"Topic14\", \"Topic14\", \"Topic14\", \"Topic14\", \"Topic14\", \"Topic15\", \"Topic15\", \"Topic15\", \"Topic15\", \"Topic15\", \"Topic15\", \"Topic15\", \"Topic15\", \"Topic15\", \"Topic15\", \"Topic15\", \"Topic15\", \"Topic15\", \"Topic15\", \"Topic15\", \"Topic15\", \"Topic15\", \"Topic15\", \"Topic15\", \"Topic15\", \"Topic15\", \"Topic15\", \"Topic15\", \"Topic15\", \"Topic15\", \"Topic15\", \"Topic15\", \"Topic15\", \"Topic15\", \"Topic15\", \"Topic15\", \"Topic15\", \"Topic15\", \"Topic15\", \"Topic15\", \"Topic15\", \"Topic15\", \"Topic15\", \"Topic15\", \"Topic15\", \"Topic15\", \"Topic15\", \"Topic15\", \"Topic15\", \"Topic15\", \"Topic15\", \"Topic15\", \"Topic15\", \"Topic15\", \"Topic15\", \"Topic15\", \"Topic15\", \"Topic15\", \"Topic15\"], \"logprob\": [30.0, 29.0, 28.0, 27.0, 26.0, 25.0, 24.0, 23.0, 22.0, 21.0, 20.0, 19.0, 18.0, 17.0, 16.0, 15.0, 14.0, 13.0, 12.0, 11.0, 10.0, 9.0, 8.0, 7.0, 6.0, 5.0, 4.0, 3.0, 2.0, 1.0, -4.073, -4.1032, -4.6106, -4.1835, -4.5794, -4.1382, -4.4852, -3.268, -2.7559, -3.1298, -3.4935, -4.9684, -3.8762, -3.5295, -4.1869, -3.5371, -2.8246, -3.2733, -4.9684, -4.3773, -3.2786, -3.5987, -2.9623, -4.7932, -4.6896, -5.3101, -5.0639, -3.9552, -4.1602, -4.807, -3.8843, -4.2937, -4.3319, -3.8363, -4.2915, -4.5763, -4.2915, -4.4701, -4.5766, -3.3701, -3.5516, -3.8598, -4.4933, -4.4933, -3.9422, -4.5291, -4.9137, -4.271, -3.6676, -2.2511, -4.888, -3.9203, -2.8017, -4.6537, -3.5928, -4.6986, -3.8658, -4.927, -3.5067, -4.9213, -3.9337, -4.7212, -4.7359, -3.1105, -4.5396, -3.6036, -4.4826, -3.7431, -4.4933, -3.85, -3.3443, -4.2846, -4.2906, -3.8947, -4.5346, -4.4933, -4.4933, -4.4829, -4.4933, -4.085, -2.9287, -4.2963, -3.7684, -3.5337, -3.8406, -4.3991, -4.2514, -3.3964, -3.6324, -4.2083, -4.5659, -3.0146, -4.7509, -4.3779, -4.2843, -4.462, -3.7727, -3.4266, -2.7552, -4.4342, -3.3798, -3.8601, -5.0423, -4.493, -3.2673, -4.6974, -3.5677, -4.4019, -4.4911, -3.8551, -4.1672, -3.7563, -4.3952, -4.3945, -4.4553, -4.3666, -3.286, -3.6827, -3.9031, -2.7164, -3.6473, -4.1532, -3.965, -3.5338, -4.2724, -2.9143, -4.3596, -4.0181, -3.965, -3.6827, -4.2228, -3.9094, -3.3153, -3.0723, -3.6288, -5.021, -5.0234, -4.3596, -2.8883, -4.0038, -4.9594, -5.021, -5.2095, -5.021, -4.3362, -5.235, -3.721, -3.9695, -4.6129, -3.6673, -4.3394, -4.6291, -4.4161, -4.1764, -4.3629, -4.2799, -4.3131, -4.3157, -3.0371, -3.7004, -4.1538, -2.5705, -3.257, -3.705, -4.0303, -3.6936, -3.7591, -4.7163, -3.9888, -4.1538, -4.8152, -2.2656, -4.8152, -4.1538, -4.6839, -4.1538, -4.1538, -4.0916, -4.8152, -4.7827, -2.9321, -4.8152, -4.6619, -4.7927, -4.8152, -3.4362, -4.504, -4.1538, -3.6819, -4.1436, -4.1364, -4.1279, -3.8666, -4.4406, -4.5276, -4.621, -4.5545, -4.6381, -2.205, -3.4358, -1.9269, -4.4066, -3.1647, -4.1777, -3.0226, -4.1807, -4.112, -4.6195, -4.7139, -4.7366, -4.7278, -3.9649, -3.7257, -4.3015, -4.2559, -4.5579, -3.338, -4.3887, -3.0217, -5.269, -4.8124, -5.1903, -3.8383, -4.4772, -4.16, -5.3636, -4.6676, -5.4899, -4.2823, -4.4296, -3.6961, -4.6027, -4.3639, -4.4178, -4.3893, -4.7063, -2.3082, -3.143, -2.3082, -2.8608, -3.143, -4.1991, -3.5377, -4.1991, -2.8608, -3.5377, -3.5377, -4.1991, -4.1991, -3.5377, -4.1991, -4.1991, -3.143, -4.1991, -2.8608, -3.5377, -3.5377, -4.1991, -4.1991, -3.5377, -4.1991, -3.143, -4.1991, -4.1991, -4.1991, -6.9717, -6.9716, -2.763, -2.526, -3.7023, -3.8533, -4.0335, -3.8858, -3.6422, -2.6502, -3.5898, -3.9813, -2.3299, -4.3836, -4.6122, -3.5032, -2.9598, -4.0235, -4.5111, -4.196, -4.6542, -4.6804, -3.8133, -4.663, -4.3836, -3.8721, -4.3082, -4.2855, -4.63, -4.6649, -4.3335, -4.4617, -3.2207, -3.6448, -4.1576, -4.1941, -4.3581, -4.5215, -2.6141, -2.9804, -4.3403, -3.9408, -3.9539, -3.9667, -1.8271, -3.0121, -4.2668, -4.3739, -3.4349, -3.4712, -2.5539, -3.1434, -2.6131, -4.3403, -3.9707, -3.6966, -4.2071, -4.237, -4.863, -4.9839, -4.3403, -3.7055, -4.3403, -5.0597, -4.9264, -4.9293, -4.9459, -5.2358, -4.33, -4.8045, -4.9689, -4.0178, -3.4843, -3.8783, -3.5222, -4.1301, -3.8154, -3.5677, -2.8546, -3.8411, -4.462, -3.7715, -4.1837, -3.5389, -4.4253, -4.1837, -3.9624, -3.9011, -4.5183, -4.4931, -3.6785, -4.6162, -3.9752, -3.9502, -3.4884, -3.1859, -4.1837, -2.4804, -4.6581, -4.5596, -3.9416, -2.9624, -3.6551, -3.817, -4.0348, -4.0627, -4.1837, -2.4471, -2.3601, -3.7853, -2.3426, -2.1428, -3.2046, -1.8356, -2.8443, -3.2188, -3.1239, -3.7853, -3.8742, -3.7853, -3.7853, -3.7853, -3.7853, -6.5579, -6.5579, -6.5579, -6.5579, -6.5579, -6.5579, -6.5579, -6.5579, -6.5579, -6.5579, -6.5579, -6.5579, -6.5579, -6.5579, -6.5579, -6.5579, -6.5579, -6.5579, -6.5579, -6.5579, -6.5579, -6.5579, -6.5579, -6.5579, -6.5579, -6.5579, -6.5579, -6.5579, -3.4085, -3.6411, -3.4651, -2.4922, -2.9938, -3.5535, -4.0648, -2.9768, -3.0132, -3.8839, -3.5179, -2.8109, -3.5743, -3.6041, -3.5931, -2.2661, -3.9151, -4.1138, -3.4085, -4.0584, -3.4085, -3.9435, -3.6957, -3.9698, -4.2326, -6.181, -6.181, -6.181, -6.181, -6.181, -6.181, -6.181, -6.181, -6.181, -6.181, -2.6567, -3.3181, -2.6018, -3.3181, -3.3181, -2.1502, -2.6567, -3.3181, -3.183, -2.262, -4.3815, -3.3181, -3.3178, -3.318, -3.318, -3.7131, -5.1104, -5.2985, -4.7567, -4.7362, -6.0907, -6.0907, -6.0907, -6.0907, -6.0907, -6.0907, -6.0907, -6.0907, -6.0907, -6.0895, -4.6284, -6.088, -6.081, -6.0815, -6.0867, -6.0877, -6.0887, -6.0889, -6.089, -6.089, -3.3716, -3.3716, -3.3716, -3.3716, -2.7102, -2.7102, -2.3155, -3.3716, -3.3716, -3.3716, -3.3716, -3.3716, -2.7102, -3.3716, -3.3716, -2.7102, -3.3716, -3.3716, -3.3716, -6.1442, -6.1442, -6.1442, -6.1442, -6.1442, -6.1442, -6.1442, -6.1442, -6.1442, -6.1442, -6.1442, -6.1442, -6.1442, -6.1442, -6.1442, -6.1442, -6.1442, -6.1442, -6.1442, -6.1442, -6.1442, -6.1442, -1.3097, -2.648, -2.648, -2.648, -2.648, -2.648, -5.4205, -5.4205, -5.4205, -5.4205, -5.4205, -5.4205, -5.4205, -5.4205, -5.4205, -5.4205, -5.4205, -5.4205, -5.4205, -5.4205, -5.4205, -5.4205, -5.4205, -5.4205, -5.4205, -5.4205, -5.4205, -5.4205, -5.4205, -5.4205, -5.4205, -5.4205, -5.4205, -5.4205, -5.4205, -5.4205, -5.4205, -5.4205, -5.4205, -5.4205, -5.4205, -5.4205, -5.4205, -5.4205, -5.4205, -5.4205, -5.4205, -5.4205, -5.4205, -5.4205, -5.4205, -5.4205, -5.4205, -5.4205], \"loglift\": [30.0, 29.0, 28.0, 27.0, 26.0, 25.0, 24.0, 23.0, 22.0, 21.0, 20.0, 19.0, 18.0, 17.0, 16.0, 15.0, 14.0, 13.0, 12.0, 11.0, 10.0, 9.0, 8.0, 7.0, 6.0, 5.0, 4.0, 3.0, 2.0, 1.0, 1.2672, 1.0609, 0.905, 0.8044, 0.7626, 0.7601, 0.7581, 0.6614, 0.6418, 0.6293, 0.6033, 0.5716, 0.5662, 0.5252, 0.517, 0.4972, 0.488, 0.4795, 0.4164, 0.4085, 0.4076, 0.4074, 0.3581, 0.3048, 0.3011, 0.2566, 0.249, 0.2316, 0.2256, 0.1792, 0.0468, 0.0882, -0.004, -0.3917, -0.0897, 0.069, -0.4192, -0.485, -0.6467, 1.3574, 1.0674, 1.041, 0.9996, 0.9384, 0.8579, 0.8184, 0.7554, 0.7196, 0.7181, 0.6926, 0.6684, 0.6433, 0.643, 0.6368, 0.6091, 0.583, 0.5161, 0.4704, 0.4244, 0.4207, 0.4071, 0.3978, 0.3622, 0.2871, 0.2761, 0.2687, 0.2378, 0.1868, 0.1598, 0.1352, -0.0239, 0.0686, -0.1039, -0.582, 0.1583, -0.1539, -0.4293, -0.5535, -0.8072, 1.2998, 1.1681, 1.1554, 0.9246, 0.9087, 0.8799, 0.8653, 0.8466, 0.7903, 0.7902, 0.7824, 0.75, 0.7445, 0.7421, 0.7397, 0.7019, 0.675, 0.6649, 0.5794, 0.5575, 0.5538, 0.5512, 0.5218, 0.5141, 0.4977, 0.4854, 0.4216, 0.4174, 0.3896, 0.3885, 0.0748, 0.186, -0.0702, -0.0094, -0.3398, 0.0812, -1.4229, 1.5056, 1.3368, 1.292, 1.2687, 1.2535, 1.1544, 1.1526, 1.1151, 1.0404, 1.0151, 0.8044, 0.7993, 0.7718, 0.7671, 0.7651, 0.7097, 0.6158, 0.6139, 0.558, 0.5354, 0.5328, 0.5097, 0.5093, 0.4338, 0.3826, 0.3637, 0.3572, 0.3191, 0.309, 0.2915, 0.2089, 0.0648, 0.1728, -0.2226, 0.0014, 0.171, -0.0304, -0.4237, -0.6038, -0.9673, -0.9927, -1.372, 1.6117, 1.5409, 1.5153, 1.4936, 1.1929, 1.1108, 1.0676, 1.0269, 0.9447, 0.7992, 0.7317, 0.7258, 0.7248, 0.6781, 0.6778, 0.6377, 0.5977, 0.583, 0.5737, 0.5615, 0.5323, 0.5249, 0.5125, 0.4977, 0.4557, 0.3821, 0.3799, 0.3166, 0.3134, 0.2838, 0.2475, 0.2095, 0.2044, -0.198, -0.5462, 0.1229, 0.1654, 0.2483, -0.6235, -0.1017, 1.2397, 1.1278, 1.0168, 0.9909, 0.89, 0.8742, 0.8497, 0.8388, 0.7574, 0.6709, 0.602, 0.6002, 0.5155, 0.4775, 0.4762, 0.47, 0.437, 0.4328, 0.4211, 0.3318, 0.2987, 0.2976, 0.2855, 0.2613, 0.196, 0.1681, 0.1679, 0.1629, 0.1325, 0.0663, 0.0571, -0.007, -0.3835, -0.1528, -0.434, -0.6651, -0.9917, -1.0201, 1.8936, 1.5774, 1.5641, 1.5211, 1.5101, 1.3573, 1.3316, 1.2326, 1.2033, 1.1991, 1.1076, 1.0825, 0.9185, 0.8017, 0.6184, 0.6167, 0.6097, 0.5438, 0.4596, 0.4474, 0.3917, 0.2508, 0.1288, -0.1401, -0.1648, -0.1993, -0.44, -0.5129, -0.8865, -1.3025, -3.0417, 2.0086, 1.5288, 1.4725, 1.4626, 1.3639, 1.2512, 1.2271, 1.2222, 1.1032, 1.0383, 0.9905, 0.9585, 0.944, 0.8362, 0.7993, 0.7623, 0.7534, 0.6836, 0.6825, 0.6671, 0.6242, 0.5803, 0.5171, 0.4558, 0.4286, 0.1003, 0.0738, 0.0556, 0.0197, -0.0193, -0.277, -0.3322, -0.1515, -0.2642, -0.3238, -0.4575, 1.9224, 1.5832, 1.3288, 1.3005, 1.2209, 1.1703, 1.1166, 1.0847, 1.07, 0.9337, 0.9182, 0.9146, 0.8908, 0.8626, 0.7845, 0.7787, 0.766, 0.6442, 0.6087, 0.4559, 0.4499, 0.3065, 0.305, 0.2244, 0.1021, 0.0383, -0.0282, -0.2018, -0.2254, -0.2451, -0.3448, -1.4841, -1.2097, 1.4339, 1.4139, 1.4121, 1.2635, 1.2067, 1.2042, 1.2038, 1.1797, 1.1451, 1.0644, 1.0442, 1.0114, 0.9976, 0.9722, 0.9354, 0.8292, 0.8194, 0.7976, 0.7502, 0.7441, 0.7312, 0.7286, 0.695, 0.5757, 0.5669, 0.5592, 0.4633, 0.4398, 0.431, 0.3992, 0.3502, 0.3509, 0.2798, 0.3184, 0.2651, -0.4975, 2.6048, 2.0898, 1.7708, 1.5873, 1.5434, 1.5383, 1.4848, 1.4836, 1.2038, 0.8821, 0.8599, 0.7448, 0.5541, 0.1457, -0.0326, -0.3877, -0.8888, -0.9912, -1.0015, -1.0179, -1.0314, -1.0424, -1.0649, -1.1063, -1.1262, -1.1605, -1.1731, -1.2105, -1.2158, -1.2178, -3.2453, -3.6142, -2.5236, -2.5728, -2.1203, -2.2171, -2.2048, -2.3712, -2.6285, -2.1722, -2.5032, -2.0214, -2.3561, -2.1155, 2.1315, 1.8745, 1.8716, 1.8472, 1.6594, 1.4372, 1.3869, 1.3763, 1.3276, 1.2802, 1.2536, 1.2234, 1.2115, 1.1389, 1.1107, 1.0465, 0.8216, 0.6777, 0.6556, 0.5606, 0.5225, 0.3844, 0.2342, 0.085, -0.4799, -0.5119, -0.6144, -0.6246, -0.6249, -0.6546, -2.7834, -3.2373, -2.1959, -2.4949, -1.7434, 2.4623, 2.2083, 1.8358, 1.6725, 1.5615, 1.536, 1.53, 1.4249, 1.1448, 1.0506, 0.9262, 0.7459, 0.7369, 0.7163, 0.4347, 0.2721, 0.1309, -0.1034, -0.1114, -0.3505, -0.4216, -0.524, -0.5343, -0.5345, -0.5507, -0.5752, -0.5977, -0.639, -0.659, -0.692, -0.6985, -0.7459, -2.1516, -2.3224, -1.9899, -2.7674, -1.6463, -0.9248, -2.0829, -0.9909, 2.1951, 2.1549, 1.9443, 1.8929, 1.8263, 1.7124, 1.6905, 1.619, 0.9815, 0.9692, 0.9563, 0.8152, 0.6874, 0.6627, 0.6135, 0.6024, 0.5594, 0.5583, 0.0731, -0.475, -0.5878, -0.588, -0.6042, -0.6286, -0.6512, -0.6925, -0.7125, -0.7467, -0.7594, -0.7967, -2.8238, -3.2004, -1.8048, -1.7066, -2.0801, -2.458, -2.3914, -2.2148, -1.344, -1.7584, -1.9423, 3.0297, 2.6165, 2.45, 2.1236, 1.282, 0.7497, 0.2486, 0.1462, 0.1359, 0.1356, 0.1195, 0.1059, 0.095, 0.0725, 0.0311, 0.0112, -0.0231, -0.0357, -0.0731, -0.0785, -0.0804, -0.0838, -0.1046, -0.1076, -0.1129, -0.1301, -0.1389, -0.1772, -0.1792, -0.2254, -2.4768, -2.1079, -0.9829, -1.7343, -2.1001, -1.0797, -1.4145, -1.4354, -1.3565, -1.4911, -1.3862, -1.4895, -0.998, -0.9706, -1.0674, -1.2338, -0.7276, -1.6678, -1.9759, -1.5482, -0.9781, -1.0348, -1.2187, -0.693]}, \"token.table\": {\"Topic\": [2, 3, 4, 5, 6, 7, 9, 10, 1, 3, 4, 2, 4, 10, 13, 14, 1, 3, 4, 5, 9, 1, 2, 3, 4, 5, 6, 7, 8, 10, 12, 13, 14, 1, 3, 6, 7, 10, 11, 12, 13, 1, 2, 3, 4, 5, 9, 10, 11, 12, 14, 3, 4, 5, 7, 1, 4, 5, 6, 7, 8, 2, 3, 4, 5, 6, 7, 11, 1, 2, 3, 4, 5, 6, 8, 9, 10, 1, 2, 4, 5, 6, 7, 8, 9, 10, 11, 14, 15, 1, 2, 3, 5, 8, 9, 10, 11, 14, 1, 2, 3, 4, 10, 13, 14, 2, 3, 4, 7, 3, 4, 5, 7, 8, 9, 12, 3, 6, 8, 10, 14, 1, 3, 4, 14, 1, 2, 3, 4, 5, 7, 8, 10, 12, 13, 1, 3, 6, 8, 10, 1, 3, 6, 9, 10, 2, 3, 4, 7, 1, 5, 12, 1, 2, 3, 4, 5, 6, 7, 8, 9, 10, 1, 2, 3, 4, 5, 7, 10, 1, 2, 3, 6, 8, 9, 1, 2, 3, 4, 5, 8, 9, 3, 4, 5, 10, 12, 2, 6, 8, 9, 10, 12, 1, 2, 3, 5, 9, 10, 1, 2, 4, 6, 7, 8, 1, 2, 5, 12, 1, 2, 5, 6, 7, 8, 11, 12, 15, 1, 2, 3, 4, 5, 8, 13, 1, 2, 4, 8, 11, 1, 2, 3, 6, 9, 10, 1, 2, 3, 5, 8, 9, 10, 12, 14, 1, 2, 3, 5, 6, 8, 9, 1, 2, 3, 4, 5, 10, 1, 2, 3, 4, 6, 8, 10, 11, 14, 2, 3, 4, 5, 8, 9, 1, 2, 3, 4, 5, 6, 8, 9, 11, 12, 14, 15, 1, 2, 3, 5, 9, 10, 14, 2, 3, 4, 5, 9, 1, 2, 3, 4, 5, 13, 14, 1, 2, 5, 6, 9, 1, 2, 6, 7, 8, 1, 2, 3, 4, 5, 6, 10, 2, 5, 9, 1, 2, 3, 4, 5, 6, 7, 8, 9, 1, 2, 3, 4, 6, 12, 1, 2, 3, 4, 5, 1, 2, 3, 4, 5, 6, 9, 10, 14, 1, 4, 12, 1, 2, 3, 4, 1, 3, 4, 6, 8, 10, 12, 13, 1, 2, 3, 4, 5, 6, 7, 8, 9, 11, 1, 2, 4, 8, 2, 3, 4, 8, 1, 3, 4, 5, 1, 2, 3, 4, 5, 7, 10, 1, 2, 3, 4, 6, 7, 10, 11, 13, 2, 3, 9, 10, 13, 1, 2, 3, 4, 5, 9, 1, 2, 3, 4, 7, 9, 13, 14, 1, 2, 5, 7, 10, 12, 1, 2, 3, 6, 11, 1, 2, 5, 8, 10, 1, 3, 4, 5, 6, 8, 10, 12, 1, 2, 3, 8, 14, 15, 1, 2, 3, 5, 1, 2, 3, 5, 6, 8, 9, 1, 2, 4, 1, 3, 4, 5, 6, 7, 9, 10, 11, 3, 4, 6, 8, 10, 1, 2, 3, 5, 7, 1, 2, 6, 8, 10, 1, 2, 3, 4, 5, 10, 1, 2, 4, 8, 10, 12, 1, 2, 4, 5, 9, 1, 2, 3, 4, 5, 6, 7, 8, 10, 11, 12, 13, 14, 1, 3, 6, 10, 12, 1, 2, 4, 6, 10, 11, 12, 1, 2, 3, 7, 5, 6, 8, 10, 12, 15, 1, 2, 3, 4, 5, 6, 7, 10, 11, 12, 13, 1, 2, 3, 4, 5, 9, 10, 12, 14, 1, 2, 3, 4, 5, 7, 10, 1, 2, 3, 5, 6, 10, 15, 1, 2, 3, 4, 6, 7, 8, 10, 12, 13, 14, 1, 2, 3, 4, 5, 8, 13], \"Freq\": [0.16851871681096253, 0.08425935840548127, 0.08425935840548127, 0.2527780752164438, 0.08425935840548127, 0.08425935840548127, 0.08425935840548127, 0.16851871681096253, 0.29769421019136066, 0.446541315287041, 0.14884710509568033, 0.17150571887370247, 0.17150571887370247, 0.17150571887370247, 0.17150571887370247, 0.17150571887370247, 0.2770413776864116, 0.1385206888432058, 0.2770413776864116, 0.1385206888432058, 0.1385206888432058, 0.299873719707523, 0.07496842992688076, 0.20616318229892208, 0.03748421496344038, 0.01874210748172019, 0.03748421496344038, 0.01874210748172019, 0.03748421496344038, 0.07496842992688076, 0.09371053740860096, 0.07496842992688076, 0.03748421496344038, 0.1566822101484394, 0.1566822101484394, 0.0783411050742197, 0.0783411050742197, 0.0783411050742197, 0.1566822101484394, 0.0783411050742197, 0.0783411050742197, 0.17392265487779437, 0.20870718585335327, 0.20870718585335327, 0.17392265487779437, 0.03478453097555888, 0.03478453097555888, 0.03478453097555888, 0.03478453097555888, 0.03478453097555888, 0.03478453097555888, 0.22789877484733098, 0.34184816227099646, 0.11394938742366549, 0.11394938742366549, 0.08889560668744201, 0.17779121337488402, 0.08889560668744201, 0.08889560668744201, 0.266686820062326, 0.17779121337488402, 0.05844190143762218, 0.05844190143762218, 0.17532570431286654, 0.23376760575048872, 0.05844190143762218, 0.05844190143762218, 0.2922095071881109, 0.07660197865077316, 0.15320395730154632, 0.30640791460309263, 0.07660197865077316, 0.15320395730154632, 0.07660197865077316, 0.07660197865077316, 0.07660197865077316, 0.07660197865077316, 0.34688079610239747, 0.1836427744071516, 0.16323802169524587, 0.020404752711905734, 0.020404752711905734, 0.0612142581357172, 0.020404752711905734, 0.10202376355952866, 0.020404752711905734, 0.020404752711905734, 0.04080950542381147, 0.020404752711905734, 0.26246338741006414, 0.03749476963000917, 0.224968617780055, 0.03749476963000917, 0.03749476963000917, 0.1124843088900275, 0.07498953926001833, 0.07498953926001833, 0.1124843088900275, 0.10036154910828604, 0.3010846473248581, 0.20072309821657208, 0.10036154910828604, 0.10036154910828604, 0.10036154910828604, 0.10036154910828604, 0.3120004119753582, 0.1560002059876791, 0.1560002059876791, 0.1560002059876791, 0.07785764326766154, 0.23357292980298464, 0.15571528653532307, 0.23357292980298464, 0.07785764326766154, 0.07785764326766154, 0.07785764326766154, 0.2778816451417913, 0.13894082257089566, 0.2778816451417913, 0.13894082257089566, 0.13894082257089566, 0.1785426744782435, 0.1785426744782435, 0.1785426744782435, 0.1785426744782435, 0.03973381453766361, 0.07946762907532721, 0.03973381453766361, 0.03973381453766361, 0.31787051630130886, 0.19866907268831804, 0.03973381453766361, 0.07946762907532721, 0.03973381453766361, 0.03973381453766361, 0.38763694519451275, 0.12921231506483757, 0.12921231506483757, 0.12921231506483757, 0.12921231506483757, 0.32845674629071403, 0.36951383957705325, 0.041057093286339254, 0.16422837314535702, 0.08211418657267851, 0.1767171925608995, 0.1767171925608995, 0.1767171925608995, 0.1767171925608995, 0.5089235961323585, 0.16964119871078617, 0.16964119871078617, 0.025920056062483005, 0.2721605886560715, 0.025920056062483005, 0.025920056062483005, 0.14256030834365652, 0.16848036440613953, 0.05184011212496601, 0.05184011212496601, 0.155520336374898, 0.077760168187449, 0.07660084285772045, 0.07660084285772045, 0.1532016857154409, 0.07660084285772045, 0.22980252857316136, 0.3064033714308818, 0.07660084285772045, 0.1161821545822482, 0.1161821545822482, 0.2323643091644964, 0.1161821545822482, 0.2323643091644964, 0.1161821545822482, 0.219244731116025, 0.27405591389503126, 0.1096223655580125, 0.1096223655580125, 0.05481118277900625, 0.05481118277900625, 0.1096223655580125, 0.16448401208428665, 0.4112100302107166, 0.16448401208428665, 0.08224200604214332, 0.08224200604214332, 0.14186831255549526, 0.14186831255549526, 0.14186831255549526, 0.14186831255549526, 0.14186831255549526, 0.14186831255549526, 0.36601927635936266, 0.09150481908984066, 0.09150481908984066, 0.09150481908984066, 0.09150481908984066, 0.18300963817968133, 0.13120455701360084, 0.16400569626700104, 0.03280113925340021, 0.13120455701360084, 0.2952102532806019, 0.19680683552040126, 0.3476817142288034, 0.1738408571144017, 0.1738408571144017, 0.1738408571144017, 0.05232916947539494, 0.10465833895078988, 0.05232916947539494, 0.05232916947539494, 0.15698750842618484, 0.15698750842618484, 0.05232916947539494, 0.20931667790157976, 0.15698750842618484, 0.11545596808106491, 0.057727984040532455, 0.23091193616212982, 0.11545596808106491, 0.11545596808106491, 0.11545596808106491, 0.17318395212159737, 0.17667312767441903, 0.17667312767441903, 0.17667312767441903, 0.17667312767441903, 0.17667312767441903, 0.13544660258003668, 0.27089320516007337, 0.13544660258003668, 0.13544660258003668, 0.13544660258003668, 0.13544660258003668, 0.15915921121670448, 0.15915921121670448, 0.15915921121670448, 0.10610614081113631, 0.053053070405568156, 0.10610614081113631, 0.053053070405568156, 0.10610614081113631, 0.053053070405568156, 0.29003115906901805, 0.11601246362760721, 0.29003115906901805, 0.058006231813803606, 0.11601246362760721, 0.058006231813803606, 0.058006231813803606, 0.19983286300683387, 0.09991643150341693, 0.19983286300683387, 0.09991643150341693, 0.09991643150341693, 0.09991643150341693, 0.11373333098631541, 0.056866665493157706, 0.22746666197263082, 0.056866665493157706, 0.056866665493157706, 0.056866665493157706, 0.11373333098631541, 0.11373333098631541, 0.11373333098631541, 0.1206553245578858, 0.1206553245578858, 0.1206553245578858, 0.1206553245578858, 0.2413106491157716, 0.1206553245578858, 0.10423715851479518, 0.17372859752465863, 0.1389828780197269, 0.10423715851479518, 0.06949143900986345, 0.03474571950493172, 0.03474571950493172, 0.06949143900986345, 0.17372859752465863, 0.03474571950493172, 0.03474571950493172, 0.03474571950493172, 0.1274560715311468, 0.0637280357655734, 0.1274560715311468, 0.0637280357655734, 0.318640178827867, 0.1274560715311468, 0.1274560715311468, 0.13779658761682628, 0.13779658761682628, 0.27559317523365257, 0.13779658761682628, 0.13779658761682628, 0.22460256802911116, 0.1347615408174667, 0.2695230816349334, 0.1796820544232889, 0.04492051360582223, 0.1347615408174667, 0.04492051360582223, 0.1964382133387323, 0.2619176177849764, 0.0654794044462441, 0.1964382133387323, 0.2619176177849764, 0.1824153108346384, 0.228019138543298, 0.0912076554173192, 0.41043444937793644, 0.0456038277086596, 0.1659048217494102, 0.3318096434988204, 0.0829524108747051, 0.0829524108747051, 0.0829524108747051, 0.0829524108747051, 0.0829524108747051, 0.1978020777008699, 0.3956041554017398, 0.1978020777008699, 0.35148584538533545, 0.058580974230889246, 0.23432389692355698, 0.058580974230889246, 0.029290487115444623, 0.08787146134633386, 0.029290487115444623, 0.14645243557722312, 0.029290487115444623, 0.2007333961734113, 0.10036669808670565, 0.30110009426011697, 0.10036669808670565, 0.10036669808670565, 0.10036669808670565, 0.22348169537539647, 0.22348169537539647, 0.22348169537539647, 0.11174084768769824, 0.11174084768769824, 0.12832578399378322, 0.25665156798756644, 0.042775261331261076, 0.06416289199689161, 0.12832578399378322, 0.2138763066563054, 0.12832578399378322, 0.021387630665630538, 0.021387630665630538, 0.4774723461244049, 0.23873617306220246, 0.11936808653110123, 0.40036297549499483, 0.10009074387374871, 0.20018148774749742, 0.20018148774749742, 0.31491723217191636, 0.07872930804297909, 0.039364654021489545, 0.15745861608595818, 0.27555257815042683, 0.039364654021489545, 0.039364654021489545, 0.039364654021489545, 0.2644290516033986, 0.1322145258016993, 0.018887789400242754, 0.03777557880048551, 0.03777557880048551, 0.07555115760097102, 0.09443894700121377, 0.16999010460218478, 0.018887789400242754, 0.15110231520194203, 0.4278709825877946, 0.1426236608625982, 0.1426236608625982, 0.1426236608625982, 0.3669339515223499, 0.09173348788058748, 0.3669339515223499, 0.09173348788058748, 0.14261546648570883, 0.07130773324285442, 0.28523093297141766, 0.3565386662142721, 0.3472808433974054, 0.06945616867948108, 0.06945616867948108, 0.2430965903781838, 0.10418425301922163, 0.10418425301922163, 0.03472808433974054, 0.2723019051229797, 0.05446038102459594, 0.10892076204919188, 0.16338114307378782, 0.02723019051229797, 0.02723019051229797, 0.02723019051229797, 0.16338114307378782, 0.10892076204919188, 0.22822796479160012, 0.22822796479160012, 0.11411398239580006, 0.11411398239580006, 0.3423419471874002, 0.07714287534347736, 0.5400001274043416, 0.15428575068695471, 0.07714287534347736, 0.15428575068695471, 0.07714287534347736, 0.11015472472493804, 0.1468729662999174, 0.18359120787489672, 0.3304641741748141, 0.11015472472493804, 0.03671824157497935, 0.03671824157497935, 0.03671824157497935, 0.2148418060410992, 0.14322787069406612, 0.14322787069406612, 0.28645574138813223, 0.07161393534703306, 0.14322787069406612, 0.10669566927441552, 0.10669566927441552, 0.10669566927441552, 0.10669566927441552, 0.4267826770976621, 0.1433911459540017, 0.2867822919080034, 0.1433911459540017, 0.1433911459540017, 0.1433911459540017, 0.30136183649412296, 0.07534045912353074, 0.07534045912353074, 0.22602137737059222, 0.07534045912353074, 0.07534045912353074, 0.07534045912353074, 0.07534045912353074, 0.13197291657878707, 0.13197291657878707, 0.26394583315757414, 0.13197291657878707, 0.13197291657878707, 0.13197291657878707, 0.1658577018798328, 0.3317154037596656, 0.1658577018798328, 0.1658577018798328, 0.074519905748824, 0.149039811497648, 0.298079622995296, 0.074519905748824, 0.074519905748824, 0.149039811497648, 0.074519905748824, 0.5694025135802848, 0.1423506283950712, 0.1423506283950712, 0.21315883560570498, 0.07105294520190167, 0.14210589040380334, 0.07105294520190167, 0.07105294520190167, 0.21315883560570498, 0.07105294520190167, 0.07105294520190167, 0.07105294520190167, 0.10330759217219801, 0.309922776516594, 0.10330759217219801, 0.20661518434439602, 0.20661518434439602, 0.1342525107527055, 0.268505021505411, 0.1342525107527055, 0.1342525107527055, 0.1342525107527055, 0.1507424250468951, 0.1507424250468951, 0.1507424250468951, 0.3014848500937902, 0.1507424250468951, 0.12313218840778915, 0.12313218840778915, 0.12313218840778915, 0.36939656522336745, 0.12313218840778915, 0.12313218840778915, 0.24530519076221347, 0.08176839692073783, 0.08176839692073783, 0.16353679384147565, 0.16353679384147565, 0.08176839692073783, 0.12895085297705172, 0.12895085297705172, 0.12895085297705172, 0.38685255893115517, 0.12895085297705172, 0.15518528437195264, 0.05172842812398421, 0.05172842812398421, 0.05172842812398421, 0.05172842812398421, 0.05172842812398421, 0.05172842812398421, 0.10345685624796842, 0.05172842812398421, 0.15518528437195264, 0.05172842812398421, 0.05172842812398421, 0.05172842812398421, 0.15914224777831806, 0.3182844955566361, 0.15914224777831806, 0.15914224777831806, 0.15914224777831806, 0.13842677127625577, 0.4152803138287673, 0.20764015691438364, 0.06921338563812789, 0.06921338563812789, 0.06921338563812789, 0.06921338563812789, 0.21840296469451237, 0.21840296469451237, 0.21840296469451237, 0.27300370586814043, 0.08061524969060276, 0.08061524969060276, 0.4836914981436165, 0.1612304993812055, 0.08061524969060276, 0.08061524969060276, 0.29103802352943314, 0.02910380235294332, 0.1746228141176599, 0.05820760470588664, 0.11641520941177327, 0.02910380235294332, 0.11641520941177327, 0.08731140705882995, 0.02910380235294332, 0.02910380235294332, 0.02910380235294332, 0.1572098198014009, 0.20961309306853454, 0.10480654653426727, 0.10480654653426727, 0.10480654653426727, 0.10480654653426727, 0.052403273267133635, 0.10480654653426727, 0.052403273267133635, 0.16880751061020158, 0.16880751061020158, 0.08440375530510079, 0.16880751061020158, 0.08440375530510079, 0.08440375530510079, 0.08440375530510079, 0.22345617674958662, 0.11172808837479331, 0.11172808837479331, 0.22345617674958662, 0.11172808837479331, 0.11172808837479331, 0.11172808837479331, 0.30854468596021695, 0.03856808574502712, 0.03856808574502712, 0.11570425723508136, 0.07713617149005424, 0.03856808574502712, 0.03856808574502712, 0.15427234298010847, 0.11570425723508136, 0.03856808574502712, 0.03856808574502712, 0.1796282676861453, 0.08981413384307264, 0.1796282676861453, 0.08981413384307264, 0.1796282676861453, 0.08981413384307264, 0.08981413384307264], \"Term\": [\"add\", \"add\", \"add\", \"add\", \"add\", \"add\", \"add\", \"add\", \"already\", \"already\", \"already\", \"also\", \"also\", \"also\", \"also\", \"also\", \"back\", \"back\", \"back\", \"back\", \"back\", \"branch\", \"branch\", \"branch\", \"branch\", \"branch\", \"branch\", \"branch\", \"branch\", \"branch\", \"branch\", \"branch\", \"branch\", \"but\", \"but\", \"but\", \"but\", \"but\", \"but\", \"but\", \"but\", \"change\", \"change\", \"change\", \"change\", \"change\", \"change\", \"change\", \"change\", \"change\", \"change\", \"changes\", \"changes\", \"changes\", \"changes\", \"checkout\", \"checkout\", \"checkout\", \"checkout\", \"checkout\", \"checkout\", \"clone\", \"clone\", \"clone\", \"clone\", \"clone\", \"clone\", \"clone\", \"command\", \"command\", \"command\", \"command\", \"command\", \"command\", \"command\", \"command\", \"command\", \"commit\", \"commit\", \"commit\", \"commit\", \"commit\", \"commit\", \"commit\", \"commit\", \"commit\", \"commit\", \"commit\", \"commit\", \"commits\", \"commits\", \"commits\", \"commits\", \"commits\", \"commits\", \"commits\", \"commits\", \"commits\", \"create\", \"create\", \"create\", \"create\", \"create\", \"create\", \"create\", \"currently\", \"currently\", \"currently\", \"currently\", \"delete\", \"delete\", \"delete\", \"delete\", \"delete\", \"delete\", \"delete\", \"diff\", \"diff\", \"diff\", \"diff\", \"diff\", \"different\", \"different\", \"different\", \"different\", \"directory\", \"directory\", \"directory\", \"directory\", \"directory\", \"directory\", \"directory\", \"directory\", \"directory\", \"directory\", \"do\", \"do\", \"do\", \"do\", \"do\", \"em\", \"em\", \"em\", \"em\", \"em\", \"everything\", \"everything\", \"everything\", \"everything\", \"exactly\", \"exactly\", \"exactly\", \"file\", \"file\", \"file\", \"file\", \"file\", \"file\", \"file\", \"file\", \"file\", \"file\", \"files\", \"files\", \"files\", \"files\", \"files\", \"files\", \"files\", \"find\", \"find\", \"find\", \"find\", \"find\", \"find\", \"get\", \"get\", \"get\", \"get\", \"get\", \"get\", \"get\", \"github\", \"github\", \"github\", \"github\", \"github\", \"give\", \"give\", \"give\", \"give\", \"give\", \"give\", \"go\", \"go\", \"go\", \"go\", \"go\", \"go\", \"gt\", \"gt\", \"gt\", \"gt\", \"gt\", \"gt\", \"hard\", \"hard\", \"hard\", \"hard\", \"head\", \"head\", \"head\", \"head\", \"head\", \"head\", \"head\", \"head\", \"head\", \"how\", \"how\", \"how\", \"how\", \"how\", \"how\", \"how\", \"href\", \"href\", \"href\", \"href\", \"href\", \"in\", \"in\", \"in\", \"in\", \"in\", \"in\", \"is\", \"is\", \"is\", \"is\", \"is\", \"is\", \"is\", \"is\", \"is\", \"it\", \"it\", \"it\", \"it\", \"it\", \"it\", \"it\", \"keep\", \"keep\", \"keep\", \"keep\", \"keep\", \"keep\", \"know\", \"know\", \"know\", \"know\", \"know\", \"know\", \"know\", \"know\", \"know\", \"last\", \"last\", \"last\", \"last\", \"last\", \"last\", \"like\", \"like\", \"like\", \"like\", \"like\", \"like\", \"like\", \"like\", \"like\", \"like\", \"like\", \"like\", \"line\", \"line\", \"line\", \"line\", \"line\", \"line\", \"line\", \"list\", \"list\", \"list\", \"list\", \"list\", \"local\", \"local\", \"local\", \"local\", \"local\", \"local\", \"local\", \"log\", \"log\", \"log\", \"log\", \"log\", \"lt\", \"lt\", \"lt\", \"lt\", \"lt\", \"make\", \"make\", \"make\", \"make\", \"make\", \"make\", \"make\", \"manually\", \"manually\", \"manually\", \"master\", \"master\", \"master\", \"master\", \"master\", \"master\", \"master\", \"master\", \"master\", \"merge\", \"merge\", \"merge\", \"merge\", \"merge\", \"merge\", \"need\", \"need\", \"need\", \"need\", \"need\", \"new\", \"new\", \"new\", \"new\", \"new\", \"new\", \"new\", \"new\", \"new\", \"now\", \"now\", \"now\", \"one\", \"one\", \"one\", \"one\", \"origin\", \"origin\", \"origin\", \"origin\", \"origin\", \"origin\", \"origin\", \"origin\", \"pre\", \"pre\", \"pre\", \"pre\", \"pre\", \"pre\", \"pre\", \"pre\", \"pre\", \"pre\", \"problem\", \"problem\", \"problem\", \"problem\", \"project\", \"project\", \"project\", \"project\", \"pull\", \"pull\", \"pull\", \"pull\", \"push\", \"push\", \"push\", \"push\", \"push\", \"push\", \"push\", \"remote\", \"remote\", \"remote\", \"remote\", \"remote\", \"remote\", \"remote\", \"remote\", \"remote\", \"remove\", \"remove\", \"remove\", \"remove\", \"remove\", \"repo\", \"repo\", \"repo\", \"repo\", \"repo\", \"repo\", \"repository\", \"repository\", \"repository\", \"repository\", \"repository\", \"repository\", \"repository\", \"repository\", \"reset\", \"reset\", \"reset\", \"reset\", \"reset\", \"reset\", \"revert\", \"revert\", \"revert\", \"revert\", \"revert\", \"run\", \"run\", \"run\", \"run\", \"run\", \"see\", \"see\", \"see\", \"see\", \"see\", \"see\", \"see\", \"see\", \"seem\", \"seem\", \"seem\", \"seem\", \"seem\", \"seem\", \"set\", \"set\", \"set\", \"set\", \"show\", \"show\", \"show\", \"show\", \"show\", \"show\", \"show\", \"so\", \"so\", \"so\", \"something\", \"something\", \"something\", \"something\", \"something\", \"something\", \"something\", \"something\", \"something\", \"source\", \"source\", \"source\", \"source\", \"source\", \"status\", \"status\", \"status\", \"status\", \"status\", \"sure\", \"sure\", \"sure\", \"sure\", \"sure\", \"that\", \"that\", \"that\", \"that\", \"that\", \"that\", \"the\", \"the\", \"the\", \"the\", \"the\", \"the\", \"think\", \"think\", \"think\", \"think\", \"think\", \"this\", \"this\", \"this\", \"this\", \"this\", \"this\", \"this\", \"this\", \"this\", \"this\", \"this\", \"this\", \"this\", \"track\", \"track\", \"track\", \"track\", \"track\", \"try\", \"try\", \"try\", \"try\", \"try\", \"try\", \"try\", \"use\", \"use\", \"use\", \"use\", \"version\", \"version\", \"version\", \"version\", \"version\", \"version\", \"want\", \"want\", \"want\", \"want\", \"want\", \"want\", \"want\", \"want\", \"want\", \"want\", \"want\", \"way\", \"way\", \"way\", \"way\", \"way\", \"way\", \"way\", \"way\", \"way\", \"what\", \"what\", \"what\", \"what\", \"what\", \"what\", \"what\", \"when\", \"when\", \"when\", \"when\", \"when\", \"when\", \"when\", \"work\", \"work\", \"work\", \"work\", \"work\", \"work\", \"work\", \"work\", \"work\", \"work\", \"work\", \"would\", \"would\", \"would\", \"would\", \"would\", \"would\", \"would\"]}, \"R\": 30, \"lambda.step\": 0.01, \"plot.opts\": {\"xlab\": \"PC1\", \"ylab\": \"PC2\"}, \"topic.order\": [2, 10, 7, 9, 6, 5, 12, 15, 14, 13, 11, 3, 8, 4, 1]};\n",
              "\n",
              "function LDAvis_load_lib(url, callback){\n",
              "  var s = document.createElement('script');\n",
              "  s.src = url;\n",
              "  s.async = true;\n",
              "  s.onreadystatechange = s.onload = callback;\n",
              "  s.onerror = function(){console.warn(\"failed to load library \" + url);};\n",
              "  document.getElementsByTagName(\"head\")[0].appendChild(s);\n",
              "}\n",
              "\n",
              "if(typeof(LDAvis) !== \"undefined\"){\n",
              "   // already loaded: just create the visualization\n",
              "   !function(LDAvis){\n",
              "       new LDAvis(\"#\" + \"ldavis_el64613976675328059273752460\", ldavis_el64613976675328059273752460_data);\n",
              "   }(LDAvis);\n",
              "}else if(typeof define === \"function\" && define.amd){\n",
              "   // require.js is available: use it to load d3/LDAvis\n",
              "   require.config({paths: {d3: \"https://d3js.org/d3.v5\"}});\n",
              "   require([\"d3\"], function(d3){\n",
              "      window.d3 = d3;\n",
              "      LDAvis_load_lib(\"https://cdn.jsdelivr.net/gh/bmabey/pyLDAvis@3.3.1/pyLDAvis/js/ldavis.v3.0.0.js\", function(){\n",
              "        new LDAvis(\"#\" + \"ldavis_el64613976675328059273752460\", ldavis_el64613976675328059273752460_data);\n",
              "      });\n",
              "    });\n",
              "}else{\n",
              "    // require.js not available: dynamically load d3 & LDAvis\n",
              "    LDAvis_load_lib(\"https://d3js.org/d3.v5.js\", function(){\n",
              "         LDAvis_load_lib(\"https://cdn.jsdelivr.net/gh/bmabey/pyLDAvis@3.3.1/pyLDAvis/js/ldavis.v3.0.0.js\", function(){\n",
              "                 new LDAvis(\"#\" + \"ldavis_el64613976675328059273752460\", ldavis_el64613976675328059273752460_data);\n",
              "            })\n",
              "         });\n",
              "}\n",
              "</script>"
            ],
            "text/plain": [
              "PreparedData(topic_coordinates=              x         y  topics  cluster       Freq\n",
              "topic                                                \n",
              "1      0.025913 -0.001777       1        1  17.997285\n",
              "9     -0.091097 -0.001033       2        1  13.481149\n",
              "6      0.037092 -0.082093       3        1  11.608277\n",
              "8      0.032761 -0.002425       4        1   9.349655\n",
              "5     -0.107031  0.013769       5        1   7.528710\n",
              "4     -0.109267  0.047202       6        1   6.234061\n",
              "11    -0.052354  0.200532       7        1   6.211376\n",
              "14    -0.031922  0.086483       8        1   6.009831\n",
              "13    -0.189841 -0.130430       9        1   5.095076\n",
              "12    -0.001690 -0.074362      10        1   4.690668\n",
              "10     0.121938  0.121376      11        1   3.503534\n",
              "2      0.095586 -0.013673      12        1   3.079043\n",
              "7      0.186964 -0.018117      13        1   2.463864\n",
              "3      0.073289 -0.166918      14        1   1.934091\n",
              "0      0.009660  0.021468      15        1   0.813378, topic_info=      Term       Freq      Total Category  logprob  loglift\n",
              "58    head  19.000000  19.000000  Default  30.0000  30.0000\n",
              "6     file  77.000000  77.000000  Default  29.0000  29.0000\n",
              "67     pre  52.000000  52.000000  Default  28.0000  28.0000\n",
              "64  remote  36.000000  36.000000  Default  27.0000  27.0000\n",
              "25  branch  53.000000  53.000000  Default  26.0000  26.0000\n",
              "..     ...        ...        ...      ...      ...      ...\n",
              "72      gt   0.052726  30.486746  Topic15  -5.4205  -1.5482\n",
              "31      it   0.052726  17.239527  Topic15  -5.4205  -0.9781\n",
              "47     get   0.052726  18.244452  Topic15  -5.4205  -1.0348\n",
              "73      lt   0.052726  21.927984  Topic15  -5.4205  -1.2187\n",
              "16    repo   0.052726  12.962960  Topic15  -5.4205  -0.6930\n",
              "\n",
              "[616 rows x 6 columns], token_table=      Topic      Freq   Term\n",
              "term                        \n",
              "0         2  0.168519    add\n",
              "0         3  0.084259    add\n",
              "0         4  0.084259    add\n",
              "0         5  0.252778    add\n",
              "0         6  0.084259    add\n",
              "...     ...       ...    ...\n",
              "54        3  0.179628  would\n",
              "54        4  0.089814  would\n",
              "54        5  0.179628  would\n",
              "54        8  0.089814  would\n",
              "54       13  0.089814  would\n",
              "\n",
              "[597 rows x 3 columns], R=30, lambda_step=0.01, plot_opts={'xlab': 'PC1', 'ylab': 'PC2'}, topic_order=[2, 10, 7, 9, 6, 5, 12, 15, 14, 13, 11, 3, 8, 4, 1])"
            ]
          },
          "metadata": {},
          "execution_count": 33
        }
      ]
    },
    {
      "cell_type": "markdown",
      "metadata": {
        "id": "3zCLAz77J9dv"
      },
      "source": [
        "## OLD"
      ]
    },
    {
      "cell_type": "code",
      "metadata": {
        "_uuid": "bfe5b6e8-9098-422a-82d0-7e0b877ad97a",
        "_cell_guid": "9f8148c4-cf0b-4867-bce8-55a92ecee5f8",
        "execution": {
          "iopub.status.busy": "2021-11-18T09:04:40.360320Z",
          "iopub.execute_input": "2021-11-18T09:04:40.360901Z",
          "iopub.status.idle": "2021-11-18T09:04:40.375274Z",
          "shell.execute_reply.started": "2021-11-18T09:04:40.360860Z",
          "shell.execute_reply": "2021-11-18T09:04:40.374484Z"
        },
        "jupyter": {
          "outputs_hidden": false
        },
        "trusted": true,
        "id": "bf4ameRsT3b0"
      },
      "source": [
        "df_filtered['label'] = pd.factorize(df_filtered['tags'])[0]\n",
        "df_filtered.head()"
      ],
      "execution_count": null,
      "outputs": []
    },
    {
      "cell_type": "code",
      "metadata": {
        "_uuid": "d75ba10e-88bf-4ba6-995a-0244e53a3f5e",
        "_cell_guid": "ca7c046e-4708-4bd6-9d4c-7f08d7ba2416",
        "execution": {
          "iopub.status.busy": "2021-11-18T09:04:40.515318Z",
          "iopub.execute_input": "2021-11-18T09:04:40.515575Z",
          "iopub.status.idle": "2021-11-18T09:04:40.710919Z",
          "shell.execute_reply.started": "2021-11-18T09:04:40.515532Z",
          "shell.execute_reply": "2021-11-18T09:04:40.710045Z"
        },
        "jupyter": {
          "outputs_hidden": false
        },
        "trusted": true,
        "id": "FpFKcxRCT3b0"
      },
      "source": [
        "# vectorizer = CountVectorizer(min_df=0, lowercase=False)\n",
        "# vectorizer.fit(df_filtered['body'])\n",
        "# vectorizer.transform(df_filtered['body']).toarray()"
      ],
      "execution_count": null,
      "outputs": []
    },
    {
      "cell_type": "code",
      "metadata": {
        "_uuid": "8351f5bb-3ac7-4d1b-a9b2-ee38bdfa4a73",
        "_cell_guid": "72cb57bd-f458-4d34-b10b-e699ec34db40",
        "execution": {
          "iopub.status.busy": "2021-11-18T09:04:40.712620Z",
          "iopub.execute_input": "2021-11-18T09:04:40.712905Z",
          "iopub.status.idle": "2021-11-18T09:04:40.725589Z",
          "shell.execute_reply.started": "2021-11-18T09:04:40.712866Z",
          "shell.execute_reply": "2021-11-18T09:04:40.724577Z"
        },
        "jupyter": {
          "outputs_hidden": false
        },
        "trusted": true,
        "id": "P3CaGbeQT3b0"
      },
      "source": [
        "# Use stratified splits because of class imbalance\n",
        "X = df_filtered['body']\n",
        "y = df_filtered['label']\n",
        "\n",
        "# Initial train and test split.\n",
        "X_train, X_test, y_train, y_test = train_test_split(X, y, test_size=0.2, random_state=132)\n",
        "\n",
        "# Splitting the test set further into validation and new test sets.\n",
        "X_test, X_val, y_test, y_val = train_test_split(X_test, y_test, test_size=0.5, random_state=23)\n",
        "\n",
        "print(f\"Number of rows in training set: {len(X_train)}\")\n",
        "print(f\"Number of rows in validation set: {len(X_val)}\")\n",
        "print(f\"Number of rows in test set: {len(X_test)}\")"
      ],
      "execution_count": null,
      "outputs": []
    },
    {
      "cell_type": "code",
      "metadata": {
        "_uuid": "cb6d4992-a636-45bb-ac20-bca6cee5c98f",
        "_cell_guid": "843fae3a-7ba8-4e4e-abe0-451e63b03326",
        "execution": {
          "iopub.status.busy": "2021-11-18T09:04:40.819519Z",
          "iopub.execute_input": "2021-11-18T09:04:40.819718Z",
          "iopub.status.idle": "2021-11-18T09:04:40.899666Z",
          "shell.execute_reply.started": "2021-11-18T09:04:40.819695Z",
          "shell.execute_reply": "2021-11-18T09:04:40.898972Z"
        },
        "jupyter": {
          "outputs_hidden": false
        },
        "trusted": true,
        "id": "CW4KvvslT3b1"
      },
      "source": [
        "X_train = vectorizer.transform(X_train)\n",
        "X_test = vectorizer.transform(X_test)\n",
        "X_val = vectorizer.transform(X_val)"
      ],
      "execution_count": null,
      "outputs": []
    },
    {
      "cell_type": "code",
      "metadata": {
        "_uuid": "2795708a-d074-4690-8e68-2e8377b2decd",
        "_cell_guid": "13acf96a-4541-4d55-b90c-4a4152f07de0",
        "execution": {
          "iopub.status.busy": "2021-11-18T09:04:41.967821Z",
          "iopub.execute_input": "2021-11-18T09:04:41.968319Z",
          "iopub.status.idle": "2021-11-18T09:04:41.973635Z",
          "shell.execute_reply.started": "2021-11-18T09:04:41.968280Z",
          "shell.execute_reply": "2021-11-18T09:04:41.972653Z"
        },
        "jupyter": {
          "outputs_hidden": false
        },
        "trusted": true,
        "id": "HgyOLw9oT3b2"
      },
      "source": [
        "# Dataset preview\n",
        "print(f'X_train shape: {X_train.shape}')\n",
        "print(f'X_test shape: {X_test.shape}')\n",
        "print(f'X_val shape: {X_val.shape}')\n",
        "print(f'y_train shape: {y_train.shape}')"
      ],
      "execution_count": null,
      "outputs": []
    },
    {
      "cell_type": "markdown",
      "metadata": {
        "_uuid": "eb57c47d-3ac2-4d79-9f8b-bbe8e2c884aa",
        "_cell_guid": "237d546b-8ae9-44a7-aa2d-65c4ee7effea",
        "trusted": true,
        "id": "D3uMGZXwT3b3"
      },
      "source": [
        "## Create model"
      ]
    },
    {
      "cell_type": "code",
      "metadata": {
        "id": "IBj1PMrnQvDf"
      },
      "source": [
        "from wordcloud import WordCloud\n",
        "import matplotlib.pyplot as plt\n",
        "plt.style.use('fivethirtyeight')\n",
        "\n",
        "\n",
        "wordcloud = WordCloud(width=1600, height=800,max_font_size=200, background_color=\"white\").generate(' '.join(df_filtered['body']))\n",
        "plt.figure(figsize=(12,10))\n",
        "plt.imshow(wordcloud, interpolation=\"bilinear\")\n",
        "plt.axis(\"off\")\n",
        "plt.show()"
      ],
      "execution_count": null,
      "outputs": []
    },
    {
      "cell_type": "code",
      "metadata": {
        "_uuid": "7b7c5452-6b96-46af-990b-4d63a6992821",
        "_cell_guid": "87eba012-bee0-495c-84a4-18d99911edf4",
        "execution": {
          "iopub.status.busy": "2021-11-18T09:04:46.285719Z",
          "iopub.execute_input": "2021-11-18T09:04:46.286217Z",
          "iopub.status.idle": "2021-11-18T09:04:46.292889Z",
          "shell.execute_reply.started": "2021-11-18T09:04:46.286176Z",
          "shell.execute_reply": "2021-11-18T09:04:46.291517Z"
        },
        "jupyter": {
          "outputs_hidden": false
        },
        "trusted": true,
        "id": "XUO7sskKT3b3"
      },
      "source": [
        "# Amount of columns in data:\n",
        "input_dim = X_train.shape[1]\n",
        "\n",
        "# Amount of unique labels:\n",
        "output_dim = y_train.nunique()\n",
        "\n",
        "print(f'Input dim: {input_dim}')\n",
        "print(f'Output dim: {output_dim}')"
      ],
      "execution_count": null,
      "outputs": []
    },
    {
      "cell_type": "code",
      "metadata": {
        "_uuid": "61c22ee3-9299-417c-b0ee-7802b7af4125",
        "_cell_guid": "0cce1f92-4f0e-468c-9cf9-bd49e7949794",
        "execution": {
          "iopub.status.busy": "2021-11-18T09:04:48.144949Z",
          "iopub.execute_input": "2021-11-18T09:04:48.145218Z",
          "iopub.status.idle": "2021-11-18T09:04:48.155392Z",
          "shell.execute_reply.started": "2021-11-18T09:04:48.145188Z",
          "shell.execute_reply": "2021-11-18T09:04:48.154434Z"
        },
        "jupyter": {
          "outputs_hidden": false
        },
        "trusted": true,
        "id": "hF6w3v6VT3b4"
      },
      "source": [
        "# Reshape labels\n",
        "label_encoder = LabelEncoder()\n",
        "y_train = np.array(label_encoder.fit_transform(y_train))\n",
        "y_val = np.array(label_encoder.fit_transform(y_val))\n",
        "y_test = np.array(label_encoder.fit_transform(y_test))\n",
        "\n",
        "y_train = tf.one_hot(y_train, depth=output_dim)\n",
        "y_val = tf.one_hot(y_val, depth=output_dim)\n",
        "y_test = tf.one_hot(y_test, depth=output_dim)"
      ],
      "execution_count": null,
      "outputs": []
    },
    {
      "cell_type": "code",
      "metadata": {
        "_uuid": "45195067-272a-4d59-b8fc-af7f09f491c4",
        "_cell_guid": "19df4404-6fbe-4a3f-a4cd-5b770e5ced01",
        "execution": {
          "iopub.status.busy": "2021-11-18T09:04:48.760458Z",
          "iopub.execute_input": "2021-11-18T09:04:48.761001Z",
          "iopub.status.idle": "2021-11-18T09:04:48.766703Z",
          "shell.execute_reply.started": "2021-11-18T09:04:48.760963Z",
          "shell.execute_reply": "2021-11-18T09:04:48.765798Z"
        },
        "jupyter": {
          "outputs_hidden": false
        },
        "trusted": true,
        "id": "iqvKqvpIT3b4"
      },
      "source": [
        "# First define baseline model. Then use it in Keras Classifier for the training\n",
        "def baseline_model():\n",
        "    # Create model here\n",
        "    model = Sequential()\n",
        "    model.add(Dense(128, input_dim = input_dim, activation = 'relu')) # Rectified Linear Unit Activation Function\n",
        "    model.add(Dense(64, activation = 'relu'))\n",
        "    model.add(Dense(32, activation = 'relu'))\n",
        "\n",
        "    model.add(Dense(output_dim, activation = 'softmax')) # Softmax for multi-class classification\n",
        "    # Compile model here\n",
        "    model.compile(loss = 'categorical_crossentropy', optimizer = 'adam', metrics = ['accuracy'])\n",
        "    return model"
      ],
      "execution_count": null,
      "outputs": []
    },
    {
      "cell_type": "markdown",
      "metadata": {
        "_uuid": "12fe43c9-3181-4de3-8621-ca4bd97f6990",
        "_cell_guid": "49dcc4e9-5060-4ad7-aa6a-a81a9aeec7c9",
        "trusted": true,
        "id": "nuf8IjAsT3b4"
      },
      "source": [
        "## Evaluate model"
      ]
    },
    {
      "cell_type": "code",
      "metadata": {
        "_uuid": "7efdf9ff-6189-442b-88ff-794ffeb010f7",
        "_cell_guid": "cd644068-31a8-4a32-bc70-3f2895e4e7d0",
        "execution": {
          "iopub.status.busy": "2021-11-18T09:04:50.393154Z",
          "iopub.execute_input": "2021-11-18T09:04:50.393433Z",
          "iopub.status.idle": "2021-11-18T09:04:50.437238Z",
          "shell.execute_reply.started": "2021-11-18T09:04:50.393402Z",
          "shell.execute_reply": "2021-11-18T09:04:50.436578Z"
        },
        "jupyter": {
          "outputs_hidden": false
        },
        "trusted": true,
        "id": "gfWngi4eT3b5"
      },
      "source": [
        "model = baseline_model()\n",
        "\n",
        "model.compile(\n",
        "    loss=\"binary_crossentropy\", optimizer=\"adam\", metrics=[\"categorical_accuracy\"]\n",
        ")\n",
        "\n",
        "model.summary()"
      ],
      "execution_count": null,
      "outputs": []
    },
    {
      "cell_type": "code",
      "metadata": {
        "_uuid": "8d026945-ae77-4175-b210-5f200f5c6fa7",
        "_cell_guid": "496e92cf-0524-4672-b646-ad826f8ab39b",
        "execution": {
          "iopub.status.busy": "2021-11-18T09:04:51.897553Z",
          "iopub.execute_input": "2021-11-18T09:04:51.898087Z",
          "iopub.status.idle": "2021-11-18T09:04:51.901747Z",
          "shell.execute_reply.started": "2021-11-18T09:04:51.898047Z",
          "shell.execute_reply": "2021-11-18T09:04:51.901069Z"
        },
        "jupyter": {
          "outputs_hidden": false
        },
        "trusted": true,
        "id": "Pv1fbMCyT3b5"
      },
      "source": [
        "# For Keras, convert dataframe to array values (Inbuilt requirement of Keras)\n",
        "X = X_train\n",
        "y = y_train"
      ],
      "execution_count": null,
      "outputs": []
    },
    {
      "cell_type": "code",
      "metadata": {
        "_uuid": "1d1a620c-b219-4d64-b36a-9b2808ff971a",
        "_cell_guid": "63df68b9-ee27-49df-8ef3-27547be288bb",
        "execution": {
          "iopub.status.busy": "2021-11-18T09:04:52.241856Z",
          "iopub.execute_input": "2021-11-18T09:04:52.242180Z",
          "iopub.status.idle": "2021-11-18T09:04:54.976113Z",
          "shell.execute_reply.started": "2021-11-18T09:04:52.242149Z",
          "shell.execute_reply": "2021-11-18T09:04:54.975218Z"
        },
        "jupyter": {
          "outputs_hidden": false
        },
        "trusted": true,
        "id": "Yf9aO-bzT3b5"
      },
      "source": [
        "history = model.fit(X, y, validation_data=[X_val, y_val], batch_size = 128, epochs = 8, verbose = 1)\n",
        "\n",
        "def plot_result(item):\n",
        "    plt.plot(history.history[item], label=item)\n",
        "    plt.plot(history.history[\"val_\" + item], label=\"val_\" + item)\n",
        "    plt.xlabel(\"Epochs\")\n",
        "    plt.ylabel(item)\n",
        "    plt.title(\"Train and Validation {} Over Epochs\".format(item), fontsize=14)\n",
        "    plt.legend()\n",
        "    plt.grid()\n",
        "    plt.show()\n",
        "\n",
        "\n",
        "plot_result(\"loss\")\n",
        "plot_result(\"categorical_accuracy\")"
      ],
      "execution_count": null,
      "outputs": []
    },
    {
      "cell_type": "code",
      "metadata": {
        "_uuid": "1473a20a-8d5d-4f41-918a-cc33e5a9f2bc",
        "_cell_guid": "84907cf5-1ce8-42e0-99f6-1821797a600a",
        "execution": {
          "iopub.status.busy": "2021-11-18T09:04:59.304057Z",
          "iopub.execute_input": "2021-11-18T09:04:59.304301Z",
          "iopub.status.idle": "2021-11-18T09:04:59.438871Z",
          "shell.execute_reply.started": "2021-11-18T09:04:59.304272Z",
          "shell.execute_reply": "2021-11-18T09:04:59.437309Z"
        },
        "jupyter": {
          "outputs_hidden": false
        },
        "trusted": true,
        "id": "DsFD0DsdT3b5"
      },
      "source": [
        "_, categorical_acc = model.evaluate(X_test, y_test)\n",
        "print(f\"Categorical accuracy on the test set: {round(categorical_acc * 100, 2)}%.\")"
      ],
      "execution_count": null,
      "outputs": []
    },
    {
      "cell_type": "code",
      "metadata": {
        "_uuid": "92bbda91-7f8a-44f0-8888-d9b30924e816",
        "_cell_guid": "fce979f6-5607-4d95-ab8e-c6d9a130a293",
        "jupyter": {
          "outputs_hidden": false
        },
        "trusted": true,
        "id": "M1BkvDE0T3b6"
      },
      "source": [
        ""
      ],
      "execution_count": null,
      "outputs": []
    }
  ]
}