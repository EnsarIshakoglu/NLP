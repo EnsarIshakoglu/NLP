{
  "nbformat": 4,
  "nbformat_minor": 0,
  "metadata": {
    "kernelspec": {
      "language": "python",
      "display_name": "Python 3",
      "name": "python3"
    },
    "language_info": {
      "pygments_lexer": "ipython3",
      "nbconvert_exporter": "python",
      "version": "3.6.4",
      "file_extension": ".py",
      "codemirror_mode": {
        "name": "ipython",
        "version": 3
      },
      "name": "python",
      "mimetype": "text/x-python"
    },
    "colab": {
      "name": "NLP Text Classification",
      "provenance": [],
      "collapsed_sections": [],
      "include_colab_link": true
    }
  },
  "cells": [
    {
      "cell_type": "markdown",
      "metadata": {
        "id": "view-in-github",
        "colab_type": "text"
      },
      "source": [
        "<a href=\"https://colab.research.google.com/github/EnsarIshakoglu/NLP/blob/topic-modelling/NLP_Text_Classification.ipynb\" target=\"_parent\"><img src=\"https://colab.research.google.com/assets/colab-badge.svg\" alt=\"Open In Colab\"/></a>"
      ]
    },
    {
      "cell_type": "code",
      "metadata": {
        "_uuid": "935329e7-815b-4377-874b-38ca768865f2",
        "_cell_guid": "f7832109-87a9-4266-bb22-e819083e084c",
        "execution": {
          "iopub.status.busy": "2021-11-18T08:52:35.870893Z",
          "iopub.execute_input": "2021-11-18T08:52:35.871339Z",
          "iopub.status.idle": "2021-11-18T08:52:42.798162Z",
          "shell.execute_reply.started": "2021-11-18T08:52:35.871298Z",
          "shell.execute_reply": "2021-11-18T08:52:42.797316Z"
        },
        "jupyter": {
          "outputs_hidden": false
        },
        "trusted": true,
        "colab": {
          "base_uri": "https://localhost:8080/"
        },
        "id": "YqfVPrH9T3bd",
        "outputId": "d8cda03e-28a0-4ca3-c759-9f26a9d5b4f4"
      },
      "source": [
        "# Source: https://www.machinelearningplus.com/nlp/topic-modeling-gensim-python/#1introduction\n",
        "# Run in python console\n",
        "import nltk; nltk.download('stopwords')\n",
        "\n",
        "# Run in terminal or command prompt\n",
        "!python3 -m spacy download en\n",
        "\n",
        "# SKlearn\n",
        "# from sklearn.model_selection import train_test_split\n",
        "# from sklearn.model_selection import cross_val_score\n",
        "# from sklearn.model_selection import KFold\n",
        "# from sklearn.preprocessing import MinMaxScaler\n",
        "# from sklearn.preprocessing import LabelEncoder\n",
        "# from sklearn.feature_extraction.text import CountVectorizer\n",
        "# from imblearn.over_sampling import SMOTE\n",
        "\n",
        "# Data processing\n",
        "import matplotlib.pyplot as plt\n",
        "%matplotlib inline\n",
        "import seaborn as sns\n",
        "import pandas as pd\n",
        "import numpy as np\n",
        "\n",
        "# Stackapi to fetch stackoverflow api\n",
        "!pip install stackapi\n",
        "from stackapi import StackAPI\n",
        "\n",
        "from pprint import pprint\n",
        "\n",
        "# Gensim\n",
        "!pip install gensim==3.8.3\n",
        "import gensim\n",
        "import gensim.corpora as corpora\n",
        "from gensim.utils import simple_preprocess\n",
        "from gensim.models import CoherenceModel\n",
        "\n",
        "# spacy for lemmatization\n",
        "import spacy\n",
        "\n",
        "# Plotting tools\n",
        "!pip install pyLDAvis\n",
        "import pyLDAvis\n",
        "import pyLDAvis.gensim_models as gensimvis\n",
        "\n",
        "# Enable logging for gensim - optional\n",
        "import logging\n",
        "logging.basicConfig(format='%(asctime)s : %(levelname)s : %(message)s', level=logging.ERROR)\n",
        "\n",
        "import warnings\n",
        "warnings.filterwarnings(\"ignore\",category=DeprecationWarning)"
      ],
      "execution_count": 14,
      "outputs": [
        {
          "output_type": "stream",
          "name": "stdout",
          "text": [
            "[nltk_data] Downloading package stopwords to /root/nltk_data...\n",
            "[nltk_data]   Package stopwords is already up-to-date!\n",
            "Collecting en_core_web_sm==2.2.5\n",
            "  Downloading https://github.com/explosion/spacy-models/releases/download/en_core_web_sm-2.2.5/en_core_web_sm-2.2.5.tar.gz (12.0 MB)\n",
            "\u001b[K     |████████████████████████████████| 12.0 MB 3.2 MB/s \n",
            "\u001b[?25hRequirement already satisfied: spacy>=2.2.2 in /usr/local/lib/python3.7/dist-packages (from en_core_web_sm==2.2.5) (2.2.4)\n",
            "Requirement already satisfied: wasabi<1.1.0,>=0.4.0 in /usr/local/lib/python3.7/dist-packages (from spacy>=2.2.2->en_core_web_sm==2.2.5) (0.8.2)\n",
            "Requirement already satisfied: srsly<1.1.0,>=1.0.2 in /usr/local/lib/python3.7/dist-packages (from spacy>=2.2.2->en_core_web_sm==2.2.5) (1.0.5)\n",
            "Requirement already satisfied: tqdm<5.0.0,>=4.38.0 in /usr/local/lib/python3.7/dist-packages (from spacy>=2.2.2->en_core_web_sm==2.2.5) (4.62.3)\n",
            "Requirement already satisfied: setuptools in /usr/local/lib/python3.7/dist-packages (from spacy>=2.2.2->en_core_web_sm==2.2.5) (57.4.0)\n",
            "Requirement already satisfied: requests<3.0.0,>=2.13.0 in /usr/local/lib/python3.7/dist-packages (from spacy>=2.2.2->en_core_web_sm==2.2.5) (2.23.0)\n",
            "Requirement already satisfied: cymem<2.1.0,>=2.0.2 in /usr/local/lib/python3.7/dist-packages (from spacy>=2.2.2->en_core_web_sm==2.2.5) (2.0.6)\n",
            "Requirement already satisfied: thinc==7.4.0 in /usr/local/lib/python3.7/dist-packages (from spacy>=2.2.2->en_core_web_sm==2.2.5) (7.4.0)\n",
            "Requirement already satisfied: murmurhash<1.1.0,>=0.28.0 in /usr/local/lib/python3.7/dist-packages (from spacy>=2.2.2->en_core_web_sm==2.2.5) (1.0.6)\n",
            "Requirement already satisfied: preshed<3.1.0,>=3.0.2 in /usr/local/lib/python3.7/dist-packages (from spacy>=2.2.2->en_core_web_sm==2.2.5) (3.0.6)\n",
            "Requirement already satisfied: numpy>=1.15.0 in /usr/local/lib/python3.7/dist-packages (from spacy>=2.2.2->en_core_web_sm==2.2.5) (1.21.4)\n",
            "Requirement already satisfied: plac<1.2.0,>=0.9.6 in /usr/local/lib/python3.7/dist-packages (from spacy>=2.2.2->en_core_web_sm==2.2.5) (1.1.3)\n",
            "Requirement already satisfied: catalogue<1.1.0,>=0.0.7 in /usr/local/lib/python3.7/dist-packages (from spacy>=2.2.2->en_core_web_sm==2.2.5) (1.0.0)\n",
            "Requirement already satisfied: blis<0.5.0,>=0.4.0 in /usr/local/lib/python3.7/dist-packages (from spacy>=2.2.2->en_core_web_sm==2.2.5) (0.4.1)\n",
            "Requirement already satisfied: importlib-metadata>=0.20 in /usr/local/lib/python3.7/dist-packages (from catalogue<1.1.0,>=0.0.7->spacy>=2.2.2->en_core_web_sm==2.2.5) (4.8.2)\n",
            "Requirement already satisfied: typing-extensions>=3.6.4 in /usr/local/lib/python3.7/dist-packages (from importlib-metadata>=0.20->catalogue<1.1.0,>=0.0.7->spacy>=2.2.2->en_core_web_sm==2.2.5) (3.10.0.2)\n",
            "Requirement already satisfied: zipp>=0.5 in /usr/local/lib/python3.7/dist-packages (from importlib-metadata>=0.20->catalogue<1.1.0,>=0.0.7->spacy>=2.2.2->en_core_web_sm==2.2.5) (3.6.0)\n",
            "Requirement already satisfied: urllib3!=1.25.0,!=1.25.1,<1.26,>=1.21.1 in /usr/local/lib/python3.7/dist-packages (from requests<3.0.0,>=2.13.0->spacy>=2.2.2->en_core_web_sm==2.2.5) (1.24.3)\n",
            "Requirement already satisfied: chardet<4,>=3.0.2 in /usr/local/lib/python3.7/dist-packages (from requests<3.0.0,>=2.13.0->spacy>=2.2.2->en_core_web_sm==2.2.5) (3.0.4)\n",
            "Requirement already satisfied: idna<3,>=2.5 in /usr/local/lib/python3.7/dist-packages (from requests<3.0.0,>=2.13.0->spacy>=2.2.2->en_core_web_sm==2.2.5) (2.10)\n",
            "Requirement already satisfied: certifi>=2017.4.17 in /usr/local/lib/python3.7/dist-packages (from requests<3.0.0,>=2.13.0->spacy>=2.2.2->en_core_web_sm==2.2.5) (2021.10.8)\n",
            "\u001b[38;5;2m✔ Download and installation successful\u001b[0m\n",
            "You can now load the model via spacy.load('en_core_web_sm')\n",
            "\u001b[38;5;2m✔ Linking successful\u001b[0m\n",
            "/usr/local/lib/python3.7/dist-packages/en_core_web_sm -->\n",
            "/usr/local/lib/python3.7/dist-packages/spacy/data/en\n",
            "You can now load the model via spacy.load('en')\n",
            "Requirement already satisfied: stackapi in /usr/local/lib/python3.7/dist-packages (0.2.0)\n",
            "Requirement already satisfied: six in /usr/local/lib/python3.7/dist-packages (from stackapi) (1.15.0)\n",
            "Requirement already satisfied: requests in /usr/local/lib/python3.7/dist-packages (from stackapi) (2.23.0)\n",
            "Requirement already satisfied: urllib3!=1.25.0,!=1.25.1,<1.26,>=1.21.1 in /usr/local/lib/python3.7/dist-packages (from requests->stackapi) (1.24.3)\n",
            "Requirement already satisfied: certifi>=2017.4.17 in /usr/local/lib/python3.7/dist-packages (from requests->stackapi) (2021.10.8)\n",
            "Requirement already satisfied: idna<3,>=2.5 in /usr/local/lib/python3.7/dist-packages (from requests->stackapi) (2.10)\n",
            "Requirement already satisfied: chardet<4,>=3.0.2 in /usr/local/lib/python3.7/dist-packages (from requests->stackapi) (3.0.4)\n",
            "Requirement already satisfied: gensim==3.8.3 in /usr/local/lib/python3.7/dist-packages (3.8.3)\n",
            "Requirement already satisfied: six>=1.5.0 in /usr/local/lib/python3.7/dist-packages (from gensim==3.8.3) (1.15.0)\n",
            "Requirement already satisfied: numpy>=1.11.3 in /usr/local/lib/python3.7/dist-packages (from gensim==3.8.3) (1.21.4)\n",
            "Requirement already satisfied: scipy>=0.18.1 in /usr/local/lib/python3.7/dist-packages (from gensim==3.8.3) (1.4.1)\n",
            "Requirement already satisfied: smart-open>=1.8.1 in /usr/local/lib/python3.7/dist-packages (from gensim==3.8.3) (5.2.1)\n",
            "Requirement already satisfied: pyLDAvis in /usr/local/lib/python3.7/dist-packages (3.3.1)\n",
            "Requirement already satisfied: sklearn in /usr/local/lib/python3.7/dist-packages (from pyLDAvis) (0.0)\n",
            "Requirement already satisfied: numexpr in /usr/local/lib/python3.7/dist-packages (from pyLDAvis) (2.7.3)\n",
            "Requirement already satisfied: future in /usr/local/lib/python3.7/dist-packages (from pyLDAvis) (0.16.0)\n",
            "Requirement already satisfied: funcy in /usr/local/lib/python3.7/dist-packages (from pyLDAvis) (1.16)\n",
            "Requirement already satisfied: scipy in /usr/local/lib/python3.7/dist-packages (from pyLDAvis) (1.4.1)\n",
            "Requirement already satisfied: joblib in /usr/local/lib/python3.7/dist-packages (from pyLDAvis) (1.1.0)\n",
            "Requirement already satisfied: pandas>=1.2.0 in /usr/local/lib/python3.7/dist-packages (from pyLDAvis) (1.3.4)\n",
            "Requirement already satisfied: scikit-learn in /usr/local/lib/python3.7/dist-packages (from pyLDAvis) (1.0.1)\n",
            "Requirement already satisfied: gensim in /usr/local/lib/python3.7/dist-packages (from pyLDAvis) (3.8.3)\n",
            "Requirement already satisfied: jinja2 in /usr/local/lib/python3.7/dist-packages (from pyLDAvis) (2.11.3)\n",
            "Requirement already satisfied: numpy>=1.20.0 in /usr/local/lib/python3.7/dist-packages (from pyLDAvis) (1.21.4)\n",
            "Requirement already satisfied: setuptools in /usr/local/lib/python3.7/dist-packages (from pyLDAvis) (57.4.0)\n",
            "Requirement already satisfied: python-dateutil>=2.7.3 in /usr/local/lib/python3.7/dist-packages (from pandas>=1.2.0->pyLDAvis) (2.8.2)\n",
            "Requirement already satisfied: pytz>=2017.3 in /usr/local/lib/python3.7/dist-packages (from pandas>=1.2.0->pyLDAvis) (2018.9)\n",
            "Requirement already satisfied: six>=1.5 in /usr/local/lib/python3.7/dist-packages (from python-dateutil>=2.7.3->pandas>=1.2.0->pyLDAvis) (1.15.0)\n",
            "Requirement already satisfied: smart-open>=1.8.1 in /usr/local/lib/python3.7/dist-packages (from gensim->pyLDAvis) (5.2.1)\n",
            "Requirement already satisfied: MarkupSafe>=0.23 in /usr/local/lib/python3.7/dist-packages (from jinja2->pyLDAvis) (2.0.1)\n",
            "Requirement already satisfied: threadpoolctl>=2.0.0 in /usr/local/lib/python3.7/dist-packages (from scikit-learn->pyLDAvis) (3.0.0)\n"
          ]
        }
      ]
    },
    {
      "cell_type": "markdown",
      "metadata": {
        "id": "cX5X4xhqabeI"
      },
      "source": [
        "### Mount colab drive to google drive"
      ]
    },
    {
      "cell_type": "code",
      "metadata": {
        "id": "pGt6RbgySmTR",
        "colab": {
          "base_uri": "https://localhost:8080/"
        },
        "outputId": "57c00288-9374-4b3e-b17a-a7b14aea0e6a"
      },
      "source": [
        "from google.colab import drive\n",
        "drive.mount('/content/drive')"
      ],
      "execution_count": 2,
      "outputs": [
        {
          "output_type": "stream",
          "name": "stdout",
          "text": [
            "Mounted at /content/drive\n"
          ]
        }
      ]
    },
    {
      "cell_type": "markdown",
      "metadata": {
        "_uuid": "cd8ab0fa-e99a-4837-9d07-6bedca16f4ad",
        "_cell_guid": "27a0b46b-904c-48ef-946f-970a6d0f4fb6",
        "trusted": true,
        "id": "bG7FuSZMT3bk"
      },
      "source": [
        "## Fetch data"
      ]
    },
    {
      "cell_type": "code",
      "metadata": {
        "id": "SHjpvi1MWTPJ"
      },
      "source": [
        "# Get the data from stackoverflow sorted by votes\n",
        "def fetch_data():\n",
        "  data = []\n",
        "  page_count = 40\n",
        "  SITE = StackAPI('stackoverflow')\n",
        "\n",
        "  for i in range(page_count):\n",
        "    data.append(SITE.fetch('questions', sort=\"votes\", min=20, filter='withbody', page=i + 1))\n",
        "  \n",
        "  return data"
      ],
      "execution_count": 3,
      "outputs": []
    },
    {
      "cell_type": "markdown",
      "metadata": {
        "id": "pZWjtjucXZk1"
      },
      "source": [
        "## Remove useless data"
      ]
    },
    {
      "cell_type": "code",
      "metadata": {
        "id": "gmY-K07YW_FI"
      },
      "source": [
        "def clean_data(data):\n",
        "  raw_df = pd.DataFrame(pd.DataFrame.from_dict(data[0]['items']))\n",
        "  for i in range(len(data) - 1):\n",
        "    raw_df = raw_df.append(pd.DataFrame.from_dict(data[i + 1]['items']))\n",
        "  \n",
        "  df = raw_df[['tags', 'body']]\n",
        "\n",
        "  # Strip html tags with regex:\n",
        "  df['body'] = df['body'].str.replace(r'<[^<>]*>', '', regex=True)\n",
        "\n",
        "  # Get first tag for multi-class classification\n",
        "  row_count = df.shape[0]\n",
        "\n",
        "  for i in range(row_count):\n",
        "    df['tags'].iloc[i] = df['tags'].iloc[i][0]\n",
        "  \n",
        "  return df"
      ],
      "execution_count": 4,
      "outputs": []
    },
    {
      "cell_type": "markdown",
      "metadata": {
        "id": "Ft2veo6bajpz"
      },
      "source": [
        "### Create folder and file from df, unmout drive after"
      ]
    },
    {
      "cell_type": "code",
      "metadata": {
        "id": "GXasm52uSns_",
        "colab": {
          "base_uri": "https://localhost:8080/"
        },
        "outputId": "6eac73a6-e065-4962-e37b-8267ae1804a7"
      },
      "source": [
        "from os.path import exists\n",
        "\n",
        "!mkdir stackoverflow\n",
        "\n",
        "if not exists('/content/stackoverflow/questions.csv'):\n",
        "  data = fetch_data()\n",
        "  df = clean_data(data)\n",
        "  df.to_csv('/content/stackoverflow/questions.csv')\n",
        "  print(\"Fetched data from stackoverflow, removed the useless data and saved it in stackoverflow/questions.csv\")\n",
        "\n",
        "drive.flush_and_unmount()"
      ],
      "execution_count": 5,
      "outputs": [
        {
          "output_type": "stream",
          "name": "stdout",
          "text": [
            "mkdir: cannot create directory ‘stackoverflow’: File exists\n"
          ]
        }
      ]
    },
    {
      "cell_type": "markdown",
      "metadata": {
        "id": "XlrQln74au2T"
      },
      "source": [
        "### Load file from drive"
      ]
    },
    {
      "cell_type": "code",
      "metadata": {
        "id": "I1InpULeaN4l",
        "colab": {
          "base_uri": "https://localhost:8080/",
          "height": 591
        },
        "outputId": "49cb1253-9a35-4edc-fc9c-d9658f0d6088"
      },
      "source": [
        "df = pd.read_csv('/content/stackoverflow/questions.csv')\n",
        "\n",
        "df.head()"
      ],
      "execution_count": 6,
      "outputs": [
        {
          "output_type": "execute_result",
          "data": {
            "text/html": [
              "<div>\n",
              "<style scoped>\n",
              "    .dataframe tbody tr th:only-of-type {\n",
              "        vertical-align: middle;\n",
              "    }\n",
              "\n",
              "    .dataframe tbody tr th {\n",
              "        vertical-align: top;\n",
              "    }\n",
              "\n",
              "    .dataframe thead th {\n",
              "        text-align: right;\n",
              "    }\n",
              "</style>\n",
              "<table border=\"1\" class=\"dataframe\">\n",
              "  <thead>\n",
              "    <tr style=\"text-align: right;\">\n",
              "      <th></th>\n",
              "      <th>Unnamed: 0</th>\n",
              "      <th>tags</th>\n",
              "      <th>owner</th>\n",
              "      <th>is_answered</th>\n",
              "      <th>view_count</th>\n",
              "      <th>protected_date</th>\n",
              "      <th>accepted_answer_id</th>\n",
              "      <th>answer_count</th>\n",
              "      <th>score</th>\n",
              "      <th>last_activity_date</th>\n",
              "      <th>creation_date</th>\n",
              "      <th>last_edit_date</th>\n",
              "      <th>question_id</th>\n",
              "      <th>content_license</th>\n",
              "      <th>link</th>\n",
              "      <th>title</th>\n",
              "      <th>body</th>\n",
              "      <th>community_owned_date</th>\n",
              "      <th>locked_date</th>\n",
              "      <th>closed_date</th>\n",
              "      <th>closed_reason</th>\n",
              "      <th>migrated_from</th>\n",
              "    </tr>\n",
              "  </thead>\n",
              "  <tbody>\n",
              "    <tr>\n",
              "      <th>0</th>\n",
              "      <td>0</td>\n",
              "      <td>['java', 'c++', 'performance', 'cpu-architectu...</td>\n",
              "      <td>{'reputation': 469918, 'user_id': 87234, 'user...</td>\n",
              "      <td>True</td>\n",
              "      <td>1662469</td>\n",
              "      <td>1.399067e+09</td>\n",
              "      <td>11227902.0</td>\n",
              "      <td>29</td>\n",
              "      <td>26031</td>\n",
              "      <td>1636434375</td>\n",
              "      <td>1340805096</td>\n",
              "      <td>1.634760e+09</td>\n",
              "      <td>11227809</td>\n",
              "      <td>CC BY-SA 4.0</td>\n",
              "      <td>https://stackoverflow.com/questions/11227809/w...</td>\n",
              "      <td>Why is processing a sorted array faster than p...</td>\n",
              "      <td>&lt;p&gt;Here is a piece of C++ code that shows some...</td>\n",
              "      <td>NaN</td>\n",
              "      <td>NaN</td>\n",
              "      <td>NaN</td>\n",
              "      <td>NaN</td>\n",
              "      <td>NaN</td>\n",
              "    </tr>\n",
              "    <tr>\n",
              "      <th>1</th>\n",
              "      <td>1</td>\n",
              "      <td>['git', 'version-control', 'git-commit', 'undo']</td>\n",
              "      <td>{'reputation': 47989, 'user_id': 89904, 'user_...</td>\n",
              "      <td>True</td>\n",
              "      <td>10254767</td>\n",
              "      <td>1.370840e+09</td>\n",
              "      <td>927386.0</td>\n",
              "      <td>100</td>\n",
              "      <td>23542</td>\n",
              "      <td>1637838948</td>\n",
              "      <td>1243620554</td>\n",
              "      <td>1.625030e+09</td>\n",
              "      <td>927358</td>\n",
              "      <td>CC BY-SA 4.0</td>\n",
              "      <td>https://stackoverflow.com/questions/927358/how...</td>\n",
              "      <td>How do I undo the most recent local commits in...</td>\n",
              "      <td>&lt;p&gt;I accidentally &lt;strong&gt;committed the wrong ...</td>\n",
              "      <td>1.363429e+09</td>\n",
              "      <td>NaN</td>\n",
              "      <td>NaN</td>\n",
              "      <td>NaN</td>\n",
              "      <td>NaN</td>\n",
              "    </tr>\n",
              "    <tr>\n",
              "      <th>2</th>\n",
              "      <td>2</td>\n",
              "      <td>['git', 'version-control', 'git-branch', 'git-...</td>\n",
              "      <td>{'reputation': 416782, 'user_id': 95592, 'user...</td>\n",
              "      <td>True</td>\n",
              "      <td>9430056</td>\n",
              "      <td>1.358718e+09</td>\n",
              "      <td>2003515.0</td>\n",
              "      <td>41</td>\n",
              "      <td>18667</td>\n",
              "      <td>1638336685</td>\n",
              "      <td>1262653935</td>\n",
              "      <td>1.633560e+09</td>\n",
              "      <td>2003505</td>\n",
              "      <td>CC BY-SA 4.0</td>\n",
              "      <td>https://stackoverflow.com/questions/2003505/ho...</td>\n",
              "      <td>How do I delete a Git branch locally and remot...</td>\n",
              "      <td>&lt;p&gt;I want to delete a branch both locally and ...</td>\n",
              "      <td>NaN</td>\n",
              "      <td>NaN</td>\n",
              "      <td>NaN</td>\n",
              "      <td>NaN</td>\n",
              "      <td>NaN</td>\n",
              "    </tr>\n",
              "    <tr>\n",
              "      <th>3</th>\n",
              "      <td>3</td>\n",
              "      <td>['git', 'version-control', 'git-pull', 'git-fe...</td>\n",
              "      <td>{'reputation': 264138, 'user_id': 6068, 'user_...</td>\n",
              "      <td>True</td>\n",
              "      <td>3071149</td>\n",
              "      <td>1.362879e+09</td>\n",
              "      <td>292359.0</td>\n",
              "      <td>38</td>\n",
              "      <td>12908</td>\n",
              "      <td>1636728187</td>\n",
              "      <td>1226742669</td>\n",
              "      <td>1.606493e+09</td>\n",
              "      <td>292357</td>\n",
              "      <td>CC BY-SA 4.0</td>\n",
              "      <td>https://stackoverflow.com/questions/292357/wha...</td>\n",
              "      <td>What is the difference between &amp;#39;git pull&amp;#...</td>\n",
              "      <td>&lt;p&gt;What are the differences between &lt;code&gt;git ...</td>\n",
              "      <td>NaN</td>\n",
              "      <td>NaN</td>\n",
              "      <td>NaN</td>\n",
              "      <td>NaN</td>\n",
              "      <td>NaN</td>\n",
              "    </tr>\n",
              "    <tr>\n",
              "      <th>4</th>\n",
              "      <td>4</td>\n",
              "      <td>['python', 'iterator', 'generator', 'yield', '...</td>\n",
              "      <td>{'reputation': 131777, 'user_id': 18300, 'user...</td>\n",
              "      <td>True</td>\n",
              "      <td>2731894</td>\n",
              "      <td>1.360547e+09</td>\n",
              "      <td>231855.0</td>\n",
              "      <td>43</td>\n",
              "      <td>11664</td>\n",
              "      <td>1636440019</td>\n",
              "      <td>1224800471</td>\n",
              "      <td>1.633986e+09</td>\n",
              "      <td>231767</td>\n",
              "      <td>CC BY-SA 4.0</td>\n",
              "      <td>https://stackoverflow.com/questions/231767/wha...</td>\n",
              "      <td>What does the &amp;quot;yield&amp;quot; keyword do?</td>\n",
              "      <td>&lt;p&gt;What is the use of the &lt;code&gt;yield&lt;/code&gt; k...</td>\n",
              "      <td>NaN</td>\n",
              "      <td>NaN</td>\n",
              "      <td>NaN</td>\n",
              "      <td>NaN</td>\n",
              "      <td>NaN</td>\n",
              "    </tr>\n",
              "  </tbody>\n",
              "</table>\n",
              "</div>"
            ],
            "text/plain": [
              "   Unnamed: 0  ... migrated_from\n",
              "0           0  ...           NaN\n",
              "1           1  ...           NaN\n",
              "2           2  ...           NaN\n",
              "3           3  ...           NaN\n",
              "4           4  ...           NaN\n",
              "\n",
              "[5 rows x 22 columns]"
            ]
          },
          "metadata": {},
          "execution_count": 6
        }
      ]
    },
    {
      "cell_type": "code",
      "metadata": {
        "_uuid": "f76b7aed-1453-43c3-8fd6-b5b2975745c5",
        "_cell_guid": "93e5cfbc-0042-418d-975e-49198d762bbc",
        "execution": {
          "iopub.status.busy": "2021-11-18T08:56:42.617124Z",
          "iopub.execute_input": "2021-11-18T08:56:42.617630Z",
          "iopub.status.idle": "2021-11-18T08:56:42.628289Z",
          "shell.execute_reply.started": "2021-11-18T08:56:42.617593Z",
          "shell.execute_reply": "2021-11-18T08:56:42.627547Z"
        },
        "jupyter": {
          "outputs_hidden": false
        },
        "trusted": true,
        "id": "ddE71wzjT3bt",
        "colab": {
          "base_uri": "https://localhost:8080/"
        },
        "outputId": "7170dedb-49c8-4075-eecb-2b4a55390dfa"
      },
      "source": [
        "print(f\"There are {len(df['body'].unique())} rows in the dataset.\")"
      ],
      "execution_count": 7,
      "outputs": [
        {
          "output_type": "stream",
          "name": "stdout",
          "text": [
            "There are 3900 rows in the dataset.\n"
          ]
        }
      ]
    },
    {
      "cell_type": "code",
      "metadata": {
        "_uuid": "9bd0590f-4430-49f9-9af6-e53a65efcc84",
        "_cell_guid": "56e348ea-0b56-460a-9886-15594c5a4022",
        "execution": {
          "iopub.status.busy": "2021-11-18T08:56:42.630012Z",
          "iopub.execute_input": "2021-11-18T08:56:42.630495Z",
          "iopub.status.idle": "2021-11-18T08:56:42.638376Z",
          "shell.execute_reply.started": "2021-11-18T08:56:42.630460Z",
          "shell.execute_reply": "2021-11-18T08:56:42.637643Z"
        },
        "jupyter": {
          "outputs_hidden": false
        },
        "trusted": true,
        "id": "91v21KDhT3bt",
        "colab": {
          "base_uri": "https://localhost:8080/"
        },
        "outputId": "6bc15dea-1e4f-48b0-f184-37d19ecf51b3"
      },
      "source": [
        "df = df[~df['body'].duplicated()]\n",
        "print(f\"There are {len(df)} rows in the deduplicated dataset.\")"
      ],
      "execution_count": 8,
      "outputs": [
        {
          "output_type": "stream",
          "name": "stdout",
          "text": [
            "There are 3900 rows in the deduplicated dataset.\n"
          ]
        }
      ]
    },
    {
      "cell_type": "markdown",
      "metadata": {
        "id": "ltXOxcQdajL6"
      },
      "source": [
        "## Topic modeling"
      ]
    },
    {
      "cell_type": "code",
      "metadata": {
        "id": "o9ZzAtKGazed"
      },
      "source": [
        "# NLTK Stop words\n",
        "from nltk.corpus import stopwords\n",
        "stop_words = stopwords.words('english')\n",
        "stop_words.extend(['from', 'subject', 're', 'edu', 'use'])"
      ],
      "execution_count": 9,
      "outputs": []
    },
    {
      "cell_type": "markdown",
      "metadata": {
        "_uuid": "3e47d8d7-b296-445c-bd20-e47dc836ba32",
        "_cell_guid": "939331e3-43f2-4025-bf1b-05d4f930c062",
        "trusted": true,
        "id": "iFV12cSlT3bz"
      },
      "source": [
        "## Prepare data"
      ]
    },
    {
      "cell_type": "code",
      "metadata": {
        "colab": {
          "base_uri": "https://localhost:8080/",
          "height": 206
        },
        "id": "FQZSMe4sKaJ_",
        "outputId": "263da1a4-1e44-41ab-ac9a-995273451617"
      },
      "source": [
        "df_new = df[['title', 'body']]\n",
        "df_new.head()"
      ],
      "execution_count": 15,
      "outputs": [
        {
          "output_type": "execute_result",
          "data": {
            "text/html": [
              "<div>\n",
              "<style scoped>\n",
              "    .dataframe tbody tr th:only-of-type {\n",
              "        vertical-align: middle;\n",
              "    }\n",
              "\n",
              "    .dataframe tbody tr th {\n",
              "        vertical-align: top;\n",
              "    }\n",
              "\n",
              "    .dataframe thead th {\n",
              "        text-align: right;\n",
              "    }\n",
              "</style>\n",
              "<table border=\"1\" class=\"dataframe\">\n",
              "  <thead>\n",
              "    <tr style=\"text-align: right;\">\n",
              "      <th></th>\n",
              "      <th>title</th>\n",
              "      <th>body</th>\n",
              "    </tr>\n",
              "  </thead>\n",
              "  <tbody>\n",
              "    <tr>\n",
              "      <th>0</th>\n",
              "      <td>Why is processing a sorted array faster than p...</td>\n",
              "      <td>&lt;p&gt;Here is a piece of C++ code that shows some...</td>\n",
              "    </tr>\n",
              "    <tr>\n",
              "      <th>1</th>\n",
              "      <td>How do I undo the most recent local commits in...</td>\n",
              "      <td>&lt;p&gt;I accidentally &lt;strong&gt;committed the wrong ...</td>\n",
              "    </tr>\n",
              "    <tr>\n",
              "      <th>2</th>\n",
              "      <td>How do I delete a Git branch locally and remot...</td>\n",
              "      <td>&lt;p&gt;I want to delete a branch both locally and ...</td>\n",
              "    </tr>\n",
              "    <tr>\n",
              "      <th>3</th>\n",
              "      <td>What is the difference between &amp;#39;git pull&amp;#...</td>\n",
              "      <td>&lt;p&gt;What are the differences between &lt;code&gt;git ...</td>\n",
              "    </tr>\n",
              "    <tr>\n",
              "      <th>4</th>\n",
              "      <td>What does the &amp;quot;yield&amp;quot; keyword do?</td>\n",
              "      <td>&lt;p&gt;What is the use of the &lt;code&gt;yield&lt;/code&gt; k...</td>\n",
              "    </tr>\n",
              "  </tbody>\n",
              "</table>\n",
              "</div>"
            ],
            "text/plain": [
              "                                               title                                               body\n",
              "0  Why is processing a sorted array faster than p...  <p>Here is a piece of C++ code that shows some...\n",
              "1  How do I undo the most recent local commits in...  <p>I accidentally <strong>committed the wrong ...\n",
              "2  How do I delete a Git branch locally and remot...  <p>I want to delete a branch both locally and ...\n",
              "3  What is the difference between &#39;git pull&#...  <p>What are the differences between <code>git ...\n",
              "4        What does the &quot;yield&quot; keyword do?  <p>What is the use of the <code>yield</code> k..."
            ]
          },
          "metadata": {},
          "execution_count": 15
        }
      ]
    },
    {
      "cell_type": "code",
      "metadata": {
        "colab": {
          "base_uri": "https://localhost:8080/"
        },
        "id": "DfviMYofJ8n_",
        "outputId": "d79f9e5d-a8de-44a1-9eec-6334246fba9a"
      },
      "source": [
        "def sent_to_words(sentences):\n",
        "    for sentence in sentences:\n",
        "        yield(gensim.utils.simple_preprocess(str(sentence), deacc=True))  # deacc=True removes punctuations\n",
        "\n",
        "data_words = list(sent_to_words(df_new['body']))\n",
        "\n",
        "print(data_words[:1])"
      ],
      "execution_count": 16,
      "outputs": [
        {
          "output_type": "stream",
          "name": "stdout",
          "text": [
            "[['here', 'is', 'piece', 'of', 'code', 'that', 'shows', 'some', 'very', 'peculiar', 'behavior', 'for', 'some', 'strange', 'reason', 'sorting', 'the', 'data', 'em', 'before', 'em', 'the', 'timed', 'region', 'miraculously', 'makes', 'the', 'loop', 'almost', 'six', 'times', 'faster', 'pre', 'class', 'lang', 'cpp', 'prettyprint', 'override', 'code', 'include', 'lt', 'algorithm', 'gt', 'include', 'lt', 'ctime', 'gt', 'include', 'lt', 'iostream', 'gt', 'int', 'main', 'generate', 'data', 'const', 'unsigned', 'arraysize', 'int', 'data', 'arraysize', 'for', 'unsigned', 'lt', 'arraysize', 'data', 'std', 'rand', 'with', 'this', 'the', 'next', 'loop', 'runs', 'faster', 'std', 'sort', 'data', 'data', 'arraysize', 'test', 'clock_t', 'start', 'clock', 'long', 'long', 'sum', 'for', 'unsigned', 'lt', 'for', 'unsigned', 'lt', 'arraysize', 'primary', 'loop', 'if', 'data', 'gt', 'sum', 'data', 'double', 'elapsedtime', 'static_cast', 'lt', 'double', 'gt', 'clock', 'start', 'clocks_per_sec', 'std', 'cout', 'lt', 'lt', 'elapsedtime', 'lt', 'lt', 'std', 'cout', 'lt', 'lt', 'quot', 'sum', 'quot', 'lt', 'lt', 'sum', 'lt', 'lt', 'code', 'pre', 'ul', 'li', 'without', 'code', 'std', 'sort', 'data', 'data', 'arraysize', 'code', 'the', 'code', 'runs', 'in', 'seconds', 'li', 'li', 'with', 'the', 'sorted', 'data', 'the', 'code', 'runs', 'in', 'seconds', 'li', 'ul', 'sorting', 'itself', 'takes', 'more', 'time', 'than', 'this', 'one', 'pass', 'over', 'the', 'array', 'so', 'it', 'not', 'actually', 'worth', 'doing', 'if', 'we', 'needed', 'to', 'calculate', 'this', 'for', 'an', 'unknown', 'array', 'hr', 'initially', 'thought', 'this', 'might', 'be', 'just', 'language', 'or', 'compiler', 'anomaly', 'so', 'tried', 'java', 'pre', 'class', 'lang', 'java', 'prettyprint', 'override', 'code', 'import', 'java', 'util', 'arrays', 'import', 'java', 'util', 'random', 'public', 'class', 'main', 'public', 'static', 'void', 'main', 'string', 'args', 'generate', 'data', 'int', 'arraysize', 'int', 'data', 'new', 'int', 'arraysize', 'random', 'rnd', 'new', 'random', 'for', 'int', 'lt', 'arraysize', 'data', 'rnd', 'nextint', 'with', 'this', 'the', 'next', 'loop', 'runs', 'faster', 'arrays', 'sort', 'data', 'test', 'long', 'start', 'system', 'nanotime', 'long', 'sum', 'for', 'int', 'lt', 'for', 'int', 'lt', 'arraysize', 'primary', 'loop', 'if', 'data', 'gt', 'sum', 'data', 'system', 'out', 'println', 'system', 'nanotime', 'start', 'system', 'out', 'println', 'quot', 'sum', 'quot', 'sum', 'code', 'pre', 'with', 'similar', 'but', 'less', 'extreme', 'result', 'hr', 'my', 'first', 'thought', 'was', 'that', 'sorting', 'brings', 'the', 'data', 'into', 'the', 'href', 'https', 'en', 'wikipedia', 'org', 'wiki', 'cpu_cache', 'rel', 'noreferrer', 'cache', 'but', 'then', 'thought', 'how', 'silly', 'that', 'was', 'because', 'the', 'array', 'was', 'just', 'generated', 'ul', 'li', 'what', 'is', 'going', 'on', 'li', 'li', 'why', 'is', 'processing', 'sorted', 'array', 'faster', 'than', 'processing', 'an', 'unsorted', 'array', 'li', 'ul', 'the', 'code', 'is', 'summing', 'up', 'some', 'independent', 'terms', 'so', 'the', 'order', 'should', 'not', 'matter', 'hr', 'strong', 'related', 'followup', 'amp', 'as', 'strong', 'about', 'the', 'same', 'effect', 'with', 'different', 'later', 'compilers', 'and', 'options', 'ul', 'li', 'href', 'https', 'stackoverflow', 'com', 'why', 'is', 'processing', 'an', 'unsorted', 'array', 'the', 'same', 'speed', 'as', 'processing', 'sorted', 'array', 'with', 'modern', 'clang', 'li', 'li', 'href', 'https', 'stackoverflow', 'com', 'gcc', 'optimization', 'flag', 'makes', 'code', 'slower', 'than', 'li', 'ul']]\n"
          ]
        }
      ]
    },
    {
      "cell_type": "code",
      "metadata": {
        "id": "iq09UbKLbtfI",
        "outputId": "a045106a-5353-4f2c-a6ef-61fecbdf68dc",
        "colab": {
          "base_uri": "https://localhost:8080/"
        }
      },
      "source": [
        "# Build the bigram and trigram models\n",
        "bigram = gensim.models.Phrases(data_words, min_count=5, threshold=100) # higher threshold fewer phrases.\n",
        "trigram = gensim.models.Phrases(bigram[data_words], threshold=100)  \n",
        "\n",
        "# Faster way to get a sentence clubbed as a trigram/bigram\n",
        "bigram_mod = gensim.models.phrases.Phraser(bigram)\n",
        "trigram_mod = gensim.models.phrases.Phraser(trigram)\n",
        "\n",
        "# See trigram example\n",
        "print(trigram_mod[bigram_mod[data_words[0]]])"
      ],
      "execution_count": 17,
      "outputs": [
        {
          "output_type": "stream",
          "name": "stdout",
          "text": [
            "['here', 'is', 'piece', 'of', 'code', 'that', 'shows', 'some', 'very', 'peculiar', 'behavior', 'for', 'some', 'strange', 'reason', 'sorting', 'the', 'data', 'em', 'before', 'em', 'the', 'timed', 'region', 'miraculously', 'makes', 'the', 'loop', 'almost', 'six', 'times', 'faster', 'pre', 'class', 'lang', 'cpp', 'prettyprint_override', 'code', 'include', 'lt', 'algorithm', 'gt', 'include', 'lt', 'ctime', 'gt', 'include', 'lt', 'iostream', 'gt', 'int', 'main', 'generate', 'data', 'const', 'unsigned', 'arraysize', 'int', 'data', 'arraysize', 'for', 'unsigned', 'lt', 'arraysize', 'data', 'std', 'rand', 'with', 'this', 'the', 'next', 'loop', 'runs', 'faster', 'std', 'sort', 'data', 'data', 'arraysize', 'test', 'clock_t', 'start', 'clock', 'long', 'long', 'sum', 'for', 'unsigned', 'lt', 'for', 'unsigned', 'lt', 'arraysize', 'primary', 'loop', 'if', 'data', 'gt', 'sum', 'data', 'double', 'elapsedtime', 'static_cast', 'lt', 'double', 'gt', 'clock', 'start', 'clocks_per_sec', 'std_cout', 'lt', 'lt', 'elapsedtime', 'lt', 'lt', 'std_cout', 'lt', 'lt', 'quot', 'sum', 'quot', 'lt', 'lt', 'sum', 'lt', 'lt', 'code', 'pre', 'ul', 'li', 'without', 'code', 'std', 'sort', 'data', 'data', 'arraysize', 'code', 'the', 'code', 'runs', 'in', 'seconds', 'li', 'li', 'with', 'the', 'sorted', 'data', 'the', 'code', 'runs', 'in', 'seconds', 'li', 'ul', 'sorting', 'itself', 'takes', 'more', 'time', 'than', 'this', 'one', 'pass', 'over', 'the', 'array', 'so', 'it', 'not', 'actually', 'worth', 'doing', 'if', 'we', 'needed', 'to', 'calculate', 'this', 'for', 'an', 'unknown', 'array', 'hr', 'initially', 'thought', 'this', 'might', 'be', 'just', 'language', 'or', 'compiler', 'anomaly', 'so', 'tried', 'java', 'pre', 'class', 'lang', 'java', 'prettyprint_override', 'code', 'import', 'java_util', 'arrays', 'import', 'java_util', 'random', 'public', 'class', 'main', 'public', 'static_void', 'main', 'string', 'args', 'generate', 'data', 'int', 'arraysize', 'int', 'data', 'new', 'int', 'arraysize', 'random', 'rnd', 'new', 'random', 'for', 'int', 'lt', 'arraysize', 'data', 'rnd', 'nextint', 'with', 'this', 'the', 'next', 'loop', 'runs', 'faster', 'arrays', 'sort', 'data', 'test', 'long', 'start', 'system', 'nanotime', 'long', 'sum', 'for', 'int', 'lt', 'for', 'int', 'lt', 'arraysize', 'primary', 'loop', 'if', 'data', 'gt', 'sum', 'data', 'system_out_println', 'system', 'nanotime', 'start', 'system_out_println', 'quot', 'sum', 'quot', 'sum', 'code', 'pre', 'with', 'similar', 'but', 'less', 'extreme', 'result', 'hr', 'my', 'first', 'thought', 'was', 'that', 'sorting', 'brings', 'the', 'data', 'into', 'the', 'href', 'https', 'en_wikipedia_org_wiki', 'cpu_cache', 'rel_noreferrer', 'cache', 'but', 'then', 'thought', 'how', 'silly', 'that', 'was', 'because', 'the', 'array', 'was', 'just', 'generated', 'ul', 'li', 'what', 'is', 'going', 'on', 'li', 'li', 'why', 'is', 'processing', 'sorted', 'array', 'faster_than', 'processing', 'an', 'unsorted', 'array', 'li', 'ul', 'the', 'code', 'is', 'summing', 'up', 'some', 'independent', 'terms', 'so', 'the', 'order', 'should', 'not', 'matter', 'hr', 'strong', 'related', 'followup', 'amp', 'as', 'strong', 'about', 'the', 'same', 'effect', 'with', 'different', 'later', 'compilers', 'and', 'options', 'ul', 'li', 'href', 'https_stackoverflow', 'com', 'why', 'is', 'processing', 'an', 'unsorted', 'array', 'the', 'same', 'speed', 'as', 'processing', 'sorted', 'array', 'with', 'modern', 'clang', 'li', 'li', 'href', 'https_stackoverflow', 'com', 'gcc', 'optimization', 'flag', 'makes', 'code', 'slower_than', 'li', 'ul']\n"
          ]
        }
      ]
    },
    {
      "cell_type": "code",
      "metadata": {
        "id": "u2leEJMubs1u"
      },
      "source": [
        "# Define functions for stopwords, bigrams, trigrams and lemmatization\n",
        "def remove_stopwords(texts):\n",
        "    return [[word for word in simple_preprocess(str(doc)) if word not in stop_words] for doc in texts]\n",
        "\n",
        "def make_bigrams(texts):\n",
        "    return [bigram_mod[doc] for doc in texts]\n",
        "\n",
        "def make_trigrams(texts):\n",
        "    return [trigram_mod[bigram_mod[doc]] for doc in texts]\n",
        "\n",
        "def lemmatization(texts, allowed_postags=['NOUN', 'ADJ', 'VERB', 'ADV']):\n",
        "    \"\"\"https://spacy.io/api/annotation\"\"\"\n",
        "    texts_out = []\n",
        "    for sent in texts:\n",
        "        doc = nlp(\" \".join(sent)) \n",
        "        texts_out.append([token.lemma_ for token in doc if token.pos_ in allowed_postags])\n",
        "    return texts_out"
      ],
      "execution_count": 18,
      "outputs": []
    },
    {
      "cell_type": "code",
      "metadata": {
        "id": "K1-HG7WvcJX4",
        "outputId": "f68d1949-5558-4fe1-9f8f-6884332c6edb",
        "colab": {
          "base_uri": "https://localhost:8080/"
        }
      },
      "source": [
        "# Remove Stop Words\n",
        "data_words_nostops = remove_stopwords(data_words)\n",
        "\n",
        "# Form Bigrams\n",
        "data_words_bigrams = make_bigrams(data_words_nostops)\n",
        "\n",
        "# Initialize spacy 'en' model, keeping only tagger component (for efficiency)\n",
        "# python3 -m spacy download en\n",
        "nlp = spacy.load('en', disable=['parser', 'ner'])\n",
        "\n",
        "# Do lemmatization keeping only noun, adj, vb, adv\n",
        "data_lemmatized = lemmatization(data_words_bigrams, allowed_postags=['NOUN', 'ADJ', 'VERB', 'ADV'])\n",
        "\n",
        "print(data_lemmatized[:1])"
      ],
      "execution_count": 19,
      "outputs": [
        {
          "output_type": "stream",
          "name": "stdout",
          "text": [
            "[['piece', 'code', 'show', 'peculiar', 'behavior', 'strange', 'reason', 'sort', 'datum', 'time', 'region', 'miraculously', 'make', 'loop', 'almost', 'time', 'faster', 'pre', 'code', 'include', 'include', 'include', 'main', 'generate', 'datum', 'const', 'unsigne', 'datum', 'loop', 'run', 'fast', 'datum', 'datum', 'test', 'start', 'clock', 'long', 'long', 'sum', 'unsigne', 'datum', 'double', 'elapsedtime', 'lt', 'double', 'clock', 'start', 'datum', 'run', 'sort', 'run', 'sort', 'take', 'time', 'pass', 'array', 'actually', 'worth', 'need', 'calculate', 'unknown', 'initially', 'think', 'may', 'language', 'compiler', 'try', 'random', 'public', 'class', 'main', 'public', 'static', 'void', 'main', 'string', 'arg', 'generate', 'datum', 'int', 'arraysize', 'next', 'run', 'fast', 'test', 'long', 'start', 'system', 'nanotime', 'long', 'sum', 'lt', 'system', 'println', 'system', 'start', 'system', 'pre', 'similar', 'less', 'extreme', 'result', 'first', 'think', 'sort', 'bring', 'data', 'href', 'https', 'think', 'silly', 'generate', 'go', 'processing', 'sort', 'array', 'faster', 'processing', 'unsorte', 'sum', 'independent', 'term', 'order', 'matter', 'strong', 'related', 'followup', 'amp', 'strong', 'effect', 'different', 'late', 'com', 'processing', 'unsorte', 'array', 'speed', 'processing', 'sort', 'array', 'optimization', 'flag', 'make', 'code']]\n"
          ]
        }
      ]
    },
    {
      "cell_type": "code",
      "metadata": {
        "id": "BNEMrm8wcJPe",
        "outputId": "3ae9d0de-93ef-4b55-fb13-6f6aeb3eb899",
        "colab": {
          "base_uri": "https://localhost:8080/"
        }
      },
      "source": [
        "# Create Dictionary\n",
        "id2word = corpora.Dictionary(data_lemmatized)\n",
        "\n",
        "# Create Corpus\n",
        "texts = data_lemmatized\n",
        "\n",
        "# Term Document Frequency\n",
        "corpus = [id2word.doc2bow(text) for text in texts]\n",
        "\n",
        "# View\n",
        "print(corpus[:1])"
      ],
      "execution_count": 20,
      "outputs": [
        {
          "output_type": "stream",
          "name": "stdout",
          "text": [
            "[[(0, 1), (1, 1), (2, 1), (3, 1), (4, 4), (5, 1), (6, 1), (7, 1), (8, 1), (9, 1), (10, 2), (11, 3), (12, 1), (13, 1), (14, 1), (15, 1), (16, 8), (17, 1), (18, 2), (19, 1), (20, 1), (21, 1), (22, 2), (23, 2), (24, 1), (25, 1), (26, 1), (27, 3), (28, 1), (29, 1), (30, 1), (31, 3), (32, 1), (33, 1), (34, 1), (35, 1), (36, 1), (37, 1), (38, 4), (39, 2), (40, 2), (41, 3), (42, 2), (43, 1), (44, 1), (45, 1), (46, 1), (47, 1), (48, 1), (49, 1), (50, 1), (51, 1), (52, 1), (53, 1), (54, 2), (55, 1), (56, 4), (57, 2), (58, 1), (59, 1), (60, 1), (61, 1), (62, 1), (63, 4), (64, 1), (65, 1), (66, 1), (67, 6), (68, 1), (69, 4), (70, 1), (71, 1), (72, 1), (73, 2), (74, 3), (75, 4), (76, 1), (77, 1), (78, 2), (79, 3), (80, 3), (81, 1), (82, 1), (83, 2), (84, 2), (85, 1), (86, 1)]]\n"
          ]
        }
      ]
    },
    {
      "cell_type": "code",
      "metadata": {
        "id": "einO9LM9cP_5",
        "outputId": "7fcd55c1-fb8f-4b13-fc44-77b94f1f2ac3",
        "colab": {
          "base_uri": "https://localhost:8080/"
        }
      },
      "source": [
        "# Human readable format of corpus (term-frequency)\n",
        "[[(id2word[id], freq) for id, freq in cp] for cp in corpus[:1]]"
      ],
      "execution_count": 21,
      "outputs": [
        {
          "output_type": "execute_result",
          "data": {
            "text/plain": [
              "[[('actually', 1),\n",
              "  ('almost', 1),\n",
              "  ('amp', 1),\n",
              "  ('arg', 1),\n",
              "  ('array', 4),\n",
              "  ('arraysize', 1),\n",
              "  ('behavior', 1),\n",
              "  ('bring', 1),\n",
              "  ('calculate', 1),\n",
              "  ('class', 1),\n",
              "  ('clock', 2),\n",
              "  ('code', 3),\n",
              "  ('com', 1),\n",
              "  ('compiler', 1),\n",
              "  ('const', 1),\n",
              "  ('data', 1),\n",
              "  ('datum', 8),\n",
              "  ('different', 1),\n",
              "  ('double', 2),\n",
              "  ('effect', 1),\n",
              "  ('elapsedtime', 1),\n",
              "  ('extreme', 1),\n",
              "  ('fast', 2),\n",
              "  ('faster', 2),\n",
              "  ('first', 1),\n",
              "  ('flag', 1),\n",
              "  ('followup', 1),\n",
              "  ('generate', 3),\n",
              "  ('go', 1),\n",
              "  ('href', 1),\n",
              "  ('https', 1),\n",
              "  ('include', 3),\n",
              "  ('independent', 1),\n",
              "  ('initially', 1),\n",
              "  ('int', 1),\n",
              "  ('language', 1),\n",
              "  ('late', 1),\n",
              "  ('less', 1),\n",
              "  ('long', 4),\n",
              "  ('loop', 2),\n",
              "  ('lt', 2),\n",
              "  ('main', 3),\n",
              "  ('make', 2),\n",
              "  ('matter', 1),\n",
              "  ('may', 1),\n",
              "  ('miraculously', 1),\n",
              "  ('nanotime', 1),\n",
              "  ('need', 1),\n",
              "  ('next', 1),\n",
              "  ('optimization', 1),\n",
              "  ('order', 1),\n",
              "  ('pass', 1),\n",
              "  ('peculiar', 1),\n",
              "  ('piece', 1),\n",
              "  ('pre', 2),\n",
              "  ('println', 1),\n",
              "  ('processing', 4),\n",
              "  ('public', 2),\n",
              "  ('random', 1),\n",
              "  ('reason', 1),\n",
              "  ('region', 1),\n",
              "  ('related', 1),\n",
              "  ('result', 1),\n",
              "  ('run', 4),\n",
              "  ('show', 1),\n",
              "  ('silly', 1),\n",
              "  ('similar', 1),\n",
              "  ('sort', 6),\n",
              "  ('speed', 1),\n",
              "  ('start', 4),\n",
              "  ('static', 1),\n",
              "  ('strange', 1),\n",
              "  ('string', 1),\n",
              "  ('strong', 2),\n",
              "  ('sum', 3),\n",
              "  ('system', 4),\n",
              "  ('take', 1),\n",
              "  ('term', 1),\n",
              "  ('test', 2),\n",
              "  ('think', 3),\n",
              "  ('time', 3),\n",
              "  ('try', 1),\n",
              "  ('unknown', 1),\n",
              "  ('unsigne', 2),\n",
              "  ('unsorte', 2),\n",
              "  ('void', 1),\n",
              "  ('worth', 1)]]"
            ]
          },
          "metadata": {},
          "execution_count": 21
        }
      ]
    },
    {
      "cell_type": "code",
      "metadata": {
        "id": "RZDEx8VFcW1E"
      },
      "source": [
        "# Build LDA model\n",
        "lda_model = gensim.models.ldamodel.LdaModel(corpus=corpus,\n",
        "                                           id2word=id2word,\n",
        "                                           num_topics=20, \n",
        "                                           random_state=100,\n",
        "                                           update_every=1,\n",
        "                                           chunksize=100,\n",
        "                                           passes=10,\n",
        "                                           alpha='auto',\n",
        "                                           per_word_topics=True)"
      ],
      "execution_count": 22,
      "outputs": []
    },
    {
      "cell_type": "code",
      "metadata": {
        "id": "1wVi8Oc7ciR-",
        "outputId": "00e1e7cf-9237-4b7a-9439-b1eb2dffb188",
        "colab": {
          "base_uri": "https://localhost:8080/"
        }
      },
      "source": [
        "# Print the Keyword in the 10 topics\n",
        "pprint(lda_model.print_topics())\n",
        "doc_lda = lda_model[corpus]"
      ],
      "execution_count": 23,
      "outputs": [
        {
          "output_type": "stream",
          "name": "stdout",
          "text": [
            "[(0,\n",
            "  '0.213*\"com\" + 0.127*\"question\" + 0.037*\"idea\" + 0.034*\"answer\" + '\n",
            "  '0.026*\"syntax\" + 0.025*\"search\" + 0.024*\"help\" + 0.024*\"support\" + '\n",
            "  '0.024*\"correct\" + 0.021*\"bit\"'),\n",
            " (1,\n",
            "  '0.369*\"file\" + 0.068*\"path\" + 0.060*\"project\" + 0.048*\"exist\" + '\n",
            "  '0.042*\"directory\" + 0.035*\"source\" + 0.029*\"open\" + 0.024*\"log\" + '\n",
            "  '0.023*\"thread\" + 0.021*\"add\"'),\n",
            " (2,\n",
            "  '0.191*\"version\" + 0.141*\"number\" + 0.105*\"remove\" + 0.079*\"part\" + '\n",
            "  '0.068*\"stre\" + 0.056*\"state\" + 0.036*\"back\" + 0.034*\"framework\" + '\n",
            "  '0.030*\"previous\" + 0.025*\"core\"'),\n",
            " (3,\n",
            "  '0.148*\"table\" + 0.097*\"like\" + 0.090*\"second\" + 0.087*\"default\" + '\n",
            "  '0.084*\"null\" + 0.074*\"row\" + 0.051*\"insert\" + 0.036*\"select\" + 0.035*\"mode\" '\n",
            "  '+ 0.025*\"section\"'),\n",
            " (4,\n",
            "  '0.069*\"find\" + 0.051*\"make\" + 0.048*\"see\" + 0.039*\"could\" + 0.036*\"go\" + '\n",
            "  '0.032*\"application\" + 0.028*\"difference\" + 0.028*\"thing\" + 0.027*\"think\" + '\n",
            "  '0.027*\"different\"'),\n",
            " (5,\n",
            "  '0.263*\"character\" + 0.078*\"feature\" + 0.053*\"side\" + 0.044*\"operator\" + '\n",
            "  '0.043*\"prefer\" + 0.032*\"develop\" + 0.025*\"frame\" + 0.024*\"behaviour\" + '\n",
            "  '0.024*\"special\" + 0.023*\"pure\"'),\n",
            " (6,\n",
            "  '0.109*\"user\" + 0.099*\"http\" + 0.085*\"say\" + 0.059*\"href\" + 0.051*\"issue\" + '\n",
            "  '0.047*\"window\" + 0.046*\"access\" + 0.045*\"form\" + 0.038*\"https\" + '\n",
            "  '0.035*\"browser\"'),\n",
            " (7,\n",
            "  '0.210*\"string\" + 0.155*\"object\" + 0.120*\"check\" + 0.060*\"property\" + '\n",
            "  '0.054*\"array\" + 0.051*\"process\" + 0.034*\"easy\" + 0.033*\"jquery\" + '\n",
            "  '0.027*\"suppose\" + 0.021*\"empty\"'),\n",
            " (8,\n",
            "  '0.118*\"quot\" + 0.087*\"script\" + 0.058*\"right\" + 0.047*\"available\" + '\n",
            "  '0.045*\"link\" + 0.036*\"site\" + 0.033*\"keep\" + 0.031*\"documentation\" + '\n",
            "  '0.029*\"common\" + 0.024*\"avoid\"'),\n",
            " (9,\n",
            "  '0.405*\"strong\" + 0.082*\"image\" + 0.038*\"edit\" + 0.032*\"can\" + 0.031*\"send\" '\n",
            "  '+ 0.026*\"tool\" + 0.025*\"merge\" + 0.023*\"throw\" + 0.022*\"expect\" + '\n",
            "  '0.021*\"template\"'),\n",
            " (10,\n",
            "  '0.223*\"read\" + 0.117*\"order\" + 0.104*\"miss\" + 0.082*\"double\" + 0.052*\"sort\" '\n",
            "  '+ 0.050*\"unable\" + 0.026*\"obvious\" + 0.008*\"independent\" + 0.000*\"round\" + '\n",
            "  '0.000*\"android\"'),\n",
            " (11,\n",
            "  '0.079*\"line\" + 0.078*\"run\" + 0.073*\"error\" + 0.056*\"create\" + '\n",
            "  '0.047*\"blockquote\" + 0.038*\"command\" + 0.035*\"first\" + 0.034*\"problem\" + '\n",
            "  '0.029*\"program\" + 0.029*\"require\"'),\n",
            " (12,\n",
            "  '0.134*\"time\" + 0.093*\"system\" + 0.058*\"take\" + 0.049*\"many\" + '\n",
            "  '0.045*\"replace\" + 0.040*\"long\" + 0.034*\"currently\" + 0.029*\"loop\" + '\n",
            "  '0.027*\"void\" + 0.024*\"compiler\"'),\n",
            " (13,\n",
            "  '0.139*\"test\" + 0.133*\"update\" + 0.108*\"server\" + 0.092*\"request\" + '\n",
            "  '0.067*\"put\" + 0.042*\"tag\" + 0.042*\"post\" + 0.041*\"resource\" + 0.039*\"break\" '\n",
            "  '+ 0.024*\"org\"'),\n",
            " (14,\n",
            "  '0.173*\"code\" + 0.113*\"pre\" + 0.043*\"use\" + 0.040*\"would\" + 0.028*\"way\" + '\n",
            "  '0.026*\"want\" + 0.024*\"try\" + 0.021*\"get\" + 0.021*\"example\" + 0.020*\"name\"'),\n",
            " (15,\n",
            "  '0.119*\"library\" + 0.118*\"current\" + 0.080*\"date\" + 0.060*\"self\" + '\n",
            "  '0.060*\"certain\" + 0.047*\"handle\" + 0.045*\"space\" + 0.043*\"enter\" + '\n",
            "  '0.041*\"produce\" + 0.028*\"background\"'),\n",
            " (16,\n",
            "  '0.183*\"change\" + 0.094*\"commit\" + 0.073*\"branch\" + 0.060*\"delete\" + '\n",
            "  '0.057*\"local\" + 0.050*\"repository\" + 0.040*\"tell\" + 0.036*\"remote\" + '\n",
            "  '0.034*\"pull\" + 0.032*\"push\"'),\n",
            " (17,\n",
            "  '0.139*\"public\" + 0.102*\"variable\" + 0.095*\"static\" + 0.072*\"store\" + '\n",
            "  '0.071*\"lot\" + 0.068*\"private\" + 0.065*\"fail\" + 0.044*\"several\" + '\n",
            "  '0.038*\"consider\" + 0.021*\"closure\"'),\n",
            " (18,\n",
            "  '0.193*\"module\" + 0.031*\"outside\" + 0.000*\"angular\" + 0.000*\"loader\" + '\n",
            "  '0.000*\"vendor\" + 0.000*\"dist\" + 0.000*\"bootstrap\" + 0.000*\"platform\" + '\n",
            "  '0.000*\"plugin\" + 0.000*\"httpclient\"'),\n",
            " (19,\n",
            "  '0.136*\"value\" + 0.104*\"know\" + 0.090*\"text\" + 0.082*\"type\" + '\n",
            "  '0.064*\"possible\" + 0.049*\"input\" + 0.045*\"page\" + 0.044*\"option\" + '\n",
            "  '0.042*\"css\" + 0.040*\"key\"')]\n"
          ]
        }
      ]
    },
    {
      "cell_type": "code",
      "metadata": {
        "id": "u3WyenEMck3b",
        "outputId": "11ab6c62-b9ca-432e-eb5b-aaa373bfedcc",
        "colab": {
          "base_uri": "https://localhost:8080/"
        }
      },
      "source": [
        "# Compute Perplexity\n",
        "print('\\nPerplexity: ', lda_model.log_perplexity(corpus))  # a measure of how good the model is. lower the better.\n",
        "\n",
        "# Compute Coherence Score\n",
        "coherence_model_lda = CoherenceModel(model=lda_model, texts=data_lemmatized, dictionary=id2word, coherence='c_v')\n",
        "coherence_lda = coherence_model_lda.get_coherence()\n",
        "print('\\nCoherence Score: ', coherence_lda)"
      ],
      "execution_count": 24,
      "outputs": [
        {
          "output_type": "stream",
          "name": "stdout",
          "text": [
            "\n",
            "Perplexity:  -12.13765196906999\n",
            "\n",
            "Coherence Score:  0.392433019134487\n"
          ]
        }
      ]
    },
    {
      "cell_type": "code",
      "metadata": {
        "id": "AtFay85WcP3q",
        "outputId": "8c94c832-211a-41fd-fc33-4a5b35b10277",
        "colab": {
          "base_uri": "https://localhost:8080/",
          "height": 917
        }
      },
      "source": [
        "# Visualize the topics\n",
        "pyLDAvis.enable_notebook()\n",
        "vis = gensimvis.prepare(lda_model, corpus, id2word)\n",
        "vis"
      ],
      "execution_count": 25,
      "outputs": [
        {
          "output_type": "stream",
          "name": "stderr",
          "text": [
            "/usr/local/lib/python3.7/dist-packages/pyLDAvis/_prepare.py:247: FutureWarning: In a future version of pandas all arguments of DataFrame.drop except for the argument 'labels' will be keyword-only\n",
            "  by='saliency', ascending=False).head(R).drop('saliency', 1)\n"
          ]
        },
        {
          "output_type": "execute_result",
          "data": {
            "text/html": [
              "\n",
              "<link rel=\"stylesheet\" type=\"text/css\" href=\"https://cdn.jsdelivr.net/gh/bmabey/pyLDAvis@3.3.1/pyLDAvis/js/ldavis.v1.0.0.css\">\n",
              "\n",
              "\n",
              "<div id=\"ldavis_el2704139913527933776659894833\"></div>\n",
              "<script type=\"text/javascript\">\n",
              "\n",
              "var ldavis_el2704139913527933776659894833_data = {\"mdsDat\": {\"x\": [-0.3545873650988131, -0.20359267706279832, -0.19443967189839687, -0.0642107595375754, -0.058999176503941236, -0.035249944647441286, -0.0890266284438759, -0.001022617828408085, 0.026589108466850548, 0.02656356002794391, 0.031091313447398194, -0.0008025505074905183, 0.049985623043529145, 0.07920085198417892, 0.0995276827814652, 0.09749310889557475, 0.11576220096149585, 0.13646960512419057, 0.15720755951183446, 0.1820407772842786], \"y\": [-0.04012863531129997, -0.33357655144629655, 0.27932243976875903, 0.02099531725964828, 0.04088871560898109, -0.002518920795775533, 0.1529089126524201, -0.011896529203351748, -0.015749399394669784, -0.0039591417990944115, -0.005625353343004193, -0.003928079570776192, -0.008238041835210303, -0.013579895841975909, -0.014491030898398486, 0.02074209066530212, -0.016725159481486288, -0.015250694630537956, -0.015111678363076983, -0.014078364040156163], \"topics\": [1, 2, 3, 4, 5, 6, 7, 8, 9, 10, 11, 12, 13, 14, 15, 16, 17, 18, 19, 20], \"cluster\": [1, 1, 1, 1, 1, 1, 1, 1, 1, 1, 1, 1, 1, 1, 1, 1, 1, 1, 1, 1], \"Freq\": [37.078119557017736, 9.43304491238181, 8.502421277948462, 5.398738069104732, 5.197392370236419, 4.128799275706388, 4.054346629097607, 3.454176686680848, 3.1294020827795213, 3.1159760373080374, 2.8915861117104007, 2.763887051992259, 2.1811393780933543, 1.9120042988146821, 1.7914928674623, 1.470115889839982, 1.4307381689991117, 1.1420332260076065, 0.831119672682901, 0.09346643613583527]}, \"tinfo\": {\"Term\": [\"code\", \"strong\", \"file\", \"pre\", \"com\", \"string\", \"value\", \"question\", \"change\", \"line\", \"run\", \"object\", \"know\", \"find\", \"error\", \"version\", \"time\", \"would\", \"text\", \"character\", \"use\", \"quot\", \"type\", \"user\", \"check\", \"test\", \"http\", \"update\", \"create\", \"image\", \"code\", \"pre\", \"would\", \"way\", \"get\", \"example\", \"name\", \"function\", \"class\", \"list\", \"need\", \"set\", \"return\", \"method\", \"look\", \"call\", \"give\", \"element\", \"result\", \"output\", \"contain\", \"case\", \"however\", \"true\", \"well\", \"simple\", \"item\", \"print\", \"point\", \"false\", \"use\", \"follow\", \"try\", \"want\", \"good\", \"work\", \"new\", \"datum\", \"add\", \"could\", \"go\", \"application\", \"difference\", \"thing\", \"think\", \"different\", \"message\", \"understand\", \"may\", \"show\", \"else\", \"do\", \"wrong\", \"last\", \"reference\", \"happen\", \"come\", \"language\", \"java\", \"pass\", \"developer\", \"level\", \"apply\", \"exactly\", \"match\", \"fix\", \"article\", \"reason\", \"thank\", \"make\", \"see\", \"find\", \"start\", \"seem\", \"also\", \"line\", \"run\", \"error\", \"blockquote\", \"command\", \"first\", \"program\", \"require\", \"build\", \"style\", \"index\", \"size\", \"save\", \"similar\", \"people\", \"must\", \"let\", \"appear\", \"much\", \"data\", \"nee\", \"figure\", \"large\", \"fast\", \"generate\", \"stop\", \"real\", \"memory\", \"perform\", \"create\", \"problem\", \"still\", \"provide\", \"statement\", \"com\", \"question\", \"idea\", \"answer\", \"search\", \"help\", \"support\", \"syntax\", \"correct\", \"bit\", \"comment\", \"ask\", \"non\", \"php\", \"suggest\", \"compare\", \"collection\", \"rest\", \"target\", \"attempt\", \"conflict\", \"basic\", \"great\", \"stackoverflow\", \"security\", \"various\", \"hard\", \"gt\", \"slightly\", \"sub\", \"easy\", \"mean\", \"value\", \"text\", \"possible\", \"input\", \"page\", \"option\", \"css\", \"key\", \"button\", \"word\", \"var\", \"document\", \"old\", \"length\", \"better\", \"approach\", \"know\", \"disable\", \"due\", \"google\", \"accomplish\", \"desire\", \"type\", \"tab\", \"locate\", \"anchor\", \"con\", \"pro\", \"act\", \"already\", \"select\", \"strong\", \"image\", \"edit\", \"can\", \"send\", \"tool\", \"merge\", \"throw\", \"expect\", \"template\", \"big\", \"github\", \"later\", \"person\", \"resolve\", \"unexpected\", \"git\", \"whole\", \"internal\", \"shell\", \"editor\", \"member\", \"remain\", \"initial\", \"ever\", \"icon\", \"recent\", \"together\", \"accidentally\", \"mail\", \"note\", \"file\", \"path\", \"project\", \"directory\", \"source\", \"open\", \"log\", \"thread\", \"filename\", \"click\", \"exist\", \"release\", \"automatically\", \"head\", \"scenario\", \"completely\", \"somehow\", \"virtual\", \"elegant\", \"touch\", \"lock\", \"linux\", \"mkdir\", \"arg\", \"extremely\", \"corner\", \"hand\", \"keyboard\", \"forget\", \"threading\", \"compile\", \"add\", \"close\", \"control\", \"include\", \"import\", \"user\", \"http\", \"say\", \"href\", \"issue\", \"window\", \"access\", \"form\", \"https\", \"browser\", \"allow\", \"fine\", \"particular\", \"noreferrer\", \"component\", \"html\", \"kind\", \"rule\", \"solve\", \"recommend\", \"remember\", \"website\", \"differ\", \"authentication\", \"specification\", \"maximum\", \"cookie\", \"cross\", \"protect\", \"trick\", \"base\", \"quot\", \"script\", \"right\", \"available\", \"link\", \"site\", \"documentation\", \"common\", \"avoid\", \"docker\", \"simply\", \"token\", \"net\", \"environment\", \"least\", \"expression\", \"clear\", \"software\", \"full\", \"submit\", \"bash\", \"dictionary\", \"final\", \"range\", \"world\", \"represent\", \"trouble\", \"quote\", \"hash\", \"unique\", \"keep\", \"handle\", \"time\", \"system\", \"take\", \"many\", \"replace\", \"long\", \"currently\", \"loop\", \"void\", \"compiler\", \"action\", \"behavior\", \"move\", \"speed\", \"performance\", \"matter\", \"sign\", \"lt\", \"letter\", \"faster\", \"manage\", \"sum\", \"conversion\", \"random\", \"const\", \"enough\", \"processing\", \"present\", \"vote\", \"unsigne\", \"less\", \"string\", \"object\", \"check\", \"property\", \"array\", \"process\", \"jquery\", \"suppose\", \"empty\", \"hide\", \"perhaps\", \"age\", \"attr\", \"efficient\", \"determine\", \"piece\", \"checkbox\", \"ago\", \"println\", \"discover\", \"originally\", \"easy\", \"myobject\", \"distinct\", \"split\", \"map\", \"allot\", \"transfer\", \"radio\", \"gzip\", \"stream\", \"convert\", \"event\", \"round\", \"database\", \"angular\", \"view\", \"change\", \"commit\", \"branch\", \"delete\", \"local\", \"repository\", \"tell\", \"remote\", \"pull\", \"push\", \"track\", \"modify\", \"origin\", \"share\", \"force\", \"master\", \"locally\", \"prompt\", \"external\", \"rename\", \"stay\", \"unstage\", \"keep\", \"already\", \"copy\", \"new\", \"stage\", \"clean\", \"folder\", \"deletion\", \"work\", \"want\", \"make\", \"create\", \"test\", \"update\", \"server\", \"request\", \"put\", \"resource\", \"break\", \"org\", \"body\", \"entity\", \"escape\", \"clone\", \"setting\", \"successfully\", \"tag\", \"alternative\", \"history\", \"fork\", \"uri\", \"quit\", \"rfc_rfc\", \"post\", \"ms\", \"dot\", \"reading_total\", \"emulator\", \"arm\", \"app\", \"connection\", \"view\", \"web\", \"angular\", \"android\", \"loader\", \"version\", \"number\", \"remove\", \"part\", \"stre\", \"state\", \"back\", \"framework\", \"previous\", \"core\", \"equivalent\", \"reset\", \"construct\", \"related\", \"revision\", \"occurrence\", \"past\", \"package\", \"quantity\", \"install\", \"fill\", \"instal\", \"notebook\", \"angular\", \"dependency\", \"someobject\", \"loader\", \"restore\", \"anyway\", \"original\", \"warning\", \"service\", \"android\", \"app\", \"even\", \"database\", \"public\", \"variable\", \"static\", \"store\", \"lot\", \"private\", \"fail\", \"several\", \"consider\", \"closure\", \"day\", \"couple\", \"javascript\", \"public_void\", \"foreach\", \"knowledge\", \"enum\", \"validate\", \"consist\", \"dosomethe\", \"identify\", \"concept\", \"enumerate\", \"view\", \"instance\", \"override\", \"service\", \"intent\", \"notification\", \"layout_height_wrap_content\", \"foo\", \"client\", \"table\", \"like\", \"second\", \"default\", \"null\", \"row\", \"insert\", \"mode\", \"section\", \"sql\", \"apart\", \"supply\", \"transition\", \"agent\", \"temporary\", \"mixed\", \"select\", \"statement\", \"column\", \"auction\", \"database\", \"theme\", \"record\", \"img\", \"pmahomme\", \"boolean\", \"sqlite\", \"home\", \"query\", \"beatle\", \"datum\", \"exist\", \"client\", \"web\", \"library\", \"current\", \"date\", \"self\", \"certain\", \"space\", \"enter\", \"produce\", \"background\", \"usually\", \"complete\", \"author\", \"node\", \"reasonable\", \"distance\", \"br\", \"eval\", \"yield\", \"pop\", \"candidate\", \"adjust\", \"canonical\", \"copying\", \"efficiency\", \"handle\", \"model\", \"activate\", \"become\", \"deterministic\", \"direction\", \"event\", \"loader\", \"angular\", \"database\", \"android\", \"expect\", \"character\", \"feature\", \"side\", \"operator\", \"prefer\", \"develop\", \"frame\", \"behaviour\", \"special\", \"pure\", \"definition\", \"engine\", \"necessary\", \"period\", \"redirect\", \"declaration\", \"migration\", \"familiar\", \"nullable\", \"conditional\", \"scope\", \"consideration\", \"restriction\", \"unpack\", \"assignment\", \"ternary\", \"formal\", \"encode\", \"encoding\", \"implicit\", \"android\", \"suppose\", \"read\", \"order\", \"miss\", \"double\", \"sort\", \"unable\", \"obvious\", \"independent\", \"round\", \"tall\", \"implementation\", \"sdk\", \"preserve\", \"flop\", \"operation\", \"parser\", \"comparedouble\", \"blue\", \"bool\", \"ssl\", \"gflop\", \"mul_mul\", \"zero\", \"annotation\", \"cycle\", \"integer\", \"gzip\", \"license\", \"northwind\", \"diff\", \"detail\", \"gradle\", \"download\", \"android\", \"learn\", \"query\", \"install\", \"end\", \"context\", \"view\", \"execute\", \"information\", \"package\", \"module\", \"outside\", \"angular\", \"loader\", \"vendor\", \"dist\", \"bootstrap\", \"plugin\", \"httpclient\", \"platform\", \"bundle\", \"clientapp\", \"esm\", \"injector\", \"provider\", \"animation\", \"ng\", \"fromlist\", \"extractcss\", \"webpack\", \"wwwroot\", \"modal\", \"subprocess\", \"vertical\", \"boot\", \"global\", \"beta\", \"typescript\", \"jar\", \"myapp\", \"dependency\", \"event\", \"map\", \"package\", \"context\"], \"Freq\": [8825.0, 2302.0, 2060.0, 5767.0, 1579.0, 836.0, 970.0, 946.0, 695.0, 922.0, 917.0, 615.0, 754.0, 957.0, 854.0, 501.0, 573.0, 2056.0, 644.0, 413.0, 2213.0, 510.0, 606.0, 517.0, 478.0, 416.0, 472.0, 401.0, 657.0, 467.0, 8824.119651721147, 5766.674329322989, 2055.6823009339773, 1408.5080943487774, 1070.3165038877585, 1056.4855414672745, 1022.4175042873959, 975.7504091956824, 836.0555333431881, 815.9341098626229, 766.5326881071536, 732.0211311215172, 631.8212144652101, 601.6292992101098, 557.463661519977, 488.4586833403762, 461.01543246914935, 449.1209643065385, 440.4774554908622, 413.15863893893436, 410.5320825555328, 395.33832458545845, 381.3000824098966, 368.1961895746489, 362.09812457674184, 360.95753995102734, 308.9346179949131, 308.21485969741906, 295.68212561010193, 292.8339992273992, 2190.8907997147003, 706.3216223767807, 1238.834564958959, 1317.3828625813528, 520.525089335225, 992.8051747514874, 659.2068770764944, 576.8245686476807, 558.4181169015818, 510.6692967029414, 466.4431877988704, 419.2880324130737, 362.0460112526144, 356.7544892008378, 352.8661324076756, 345.64296927931275, 341.4933579278764, 338.4792315983243, 315.24228733364833, 309.2036956129685, 211.3574982525383, 205.97408416750463, 194.59040294401046, 180.3288753346077, 179.55572852324894, 173.58749315032443, 190.21160503486476, 157.69483363723705, 153.740142584526, 152.04184301562816, 150.9771129268169, 144.0723832323117, 140.80846469195666, 140.13019326456663, 134.5726819440746, 132.37082417873614, 129.06550107870638, 116.3667419518217, 108.33150351273262, 659.9594033115301, 623.5259514064937, 900.5981626839884, 247.12183411415012, 324.40185040572453, 293.00417371858134, 921.7059363296464, 916.8284130184577, 853.8849949933651, 547.431293154999, 442.33304620597994, 407.638207290771, 343.4890386433738, 337.7050413464549, 304.34339329755704, 290.02562449979246, 222.46121843685557, 173.1867736054299, 155.08461962228333, 155.0151186383659, 153.1610623155156, 147.76319611157655, 145.95262145065706, 140.2851667653979, 136.94033393366053, 133.7746533875349, 122.14365719690336, 121.00124566050599, 120.82707950437953, 120.02232038280037, 109.72706255695061, 98.2265548990939, 95.46614434471495, 91.32481543130964, 87.96320068122817, 649.2180098270745, 398.102332630835, 175.3250937426706, 109.08328574257497, 105.55667691953596, 1577.969117196449, 945.0476103028501, 271.4429004551594, 249.6249812809397, 182.51546619341605, 179.6623875050737, 178.47702535266848, 189.5102199849335, 176.26623327603025, 156.10203933286266, 147.69912706658573, 140.88621876237363, 139.9125787868554, 130.243646984083, 123.18850384499848, 117.60919451408478, 106.23557014285046, 99.65931121187683, 88.46132472331013, 85.92255959317829, 79.85190245597795, 78.10813930687853, 72.27340570941223, 69.95297821010756, 65.54757668762943, 65.29085974616899, 64.44910717475241, 63.48603671759841, 56.85580688104671, 52.77502229619176, 83.3791422159182, 64.05312697824546, 969.6824928011002, 643.0040525675013, 458.98933661821735, 350.26183070437474, 324.07456764479485, 312.137369868255, 299.70331791487627, 284.8116945007891, 201.1996015604022, 172.76303851504488, 164.4340162677742, 122.08706689590261, 110.78214367718878, 76.38062196904686, 69.79084222657792, 67.17423217602088, 742.501437346306, 59.72388848807148, 51.14609975293024, 45.40091221706669, 41.753729043040764, 40.38202952421057, 586.0889740426747, 28.384065936142264, 25.623833351196673, 23.876160762969917, 10.170412340792566, 9.620745779268114, 7.839506751700302, 147.26256022709342, 225.5639435132573, 2301.7517857834005, 466.5616273882468, 215.7793491987001, 184.23140454097873, 178.01212400194188, 147.35371891360703, 141.68308522597417, 133.03228092955598, 124.41926549123993, 116.44133336627091, 95.54120833378002, 90.43396063246838, 70.19446392764314, 69.93546645320556, 69.18143388030379, 63.2767873493736, 56.33206963943194, 55.12641051785279, 53.940116335729144, 46.99147594353906, 45.743021521688995, 44.41900524353601, 41.38926451331895, 40.48156271365686, 37.798413692613465, 30.65902362448455, 30.14712680764924, 29.73193309551504, 28.185986575518616, 27.006411704901375, 89.28945729020163, 2059.284523091616, 379.82160152276873, 335.0837046387972, 232.07900293734892, 195.64278773357685, 160.95225180144416, 134.83039661662647, 130.16589716525715, 114.76426840679065, 113.55886874533533, 267.231637464913, 78.23391412456402, 73.79390216462569, 70.13765747323437, 42.27218655949737, 42.142718072284566, 40.828215403090205, 38.05084783225677, 37.31545831115203, 32.704148944587224, 27.66962124221856, 26.326483348762853, 24.227229659209033, 23.836981285204267, 21.51708166802536, 17.21504803782529, 17.08031297428668, 16.002910065802315, 15.891690304493189, 10.562002017095281, 89.53744567572545, 115.71711120451963, 49.76123992523231, 42.27883921357477, 32.68573539483106, 24.512935584668664, 516.74795338301, 471.2368812474618, 404.14170314215863, 280.00381469785856, 240.7731399551475, 222.539060465207, 217.815215299873, 211.59047476859845, 182.20834006071487, 165.32946799807277, 158.78980445577596, 142.23583330305038, 140.96646411233868, 131.85632397830594, 105.50149971711714, 104.08992777585229, 90.28666343646756, 78.19091127363676, 73.79412978087852, 61.38746168876224, 42.87318280669076, 40.41379437387632, 25.9336892585903, 25.178571069754646, 21.604413382331593, 21.326027349485482, 18.309801614272835, 15.748346484979075, 12.544702327728045, 11.85239492397515, 39.7668098951761, 509.4718669418787, 374.93092297709563, 247.69178054406032, 203.69402184643894, 192.71527419995803, 153.800589897327, 131.6648883204938, 123.95919154654445, 105.02685951660254, 103.40638202221078, 99.75745268889669, 93.17563275310576, 91.6572289843816, 91.00646390476226, 90.56024697415288, 85.01047198341955, 82.92157890723688, 81.63689407824498, 79.86421557907353, 72.86204775455552, 65.3225884249326, 60.112004015881084, 49.21416925086387, 48.695706529495794, 45.391589566240334, 44.87128764254513, 37.093978180163205, 36.96333070330869, 36.18994412126021, 26.04156827664336, 141.71745534758787, 44.44513765148756, 572.0564880894317, 397.627368376723, 250.34155840793068, 208.09121255938155, 193.07440944704186, 172.54314803527024, 144.64651888293307, 123.71985375396055, 114.12647799162944, 101.5616056309571, 101.21786165837113, 99.92132495393469, 86.67814115508875, 83.32482206990416, 80.21672319042872, 79.78283400083399, 73.24821942861253, 68.49418235606093, 63.54776579896792, 61.990731999562925, 55.61507048769508, 54.589332504779215, 51.069431889075446, 50.32743549233346, 47.365717858623924, 43.57889659305278, 43.07554922505203, 41.9486462371581, 25.233716540528523, 24.47481741687418, 79.4622068463125, 835.601580081955, 614.4100203094449, 477.63854541441714, 239.59608059892597, 213.7463658865117, 201.67040351904276, 132.39302236054098, 106.39919269361017, 85.17983178599118, 73.3986304851899, 70.73116353237992, 59.48409170654064, 41.603570396306715, 40.75634151920998, 39.216609999454064, 35.98457556322765, 35.51079635438988, 30.72286726425016, 20.5185776901017, 10.998947075251444, 6.561436899588931, 135.35411001916177, 0.642007021936542, 0.060530244507867266, 0.060534427865439264, 0.06053518354541553, 0.06052503790898768, 0.06052865721834772, 0.06052458956297305, 0.06052365309831346, 0.060527500196374484, 0.06053290204271205, 0.060535263090676195, 0.06053165462839715, 0.06053543302827852, 0.06053523778082053, 0.06053386020153364, 694.1331209872516, 355.29472917861347, 275.8747026167076, 227.5757873033271, 215.05950234187284, 189.14549054222132, 151.6654613665762, 135.85942926866622, 127.90683237956648, 120.01771029052641, 83.24878573267738, 76.36047466656747, 74.29786217109586, 68.88507124535612, 62.84731400654001, 56.68494995962281, 52.72900053940072, 38.85499328518925, 27.980694099988693, 25.9748553823916, 12.996303404763465, 10.503618703825103, 34.903085358146704, 25.444926090847474, 13.67865839014513, 54.30381684056898, 0.06430668393362665, 0.06430581992953664, 0.06431206840711555, 0.0642963850048738, 57.61427043638852, 19.574917361187723, 7.511765358204718, 7.002133776057463, 415.9196112070172, 400.06436217901353, 322.4930394628349, 277.0664607268633, 202.23337180251733, 121.49870739165836, 117.18328239375951, 71.80907971293325, 70.14010613103812, 67.57030573399139, 58.11237543643488, 52.24960861272976, 51.89833100708925, 36.89326147846128, 126.85867078867327, 24.818832478531945, 22.902569572179498, 18.796760506614525, 7.719465721839252, 6.762753706117845, 5.205887406115861, 125.88400809072691, 0.051127545399292866, 0.05112446350768421, 0.05111348870075214, 0.05111401234959184, 0.05111240322034484, 0.051116876054183955, 0.05111059772278296, 0.051120836148534195, 0.051118070628099525, 0.0511211197916557, 0.051122690738174804, 0.05111606876222275, 500.8970274154756, 371.27520268885496, 275.76337839385593, 207.02524355383608, 178.6903951765784, 146.5799355535402, 95.04435796509134, 90.56707717283554, 78.65578811383509, 65.98278531106943, 60.12965365252732, 55.452586235300586, 29.808467531025496, 18.809753077867143, 18.00655483100005, 16.33497172635749, 4.979095776612921, 0.05374485823486516, 0.053670767152553395, 0.05368510720778754, 0.053671594371478205, 0.05368000044587021, 0.05366869193282295, 0.05368370141377659, 0.05367160393470277, 0.05366384337796886, 0.053676141684758524, 0.05366578949416769, 0.0536642880679111, 0.05367117837120966, 0.05366802728871573, 0.05367514232779155, 0.05367879547957511, 0.05367125009539389, 0.05367084843996219, 0.05367168044049929, 342.5464817712894, 252.08153928467388, 233.44422977539688, 176.6671784805357, 175.87470745469028, 167.02947265940617, 159.8432263355352, 109.5115534445878, 92.5851016025963, 51.79978308857089, 47.283332269455514, 41.01980801866261, 35.59160675055626, 32.57493313105527, 25.204637411694332, 23.915069005665096, 13.559850395383892, 9.38127020096916, 8.695657242544488, 6.773615883025091, 6.396547451006785, 3.578322193303039, 1.563904025585521, 0.0578100920388282, 0.05780140038727216, 0.057797121764985554, 0.05779871224761565, 0.057785459719109075, 0.05778163360033132, 0.05778180384917623, 0.057783802032987566, 0.05778207266314188, 298.42875341158526, 195.88853168732652, 181.93909570702007, 175.97368664936627, 169.04858063528295, 149.8980717507307, 103.35623294091879, 69.97381831095747, 49.93374613989568, 30.834910436216656, 19.954676173703078, 16.62922246295437, 13.793049830666533, 8.357965239173852, 5.0613401599894985, 2.6939546773999448, 73.70768234148159, 21.562466744526997, 0.05435773615669695, 0.054337574114849324, 0.05434948604329322, 0.05433270272435915, 0.05433133505850078, 0.05432840854768555, 0.054327941629502725, 0.0543303828395295, 0.054328518843319296, 0.05432941591447371, 0.05433440495363987, 0.05432704088182718, 12.220039973222608, 2.3020756436824596, 0.05432896002585425, 0.05432852251984042, 234.30105134658044, 232.74186418574706, 157.02631815951148, 119.00498789637582, 117.93671430411085, 88.56053517432309, 84.21364951907682, 81.5863426504879, 55.08057493892919, 52.05583567733091, 49.56661817244994, 48.83691614833911, 30.252219826486822, 19.02583008358001, 17.768064205583656, 17.368389495436958, 15.311790809428846, 13.699701268584372, 12.892690598071722, 7.998027384107469, 6.985897364333367, 5.58333578074954, 3.6349730926156627, 2.6671402860443427, 91.93202020265952, 0.05195896077012715, 0.05194736790808896, 0.05194804415837452, 0.051944026015143384, 0.051947536076149395, 0.051952867361469424, 0.0519525346033924, 0.05195498198537824, 0.05195470647600264, 0.05195462060295051, 0.05195639173465079, 412.2618465639237, 122.78375976089201, 83.18407698499665, 69.45457359917205, 66.76069192351038, 50.251095956953336, 39.518262340412285, 38.24405592177914, 36.99601283704799, 36.737970887926515, 34.46467664930706, 27.219942452048183, 23.81568502430439, 23.781846118099043, 22.3281608666656, 19.07429874008915, 13.568746281391574, 13.050689750830607, 12.423000779366765, 9.641441519453481, 9.086809402640355, 5.577376966509153, 3.3090139431116365, 0.9279973829113177, 0.587268378991756, 0.3860361203050513, 0.3728219559623273, 0.05111343929430597, 0.051102763418071386, 0.051098302284128524, 0.051107355929838436, 0.0519177514701837, 255.37216906917112, 133.50767849473428, 118.74796445766728, 94.20924176265487, 59.20401412001712, 57.29580720484412, 29.41396475474247, 9.347390376456781, 0.04987685049630111, 0.049838398332417426, 0.04984178627982988, 0.04983921310259269, 0.049835467653980885, 0.04983458221496389, 0.04983619097036097, 0.04983740896863317, 0.04983215037541017, 0.04983300671549233, 0.0498329776165575, 0.049834860733340126, 0.049831896798978065, 0.049831896798978065, 0.04983230834105639, 0.049832262614158795, 0.049832191945317066, 0.04983722190405212, 0.04983204229365222, 0.04983438683640145, 0.04983138133213249, 0.049832233515223964, 0.049833996079276584, 0.049833098169287514, 0.049836332308044434, 0.04984277980060482, 0.04983393788140692, 0.04983442009232698, 0.04983607873161233, 0.04983511430977222, 0.04983359285117964, 0.049834756808572876, 0.049833493083403076, 0.0498334847694217, 0.04983415404492281, 24.857118328480656, 3.936346908774456, 0.012896368381768487, 0.01288974219609001, 0.012883767689742408, 0.012883134709961918, 0.012882566243630253, 0.012880003470250163, 0.012879308781953407, 0.012880137172035407, 0.012879308781953407, 0.012878566409803172, 0.012878566409803172, 0.012878205508480766, 0.012878651492757418, 0.012878593524151228, 0.012878708526386088, 0.012877663221519639, 0.012877851152000994, 0.0128778221676979, 0.0128778221676979, 0.012878987149686806, 0.012877681921070023, 0.0128778221676979, 0.0128778221676979, 0.012878079286515676, 0.0128778221676979, 0.012877631432283985, 0.012877564113902604, 0.01287697227313296, 0.012878500026399311, 0.012878410268557468, 0.012877851152000994, 0.012878212053323401, 0.012877770743934345], \"Total\": [8825.0, 2302.0, 2060.0, 5767.0, 1579.0, 836.0, 970.0, 946.0, 695.0, 922.0, 917.0, 615.0, 754.0, 957.0, 854.0, 501.0, 573.0, 2056.0, 644.0, 413.0, 2213.0, 510.0, 606.0, 517.0, 478.0, 416.0, 472.0, 401.0, 657.0, 467.0, 8825.160552150724, 5767.715229752564, 2056.7232014545393, 1409.5489947783535, 1071.3574043173346, 1057.5264419027485, 1023.4584047217537, 976.7913096252587, 837.0964337727644, 816.9750102921992, 767.5736099062208, 733.0620315510935, 632.8621148947864, 602.6701996396861, 558.5045619698053, 489.4995837699525, 462.05633289872566, 450.1618647361148, 441.51835592550816, 414.1995393827742, 411.5729829851091, 396.37922640600493, 382.34098821811, 369.2370900042252, 363.1390250116339, 361.99844038060365, 309.9755184244894, 309.25576012699537, 296.72302607070225, 293.8748996569755, 2213.449672788854, 708.9203429990793, 1256.3818366717849, 1337.9343986890055, 529.8548509862462, 1061.9911402731975, 762.8192394082242, 648.6188827319909, 700.1338075215039, 511.70943094955123, 467.5225424158772, 420.3281651065171, 363.08614394605775, 357.79462189906275, 353.90626510111895, 346.6831019727561, 342.53349062131974, 339.51936429176766, 316.2824200270917, 310.2438283117276, 212.3976309459816, 207.01421686094793, 195.63053563745376, 181.36900809180037, 180.59589800116737, 174.62762584376773, 191.41365033036723, 158.73496633068035, 154.78027530911626, 153.08197570907146, 152.01724562026018, 145.11251593443288, 141.84859739455038, 141.17032595800993, 135.61281463751789, 133.41095687217944, 130.10563377214967, 117.40687464526493, 109.37163621292656, 669.9064302197559, 646.2829083771501, 957.0162246539497, 260.53939100977317, 549.613606590551, 543.3163878122364, 922.7501866398753, 917.8726633286866, 854.9292453209803, 548.4755434652279, 443.37729651620884, 408.6824576048962, 344.5332889536027, 338.7492916566838, 305.38764360778595, 291.06987481002136, 223.50546874708445, 174.23102392044038, 156.12886993758184, 156.05936902960295, 154.2053126309072, 148.80744642180542, 146.99687176604866, 141.32941707562676, 137.98458424778568, 134.81890369776377, 123.18790750713217, 122.04549597073479, 121.87132981460833, 121.0665707312569, 110.77131286717942, 99.27080521970056, 96.51039465494375, 92.36906574153845, 89.00745099145698, 657.2001122302496, 432.47006283624154, 238.16132006836298, 125.01172575237581, 128.10908019829816, 1579.0072880035582, 946.0857811099594, 272.48107126226876, 250.66315208804897, 183.55363700052533, 180.70055831218298, 179.51519615977776, 190.62597409982772, 177.30440409932038, 157.14021013997194, 148.737297873695, 141.9243895694829, 140.95074960344036, 131.28181779119228, 124.22667465800534, 118.64736532509028, 107.27374095747166, 100.69748201898605, 89.49949553041935, 86.9607304494872, 80.89007327183332, 79.14631011398775, 73.31157651652146, 70.9911490895924, 66.58574753745283, 66.32903056366364, 65.48727800276674, 64.52420753536357, 57.89397776434094, 53.81319310330098, 219.71090563339388, 259.0753263280306, 970.7294730606731, 644.0457780128713, 460.0310620635874, 351.3035561497448, 325.1162930901649, 313.17909531362506, 300.7450433602463, 285.85341994615914, 202.24132700577226, 173.80476396041496, 165.47574172240613, 123.12879234127263, 111.8238691633462, 77.42234741441688, 70.83256769887794, 68.21595762496895, 754.3961976363448, 60.76561393344149, 52.18782523918881, 46.4426377120156, 42.795454521418186, 41.4237549942005, 606.0698931512957, 29.42579138676645, 26.66555883288695, 24.917886238743737, 11.2121377861626, 10.662471224638148, 8.881232938982757, 173.68493008942855, 300.25903752411546, 2302.7958688966874, 467.6057105015331, 216.82343231198638, 185.27548765958082, 179.05620711522818, 148.39780202689332, 142.72716833926046, 134.07636404645797, 125.46336659524883, 117.48541649574776, 96.58529147979166, 91.47804379777304, 71.23854704092939, 70.97954957010751, 70.22551699359003, 64.32087046941052, 57.37615276310361, 56.170493643787346, 54.98419949671587, 48.03555910242453, 46.787104640291034, 45.46308836130249, 42.43334765116252, 41.525645830558794, 38.842496826543716, 31.703106758852638, 31.191209920935506, 30.776016208801305, 29.230069748368198, 28.050494900985576, 202.95834779593, 2060.3346427436977, 380.87172117485, 336.13382429087847, 233.12912258943015, 196.6929073856581, 162.0023714535254, 135.88051627908555, 131.21601681733839, 115.81438805887183, 114.60898840782849, 270.52951898468314, 79.2840337808022, 74.84402183240053, 71.18777712531555, 43.32230621973532, 43.19283774506107, 41.87833506526879, 39.10096749355002, 38.36557802575225, 33.75426859666841, 28.719740898780003, 27.376603041554073, 25.277349316606035, 24.887100959230064, 22.56720139977564, 18.265167701599523, 18.130432635108658, 17.05302974554825, 16.941809956574396, 11.61212167307276, 123.56035001258694, 700.1338075215039, 152.93026827583267, 145.67565354631, 231.88018573964757, 169.78636445491614, 517.7906079432161, 472.2795358076679, 405.18435770236476, 281.0464692580647, 241.81579451535356, 223.58171502541305, 218.85786986007903, 212.6331293288045, 183.25099462092092, 166.37212255827882, 159.83245902046224, 143.27848786857223, 142.00911869272406, 132.89897855400343, 106.54415427732316, 105.1325823360583, 91.32931799667358, 79.23356585856308, 74.83678435072748, 62.4301163886966, 43.91583740997745, 41.45644893408233, 26.97634384842853, 26.221225629960678, 22.647067942537625, 22.368681934593837, 19.352456174478867, 16.79100104518511, 13.587356887934073, 12.895049484181177, 243.1433159307952, 510.5168226516618, 375.97587868687873, 248.73673625384333, 204.73897756297262, 193.76022990974104, 154.84554560711, 132.7098440302768, 125.0041472637613, 106.07181523006201, 104.45133773199373, 100.80240839867965, 94.22058849009423, 92.70218469416456, 92.05141963009336, 91.60520268751388, 86.05542773725548, 83.96653461701983, 82.68184980340746, 80.90917129392612, 73.90700346433847, 66.36754413471556, 61.15695972566403, 50.25912499124465, 49.740662242856786, 46.436545303855794, 45.91624335648506, 38.138933899428054, 38.00828642777719, 37.23489983104316, 27.086523990042032, 177.6012147324063, 137.3701751753979, 573.0983500141216, 398.669230301413, 251.38342033262063, 209.1330744840715, 194.1162713717318, 173.5850099599602, 145.68838080762302, 124.76171567865045, 115.16833992079957, 102.603467555647, 102.25972358306103, 100.96318687862458, 87.72000307977865, 84.36668400049169, 81.25858511511862, 80.82469592552388, 74.29008136451586, 69.53604428075083, 64.58962772365783, 63.032593924252815, 56.65693243019601, 55.63119443362609, 52.111293893300186, 51.369297421180335, 48.40757984525013, 44.62075851774267, 44.11741119762026, 42.99050816184799, 26.275578473959207, 25.51667939087573, 99.09863340551125, 836.6434517345855, 615.4518919620754, 478.68041706704764, 240.6379522515564, 214.78823753914216, 202.712275176989, 133.43489401317143, 107.44189864112077, 86.22170344369123, 74.44050214823228, 71.77303524316689, 60.525963359171044, 42.645442055436035, 41.79821317184039, 40.258481653019444, 37.02644725908854, 36.55266800702029, 31.76473894258883, 21.560449378490947, 12.040818742053768, 7.603308556376342, 219.71090563339388, 1.6838786745669623, 1.1024308600210153, 1.1025586721076042, 1.1025748794876904, 1.1024179713302007, 1.102490618861529, 1.1024189295586868, 1.1024128795306332, 1.1024875003069892, 1.1026041142128231, 1.102661172471174, 1.10258006431946, 1.1027720961775997, 1.1027833084909644, 1.1027342265716877, 695.1712283655661, 356.33283655692804, 276.9128099950222, 228.6138946816416, 216.09760972018734, 190.18359792053582, 152.7035687728163, 136.8975366469807, 128.94493975788097, 121.0558176688409, 84.2868931154721, 77.39858204488196, 75.33596954941035, 69.9231786705724, 63.88542141046029, 57.72305733793729, 53.76710792735016, 39.89310066881953, 29.01880151687538, 27.012962790121158, 14.034410783077956, 11.541726082139594, 177.6012147324063, 173.68493008942855, 110.11825020136254, 762.8192394082242, 1.1024545507769419, 1.1025230307674638, 1.1026876441530022, 1.102421202461131, 1061.9911402731975, 1337.9343986890055, 669.9064302197559, 657.2001122302496, 416.9709055297996, 401.1156564976799, 323.5443337778247, 278.1177550418531, 203.28466611750707, 122.55000170664809, 118.23457670874924, 72.86037404415556, 71.19140044602786, 68.62160006956799, 59.16366975142461, 53.30090292771949, 52.94962532714861, 37.944555793451, 131.0850067658644, 25.87012685926244, 23.95386388716924, 19.84805482160427, 8.770760107731862, 7.814048064904211, 6.257181725424768, 183.0490835115768, 1.1026082156219774, 1.1025944471100042, 1.1025142771570797, 1.102539409495612, 1.1025129504645754, 1.1026249175223977, 1.1025086525969752, 1.1027342265716877, 1.1026776392796929, 1.1027833084909644, 1.102858672366374, 1.102653170191631, 501.94575959076934, 372.3239348641487, 276.8121105691497, 208.07397572912976, 179.73912735187207, 147.62866772883388, 96.09309014797458, 91.61580934812919, 79.70452028912874, 67.03151749161724, 61.17838582782098, 56.50131841059425, 30.85719970631917, 19.8584852828715, 19.05528701667915, 17.383703927307657, 6.027828059952811, 1.1028899210006284, 1.1024160086236583, 1.1027207391186453, 1.1024528954000894, 1.1026290320097716, 1.102471017828476, 1.1027833084909644, 1.102537465398528, 1.1024003198754933, 1.102653170191631, 1.1024448295945617, 1.1024159937739806, 1.10255905345922, 1.102502487669839, 1.1027028083891754, 1.102858672366374, 1.1026249175223977, 1.102664646684656, 1.1027720961775997, 343.59110716036804, 253.12616467375247, 234.48885516447547, 177.7118038696143, 176.91933287406275, 168.07409804848476, 160.8878517246138, 110.55617883366637, 93.62972699167486, 52.844408513037, 48.32795765853408, 42.06443341881103, 36.63623214354789, 33.619558520133836, 26.249262807523596, 24.959694470459493, 14.604475790257867, 10.42589559004774, 9.740282640588974, 7.818241272103669, 7.441172840085363, 4.622947582381617, 2.6085294146641, 1.1027342265716877, 1.102589552713159, 1.1025395457813874, 1.1027028083891754, 1.1024970969068266, 1.1024543534289533, 1.1024635286919846, 1.1025977637555646, 1.1026029360499303, 299.4768286970175, 196.9366069775403, 182.98717099245223, 177.02176193479843, 170.09665592519534, 150.94614703616287, 104.40430822635093, 71.02189363859692, 50.98182147794712, 31.882985721648822, 21.002751513878632, 17.677297808308623, 14.841125156776316, 9.406040524606015, 6.109415507373613, 3.742029962832107, 300.25903752411546, 128.10908019829816, 1.10258150256181, 1.1024687922102177, 1.1027720961775997, 1.1024941631990233, 1.1024746626069197, 1.1024205748009384, 1.1024125635394606, 1.1024672839850524, 1.1024341404936364, 1.102469249944369, 1.1025753060567787, 1.1024279234910974, 648.6188827319909, 270.52951898468314, 1.1026029360499303, 1.1026776392796929, 235.35150200309792, 233.79231484226455, 158.07676881602896, 120.0554385528933, 118.98716496062833, 89.61098583084058, 85.26410017559431, 82.63679331606438, 56.13102559544669, 53.10628633384841, 50.61706883680095, 49.887366804856605, 31.302670483004324, 20.07628076554216, 18.81851491400129, 18.41884015195446, 16.362241592392994, 14.750151934793545, 13.943141254589221, 9.04847808986262, 8.036348074041443, 6.633786437267038, 4.685424129384829, 3.717590984062287, 137.3701751753979, 1.1026495406250554, 1.102423522731796, 1.1024907800893737, 1.1024096439806674, 1.1024862707978036, 1.102661172471174, 1.102653170191631, 1.1027833084909644, 1.1027720961775997, 1.102858672366374, 125.46336659524883, 413.31315216875953, 123.83506536572779, 84.23538259374548, 70.50587920848805, 67.81199752834615, 51.30240156768674, 40.569567949144336, 39.29536152661492, 38.04731845152673, 37.78927653011064, 35.515982254142834, 28.27124805688396, 24.866990629140165, 24.833151772049213, 23.379466479733605, 20.125604344924927, 14.62005188622735, 14.101995377390486, 13.474306464077594, 10.692747128608426, 10.13811500747613, 6.628683101460124, 4.360319557743439, 1.9793029877470933, 1.6385739838275317, 1.4373417251408271, 1.424127560798103, 1.1025816777642827, 1.102496619123065, 1.1024622128245045, 1.102858672366374, 107.44189864112077, 256.42473066515004, 134.56024009071314, 119.80052605364615, 95.26180335863374, 60.25657571599599, 58.34836880082299, 30.466526350721338, 10.399952022085287, 1.10258006431946, 1.1024086574583818, 1.102509683569113, 1.1025048352534645, 1.102426891053198, 1.1024113983995132, 1.1024754102036423, 1.1025121594028062, 1.10239807860374, 1.1024176313327287, 1.1024174733663243, 1.10245929028347, 1.102402978633817, 1.102402978633817, 1.1024149909539382, 1.1024140044295976, 1.1024132073206259, 1.1025252771073684, 1.1024128795306332, 1.1024651849413443, 1.102407673107016, 1.1024286093516844, 1.1024754755972639, 1.1024547019440047, 1.1025859311506514, 1.102858672366374, 1.1025245771649035, 1.1025753060567787, 1.1027207391186453, 1.102682216830956, 1.102560532898659, 1.1027342265716877, 1.1025537030998476, 1.1025567261993585, 1.1028899210006284, 25.946631796725136, 5.025860386407734, 1.1027833084909644, 1.102653170191631, 1.1025346959182667, 1.1025021851564423, 1.1025216055967648, 1.1024964953750345, 1.102451491336918, 1.1025383553084456, 1.1024776153388054, 1.1024386333434193, 1.1024386333434193, 1.1024102231415396, 1.1024492015828682, 1.1024510644507013, 1.1024628910317598, 1.1024000842051398, 1.102427161996076, 1.1024262369053035, 1.1024262369053035, 1.102529480980109, 1.1024187834524686, 1.1024336605473897, 1.1024342875669213, 1.1024609757743127, 1.1024510516804749, 1.1024464025464449, 1.10244446626156, 1.1024000763603832, 1.102537465398528, 1.102661172471174, 1.1025748794876904, 1.1028899210006284, 1.102560532898659], \"Category\": [\"Default\", \"Default\", \"Default\", \"Default\", \"Default\", \"Default\", \"Default\", \"Default\", \"Default\", \"Default\", \"Default\", \"Default\", \"Default\", \"Default\", \"Default\", \"Default\", \"Default\", \"Default\", \"Default\", \"Default\", \"Default\", \"Default\", \"Default\", \"Default\", \"Default\", \"Default\", \"Default\", \"Default\", \"Default\", \"Default\", \"Topic1\", \"Topic1\", \"Topic1\", \"Topic1\", \"Topic1\", \"Topic1\", \"Topic1\", \"Topic1\", \"Topic1\", \"Topic1\", \"Topic1\", \"Topic1\", \"Topic1\", \"Topic1\", \"Topic1\", \"Topic1\", \"Topic1\", \"Topic1\", \"Topic1\", \"Topic1\", \"Topic1\", \"Topic1\", \"Topic1\", \"Topic1\", \"Topic1\", \"Topic1\", \"Topic1\", \"Topic1\", \"Topic1\", \"Topic1\", \"Topic1\", \"Topic1\", \"Topic1\", \"Topic1\", \"Topic1\", \"Topic1\", \"Topic1\", \"Topic1\", \"Topic1\", \"Topic2\", \"Topic2\", \"Topic2\", \"Topic2\", \"Topic2\", \"Topic2\", \"Topic2\", \"Topic2\", \"Topic2\", \"Topic2\", \"Topic2\", \"Topic2\", \"Topic2\", \"Topic2\", \"Topic2\", \"Topic2\", \"Topic2\", \"Topic2\", \"Topic2\", \"Topic2\", \"Topic2\", \"Topic2\", \"Topic2\", \"Topic2\", \"Topic2\", \"Topic2\", \"Topic2\", \"Topic2\", \"Topic2\", \"Topic2\", \"Topic2\", \"Topic2\", \"Topic2\", \"Topic2\", \"Topic2\", \"Topic2\", \"Topic3\", \"Topic3\", \"Topic3\", \"Topic3\", \"Topic3\", \"Topic3\", \"Topic3\", \"Topic3\", \"Topic3\", \"Topic3\", \"Topic3\", \"Topic3\", \"Topic3\", \"Topic3\", \"Topic3\", \"Topic3\", \"Topic3\", \"Topic3\", \"Topic3\", \"Topic3\", \"Topic3\", \"Topic3\", \"Topic3\", \"Topic3\", \"Topic3\", \"Topic3\", \"Topic3\", \"Topic3\", \"Topic3\", \"Topic3\", \"Topic3\", \"Topic3\", \"Topic3\", \"Topic3\", \"Topic4\", \"Topic4\", \"Topic4\", \"Topic4\", \"Topic4\", \"Topic4\", \"Topic4\", \"Topic4\", \"Topic4\", \"Topic4\", \"Topic4\", \"Topic4\", \"Topic4\", \"Topic4\", \"Topic4\", \"Topic4\", \"Topic4\", \"Topic4\", \"Topic4\", \"Topic4\", \"Topic4\", \"Topic4\", \"Topic4\", \"Topic4\", \"Topic4\", \"Topic4\", \"Topic4\", \"Topic4\", \"Topic4\", \"Topic4\", \"Topic4\", \"Topic4\", \"Topic5\", \"Topic5\", \"Topic5\", \"Topic5\", \"Topic5\", \"Topic5\", \"Topic5\", \"Topic5\", \"Topic5\", \"Topic5\", \"Topic5\", \"Topic5\", \"Topic5\", \"Topic5\", \"Topic5\", \"Topic5\", \"Topic5\", \"Topic5\", \"Topic5\", \"Topic5\", \"Topic5\", \"Topic5\", \"Topic5\", \"Topic5\", \"Topic5\", \"Topic5\", \"Topic5\", \"Topic5\", \"Topic5\", \"Topic5\", \"Topic5\", \"Topic6\", \"Topic6\", \"Topic6\", \"Topic6\", \"Topic6\", \"Topic6\", \"Topic6\", \"Topic6\", \"Topic6\", \"Topic6\", \"Topic6\", \"Topic6\", \"Topic6\", \"Topic6\", \"Topic6\", \"Topic6\", \"Topic6\", \"Topic6\", \"Topic6\", \"Topic6\", \"Topic6\", \"Topic6\", \"Topic6\", \"Topic6\", \"Topic6\", \"Topic6\", \"Topic6\", \"Topic6\", \"Topic6\", \"Topic6\", \"Topic6\", \"Topic7\", \"Topic7\", \"Topic7\", \"Topic7\", \"Topic7\", \"Topic7\", \"Topic7\", \"Topic7\", \"Topic7\", \"Topic7\", \"Topic7\", \"Topic7\", \"Topic7\", \"Topic7\", \"Topic7\", \"Topic7\", \"Topic7\", \"Topic7\", \"Topic7\", \"Topic7\", \"Topic7\", \"Topic7\", \"Topic7\", \"Topic7\", \"Topic7\", \"Topic7\", \"Topic7\", \"Topic7\", \"Topic7\", \"Topic7\", \"Topic7\", \"Topic7\", \"Topic7\", \"Topic7\", \"Topic7\", \"Topic7\", \"Topic8\", \"Topic8\", \"Topic8\", \"Topic8\", \"Topic8\", \"Topic8\", \"Topic8\", \"Topic8\", \"Topic8\", \"Topic8\", \"Topic8\", \"Topic8\", \"Topic8\", \"Topic8\", \"Topic8\", \"Topic8\", \"Topic8\", \"Topic8\", \"Topic8\", \"Topic8\", \"Topic8\", \"Topic8\", \"Topic8\", \"Topic8\", \"Topic8\", \"Topic8\", \"Topic8\", \"Topic8\", \"Topic8\", \"Topic8\", \"Topic8\", \"Topic9\", \"Topic9\", \"Topic9\", \"Topic9\", \"Topic9\", \"Topic9\", \"Topic9\", \"Topic9\", \"Topic9\", \"Topic9\", \"Topic9\", \"Topic9\", \"Topic9\", \"Topic9\", \"Topic9\", \"Topic9\", \"Topic9\", \"Topic9\", \"Topic9\", \"Topic9\", \"Topic9\", \"Topic9\", \"Topic9\", \"Topic9\", \"Topic9\", \"Topic9\", \"Topic9\", \"Topic9\", \"Topic9\", \"Topic9\", \"Topic9\", \"Topic9\", \"Topic10\", \"Topic10\", \"Topic10\", \"Topic10\", \"Topic10\", \"Topic10\", \"Topic10\", \"Topic10\", \"Topic10\", \"Topic10\", \"Topic10\", \"Topic10\", \"Topic10\", \"Topic10\", \"Topic10\", \"Topic10\", \"Topic10\", \"Topic10\", \"Topic10\", \"Topic10\", \"Topic10\", \"Topic10\", \"Topic10\", \"Topic10\", \"Topic10\", \"Topic10\", \"Topic10\", \"Topic10\", \"Topic10\", \"Topic10\", \"Topic10\", \"Topic11\", \"Topic11\", \"Topic11\", \"Topic11\", \"Topic11\", \"Topic11\", \"Topic11\", \"Topic11\", \"Topic11\", \"Topic11\", \"Topic11\", \"Topic11\", \"Topic11\", \"Topic11\", \"Topic11\", \"Topic11\", \"Topic11\", \"Topic11\", \"Topic11\", \"Topic11\", \"Topic11\", \"Topic11\", \"Topic11\", \"Topic11\", \"Topic11\", \"Topic11\", \"Topic11\", \"Topic11\", \"Topic11\", \"Topic11\", \"Topic11\", \"Topic11\", \"Topic11\", \"Topic11\", \"Topic11\", \"Topic11\", \"Topic11\", \"Topic12\", \"Topic12\", \"Topic12\", \"Topic12\", \"Topic12\", \"Topic12\", \"Topic12\", \"Topic12\", \"Topic12\", \"Topic12\", \"Topic12\", \"Topic12\", \"Topic12\", \"Topic12\", \"Topic12\", \"Topic12\", \"Topic12\", \"Topic12\", \"Topic12\", \"Topic12\", \"Topic12\", \"Topic12\", \"Topic12\", \"Topic12\", \"Topic12\", \"Topic12\", \"Topic12\", \"Topic12\", \"Topic12\", \"Topic12\", \"Topic12\", \"Topic12\", \"Topic12\", \"Topic12\", \"Topic13\", \"Topic13\", \"Topic13\", \"Topic13\", \"Topic13\", \"Topic13\", \"Topic13\", \"Topic13\", \"Topic13\", \"Topic13\", \"Topic13\", \"Topic13\", \"Topic13\", \"Topic13\", \"Topic13\", \"Topic13\", \"Topic13\", \"Topic13\", \"Topic13\", \"Topic13\", \"Topic13\", \"Topic13\", \"Topic13\", \"Topic13\", \"Topic13\", \"Topic13\", \"Topic13\", \"Topic13\", \"Topic13\", \"Topic13\", \"Topic13\", \"Topic13\", \"Topic13\", \"Topic13\", \"Topic14\", \"Topic14\", \"Topic14\", \"Topic14\", \"Topic14\", \"Topic14\", \"Topic14\", \"Topic14\", \"Topic14\", \"Topic14\", \"Topic14\", \"Topic14\", \"Topic14\", \"Topic14\", \"Topic14\", \"Topic14\", \"Topic14\", \"Topic14\", \"Topic14\", \"Topic14\", \"Topic14\", \"Topic14\", \"Topic14\", \"Topic14\", \"Topic14\", \"Topic14\", \"Topic14\", \"Topic14\", \"Topic14\", \"Topic14\", \"Topic14\", \"Topic14\", \"Topic14\", \"Topic14\", \"Topic14\", \"Topic14\", \"Topic15\", \"Topic15\", \"Topic15\", \"Topic15\", \"Topic15\", \"Topic15\", \"Topic15\", \"Topic15\", \"Topic15\", \"Topic15\", \"Topic15\", \"Topic15\", \"Topic15\", \"Topic15\", \"Topic15\", \"Topic15\", \"Topic15\", \"Topic15\", \"Topic15\", \"Topic15\", \"Topic15\", \"Topic15\", \"Topic15\", \"Topic15\", \"Topic15\", \"Topic15\", \"Topic15\", \"Topic15\", \"Topic15\", \"Topic15\", \"Topic15\", \"Topic15\", \"Topic16\", \"Topic16\", \"Topic16\", \"Topic16\", \"Topic16\", \"Topic16\", \"Topic16\", \"Topic16\", \"Topic16\", \"Topic16\", \"Topic16\", \"Topic16\", \"Topic16\", \"Topic16\", \"Topic16\", \"Topic16\", \"Topic16\", \"Topic16\", \"Topic16\", \"Topic16\", \"Topic16\", \"Topic16\", \"Topic16\", \"Topic16\", \"Topic16\", \"Topic16\", \"Topic16\", \"Topic16\", \"Topic16\", \"Topic16\", \"Topic16\", \"Topic16\", \"Topic16\", \"Topic16\", \"Topic17\", \"Topic17\", \"Topic17\", \"Topic17\", \"Topic17\", \"Topic17\", \"Topic17\", \"Topic17\", \"Topic17\", \"Topic17\", \"Topic17\", \"Topic17\", \"Topic17\", \"Topic17\", \"Topic17\", \"Topic17\", \"Topic17\", \"Topic17\", \"Topic17\", \"Topic17\", \"Topic17\", \"Topic17\", \"Topic17\", \"Topic17\", \"Topic17\", \"Topic17\", \"Topic17\", \"Topic17\", \"Topic17\", \"Topic17\", \"Topic17\", \"Topic17\", \"Topic17\", \"Topic17\", \"Topic17\", \"Topic17\", \"Topic18\", \"Topic18\", \"Topic18\", \"Topic18\", \"Topic18\", \"Topic18\", \"Topic18\", \"Topic18\", \"Topic18\", \"Topic18\", \"Topic18\", \"Topic18\", \"Topic18\", \"Topic18\", \"Topic18\", \"Topic18\", \"Topic18\", \"Topic18\", \"Topic18\", \"Topic18\", \"Topic18\", \"Topic18\", \"Topic18\", \"Topic18\", \"Topic18\", \"Topic18\", \"Topic18\", \"Topic18\", \"Topic18\", \"Topic18\", \"Topic18\", \"Topic18\", \"Topic19\", \"Topic19\", \"Topic19\", \"Topic19\", \"Topic19\", \"Topic19\", \"Topic19\", \"Topic19\", \"Topic19\", \"Topic19\", \"Topic19\", \"Topic19\", \"Topic19\", \"Topic19\", \"Topic19\", \"Topic19\", \"Topic19\", \"Topic19\", \"Topic19\", \"Topic19\", \"Topic19\", \"Topic19\", \"Topic19\", \"Topic19\", \"Topic19\", \"Topic19\", \"Topic19\", \"Topic19\", \"Topic19\", \"Topic19\", \"Topic19\", \"Topic19\", \"Topic19\", \"Topic19\", \"Topic19\", \"Topic19\", \"Topic19\", \"Topic19\", \"Topic19\", \"Topic19\", \"Topic19\", \"Topic19\", \"Topic19\", \"Topic20\", \"Topic20\", \"Topic20\", \"Topic20\", \"Topic20\", \"Topic20\", \"Topic20\", \"Topic20\", \"Topic20\", \"Topic20\", \"Topic20\", \"Topic20\", \"Topic20\", \"Topic20\", \"Topic20\", \"Topic20\", \"Topic20\", \"Topic20\", \"Topic20\", \"Topic20\", \"Topic20\", \"Topic20\", \"Topic20\", \"Topic20\", \"Topic20\", \"Topic20\", \"Topic20\", \"Topic20\", \"Topic20\", \"Topic20\", \"Topic20\", \"Topic20\", \"Topic20\", \"Topic20\", \"Topic20\"], \"logprob\": [30.0, 29.0, 28.0, 27.0, 26.0, 25.0, 24.0, 23.0, 22.0, 21.0, 20.0, 19.0, 18.0, 17.0, 16.0, 15.0, 14.0, 13.0, 12.0, 11.0, 10.0, 9.0, 8.0, 7.0, 6.0, 5.0, 4.0, 3.0, 2.0, 1.0, -1.7539, -2.1793, -3.2108, -3.5888, -3.8634, -3.8764, -3.9092, -3.9559, -4.1104, -4.1348, -4.1972, -4.2433, -4.3905, -4.4395, -4.5157, -4.6479, -4.7057, -4.7318, -4.7513, -4.8153, -4.8217, -4.8594, -4.8955, -4.9305, -4.9472, -4.9504, -5.106, -5.1083, -5.1498, -5.1595, -3.1471, -4.2791, -3.7172, -3.6557, -4.5843, -3.9386, -4.3481, -4.4816, -4.514, -3.2346, -3.3252, -3.4318, -3.5785, -3.5933, -3.6042, -3.6249, -3.637, -3.6459, -3.717, -3.7363, -4.1168, -4.1426, -4.1994, -4.2755, -4.2798, -4.3136, -4.2222, -4.4097, -4.4351, -4.4462, -4.4532, -4.5, -4.5229, -4.5277, -4.5682, -4.5847, -4.61, -4.7136, -4.7851, -2.9781, -3.0349, -2.6673, -3.9604, -3.6883, -3.7901, -2.5402, -2.5455, -2.6167, -3.0612, -3.2744, -3.3561, -3.5273, -3.5443, -3.6483, -3.6965, -3.9617, -4.2121, -4.3225, -4.3229, -4.335, -4.3708, -4.3832, -4.4228, -4.4469, -4.4703, -4.5613, -4.5707, -4.5721, -4.5788, -4.6685, -4.7792, -4.8077, -4.852, -4.8895, -2.8907, -3.3797, -4.1998, -4.6743, -4.7072, -1.5484, -2.061, -3.3085, -3.3923, -3.7054, -3.7212, -3.7278, -3.6678, -3.7403, -3.8618, -3.9171, -3.9643, -3.9712, -4.0429, -4.0985, -4.1449, -4.2466, -4.3105, -4.4297, -4.4588, -4.5321, -4.5542, -4.6318, -4.6644, -4.7295, -4.7334, -4.7464, -4.7614, -4.8717, -4.9462, -4.4889, -4.7526, -1.9973, -2.4081, -2.7452, -3.0156, -3.0933, -3.1308, -3.1715, -3.2224, -3.57, -3.7223, -3.7717, -4.0695, -4.1667, -4.5385, -4.6288, -4.667, -2.2642, -4.7845, -4.9396, -5.0587, -5.1425, -5.1759, -2.5008, -5.5284, -5.6307, -5.7014, -6.5548, -6.6103, -6.8151, -3.882, -3.4557, -0.9027, -2.4987, -3.2698, -3.4279, -3.4622, -3.6513, -3.6905, -3.7535, -3.8204, -3.8867, -4.0845, -4.1395, -4.3928, -4.3965, -4.4074, -4.4966, -4.6128, -4.6345, -4.6562, -4.7941, -4.821, -4.8504, -4.9211, -4.9432, -5.0118, -5.2212, -5.238, -5.2519, -5.3053, -5.348, -4.1522, -0.9958, -2.6862, -2.8115, -3.1788, -3.3496, -3.5448, -3.7219, -3.7571, -3.883, -3.8936, -3.0378, -4.2662, -4.3246, -4.3754, -4.8818, -4.8848, -4.9165, -4.987, -5.0065, -5.1384, -5.3056, -5.3553, -5.4384, -5.4547, -5.557, -5.7801, -5.788, -5.8531, -5.8601, -6.2686, -4.1312, -3.8747, -4.7187, -4.8816, -5.139, -5.4267, -2.2181, -2.3103, -2.4639, -2.8309, -2.9818, -3.0606, -3.082, -3.111, -3.2605, -3.3577, -3.3981, -3.5082, -3.5172, -3.584, -3.807, -3.8204, -3.9627, -4.1065, -4.1644, -4.3485, -4.7074, -4.7665, -5.2101, -5.2397, -5.3928, -5.4058, -5.5582, -5.7089, -5.9364, -5.9932, -4.7827, -2.1336, -2.4402, -2.8548, -3.0503, -3.1057, -3.3313, -3.4867, -3.547, -3.7127, -3.7283, -3.7642, -3.8325, -3.8489, -3.856, -3.8609, -3.9242, -3.949, -3.9647, -3.9866, -4.0784, -4.1876, -4.2707, -4.4708, -4.4814, -4.5516, -4.5631, -4.7535, -4.757, -4.7782, -5.1072, -3.4131, -4.5727, -2.0134, -2.3771, -2.8398, -3.0247, -3.0996, -3.212, -3.3883, -3.5446, -3.6253, -3.742, -3.7454, -3.7583, -3.9004, -3.9399, -3.9779, -3.9833, -4.0688, -4.1359, -4.2109, -4.2357, -4.3442, -4.3628, -4.4295, -4.4441, -4.5047, -4.5881, -4.5997, -4.6262, -5.1345, -5.165, -3.9874, -1.5598, -1.8672, -2.1191, -2.809, -2.9231, -2.9813, -3.4021, -3.6207, -3.8431, -3.992, -4.029, -4.2022, -4.5597, -4.5803, -4.6188, -4.7048, -4.7181, -4.8629, -5.2666, -5.8901, -6.4067, -3.38, -8.7311, -11.0925, -11.0924, -11.0924, -11.0926, -11.0925, -11.0926, -11.0926, -11.0926, -11.0925, -11.0924, -11.0925, -11.0924, -11.0924, -11.0925, -1.7001, -2.3698, -2.6228, -2.8153, -2.8718, -3.0002, -3.2211, -3.3311, -3.3914, -3.4551, -3.8209, -3.9073, -3.9347, -4.0103, -4.102, -4.2052, -4.2776, -4.5829, -4.9112, -4.9856, -5.6781, -5.891, -4.6902, -5.0062, -5.6269, -4.2481, -10.9868, -10.9868, -10.9867, -10.987, -4.189, -5.2685, -6.2263, -6.2965, -1.9755, -2.0143, -2.2299, -2.3817, -2.6965, -3.206, -3.2422, -3.7319, -3.7555, -3.7928, -3.9436, -4.0499, -4.0567, -4.3979, -3.1629, -4.7943, -4.8747, -5.0723, -5.9622, -6.0945, -6.3562, -3.1706, -10.9794, -10.9794, -10.9797, -10.9796, -10.9797, -10.9796, -10.9797, -10.9795, -10.9796, -10.9795, -10.9795, -10.9796, -1.6579, -1.9573, -2.2547, -2.5414, -2.6886, -2.8867, -3.3199, -3.3682, -3.5092, -3.6849, -3.7777, -3.8587, -4.4795, -4.9399, -4.9835, -5.0809, -6.269, -10.7978, -10.7991, -10.7989, -10.7991, -10.799, -10.7992, -10.7989, -10.7991, -10.7993, -10.799, -10.7992, -10.7993, -10.7991, -10.7992, -10.7991, -10.799, -10.7991, -10.7991, -10.7991, -1.9727, -2.2794, -2.3562, -2.6349, -2.6394, -2.691, -2.735, -3.1131, -3.281, -3.8618, -3.953, -4.0951, -4.237, -4.3256, -4.5821, -4.6346, -5.202, -5.5704, -5.6463, -5.8961, -5.9534, -6.5343, -7.362, -10.6597, -10.6599, -10.66, -10.6599, -10.6602, -10.6602, -10.6602, -10.6602, -10.6602, -1.9129, -2.3339, -2.4078, -2.4411, -2.4813, -2.6015, -2.9733, -3.3633, -3.7007, -4.1828, -4.618, -4.8003, -4.9873, -5.4882, -5.9898, -6.6204, -3.3113, -4.5405, -10.5236, -10.524, -10.5238, -10.5241, -10.5241, -10.5241, -10.5242, -10.5241, -10.5241, -10.5241, -10.524, -10.5242, -5.1084, -6.7776, -10.5241, -10.5241, -2.1277, -2.1344, -2.5279, -2.8051, -2.8141, -3.1006, -3.1509, -3.1826, -3.5755, -3.632, -3.681, -3.6958, -4.1747, -4.6385, -4.7069, -4.7296, -4.8557, -4.9669, -5.0276, -5.5051, -5.6404, -5.8645, -6.2937, -6.6033, -3.0632, -10.5416, -10.5418, -10.5418, -10.5419, -10.5418, -10.5417, -10.5417, -10.5417, -10.5417, -10.5417, -10.5416, -1.3373, -2.5485, -2.9379, -3.1182, -3.1578, -3.4419, -3.6821, -3.7149, -3.7481, -3.7551, -3.819, -4.055, -4.1886, -4.19, -4.2531, -4.4106, -4.7511, -4.7901, -4.8394, -5.0928, -5.1521, -5.6402, -6.1623, -7.4336, -7.8912, -8.3107, -8.3456, -10.3326, -10.3328, -10.3329, -10.3327, -10.317, -1.4984, -2.147, -2.2641, -2.4956, -2.9601, -2.9929, -3.6596, -4.806, -10.0393, -10.0401, -10.04, -10.0401, -10.0401, -10.0402, -10.0401, -10.0401, -10.0402, -10.0402, -10.0402, -10.0402, -10.0402, -10.0402, -10.0402, -10.0402, -10.0402, -10.0401, -10.0402, -10.0402, -10.0402, -10.0402, -10.0402, -10.0402, -10.0401, -10.04, -10.0402, -10.0402, -10.0401, -10.0402, -10.0402, -10.0402, -10.0402, -10.0402, -10.0402, -1.6428, -3.4857, -9.2068, -9.2073, -9.2077, -9.2078, -9.2078, -9.208, -9.2081, -9.208, -9.2081, -9.2081, -9.2081, -9.2082, -9.2081, -9.2081, -9.2081, -9.2082, -9.2082, -9.2082, -9.2082, -9.2081, -9.2082, -9.2082, -9.2082, -9.2082, -9.2082, -9.2082, -9.2082, -9.2083, -9.2081, -9.2082, -9.2082, -9.2082, -9.2082], \"loglift\": [30.0, 29.0, 28.0, 27.0, 26.0, 25.0, 24.0, 23.0, 22.0, 21.0, 20.0, 19.0, 18.0, 17.0, 16.0, 15.0, 14.0, 13.0, 12.0, 11.0, 10.0, 9.0, 8.0, 7.0, 6.0, 5.0, 4.0, 3.0, 2.0, 1.0, 0.992, 0.992, 0.9916, 0.9914, 0.9912, 0.9912, 0.9911, 0.9911, 0.9909, 0.9909, 0.9908, 0.9907, 0.9905, 0.9904, 0.9903, 0.99, 0.9899, 0.9898, 0.9898, 0.9896, 0.9896, 0.9895, 0.9894, 0.9893, 0.9893, 0.9893, 0.9888, 0.9888, 0.9886, 0.9886, 0.9819, 0.9885, 0.9781, 0.9767, 0.9744, 0.9248, 0.8462, 0.8748, 0.766, 2.3589, 2.3586, 2.3585, 2.3581, 2.358, 2.358, 2.3579, 2.3579, 2.3579, 2.3577, 2.3576, 2.356, 2.3559, 2.3556, 2.3552, 2.3552, 2.355, 2.3547, 2.3544, 2.3542, 2.3541, 2.3541, 2.3538, 2.3536, 2.3536, 2.3533, 2.3531, 2.3529, 2.3521, 2.3514, 2.346, 2.3251, 2.3002, 2.3081, 1.8337, 1.7434, 2.4637, 2.4637, 2.4636, 2.4629, 2.4625, 2.4623, 2.4618, 2.4617, 2.4614, 2.4612, 2.4601, 2.4588, 2.4581, 2.4581, 2.458, 2.4578, 2.4577, 2.4574, 2.4572, 2.457, 2.4563, 2.4562, 2.4562, 2.4562, 2.4553, 2.4542, 2.4539, 2.4534, 2.453, 2.4526, 2.382, 2.1585, 2.3285, 2.2712, 2.9183, 2.9179, 2.9152, 2.9149, 2.9133, 2.9132, 2.9132, 2.9131, 2.9131, 2.9124, 2.912, 2.9117, 2.9116, 2.9111, 2.9106, 2.9102, 2.9093, 2.9086, 2.9073, 2.907, 2.9061, 2.9058, 2.9047, 2.9043, 2.9033, 2.9032, 2.903, 2.9028, 2.9009, 2.8995, 1.9501, 1.5216, 2.9559, 2.9554, 2.9547, 2.954, 2.9538, 2.9537, 2.9535, 2.9534, 2.9518, 2.951, 2.9507, 2.9485, 2.9477, 2.9435, 2.9422, 2.9416, 2.9411, 2.9397, 2.9369, 2.9343, 2.9324, 2.9315, 2.9235, 2.921, 2.9172, 2.9143, 2.8595, 2.8542, 2.8322, 2.792, 2.671, 3.1867, 3.1849, 3.1824, 3.1815, 3.1813, 3.1801, 3.1798, 3.1794, 3.1788, 3.1783, 3.1763, 3.1757, 3.1724, 3.1724, 3.1722, 3.1708, 3.1688, 3.1684, 3.168, 3.1652, 3.1646, 3.164, 3.1623, 3.1617, 3.1599, 3.1537, 3.1531, 3.1527, 3.1508, 3.1493, 2.3661, 3.2049, 3.2026, 3.2023, 3.2009, 3.2, 3.1989, 3.1976, 3.1973, 3.1963, 3.1962, 3.1931, 3.192, 3.1913, 3.1905, 3.1808, 3.1808, 3.18, 3.1782, 3.1776, 3.1738, 3.1681, 3.1663, 3.1629, 3.1623, 3.1577, 3.1462, 3.1457, 3.1418, 3.1414, 3.1106, 2.8833, 1.4053, 2.0826, 1.9683, 1.2461, 1.27, 3.3636, 3.3634, 3.363, 3.3619, 3.3613, 3.3609, 3.3608, 3.3607, 3.3599, 3.3593, 3.359, 3.3583, 3.3582, 3.3577, 3.3558, 3.3556, 3.3541, 3.3523, 3.3516, 3.3487, 3.3416, 3.3401, 3.3262, 3.325, 3.3185, 3.3179, 3.3102, 3.3015, 3.2857, 3.2813, 1.555, 3.4623, 3.4615, 3.4601, 3.4592, 3.4589, 3.4576, 3.4564, 3.4559, 3.4544, 3.4543, 3.4539, 3.4532, 3.453, 3.4529, 3.4529, 3.4521, 3.4518, 3.4516, 3.4513, 3.4501, 3.4485, 3.4471, 3.4433, 3.4431, 3.4416, 3.4413, 3.4365, 3.4365, 3.4359, 3.425, 3.2386, 2.3359, 3.4668, 3.466, 3.4645, 3.4636, 3.4632, 3.4626, 3.4615, 3.4602, 3.4595, 3.4584, 3.4584, 3.4583, 3.4567, 3.4562, 3.4557, 3.4557, 3.4545, 3.4535, 3.4524, 3.452, 3.4501, 3.4497, 3.4484, 3.4481, 3.4469, 3.445, 3.4447, 3.4441, 3.4282, 3.4269, 3.2478, 3.5421, 3.5417, 3.5412, 3.539, 3.5385, 3.5382, 3.5355, 3.5336, 3.5312, 3.5293, 3.5287, 3.526, 3.5186, 3.5181, 3.5171, 3.5148, 3.5144, 3.51, 3.4938, 3.4529, 3.396, 3.0589, 2.5791, 0.6412, 0.6412, 0.6412, 0.6412, 0.6412, 0.6412, 0.6411, 0.6411, 0.6411, 0.6411, 0.6411, 0.641, 0.641, 0.641, 3.587, 3.5856, 3.5848, 3.584, 3.5837, 3.5831, 3.5817, 3.5809, 3.5804, 3.5799, 3.5761, 3.575, 3.5747, 3.5736, 3.5721, 3.5704, 3.569, 3.5622, 3.5521, 3.5493, 3.5117, 3.4943, 1.9616, 1.6678, 1.5028, 0.9461, 0.7469, 0.7468, 0.7468, 0.7468, 0.6744, -0.6361, -0.9021, -0.9532, 3.8228, 3.8227, 3.8221, 3.8215, 3.8201, 3.8167, 3.8164, 3.8108, 3.8104, 3.8099, 3.8074, 3.8054, 3.8053, 3.7972, 3.7926, 3.7838, 3.7804, 3.7709, 3.6976, 3.6808, 3.6414, 3.4509, 0.7542, 0.7542, 0.754, 0.754, 0.754, 0.754, 0.754, 0.754, 0.754, 0.7539, 0.7539, 0.7539, 3.9549, 3.9542, 3.9532, 3.952, 3.9512, 3.9499, 3.946, 3.9455, 3.9438, 3.9412, 3.9397, 3.9383, 3.9224, 3.9028, 3.9004, 3.8948, 3.7659, 0.9356, 0.9346, 0.9346, 0.9346, 0.9346, 0.9345, 0.9345, 0.9345, 0.9345, 0.9345, 0.9345, 0.9345, 0.9345, 0.9345, 0.9344, 0.9344, 0.9344, 0.9344, 0.9343, 4.0191, 4.018, 4.0177, 4.0162, 4.0162, 4.0159, 4.0156, 4.0126, 4.0109, 4.0022, 4.0003, 3.997, 3.9932, 3.9906, 3.9815, 3.9794, 3.9479, 3.9165, 3.9087, 3.8787, 3.8709, 3.766, 3.5105, 1.0737, 1.0737, 1.0737, 1.0736, 1.0735, 1.0735, 1.0735, 1.0734, 1.0734, 4.2163, 4.2145, 4.2141, 4.2139, 4.2136, 4.2129, 4.2097, 4.205, 4.1991, 4.1864, 4.1686, 4.1587, 4.1466, 4.1017, 4.0316, 3.8912, 2.8153, 2.4379, 1.21, 1.2097, 1.2097, 1.2096, 1.2096, 1.2096, 1.2096, 1.2096, 1.2096, 1.2096, 1.2096, 1.2096, 0.2481, -0.5467, 1.2095, 1.2094, 4.2425, 4.2425, 4.2403, 4.2382, 4.2381, 4.2352, 4.2346, 4.2342, 4.2281, 4.227, 4.226, 4.2257, 4.2128, 4.1932, 4.1895, 4.1883, 4.1806, 4.1731, 4.1687, 4.1236, 4.1069, 4.0746, 3.9931, 3.9149, 3.8453, 1.192, 1.1919, 1.1919, 1.1919, 1.1919, 1.1918, 1.1918, 1.1918, 1.1918, 1.1917, -3.5424, 4.4698, 4.4638, 4.4598, 4.4573, 4.4567, 4.4517, 4.4461, 4.4452, 4.4443, 4.4441, 4.4423, 4.4345, 4.4292, 4.4291, 4.4264, 4.4187, 4.3977, 4.3949, 4.3911, 4.3689, 4.3629, 4.2997, 4.1965, 3.7149, 3.4463, 3.1577, 3.1321, 1.401, 1.4009, 1.4008, 1.4006, -3.1627, 4.786, 4.7823, 4.7813, 4.779, 4.7725, 4.7719, 4.755, 4.6834, 1.6943, 1.6937, 1.6937, 1.6936, 1.6936, 1.6936, 1.6936, 1.6936, 1.6936, 1.6936, 1.6936, 1.6936, 1.6936, 1.6936, 1.6936, 1.6936, 1.6936, 1.6936, 1.6936, 1.6936, 1.6935, 1.6935, 1.6935, 1.6935, 1.6935, 1.6934, 1.6935, 1.6935, 1.6934, 1.6934, 1.6935, 1.6933, 1.6935, 1.6935, 1.6932, 6.9324, 6.731, 2.5267, 2.5263, 2.5259, 2.5259, 2.5258, 2.5257, 2.5257, 2.5256, 2.5256, 2.5256, 2.5256, 2.5256, 2.5256, 2.5256, 2.5256, 2.5256, 2.5256, 2.5256, 2.5256, 2.5256, 2.5256, 2.5256, 2.5256, 2.5255, 2.5255, 2.5255, 2.5255, 2.5255, 2.5255, 2.5254, 2.5254, 2.5252, 2.5254]}, \"token.table\": {\"Topic\": [8, 6, 5, 5, 10, 1, 3, 7, 17, 11, 16, 11, 8, 5, 12, 1, 2, 13, 5, 4, 16, 3, 2, 2, 5, 7, 11, 2, 4, 18, 4, 11, 8, 17, 7, 9, 9, 14, 17, 1, 8, 9, 4, 10, 18, 5, 6, 4, 3, 13, 17, 12, 13, 8, 3, 5, 1, 6, 17, 17, 1, 17, 12, 18, 11, 11, 1, 9, 7, 13, 1, 7, 15, 1, 4, 4, 2, 3, 4, 12, 9, 4, 1, 7, 10, 17, 7, 8, 5, 15, 18, 4, 15, 18, 15, 10, 14, 1, 3, 7, 10, 8, 3, 12, 17, 14, 7, 4, 2, 15, 3, 12, 8, 5, 17, 10, 3, 17, 1, 3, 16, 15, 18, 16, 18, 12, 5, 11, 18, 2, 9, 8, 2, 2, 7, 5, 11, 17, 2, 9, 5, 9, 15, 19, 5, 4, 11, 6, 6, 17, 11, 7, 1, 2, 11, 18, 10, 17, 13, 15, 15, 9, 14, 3, 13, 17, 6, 2, 1, 7, 16, 6, 9, 12, 7, 15, 1, 18, 3, 10, 18, 3, 7, 7, 9, 1, 2, 8, 3, 2, 1, 3, 12, 15, 7, 13, 8, 18, 14, 9, 1, 3, 1, 6, 6, 1, 2, 1, 4, 5, 4, 4, 7, 9, 17, 2, 4, 9, 7, 4, 11, 13, 1, 8, 8, 8, 8, 6, 4, 15, 6, 1, 7, 1, 3, 7, 19, 3, 6, 5, 16, 6, 8, 1, 2, 15, 11, 9, 12, 5, 7, 8, 4, 5, 15, 2, 3, 2, 6, 9, 5, 4, 10, 3, 10, 2, 17, 16, 3, 9, 7, 1, 12, 12, 5, 7, 7, 10, 1, 10, 15, 10, 6, 1, 2, 12, 10, 10, 12, 2, 10, 8, 2, 1, 4, 6, 3, 6, 2, 1, 18, 19, 16, 7, 16, 12, 20, 10, 3, 3, 11, 1, 18, 3, 1, 9, 1, 3, 12, 17, 4, 8, 1, 4, 6, 16, 18, 14, 11, 19, 14, 5, 7, 18, 5, 19, 13, 12, 11, 1, 20, 5, 14, 8, 2, 14, 7, 3, 3, 10, 11, 18, 6, 4, 11, 1, 17, 5, 4, 13, 1, 18, 10, 14, 1, 11, 15, 5, 1, 2, 3, 11, 10, 17, 3, 7, 12, 11, 8, 3, 4, 15, 15, 12, 18, 12, 13, 4, 13, 9, 9, 10, 9, 19, 3, 2, 17, 6, 8, 18, 2, 14, 7, 6, 8, 12, 14, 12, 10, 12, 9, 13, 3, 14, 6, 13, 4, 18, 1, 1, 14, 13, 9, 16, 8, 3, 3, 8, 7, 18, 9, 4, 16, 16, 4, 1, 2, 1, 2, 5, 16, 17, 6, 13, 1, 13, 15, 12, 6, 2, 18, 10, 3, 1, 9, 9, 3, 4, 9, 8, 7, 19, 7, 17, 18, 8, 10, 16, 4, 2, 3, 14, 3, 16, 15, 12, 1, 3, 3, 15, 14, 11, 6, 3, 4, 9, 13, 4, 10, 16, 4, 11, 4, 10, 5, 16, 4, 13, 10, 4, 12, 6, 16, 13, 5, 2, 2, 2, 7, 7, 6, 10, 6, 9, 6, 7, 12, 16, 8, 9, 1, 1, 3, 1, 5, 19, 2, 6, 9, 18, 10, 12, 13, 13, 1, 2, 3, 8, 17, 15, 5, 5, 15, 4, 14, 7, 10, 10, 1, 12, 1, 8, 1, 6, 8, 5, 1, 2, 12, 9, 1, 2, 17], \"Freq\": [0.996080242119566, 0.957917659487047, 0.9814126399564216, 0.9007758331487146, 0.9876811364345435, 0.7969905095360813, 0.035707460104663136, 0.16568261488563696, 0.8710424107451249, 0.974788284655368, 0.8505172797280811, 0.9759249101977192, 0.9947916773253443, 0.8463601299451325, 0.14393879760971642, 0.45829650197492555, 0.5392806228058361, 0.9663655743168146, 0.9631635593023715, 0.9973544093636226, 0.9522561835188111, 0.990593486457845, 0.9968401710454485, 0.9940175834647839, 0.982174880082254, 0.9643549901339128, 0.9963301643135904, 0.9915020300036665, 0.9934867462013613, 0.6102867553554757, 0.9889521345494532, 0.9848649228539592, 0.9534260660735365, 0.9822125948573774, 0.9887229225295968, 0.9963906356680651, 0.9898953814664402, 0.9886246748201009, 0.979850259576614, 0.8307857414328196, 0.16451202800649894, 0.9793943839184457, 0.9855165690941647, 0.9904600190584069, 0.9670352561653476, 0.9882459760259245, 0.99394015930558, 0.9927439950668495, 0.9973097369922721, 0.9832648263896552, 0.9229679968853032, 0.9967036194712747, 0.9895582430866191, 0.9917526894699671, 0.9954561239237036, 0.9938621496202068, 0.9969364963328401, 0.9931157236410876, 0.8841265813488267, 0.9044608319456026, 0.9965204372123371, 0.991703601300569, 0.9983151944186186, 0.9968228638216106, 0.9985785567096798, 0.9848802279791412, 0.9986901941896672, 0.9884890495787602, 0.9946863817900439, 0.9755932290774957, 0.6669706471450616, 0.3269463956593439, 0.984020854111203, 0.9998684950665921, 0.9881262558189647, 0.9993620751397343, 0.9926146838121139, 0.9968936241728414, 0.9950429523446022, 0.9962595741391487, 0.9919670884067349, 0.9945437867641096, 0.2670759673037372, 0.7283890017374652, 0.9941184487228006, 0.9878090760492179, 0.9723834365294171, 0.9948926876278281, 0.8918905734766698, 0.8652488328538022, 0.9352133628265666, 0.9889965080283436, 0.9932742835859081, 0.9051571644265749, 0.9239978275882751, 0.9709223255996292, 0.9722204310670606, 0.9986078216773285, 0.7001856351210698, 0.28831173210867583, 0.9786746056320228, 0.930114494910345, 0.8627089499359346, 0.12713605578003248, 0.8537114014745936, 0.9846114554732222, 0.9307333104043315, 0.9926431376256751, 0.9986136058734841, 0.974695168048192, 0.9875226554626991, 0.010651245898673181, 0.9528913706183151, 0.9975226745155236, 0.9966110312787694, 0.9952749779782919, 0.993925898555001, 0.9931883171442977, 0.8895824888255932, 0.09096250752289428, 0.01850084898770731, 0.9725219578299398, 0.9440710288429788, 0.9942280433567553, 0.9573154912823508, 0.9973147096658473, 0.9656295042687504, 0.9687399623297751, 0.9746132436710901, 0.9933083538245308, 0.9810821248987215, 0.9638074064478754, 0.9970085778150237, 0.9980296069555482, 0.9951566643545487, 0.9874005398138478, 0.913559138763662, 0.9565048082836599, 0.9951007381216278, 0.9861051302596273, 0.9908324257892176, 0.9946511576781384, 0.8953420285169195, 0.9867543620407498, 0.977239418700727, 0.37776914059283195, 0.6144437828919556, 0.9962022909461117, 0.9831768893086577, 0.8069741972318426, 0.9809031747706826, 0.9644061657344084, 0.9974190067459493, 0.9934197432440428, 0.9858306737759005, 0.9550338897551991, 0.9860881226952734, 0.9851742975884223, 0.9909416267044514, 0.9586102370986097, 0.766715525137193, 0.9885779096691993, 0.980738526983412, 0.9989130734197409, 0.9803313459710368, 0.9167448063457078, 0.9783099209531767, 0.9917098303055698, 0.9985565922115365, 0.9869532944207727, 0.0073929085724402455, 0.9883363037756693, 0.9877354890329763, 0.9648916749272738, 0.9748661169930765, 0.9944815490100924, 0.9970228840299163, 0.9218553582029039, 0.9911902127497733, 0.9836180956555001, 0.9932566324145625, 0.9914335554752017, 0.9993522204034193, 0.9929681616203174, 0.9749473356039526, 0.057470290035978866, 0.9414678422257629, 0.9910769028373263, 0.998330103012261, 0.9894239805690677, 0.9958805766713863, 0.002821191435329706, 0.9861404778913251, 0.9524076993443972, 0.9444091298988442, 0.9572726481649388, 0.9970224332830776, 0.9859607095185654, 0.9932783506197147, 0.988763062587512, 0.9991898887536558, 0.9930368897215811, 0.9987330051466816, 0.976015248551336, 0.9838426387752618, 0.997713843911415, 0.9967433818099773, 0.9832881571816051, 0.015098474582443072, 0.9689372140970717, 0.982109557878272, 0.9763777411054881, 0.9376499911579809, 0.32030242331582987, 0.6697232487512806, 0.9964059189333008, 0.9772890544831637, 0.9668348824181981, 0.9833148726750571, 0.9961230982420504, 0.980648946384539, 0.9601791221799431, 0.9964926904008915, 0.996276525868383, 0.989227104377233, 0.9972907235849638, 0.9931733269797047, 0.9778221496019059, 0.9945644985341269, 0.8063245040725555, 0.9987046554652135, 0.8481246445337295, 0.14724386189821692, 0.4183194855161557, 0.4355697735786776, 0.14231487651580554, 0.865388607648155, 0.9932642867509072, 0.9632601540555434, 0.996289373884991, 0.9865493268409349, 0.9821003214428056, 0.9966263803529105, 0.9968529178386485, 0.9949588194777536, 0.9826337997571636, 0.9892464859077282, 0.7995440809003078, 0.1970707241655688, 0.9970144840445853, 0.938249697487149, 0.9854447834952409, 0.014581197564973052, 0.9848936173431797, 0.9615502316506591, 0.9953698523540853, 0.9928504118570479, 0.9924518080227497, 0.9826140889676231, 0.993393359004091, 0.9816287226890253, 0.19172817371004572, 0.797185564373348, 0.9932184150990967, 0.9908711701175844, 0.9923334253612173, 0.9942575169837662, 0.9952441194559267, 0.9991870100372376, 0.9960764398860634, 0.9497160754581359, 0.9988065604456489, 0.9949207688062419, 0.98573276568294, 0.9750405068553782, 0.9749391576575617, 0.9935199224789737, 0.9966298359513006, 0.9973060883074996, 0.9938946360707928, 0.9948036607468039, 0.9779100997671212, 0.962549862143478, 0.0029854915698359855, 0.9852122180458752, 0.011941966279343942, 0.9884050829789386, 0.9945820407084495, 0.9874736825926564, 0.9954811450587772, 0.9897964858873852, 0.9388125800797797, 0.9959453325702331, 0.7488169666700144, 0.24703240137567486, 0.9678181044438713, 0.9851783090957174, 0.9949051862534539, 0.9955230928849084, 0.9988879495948418, 0.9575889407881334, 0.9933178419159221, 0.8017038959595847, 0.949466643016763, 0.9856115686833563, 0.9819301334994619, 0.9635161972412691, 0.9917920308424542, 0.992864534446706, 0.9945738842966456, 0.593867013760458, 0.9985750229662238, 0.9651348793237494, 0.9903569471129835, 0.9992526972021734, 0.992425370594219, 0.8639006018139178, 0.06292447479069507, 0.07079003413953196, 0.9583846853030765, 0.9932547389345906, 0.99323562480476, 0.4286593823057553, 0.1281051027580418, 0.4385136209794508, 0.9935527484698017, 0.8905838702713134, 0.9964441317353616, 0.9976409334652515, 0.9518643401010297, 0.9204022380331714, 0.9926324391249355, 0.9938126124665221, 0.9786417923527324, 0.9962350765703429, 0.9958365109163342, 0.9881914681959476, 0.9822665115030592, 0.9206518383539242, 0.9971039577094611, 0.7958836283669681, 0.9965664806289628, 0.9948384908522734, 0.9928939866537193, 0.9929320502687545, 0.8294861681968982, 0.9977112473140273, 0.9921837152667228, 0.988681273531205, 0.984511358235741, 0.9892294475139884, 0.9664500189224083, 0.9861995521803081, 0.9902361361781945, 0.9722779976186727, 0.9975632963835777, 0.9323580506452377, 0.9977587120770447, 0.30592887397034313, 0.6883399664332721, 0.9998759942673878, 0.9880257541741528, 0.9769598405741335, 0.9911608490136684, 0.9959394123282306, 0.9740056726716438, 0.9936093778818024, 0.9378688851129228, 0.009249195132183367, 0.06705666470832941, 0.920294915652245, 0.9964862750597263, 0.9746718774450543, 0.9922940703467423, 0.9955496638415999, 0.9966268664176525, 0.9776126534702384, 0.9973489125651738, 0.9567718068511426, 0.871918208823931, 0.11998874433356849, 0.9982796203159817, 0.9815714855457486, 0.9926717577312046, 0.97911374330012, 0.9912782575082084, 0.9936804573505584, 0.9988523439083024, 0.8958224907061421, 0.9970288488363942, 0.9734719314512343, 0.9733440500469888, 0.9851095218788899, 0.994443864047534, 0.9843499276907538, 0.9880171016431901, 0.9463904306723271, 0.9618094352878576, 0.9770925240665492, 0.9409966655599524, 0.9967003790907614, 0.9567698507392219, 0.9838046360714668, 0.9662211979373904, 0.9791456234472401, 0.9934437341316433, 0.9970662028930746, 0.9625008630859402, 0.9942494703620484, 0.9937765510092497, 0.9800453327731644, 0.9959810007754273, 0.9977880642848895, 0.9734286127682156, 0.9825488362912032, 0.9873520874331901, 0.9930734909652007, 0.6880229671865074, 0.9965610582094024, 0.9986377524037291, 0.9446197259713037, 0.7990817942339009, 0.9970380882818553, 0.9937318901161737, 0.984431271706677, 0.9990492544733581, 0.992769627180206, 0.9970769905603445, 0.9694774739592938, 0.8877389922449239, 0.9974044114471198, 0.9969837862677505, 0.9946052447988665, 0.9807417340243164, 0.991203109387285, 0.034040819763040214, 0.9655214332789589, 0.40755905114786334, 0.589505056124588, 0.7526834224993101, 0.24645386400419889, 0.9912087401819093, 0.9941012538339513, 0.9952268248379056, 0.9985512391784276, 0.9820654948683516, 0.9949692650421362, 0.9867972439450765, 0.9784418226460851, 0.9959908040121338, 0.9853341605901698, 0.9826345409667022, 0.9932117562938372, 0.9972418655186639, 0.9920397894115182, 0.9945394256980733, 0.9929345308732014, 0.9845583634280598, 0.9917533315349295, 0.9888185421382373, 0.9790265046616615, 0.979146247508014, 0.9964772121431938, 0.9931817976872396, 0.9724732650249441, 0.9714281802757235, 0.9838006670917192, 0.972305425553377, 0.9860384132063907, 0.9480332284600094, 0.04605829450008143, 0.9957415606432986, 0.8274198818376041, 0.17172865472101215, 0.9936506357053466, 0.9262946767722375, 0.2603277475208956, 0.7347960615509149, 0.9871986006672547, 0.9959946168227715, 0.995887777120309, 0.9992309128419622, 0.9996543901665637, 0.996324336859939, 0.9848885922502321, 0.9877277737991892, 0.9751069481853303, 0.9901255132089597, 0.9886539478425334, 0.9616854444806444, 0.9915595103245234, 0.9865797360307544, 0.9967162182237563, 0.9983213394700489, 0.9515462008132205, 0.9950686378527416, 0.022885912538864243, 0.968836964145253, 0.9944967717807716, 0.9832457655595421, 0.9953925846103634, 0.9873565882468356, 0.8184088959026227, 0.9976715269172893, 0.9983762365214194, 0.9874589403576606, 0.9977791116734926, 0.9974392510376724, 0.9907327104812885, 0.9472859749228942, 0.9919720074890679, 0.9980834877397666, 0.9747850337894162, 0.9870454164036286, 0.990580709364954, 0.9776541270770459, 0.9847319901362473, 0.943324704300316, 0.9305896820885281, 0.970137238171591, 0.9966496052598317, 0.9861651639935912, 0.013530918311453631, 0.031349519609377714, 0.96688518374186, 0.9768910626203492, 0.9955249554176769, 0.9794643564402833, 0.9598869168136348, 0.5052283587659474, 0.9405612553403769, 0.9530636857707189, 0.9972186164274385, 0.9121216293383285, 0.9898576086617915, 0.0067767522272600975, 0.0031624843727213786, 0.9984731126229645, 0.9791684485920588, 0.8632351937795293, 0.9992485310470969, 0.9910818243988793, 0.9955509748460656, 0.9799630636484576, 0.998115813167661, 0.9718429603121295, 0.9898553723913792, 0.9514538385815792, 0.9843531949626839, 0.014948416020693758, 0.9996105174205456, 0.9648679765988121, 0.9968633913372504, 0.9791617703912273, 0.9973981994665936, 0.99536972438455, 0.935036049118593, 0.010357901853277464, 0.05461439159000845, 0.9690643372702294, 0.9996483720055145, 0.9967769058373266, 0.9491427655721945], \"Term\": [\"access\", \"accidentally\", \"accomplish\", \"act\", \"action\", \"add\", \"add\", \"add\", \"adjust\", \"age\", \"agent\", \"ago\", \"allow\", \"already\", \"already\", \"also\", \"also\", \"alternative\", \"anchor\", \"answer\", \"apart\", \"appear\", \"application\", \"apply\", \"approach\", \"arg\", \"array\", \"article\", \"ask\", \"assignment\", \"attempt\", \"attr\", \"authentication\", \"author\", \"automatically\", \"available\", \"avoid\", \"back\", \"background\", \"base\", \"base\", \"bash\", \"basic\", \"behavior\", \"behaviour\", \"better\", \"big\", \"bit\", \"blockquote\", \"body\", \"br\", \"branch\", \"break\", \"browser\", \"build\", \"button\", \"call\", \"can\", \"candidate\", \"canonical\", \"case\", \"certain\", \"change\", \"character\", \"check\", \"checkbox\", \"class\", \"clear\", \"click\", \"clone\", \"close\", \"close\", \"closure\", \"code\", \"collection\", \"com\", \"come\", \"command\", \"comment\", \"commit\", \"common\", \"compare\", \"compile\", \"compile\", \"compiler\", \"complete\", \"completely\", \"component\", \"con\", \"concept\", \"conditional\", \"conflict\", \"consider\", \"consideration\", \"consist\", \"const\", \"construct\", \"contain\", \"control\", \"control\", \"conversion\", \"cookie\", \"copy\", \"copy\", \"copying\", \"core\", \"corner\", \"correct\", \"could\", \"couple\", \"create\", \"create\", \"cross\", \"css\", \"current\", \"currently\", \"data\", \"date\", \"datum\", \"datum\", \"datum\", \"day\", \"declaration\", \"default\", \"definition\", \"delete\", \"desire\", \"determine\", \"develop\", \"developer\", \"dictionary\", \"differ\", \"difference\", \"different\", \"directory\", \"disable\", \"discover\", \"distance\", \"do\", \"docker\", \"document\", \"documentation\", \"dosomethe\", \"double\", \"due\", \"easy\", \"easy\", \"edit\", \"editor\", \"efficiency\", \"efficient\", \"elegant\", \"element\", \"else\", \"empty\", \"engine\", \"enough\", \"enter\", \"entity\", \"enum\", \"enumerate\", \"environment\", \"equivalent\", \"error\", \"escape\", \"eval\", \"ever\", \"exactly\", \"example\", \"exist\", \"exist\", \"expect\", \"expression\", \"external\", \"extremely\", \"fail\", \"false\", \"familiar\", \"fast\", \"faster\", \"feature\", \"figure\", \"file\", \"filename\", \"final\", \"find\", \"find\", \"fine\", \"first\", \"fix\", \"follow\", \"follow\", \"force\", \"foreach\", \"forget\", \"fork\", \"form\", \"frame\", \"framework\", \"full\", \"function\", \"generate\", \"get\", \"git\", \"github\", \"give\", \"go\", \"good\", \"good\", \"google\", \"great\", \"gt\", \"hand\", \"handle\", \"handle\", \"happen\", \"hard\", \"hash\", \"head\", \"help\", \"hide\", \"history\", \"however\", \"href\", \"html\", \"http\", \"https\", \"icon\", \"idea\", \"identify\", \"image\", \"import\", \"import\", \"include\", \"include\", \"include\", \"independent\", \"index\", \"initial\", \"input\", \"insert\", \"internal\", \"issue\", \"item\", \"java\", \"javascript\", \"jquery\", \"keep\", \"keep\", \"key\", \"keyboard\", \"kind\", \"know\", \"know\", \"knowledge\", \"language\", \"large\", \"last\", \"later\", \"least\", \"length\", \"less\", \"less\", \"let\", \"letter\", \"level\", \"library\", \"like\", \"line\", \"link\", \"linux\", \"list\", \"local\", \"locally\", \"locate\", \"lock\", \"log\", \"long\", \"look\", \"loop\", \"lot\", \"lt\", \"mail\", \"make\", \"make\", \"make\", \"manage\", \"many\", \"master\", \"match\", \"matter\", \"maximum\", \"may\", \"mean\", \"mean\", \"member\", \"memory\", \"merge\", \"message\", \"method\", \"migration\", \"miss\", \"mixed\", \"mkdir\", \"mode\", \"modify\", \"module\", \"move\", \"much\", \"must\", \"myobject\", \"name\", \"necessary\", \"nee\", \"need\", \"net\", \"new\", \"new\", \"new\", \"node\", \"non\", \"noreferrer\", \"note\", \"note\", \"note\", \"null\", \"nullable\", \"number\", \"object\", \"obvious\", \"occurrence\", \"old\", \"open\", \"operator\", \"option\", \"order\", \"org\", \"origin\", \"originally\", \"output\", \"outside\", \"page\", \"part\", \"particular\", \"pass\", \"past\", \"path\", \"people\", \"perform\", \"performance\", \"perhaps\", \"period\", \"person\", \"php\", \"piece\", \"point\", \"pop\", \"possible\", \"post\", \"post\", \"pre\", \"prefer\", \"present\", \"previous\", \"print\", \"println\", \"private\", \"pro\", \"problem\", \"problem\", \"problem\", \"process\", \"processing\", \"produce\", \"program\", \"project\", \"prompt\", \"property\", \"protect\", \"provide\", \"provide\", \"public\", \"public_void\", \"pull\", \"pure\", \"push\", \"put\", \"question\", \"quit\", \"quot\", \"quote\", \"random\", \"range\", \"read\", \"real\", \"reason\", \"reasonable\", \"recent\", \"recommend\", \"redirect\", \"reference\", \"related\", \"release\", \"remain\", \"remember\", \"remote\", \"remove\", \"rename\", \"replace\", \"repository\", \"represent\", \"request\", \"require\", \"reset\", \"resolve\", \"resource\", \"rest\", \"restriction\", \"result\", \"return\", \"revision\", \"rfc_rfc\", \"right\", \"row\", \"rule\", \"run\", \"save\", \"say\", \"scenario\", \"scope\", \"script\", \"search\", \"second\", \"section\", \"security\", \"see\", \"see\", \"seem\", \"seem\", \"select\", \"select\", \"self\", \"send\", \"server\", \"set\", \"setting\", \"several\", \"share\", \"shell\", \"show\", \"side\", \"sign\", \"similar\", \"simple\", \"simply\", \"site\", \"size\", \"slightly\", \"software\", \"solve\", \"somehow\", \"sort\", \"source\", \"space\", \"special\", \"specification\", \"speed\", \"sql\", \"stackoverflow\", \"start\", \"start\", \"state\", \"statement\", \"statement\", \"static\", \"stay\", \"still\", \"still\", \"stop\", \"store\", \"stre\", \"string\", \"strong\", \"style\", \"sub\", \"submit\", \"successfully\", \"suggest\", \"sum\", \"supply\", \"support\", \"suppose\", \"syntax\", \"system\", \"tab\", \"table\", \"tag\", \"tag\", \"take\", \"target\", \"tell\", \"template\", \"temporary\", \"test\", \"text\", \"thank\", \"thing\", \"think\", \"thread\", \"threading\", \"throw\", \"time\", \"together\", \"token\", \"tool\", \"touch\", \"track\", \"transition\", \"trick\", \"trouble\", \"true\", \"try\", \"try\", \"type\", \"type\", \"unable\", \"understand\", \"unexpected\", \"unique\", \"unpack\", \"unsigne\", \"unstage\", \"update\", \"uri\", \"use\", \"use\", \"use\", \"user\", \"usually\", \"validate\", \"value\", \"var\", \"variable\", \"various\", \"version\", \"virtual\", \"void\", \"vote\", \"want\", \"want\", \"way\", \"website\", \"well\", \"whole\", \"window\", \"word\", \"work\", \"work\", \"work\", \"world\", \"would\", \"wrong\", \"yield\"]}, \"R\": 30, \"lambda.step\": 0.01, \"plot.opts\": {\"xlab\": \"PC1\", \"ylab\": \"PC2\"}, \"topic.order\": [15, 5, 12, 1, 20, 10, 2, 7, 9, 13, 8, 17, 14, 3, 18, 4, 16, 6, 11, 19]};\n",
              "\n",
              "function LDAvis_load_lib(url, callback){\n",
              "  var s = document.createElement('script');\n",
              "  s.src = url;\n",
              "  s.async = true;\n",
              "  s.onreadystatechange = s.onload = callback;\n",
              "  s.onerror = function(){console.warn(\"failed to load library \" + url);};\n",
              "  document.getElementsByTagName(\"head\")[0].appendChild(s);\n",
              "}\n",
              "\n",
              "if(typeof(LDAvis) !== \"undefined\"){\n",
              "   // already loaded: just create the visualization\n",
              "   !function(LDAvis){\n",
              "       new LDAvis(\"#\" + \"ldavis_el2704139913527933776659894833\", ldavis_el2704139913527933776659894833_data);\n",
              "   }(LDAvis);\n",
              "}else if(typeof define === \"function\" && define.amd){\n",
              "   // require.js is available: use it to load d3/LDAvis\n",
              "   require.config({paths: {d3: \"https://d3js.org/d3.v5\"}});\n",
              "   require([\"d3\"], function(d3){\n",
              "      window.d3 = d3;\n",
              "      LDAvis_load_lib(\"https://cdn.jsdelivr.net/gh/bmabey/pyLDAvis@3.3.1/pyLDAvis/js/ldavis.v3.0.0.js\", function(){\n",
              "        new LDAvis(\"#\" + \"ldavis_el2704139913527933776659894833\", ldavis_el2704139913527933776659894833_data);\n",
              "      });\n",
              "    });\n",
              "}else{\n",
              "    // require.js not available: dynamically load d3 & LDAvis\n",
              "    LDAvis_load_lib(\"https://d3js.org/d3.v5.js\", function(){\n",
              "         LDAvis_load_lib(\"https://cdn.jsdelivr.net/gh/bmabey/pyLDAvis@3.3.1/pyLDAvis/js/ldavis.v3.0.0.js\", function(){\n",
              "                 new LDAvis(\"#\" + \"ldavis_el2704139913527933776659894833\", ldavis_el2704139913527933776659894833_data);\n",
              "            })\n",
              "         });\n",
              "}\n",
              "</script>"
            ],
            "text/plain": [
              "PreparedData(topic_coordinates=              x         y  topics  cluster       Freq\n",
              "topic                                                \n",
              "14    -0.354587 -0.040129       1        1  37.078120\n",
              "4     -0.203593 -0.333577       2        1   9.433045\n",
              "11    -0.194440  0.279322       3        1   8.502421\n",
              "0     -0.064211  0.020995       4        1   5.398738\n",
              "19    -0.058999  0.040889       5        1   5.197392\n",
              "9     -0.035250 -0.002519       6        1   4.128799\n",
              "1     -0.089027  0.152909       7        1   4.054347\n",
              "6     -0.001023 -0.011897       8        1   3.454177\n",
              "8      0.026589 -0.015749       9        1   3.129402\n",
              "12     0.026564 -0.003959      10        1   3.115976\n",
              "7      0.031091 -0.005625      11        1   2.891586\n",
              "16    -0.000803 -0.003928      12        1   2.763887\n",
              "13     0.049986 -0.008238      13        1   2.181139\n",
              "2      0.079201 -0.013580      14        1   1.912004\n",
              "17     0.099528 -0.014491      15        1   1.791493\n",
              "3      0.097493  0.020742      16        1   1.470116\n",
              "15     0.115762 -0.016725      17        1   1.430738\n",
              "5      0.136470 -0.015251      18        1   1.142033\n",
              "10     0.157208 -0.015112      19        1   0.831120\n",
              "18     0.182041 -0.014078      20        1   0.093466, topic_info=            Term         Freq        Total Category  logprob  loglift\n",
              "11          code  8825.000000  8825.000000  Default  30.0000  30.0000\n",
              "73        strong  2302.000000  2302.000000  Default  29.0000  29.0000\n",
              "94          file  2060.000000  2060.000000  Default  28.0000  28.0000\n",
              "54           pre  5767.000000  5767.000000  Default  27.0000  27.0000\n",
              "12           com  1579.000000  1579.000000  Default  26.0000  26.0000\n",
              "...          ...          ...          ...      ...      ...      ...\n",
              "1129  dependency     0.012879     1.102537  Topic20  -9.2081   2.5255\n",
              "1314       event     0.012878     1.102661  Topic20  -9.2082   2.5254\n",
              "1019         map     0.012878     1.102575  Topic20  -9.2082   2.5254\n",
              "1087     package     0.012878     1.102890  Topic20  -9.2082   2.5252\n",
              "998      context     0.012878     1.102561  Topic20  -9.2082   2.5254\n",
              "\n",
              "[716 rows x 6 columns], token_table=      Topic      Freq          Term\n",
              "term                               \n",
              "967       8  0.996080        access\n",
              "87        6  0.957918  accidentally\n",
              "468       5  0.981413    accomplish\n",
              "469       5  0.900776           act\n",
              "592      10  0.987681        action\n",
              "...     ...       ...           ...\n",
              "216      12  0.054614          work\n",
              "703       9  0.969064         world\n",
              "266       1  0.999648         would\n",
              "106       2  0.996777         wrong\n",
              "151      17  0.949143         yield\n",
              "\n",
              "[563 rows x 3 columns], R=30, lambda_step=0.01, plot_opts={'xlab': 'PC1', 'ylab': 'PC2'}, topic_order=[15, 5, 12, 1, 20, 10, 2, 7, 9, 13, 8, 17, 14, 3, 18, 4, 16, 6, 11, 19])"
            ]
          },
          "metadata": {},
          "execution_count": 25
        }
      ]
    },
    {
      "cell_type": "code",
      "metadata": {
        "id": "KITo3v0VlihL",
        "outputId": "f9952fd3-917d-4026-d190-93b2262a678e",
        "colab": {
          "base_uri": "https://localhost:8080/",
          "height": 376
        }
      },
      "source": [
        "# Download File: http://mallet.cs.umass.edu/dist/mallet-2.0.8.zip\n",
        "mallet_path = 'content/mallet-2.0.8/bin/mallet' # update this path\n",
        "!unzip mallet_path.zip\n",
        "ldamallet = gensim.models.wrappers.LdaMallet(mallet_path, corpus=corpus, num_topics=20, id2word=id2word)"
      ],
      "execution_count": 28,
      "outputs": [
        {
          "output_type": "error",
          "ename": "CalledProcessError",
          "evalue": "ignored",
          "traceback": [
            "\u001b[0;31m---------------------------------------------------------------------------\u001b[0m",
            "\u001b[0;31mCalledProcessError\u001b[0m                        Traceback (most recent call last)",
            "\u001b[0;32m<ipython-input-28-a3de4a523996>\u001b[0m in \u001b[0;36m<module>\u001b[0;34m()\u001b[0m\n\u001b[1;32m      1\u001b[0m \u001b[0;31m# Download File: http://mallet.cs.umass.edu/dist/mallet-2.0.8.zip\u001b[0m\u001b[0;34m\u001b[0m\u001b[0;34m\u001b[0m\u001b[0;34m\u001b[0m\u001b[0m\n\u001b[1;32m      2\u001b[0m \u001b[0mmallet_path\u001b[0m \u001b[0;34m=\u001b[0m \u001b[0;34m'path/to/mallet-2.0.8/bin/mallet'\u001b[0m \u001b[0;31m# update this path\u001b[0m\u001b[0;34m\u001b[0m\u001b[0;34m\u001b[0m\u001b[0m\n\u001b[0;32m----> 3\u001b[0;31m \u001b[0mldamallet\u001b[0m \u001b[0;34m=\u001b[0m \u001b[0mgensim\u001b[0m\u001b[0;34m.\u001b[0m\u001b[0mmodels\u001b[0m\u001b[0;34m.\u001b[0m\u001b[0mwrappers\u001b[0m\u001b[0;34m.\u001b[0m\u001b[0mLdaMallet\u001b[0m\u001b[0;34m(\u001b[0m\u001b[0mmallet_path\u001b[0m\u001b[0;34m,\u001b[0m \u001b[0mcorpus\u001b[0m\u001b[0;34m=\u001b[0m\u001b[0mcorpus\u001b[0m\u001b[0;34m,\u001b[0m \u001b[0mnum_topics\u001b[0m\u001b[0;34m=\u001b[0m\u001b[0;36m20\u001b[0m\u001b[0;34m,\u001b[0m \u001b[0mid2word\u001b[0m\u001b[0;34m=\u001b[0m\u001b[0mid2word\u001b[0m\u001b[0;34m)\u001b[0m\u001b[0;34m\u001b[0m\u001b[0;34m\u001b[0m\u001b[0m\n\u001b[0m",
            "\u001b[0;32m/usr/local/lib/python3.7/dist-packages/gensim/models/wrappers/ldamallet.py\u001b[0m in \u001b[0;36m__init__\u001b[0;34m(self, mallet_path, corpus, num_topics, alpha, id2word, workers, prefix, optimize_interval, iterations, topic_threshold, random_seed)\u001b[0m\n\u001b[1;32m    129\u001b[0m         \u001b[0mself\u001b[0m\u001b[0;34m.\u001b[0m\u001b[0mrandom_seed\u001b[0m \u001b[0;34m=\u001b[0m \u001b[0mrandom_seed\u001b[0m\u001b[0;34m\u001b[0m\u001b[0;34m\u001b[0m\u001b[0m\n\u001b[1;32m    130\u001b[0m         \u001b[0;32mif\u001b[0m \u001b[0mcorpus\u001b[0m \u001b[0;32mis\u001b[0m \u001b[0;32mnot\u001b[0m \u001b[0;32mNone\u001b[0m\u001b[0;34m:\u001b[0m\u001b[0;34m\u001b[0m\u001b[0;34m\u001b[0m\u001b[0m\n\u001b[0;32m--> 131\u001b[0;31m             \u001b[0mself\u001b[0m\u001b[0;34m.\u001b[0m\u001b[0mtrain\u001b[0m\u001b[0;34m(\u001b[0m\u001b[0mcorpus\u001b[0m\u001b[0;34m)\u001b[0m\u001b[0;34m\u001b[0m\u001b[0;34m\u001b[0m\u001b[0m\n\u001b[0m\u001b[1;32m    132\u001b[0m \u001b[0;34m\u001b[0m\u001b[0m\n\u001b[1;32m    133\u001b[0m     \u001b[0;32mdef\u001b[0m \u001b[0mfinferencer\u001b[0m\u001b[0;34m(\u001b[0m\u001b[0mself\u001b[0m\u001b[0;34m)\u001b[0m\u001b[0;34m:\u001b[0m\u001b[0;34m\u001b[0m\u001b[0;34m\u001b[0m\u001b[0m\n",
            "\u001b[0;32m/usr/local/lib/python3.7/dist-packages/gensim/models/wrappers/ldamallet.py\u001b[0m in \u001b[0;36mtrain\u001b[0;34m(self, corpus)\u001b[0m\n\u001b[1;32m    270\u001b[0m \u001b[0;34m\u001b[0m\u001b[0m\n\u001b[1;32m    271\u001b[0m         \"\"\"\n\u001b[0;32m--> 272\u001b[0;31m         \u001b[0mself\u001b[0m\u001b[0;34m.\u001b[0m\u001b[0mconvert_input\u001b[0m\u001b[0;34m(\u001b[0m\u001b[0mcorpus\u001b[0m\u001b[0;34m,\u001b[0m \u001b[0minfer\u001b[0m\u001b[0;34m=\u001b[0m\u001b[0;32mFalse\u001b[0m\u001b[0;34m)\u001b[0m\u001b[0;34m\u001b[0m\u001b[0;34m\u001b[0m\u001b[0m\n\u001b[0m\u001b[1;32m    273\u001b[0m         \u001b[0mcmd\u001b[0m \u001b[0;34m=\u001b[0m \u001b[0mself\u001b[0m\u001b[0;34m.\u001b[0m\u001b[0mmallet_path\u001b[0m \u001b[0;34m+\u001b[0m \u001b[0;34m' train-topics --input %s --num-topics %s  --alpha %s --optimize-interval %s '\u001b[0m\u001b[0;31m\\\u001b[0m\u001b[0;34m\u001b[0m\u001b[0;34m\u001b[0m\u001b[0m\n\u001b[1;32m    274\u001b[0m             \u001b[0;34m'--num-threads %s --output-state %s --output-doc-topics %s --output-topic-keys %s '\u001b[0m\u001b[0;31m\\\u001b[0m\u001b[0;34m\u001b[0m\u001b[0;34m\u001b[0m\u001b[0m\n",
            "\u001b[0;32m/usr/local/lib/python3.7/dist-packages/gensim/models/wrappers/ldamallet.py\u001b[0m in \u001b[0;36mconvert_input\u001b[0;34m(self, corpus, infer, serialize_corpus)\u001b[0m\n\u001b[1;32m    259\u001b[0m             \u001b[0mcmd\u001b[0m \u001b[0;34m=\u001b[0m \u001b[0mcmd\u001b[0m \u001b[0;34m%\u001b[0m \u001b[0;34m(\u001b[0m\u001b[0mself\u001b[0m\u001b[0;34m.\u001b[0m\u001b[0mfcorpustxt\u001b[0m\u001b[0;34m(\u001b[0m\u001b[0;34m)\u001b[0m\u001b[0;34m,\u001b[0m \u001b[0mself\u001b[0m\u001b[0;34m.\u001b[0m\u001b[0mfcorpusmallet\u001b[0m\u001b[0;34m(\u001b[0m\u001b[0;34m)\u001b[0m\u001b[0;34m)\u001b[0m\u001b[0;34m\u001b[0m\u001b[0;34m\u001b[0m\u001b[0m\n\u001b[1;32m    260\u001b[0m         \u001b[0mlogger\u001b[0m\u001b[0;34m.\u001b[0m\u001b[0minfo\u001b[0m\u001b[0;34m(\u001b[0m\u001b[0;34m\"converting temporary corpus to MALLET format with %s\"\u001b[0m\u001b[0;34m,\u001b[0m \u001b[0mcmd\u001b[0m\u001b[0;34m)\u001b[0m\u001b[0;34m\u001b[0m\u001b[0;34m\u001b[0m\u001b[0m\n\u001b[0;32m--> 261\u001b[0;31m         \u001b[0mcheck_output\u001b[0m\u001b[0;34m(\u001b[0m\u001b[0margs\u001b[0m\u001b[0;34m=\u001b[0m\u001b[0mcmd\u001b[0m\u001b[0;34m,\u001b[0m \u001b[0mshell\u001b[0m\u001b[0;34m=\u001b[0m\u001b[0;32mTrue\u001b[0m\u001b[0;34m)\u001b[0m\u001b[0;34m\u001b[0m\u001b[0;34m\u001b[0m\u001b[0m\n\u001b[0m\u001b[1;32m    262\u001b[0m \u001b[0;34m\u001b[0m\u001b[0m\n\u001b[1;32m    263\u001b[0m     \u001b[0;32mdef\u001b[0m \u001b[0mtrain\u001b[0m\u001b[0;34m(\u001b[0m\u001b[0mself\u001b[0m\u001b[0;34m,\u001b[0m \u001b[0mcorpus\u001b[0m\u001b[0;34m)\u001b[0m\u001b[0;34m:\u001b[0m\u001b[0;34m\u001b[0m\u001b[0;34m\u001b[0m\u001b[0m\n",
            "\u001b[0;32m/usr/local/lib/python3.7/dist-packages/gensim/utils.py\u001b[0m in \u001b[0;36mcheck_output\u001b[0;34m(stdout, *popenargs, **kwargs)\u001b[0m\n\u001b[1;32m   1930\u001b[0m             \u001b[0merror\u001b[0m \u001b[0;34m=\u001b[0m \u001b[0msubprocess\u001b[0m\u001b[0;34m.\u001b[0m\u001b[0mCalledProcessError\u001b[0m\u001b[0;34m(\u001b[0m\u001b[0mretcode\u001b[0m\u001b[0;34m,\u001b[0m \u001b[0mcmd\u001b[0m\u001b[0;34m)\u001b[0m\u001b[0;34m\u001b[0m\u001b[0;34m\u001b[0m\u001b[0m\n\u001b[1;32m   1931\u001b[0m             \u001b[0merror\u001b[0m\u001b[0;34m.\u001b[0m\u001b[0moutput\u001b[0m \u001b[0;34m=\u001b[0m \u001b[0moutput\u001b[0m\u001b[0;34m\u001b[0m\u001b[0;34m\u001b[0m\u001b[0m\n\u001b[0;32m-> 1932\u001b[0;31m             \u001b[0;32mraise\u001b[0m \u001b[0merror\u001b[0m\u001b[0;34m\u001b[0m\u001b[0;34m\u001b[0m\u001b[0m\n\u001b[0m\u001b[1;32m   1933\u001b[0m         \u001b[0;32mreturn\u001b[0m \u001b[0moutput\u001b[0m\u001b[0;34m\u001b[0m\u001b[0;34m\u001b[0m\u001b[0m\n\u001b[1;32m   1934\u001b[0m     \u001b[0;32mexcept\u001b[0m \u001b[0mKeyboardInterrupt\u001b[0m\u001b[0;34m:\u001b[0m\u001b[0;34m\u001b[0m\u001b[0;34m\u001b[0m\u001b[0m\n",
            "\u001b[0;31mCalledProcessError\u001b[0m: Command 'path/to/mallet-2.0.8/bin/mallet import-file --preserve-case --keep-sequence --remove-stopwords --token-regex \"\\S+\" --input /tmp/665ed7_corpus.txt --output /tmp/665ed7_corpus.mallet' returned non-zero exit status 127."
          ]
        }
      ]
    },
    {
      "cell_type": "code",
      "metadata": {
        "_uuid": "92bbda91-7f8a-44f0-8888-d9b30924e816",
        "_cell_guid": "fce979f6-5607-4d95-ab8e-c6d9a130a293",
        "jupyter": {
          "outputs_hidden": false
        },
        "trusted": true,
        "id": "M1BkvDE0T3b6"
      },
      "source": [
        "def compute_coherence_values(dictionary, corpus, texts, limit, start=2, step=3):\n",
        "    \"\"\"\n",
        "    Compute c_v coherence for various number of topics\n",
        "\n",
        "    Parameters:\n",
        "    ----------\n",
        "    dictionary : Gensim dictionary\n",
        "    corpus : Gensim corpus\n",
        "    texts : List of input texts\n",
        "    limit : Max num of topics\n",
        "\n",
        "    Returns:\n",
        "    -------\n",
        "    model_list : List of LDA topic models\n",
        "    coherence_values : Coherence values corresponding to the LDA model with respective number of topics\n",
        "    \"\"\"\n",
        "    coherence_values = []\n",
        "    model_list = []\n",
        "    for num_topics in range(start, limit, step):\n",
        "        model = gensim.models.wrappers.LdaMallet(mallet_path, corpus=corpus, num_topics=num_topics, id2word=id2word)\n",
        "        model_list.append(model)\n",
        "        coherencemodel = CoherenceModel(model=model, texts=texts, dictionary=dictionary, coherence='c_v')\n",
        "        coherence_values.append(coherencemodel.get_coherence())\n",
        "\n",
        "    return model_list, coherence_values"
      ],
      "execution_count": 26,
      "outputs": []
    },
    {
      "cell_type": "code",
      "metadata": {
        "id": "vlAhvGIPdmjw",
        "outputId": "0c920848-207d-4104-fa7e-d54f8e9cdc6a",
        "colab": {
          "base_uri": "https://localhost:8080/",
          "height": 316
        }
      },
      "source": [
        "# Can take a long time to run.\n",
        "model_list, coherence_values = compute_coherence_values(dictionary=id2word, corpus=corpus, texts=data_lemmatized, start=2, limit=40, step=6)"
      ],
      "execution_count": 27,
      "outputs": [
        {
          "output_type": "error",
          "ename": "NameError",
          "evalue": "ignored",
          "traceback": [
            "\u001b[0;31m---------------------------------------------------------------------------\u001b[0m",
            "\u001b[0;31mNameError\u001b[0m                                 Traceback (most recent call last)",
            "\u001b[0;32m<ipython-input-27-5788a6e71713>\u001b[0m in \u001b[0;36m<module>\u001b[0;34m()\u001b[0m\n\u001b[1;32m      1\u001b[0m \u001b[0;31m# Can take a long time to run.\u001b[0m\u001b[0;34m\u001b[0m\u001b[0;34m\u001b[0m\u001b[0;34m\u001b[0m\u001b[0m\n\u001b[0;32m----> 2\u001b[0;31m \u001b[0mmodel_list\u001b[0m\u001b[0;34m,\u001b[0m \u001b[0mcoherence_values\u001b[0m \u001b[0;34m=\u001b[0m \u001b[0mcompute_coherence_values\u001b[0m\u001b[0;34m(\u001b[0m\u001b[0mdictionary\u001b[0m\u001b[0;34m=\u001b[0m\u001b[0mid2word\u001b[0m\u001b[0;34m,\u001b[0m \u001b[0mcorpus\u001b[0m\u001b[0;34m=\u001b[0m\u001b[0mcorpus\u001b[0m\u001b[0;34m,\u001b[0m \u001b[0mtexts\u001b[0m\u001b[0;34m=\u001b[0m\u001b[0mdata_lemmatized\u001b[0m\u001b[0;34m,\u001b[0m \u001b[0mstart\u001b[0m\u001b[0;34m=\u001b[0m\u001b[0;36m2\u001b[0m\u001b[0;34m,\u001b[0m \u001b[0mlimit\u001b[0m\u001b[0;34m=\u001b[0m\u001b[0;36m40\u001b[0m\u001b[0;34m,\u001b[0m \u001b[0mstep\u001b[0m\u001b[0;34m=\u001b[0m\u001b[0;36m6\u001b[0m\u001b[0;34m)\u001b[0m\u001b[0;34m\u001b[0m\u001b[0;34m\u001b[0m\u001b[0m\n\u001b[0m",
            "\u001b[0;32m<ipython-input-26-f6c10e56a163>\u001b[0m in \u001b[0;36mcompute_coherence_values\u001b[0;34m(dictionary, corpus, texts, limit, start, step)\u001b[0m\n\u001b[1;32m     18\u001b[0m     \u001b[0mmodel_list\u001b[0m \u001b[0;34m=\u001b[0m \u001b[0;34m[\u001b[0m\u001b[0;34m]\u001b[0m\u001b[0;34m\u001b[0m\u001b[0;34m\u001b[0m\u001b[0m\n\u001b[1;32m     19\u001b[0m     \u001b[0;32mfor\u001b[0m \u001b[0mnum_topics\u001b[0m \u001b[0;32min\u001b[0m \u001b[0mrange\u001b[0m\u001b[0;34m(\u001b[0m\u001b[0mstart\u001b[0m\u001b[0;34m,\u001b[0m \u001b[0mlimit\u001b[0m\u001b[0;34m,\u001b[0m \u001b[0mstep\u001b[0m\u001b[0;34m)\u001b[0m\u001b[0;34m:\u001b[0m\u001b[0;34m\u001b[0m\u001b[0;34m\u001b[0m\u001b[0m\n\u001b[0;32m---> 20\u001b[0;31m         \u001b[0mmodel\u001b[0m \u001b[0;34m=\u001b[0m \u001b[0mgensim\u001b[0m\u001b[0;34m.\u001b[0m\u001b[0mmodels\u001b[0m\u001b[0;34m.\u001b[0m\u001b[0mwrappers\u001b[0m\u001b[0;34m.\u001b[0m\u001b[0mLdaMallet\u001b[0m\u001b[0;34m(\u001b[0m\u001b[0mmallet_path\u001b[0m\u001b[0;34m,\u001b[0m \u001b[0mcorpus\u001b[0m\u001b[0;34m=\u001b[0m\u001b[0mcorpus\u001b[0m\u001b[0;34m,\u001b[0m \u001b[0mnum_topics\u001b[0m\u001b[0;34m=\u001b[0m\u001b[0mnum_topics\u001b[0m\u001b[0;34m,\u001b[0m \u001b[0mid2word\u001b[0m\u001b[0;34m=\u001b[0m\u001b[0mid2word\u001b[0m\u001b[0;34m)\u001b[0m\u001b[0;34m\u001b[0m\u001b[0;34m\u001b[0m\u001b[0m\n\u001b[0m\u001b[1;32m     21\u001b[0m         \u001b[0mmodel_list\u001b[0m\u001b[0;34m.\u001b[0m\u001b[0mappend\u001b[0m\u001b[0;34m(\u001b[0m\u001b[0mmodel\u001b[0m\u001b[0;34m)\u001b[0m\u001b[0;34m\u001b[0m\u001b[0;34m\u001b[0m\u001b[0m\n\u001b[1;32m     22\u001b[0m         \u001b[0mcoherencemodel\u001b[0m \u001b[0;34m=\u001b[0m \u001b[0mCoherenceModel\u001b[0m\u001b[0;34m(\u001b[0m\u001b[0mmodel\u001b[0m\u001b[0;34m=\u001b[0m\u001b[0mmodel\u001b[0m\u001b[0;34m,\u001b[0m \u001b[0mtexts\u001b[0m\u001b[0;34m=\u001b[0m\u001b[0mtexts\u001b[0m\u001b[0;34m,\u001b[0m \u001b[0mdictionary\u001b[0m\u001b[0;34m=\u001b[0m\u001b[0mdictionary\u001b[0m\u001b[0;34m,\u001b[0m \u001b[0mcoherence\u001b[0m\u001b[0;34m=\u001b[0m\u001b[0;34m'c_v'\u001b[0m\u001b[0;34m)\u001b[0m\u001b[0;34m\u001b[0m\u001b[0;34m\u001b[0m\u001b[0m\n",
            "\u001b[0;31mNameError\u001b[0m: name 'mallet_path' is not defined"
          ]
        }
      ]
    },
    {
      "cell_type": "code",
      "metadata": {
        "id": "OIgH2J1VfnN7"
      },
      "source": [
        ""
      ],
      "execution_count": null,
      "outputs": []
    }
  ]
}